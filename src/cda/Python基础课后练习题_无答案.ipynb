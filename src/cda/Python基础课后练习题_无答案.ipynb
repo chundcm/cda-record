{
 "cells": [
  {
   "cell_type": "markdown",
   "metadata": {},
   "source": [
    "## Python基础课后练习题"
   ]
  },
  {
   "cell_type": "markdown",
   "metadata": {},
   "source": [
    "### 练习1\n",
    "用input输入一个数字的字符串，然后转换成整型，然后乘以5加上8计算后转换成字符串输出"
   ]
  },
  {
   "cell_type": "code",
   "execution_count": null,
   "metadata": {},
   "outputs": [],
   "source": [
    "exit = False\n",
    "while True:\n",
    "    number = input(\"输入\")\n",
    "    print(number)\n",
    "    if 'Q' == number:\n",
    "        break\n",
    "print \"程序退出！\""
   ]
  },
  {
   "cell_type": "markdown",
   "metadata": {},
   "source": [
    "### 练习2\n",
    "给定一个字符串aStr = \"abcdefg\", 请反转字符串 "
   ]
  },
  {
   "cell_type": "code",
   "execution_count": null,
   "metadata": {},
   "outputs": [],
   "source": []
  },
  {
   "cell_type": "markdown",
   "metadata": {},
   "source": [
    "### 练习3"
   ]
  },
  {
   "cell_type": "raw",
   "metadata": {},
   "source": [
    "从字符串s中取出 'E网论坛', '子亲修装',\"论坛培训网\"\n",
    "s = \"上海E网_E网论坛_上海房产汽车装修亲子培训生活网\""
   ]
  },
  {
   "cell_type": "code",
   "execution_count": null,
   "metadata": {},
   "outputs": [],
   "source": []
  },
  {
   "cell_type": "markdown",
   "metadata": {},
   "source": [
    "### 练习4 \n",
    "字符串：\"在这个阳光明媚的日子里，我来到了CDA，这是个好地方。\"      \n",
    "从字符串中，用切片的方法切出“阳光明媚”，“好地方”，“方地好”。   \n",
    "将上述切片的字符串“阳光明媚”，“好地方”，“方地好”，拼接起来。    \n",
    "将字符'阳光明媚好地方方地好'以一个空格来分隔开。  "
   ]
  },
  {
   "cell_type": "code",
   "execution_count": null,
   "metadata": {},
   "outputs": [],
   "source": []
  },
  {
   "cell_type": "markdown",
   "metadata": {},
   "source": [
    "### 练习5\n",
    "将字符串\"'a','a','c','a+','d','c','d','a+','e','f','d','f','a+','f','d','d','e'\"里面所有的\"a+\"替换成\"a\"  "
   ]
  },
  {
   "cell_type": "code",
   "execution_count": null,
   "metadata": {},
   "outputs": [],
   "source": []
  },
  {
   "cell_type": "markdown",
   "metadata": {},
   "source": [
    "### 练习6\n",
    "\n",
    "将下列字符串 s 中的奇数位都转化为大写, 偶数位都转化成小写。"
   ]
  },
  {
   "cell_type": "code",
   "execution_count": null,
   "metadata": {},
   "outputs": [],
   "source": [
    "s = 'sadINDUionaREwSS'"
   ]
  },
  {
   "cell_type": "code",
   "execution_count": null,
   "metadata": {},
   "outputs": [],
   "source": []
  },
  {
   "cell_type": "markdown",
   "metadata": {},
   "source": [
    "### 练习7\n",
    "已知字符串 s = “sadINDUionaREwSS” ，将该字符串前半部分转换大写，后半部分转换成小写？（若字符串长度为奇数，中间的字符大写。）"
   ]
  },
  {
   "cell_type": "code",
   "execution_count": null,
   "metadata": {},
   "outputs": [],
   "source": [
    "s = \"sadINDUionaREwSS\""
   ]
  },
  {
   "cell_type": "code",
   "execution_count": null,
   "metadata": {},
   "outputs": [],
   "source": []
  },
  {
   "cell_type": "markdown",
   "metadata": {},
   "source": [
    "### 练习8\n",
    "\n",
    "\"2020/07/10 14:15:45\"这个时间的字符串，请截取年份，月份，日期，时，分，秒"
   ]
  },
  {
   "cell_type": "code",
   "execution_count": null,
   "metadata": {},
   "outputs": [],
   "source": []
  },
  {
   "cell_type": "markdown",
   "metadata": {},
   "source": [
    "### 练习9  \n",
    "场景：用Python设计一个程序，可以打印一下祝福语：  \n",
    "\n",
    "致某某某：  \n",
    "&emsp;&emsp;今年是XXXX年的元旦，  \n",
    "    &emsp;&emsp;我的祝福送四方，  \n",
    "    &emsp;&emsp;东方送你摇钱树，  \n",
    "    &emsp;&emsp;西方送你永安康，  \n",
    "    &emsp;&emsp;南方送你成功路，  \n",
    "    &emsp;&emsp;北方送你钱满仓。  \n",
    "    &emsp;&emsp;四面八方全送到金银财宝当头照，  \n",
    "    &emsp;&emsp;新年快乐。  \n",
    "&emsp;&emsp;&emsp;&emsp;&emsp;&emsp;&emsp;&emsp;——你的某某某  \n",
    "\n",
    "使用字符串对象的format()的方法，将第一个某某某替换成你想要祝福的人名，XXXX年替换成你想要输入的年份，第二个某某某可以替换成你的名字。  "
   ]
  },
  {
   "cell_type": "code",
   "execution_count": null,
   "metadata": {},
   "outputs": [],
   "source": []
  },
  {
   "cell_type": "markdown",
   "metadata": {},
   "source": [
    "### 练习10\n",
    "有多少种方法截取 [\"a\",1,True,[33,5],6,8] 中的[6,8]？"
   ]
  },
  {
   "cell_type": "code",
   "execution_count": null,
   "metadata": {},
   "outputs": [],
   "source": []
  },
  {
   "cell_type": "markdown",
   "metadata": {},
   "source": [
    "### 练习11 \n",
    "以切片的形式从[\"a\",1,True,[33,5],6,8]中取出33"
   ]
  },
  {
   "cell_type": "code",
   "execution_count": null,
   "metadata": {},
   "outputs": [],
   "source": []
  },
  {
   "cell_type": "markdown",
   "metadata": {},
   "source": [
    "### 练习12\n",
    "aa=[1, 'a', [2, 5], 88, 99, '倒数第二', '倒数第一'] \n",
    "1. 判断字符串\"a\"是否在列表aa当中  \n",
    "2. 删除列表aa中索引值为3的元素\n",
    "3. 删除列表aa的元素[2,5]中的5"
   ]
  },
  {
   "cell_type": "code",
   "execution_count": null,
   "metadata": {},
   "outputs": [],
   "source": []
  },
  {
   "cell_type": "markdown",
   "metadata": {},
   "source": [
    "### 练习13\n",
    "\n",
    "List=[1,3,5,7,9,0,2,4,6,8]，要求：使用切片得到[4, 0, 7]，[5, 9, 2, 6]"
   ]
  },
  {
   "cell_type": "code",
   "execution_count": null,
   "metadata": {},
   "outputs": [],
   "source": []
  },
  {
   "cell_type": "markdown",
   "metadata": {},
   "source": [
    "### 练习14\n",
    "\n",
    "```python\n",
    "List = [\n",
    "    '列表',\n",
    "    ['Dell','Apple','HUAWEI'],\n",
    "    ('Java','Python','Go'),\n",
    "    {'土豆':'一块三','番茄':\"两块四\"},\n",
    "    True]\n",
    "```\n",
    "\n",
    "索引出 HUAWEI,\n",
    "\n",
    "提取出 Java\n",
    "\n",
    "提取出番茄的价格\n",
    "\n"
   ]
  },
  {
   "cell_type": "code",
   "execution_count": null,
   "metadata": {},
   "outputs": [],
   "source": []
  },
  {
   "cell_type": "markdown",
   "metadata": {},
   "source": [
    "### 练习15\n",
    "列表L，[2,5,3,8,10,1],\n",
    "\n",
    "将列表进行翻转并输出,\n",
    "\n",
    "对翻转后结果进行升序排序并输出,\n",
    "\n",
    "再进行降序排序并输出,\n",
    "\n",
    "把列表中的最后一个数据弹出, 并赋值给变量 last_one,\n",
    "\n",
    "最后清空列表."
   ]
  },
  {
   "cell_type": "code",
   "execution_count": null,
   "metadata": {},
   "outputs": [],
   "source": []
  },
  {
   "cell_type": "markdown",
   "metadata": {},
   "source": [
    "### 练习16\n",
    "d={'键1': '值1',\n",
    " '键2': [{'键2.1': [\"值2.1\"]}],\n",
    " '键3': '值3',\n",
    " '键4': '值4'}\n",
    " \n",
    " 取出[\"值2.1\"]"
   ]
  },
  {
   "cell_type": "code",
   "execution_count": null,
   "metadata": {},
   "outputs": [],
   "source": []
  },
  {
   "cell_type": "markdown",
   "metadata": {},
   "source": [
    "### 练习17\n",
    "先定义一个字符串作为密码。   \n",
    "再让用户输入密码，赋值到password。  \n",
    "- 使用if语句判断输入的是否和密码一致，如果是则打印以下语句：\"密码正确，恭喜\"。  \n",
    "- 如果输入错误则结束if语句。"
   ]
  },
  {
   "cell_type": "code",
   "execution_count": null,
   "metadata": {},
   "outputs": [],
   "source": []
  },
  {
   "cell_type": "markdown",
   "metadata": {},
   "source": [
    "### 练习18\n",
    "先定义一个密码，再用input用户输入，使用if语句判断用户输入的是否和密码一致。\n",
    "- 如果一致则打印以下语句：\"密码正确，恭喜\"。 \n",
    "- 如果输入错误则打印：\"密码错误\"。"
   ]
  },
  {
   "cell_type": "code",
   "execution_count": null,
   "metadata": {},
   "outputs": [],
   "source": []
  },
  {
   "cell_type": "markdown",
   "metadata": {},
   "source": [
    "### 练习19\n",
    "看看这个代码错在哪里？        \n",
    "　　**提示一下：**关于字符串和整型数字之间的矛盾。大家来解释下为什么会出这样的错误！"
   ]
  },
  {
   "cell_type": "code",
   "execution_count": 1,
   "metadata": {},
   "outputs": [
    {
     "name": "stdin",
     "output_type": "stream",
     "text": [
      "你的出生年份是:  1999\n"
     ]
    },
    {
     "ename": "TypeError",
     "evalue": "'<' not supported between instances of 'str' and 'int'",
     "output_type": "error",
     "traceback": [
      "\u001b[1;31m---------------------------------------------------------------------------\u001b[0m",
      "\u001b[1;31mTypeError\u001b[0m                                 Traceback (most recent call last)",
      "\u001b[1;32m<ipython-input-1-c04bb709ba08>\u001b[0m in \u001b[0;36m<module>\u001b[1;34m\u001b[0m\n\u001b[0;32m      1\u001b[0m \u001b[0mbirth\u001b[0m \u001b[1;33m=\u001b[0m \u001b[0minput\u001b[0m\u001b[1;33m(\u001b[0m\u001b[1;34m'你的出生年份是: '\u001b[0m\u001b[1;33m)\u001b[0m\u001b[1;33m\u001b[0m\u001b[1;33m\u001b[0m\u001b[0m\n\u001b[0;32m      2\u001b[0m \u001b[1;33m\u001b[0m\u001b[0m\n\u001b[1;32m----> 3\u001b[1;33m \u001b[1;32mif\u001b[0m \u001b[0mbirth\u001b[0m \u001b[1;33m<\u001b[0m \u001b[1;36m2000\u001b[0m\u001b[1;33m:\u001b[0m\u001b[1;33m\u001b[0m\u001b[1;33m\u001b[0m\u001b[0m\n\u001b[0m\u001b[0;32m      4\u001b[0m     \u001b[0mprint\u001b[0m\u001b[1;33m(\u001b[0m\u001b[1;34m'00前'\u001b[0m\u001b[1;33m)\u001b[0m\u001b[1;33m\u001b[0m\u001b[1;33m\u001b[0m\u001b[0m\n\u001b[0;32m      5\u001b[0m \u001b[1;32melse\u001b[0m\u001b[1;33m:\u001b[0m\u001b[1;33m\u001b[0m\u001b[1;33m\u001b[0m\u001b[0m\n",
      "\u001b[1;31mTypeError\u001b[0m: '<' not supported between instances of 'str' and 'int'"
     ]
    }
   ],
   "source": [
    "birth = input('你的出生年份是: ')\n",
    "\n",
    "if birth < 2000:\n",
    "    print('00前')\n",
    "else:\n",
    "    print('00后')"
   ]
  },
  {
   "cell_type": "markdown",
   "metadata": {},
   "source": [
    "如何修改上面的报错，使得if-elif语句能正常运行？"
   ]
  },
  {
   "cell_type": "code",
   "execution_count": null,
   "metadata": {},
   "outputs": [],
   "source": []
  },
  {
   "cell_type": "markdown",
   "metadata": {},
   "source": [
    "### 练习20\n",
    "要求：从键盘获取自己的年龄，判断是否大于或者等于18岁。\n",
    "- 如果满足条件就输出“成年了，可以去网吧了”  \n",
    "- 如果不满足条件，则输出“未成年，不能入内”  \n",
    "  \n",
    "提示：\n",
    "- 使用input从键盘中获取数据，并且赋值到一个变量中\n",
    "- 使用if语句，来判断 age>=18是否成立"
   ]
  },
  {
   "cell_type": "code",
   "execution_count": null,
   "metadata": {},
   "outputs": [],
   "source": []
  },
  {
   "cell_type": "markdown",
   "metadata": {},
   "source": [
    "### 练习21\n",
    "- 输入自己的身高和体重，根据BMI公式计算自己的BMI指数：体质指数（BMI）=体重（kg）÷身高^2（m）\n",
    "- 并根据BMI指数判断自己体型：\n",
    "\n",
    "```\n",
    "低于18.5：过轻\n",
    "18.5-25：正常\n",
    "25-28：过重\n",
    "28-32：肥胖\n",
    "高于32：严重肥胖\n",
    "用if-elif-else语句判断并打印结果：\n",
    "```"
   ]
  },
  {
   "cell_type": "code",
   "execution_count": null,
   "metadata": {},
   "outputs": [],
   "source": []
  },
  {
   "cell_type": "markdown",
   "metadata": {},
   "source": [
    "### 练习22\n",
    "从键盘输入一个整数，判断：  \n",
    "- 该整数是否能被 2 和 3 同时整除？\n",
    "- 是否能被 2 整除？\n",
    "- 是否能被 3 整除？\n",
    "- 是否不能被 2 或 3 整除？  \n",
    "最终输出相应信息。"
   ]
  },
  {
   "cell_type": "code",
   "execution_count": null,
   "metadata": {},
   "outputs": [],
   "source": []
  },
  {
   "cell_type": "markdown",
   "metadata": {},
   "source": [
    "### 练习23\n",
    "- 情节描述：上公交车，并且可以有座位坐下。\n",
    "- 要求：输入公交卡当前的余额，只要超过2元，就可以上公交车；如果空座位的数量大于0，就可以坐下。"
   ]
  },
  {
   "cell_type": "code",
   "execution_count": null,
   "metadata": {},
   "outputs": [],
   "source": []
  },
  {
   "cell_type": "markdown",
   "metadata": {},
   "source": [
    "### 练习24\n",
    "用if嵌套的方法实现以下功能：\n",
    "- 输入一个整数，判断是否为8，如果是，则打印：“对啦~”\n",
    "- 如果不是，则继续判断：\n",
    "    - 输入的整数如果大于8，则打印：“比8大了”\n",
    "    - 输入的整数如果小于8，则打印：“比8小了”"
   ]
  },
  {
   "cell_type": "code",
   "execution_count": null,
   "metadata": {},
   "outputs": [],
   "source": []
  },
  {
   "cell_type": "markdown",
   "metadata": {},
   "source": [
    "### 练习25\n",
    "求出1~100之间偶数的累积和"
   ]
  },
  {
   "cell_type": "code",
   "execution_count": null,
   "metadata": {},
   "outputs": [],
   "source": []
  },
  {
   "cell_type": "markdown",
   "metadata": {},
   "source": [
    "### 练习26\n",
    "新建一个空列表，用while循环的方法，将整数1~20中的奇数作为元素，插入到空列表中。"
   ]
  },
  {
   "cell_type": "code",
   "execution_count": null,
   "metadata": {},
   "outputs": [],
   "source": []
  },
  {
   "cell_type": "markdown",
   "metadata": {},
   "source": [
    "### 练习27\n",
    "如何将列表[\"a\",\"a+\",\"c\",\"a+\",\"d\",\"c\",\"d\",\"a+\",\"e\",\"f\",\"d\",\"f\",\"a+\",\"f\",\"d\"]里面所有的\"a+\"替换成\"a\"。"
   ]
  },
  {
   "cell_type": "code",
   "execution_count": null,
   "metadata": {},
   "outputs": [],
   "source": []
  },
  {
   "cell_type": "markdown",
   "metadata": {},
   "source": [
    "### 练习28\n",
    "```Python\n",
    "有以下两个列表：\n",
    "a=[1,4,5,6,7]\n",
    "b=[4,6,2,8,9]\n",
    "如何计算出两个列表之间的元素相乘的结果，并生成新的一个列表？\n",
    "```"
   ]
  },
  {
   "cell_type": "code",
   "execution_count": null,
   "metadata": {},
   "outputs": [],
   "source": []
  },
  {
   "cell_type": "markdown",
   "metadata": {},
   "source": [
    "### 练习29\n",
    "\n",
    "字符串s为\"12345678\"，将其转化成列表,然后变成逆序, 然后使用 for 循环生成一个只保留偶数的新列表L, 最后把这个列表拼接成字符串."
   ]
  },
  {
   "cell_type": "code",
   "execution_count": null,
   "metadata": {},
   "outputs": [],
   "source": []
  },
  {
   "cell_type": "markdown",
   "metadata": {},
   "source": [
    "### 练习30\n",
    "- 生成0 1 2 3 4 6 7 8 9这样一列数据并打印出来\n",
    "- 生成(0 1 2 3 4 5 6 7 8 9 over)这样一列数据\n",
    "- 生成(0 over 1 over 2 over 3 over 4 over 5 over 6 over 7 over 8 over 9 over)这样一列数据"
   ]
  },
  {
   "cell_type": "code",
   "execution_count": null,
   "metadata": {},
   "outputs": [],
   "source": []
  },
  {
   "cell_type": "markdown",
   "metadata": {},
   "source": [
    "### 练习31\n",
    "有四个数字：1、2、3、4，能组成多少个互不相同且无重复数字的三位数？各是多少？"
   ]
  },
  {
   "cell_type": "code",
   "execution_count": null,
   "metadata": {},
   "outputs": [],
   "source": []
  },
  {
   "cell_type": "markdown",
   "metadata": {},
   "source": [
    "### 练习32\n",
    "```\n",
    "有以下两个列表：\n",
    "a=[[1,4,5],[6,7,6]]\n",
    "b=[[4,6,2],[8,9,7]]\n",
    "如何计算出两个列表里面的元素相乘的结果，并生成新的一个列表[4, 24, 10, 48, 63, 42]？\n",
    "```"
   ]
  },
  {
   "cell_type": "code",
   "execution_count": null,
   "metadata": {},
   "outputs": [],
   "source": []
  },
  {
   "cell_type": "markdown",
   "metadata": {},
   "source": [
    "### 练习33\n",
    "```python \n",
    "有以下两个列表：\n",
    "a=[[1,4,5],[6,7,6]]\n",
    "b=[[4,6,2],[8,9,7]]\n",
    "如何生成新列表[[4, 24, 10], [48, 63, 42]]？\n",
    "```"
   ]
  },
  {
   "cell_type": "code",
   "execution_count": null,
   "metadata": {},
   "outputs": [],
   "source": []
  },
  {
   "cell_type": "markdown",
   "metadata": {},
   "source": [
    "### 练习34\n",
    "使用for循环打印九九乘法表"
   ]
  },
  {
   "cell_type": "code",
   "execution_count": null,
   "metadata": {},
   "outputs": [],
   "source": []
  },
  {
   "cell_type": "markdown",
   "metadata": {},
   "source": [
    "### 练习35\n",
    "```Python\n",
    "a=[[3, 5, 2, 4],[7, 6, 8, 8],[1, 6, 7, 7]]\n",
    "如何取出列表a中每个元素列表的前三个元素,最终生成以下新列表:\n",
    "[[3, 5, 2], [7, 6, 8], [1, 6, 7]]\n",
    "```"
   ]
  },
  {
   "cell_type": "code",
   "execution_count": null,
   "metadata": {},
   "outputs": [],
   "source": []
  },
  {
   "cell_type": "markdown",
   "metadata": {},
   "source": [
    "### 练习36\n",
    "打印1到10之间的整数,但是2、5、7、8这四个数除外。"
   ]
  },
  {
   "cell_type": "code",
   "execution_count": null,
   "metadata": {},
   "outputs": [],
   "source": []
  },
  {
   "cell_type": "markdown",
   "metadata": {},
   "source": [
    "### 练习37\n",
    "使用while，完成以下图形的输出\n",
    "\n",
    "```python\n",
    "*\n",
    "* *\n",
    "* * *\n",
    "* * * *\n",
    "* * * * *\n",
    "* * * *\n",
    "* * *\n",
    "* *\n",
    "*\n",
    "```"
   ]
  },
  {
   "cell_type": "code",
   "execution_count": null,
   "metadata": {},
   "outputs": [],
   "source": []
  },
  {
   "cell_type": "markdown",
   "metadata": {},
   "source": [
    "### 练习38\n",
    "\n",
    "使用math模块实现sigmoid函数\n",
    "\n",
    "$$ \n",
    "S(x)=\\frac{1}{1+e^{-x}}\n",
    " $$"
   ]
  },
  {
   "cell_type": "code",
   "execution_count": null,
   "metadata": {},
   "outputs": [],
   "source": []
  },
  {
   "cell_type": "markdown",
   "metadata": {},
   "source": [
    "### 练习39\n",
    "\n",
    "编写一个函数实现正态分布函数密度函数功能\n",
    "\n",
    "$$ \n",
    "f(x)=\\frac{1}{\\sqrt{2 \\pi}} e^{\\left(-\\frac{x^{2}}{2}\\right)}\n",
    " $$"
   ]
  },
  {
   "cell_type": "code",
   "execution_count": null,
   "metadata": {},
   "outputs": [],
   "source": []
  },
  {
   "cell_type": "markdown",
   "metadata": {},
   "source": [
    "### 练习40\n",
    "企业发放的奖金根据利润提成。利润(I)低于或等于10万元时，奖金可提10%；利润高于10万元，低于20万元时，低于10万元的部分按10%提成，高于10万元的部分，可提成7.5%；20万到40万之间时，高于20万元的部分，可提成5%；40万到60万之间时高于40万元的部分，可提成3%；60万到100万之间时，高于60万元的部分，可提成1.5%，高于100万元时，超过100万元的部分按1%提成，从键盘输入当月利润I，求应发放奖金总数？"
   ]
  },
  {
   "cell_type": "code",
   "execution_count": null,
   "metadata": {},
   "outputs": [],
   "source": []
  },
  {
   "cell_type": "markdown",
   "metadata": {
    "toc-hr-collapsed": true
   },
   "source": [
    "### 练习41\n",
    "建一个字典，添加新的键值对，在此基础上更新另外一个字典，在将字典以列表的方式返回。"
   ]
  },
  {
   "cell_type": "markdown",
   "metadata": {},
   "source": [
    "| 品名     | 最低价 | 平均价 | 最高价 | 规格 | 单位 | 发布日期   |      |\n",
    "| -------- | ------ | ------ | ------ | ---- | ---- | ---------- | ---- |\n",
    "| 紫贝天葵 | 6.50   | 6.75   | 7.00   | 特菜 | 斤   | 2019-06-10 |      |\n",
    "| 金丝南瓜 | 7.50   | 7.75   | 8.00   | 特菜 | 斤   | 2019-06-10 |      |\n",
    "| 鱼腥草叶 | 8.00   | 8.50   | 9.00   | 特菜 | 斤   | 2019-06-10 |      |\n",
    "| 鱼腥草根 | 6.50   | 6.75   | 7.00   | 特菜 | 斤   | 2019-06-10 |      |\n",
    "| 圣女果   | 3.50   | 3.75   | 4.00   | 特菜 | 斤   | 2019-06-10 |      |\n",
    "| 荷兰豆   | 8.00   | 8.50   | 9.00   | 特菜 | 斤   | 2019-06-10 |      |\n",
    "| 朝天椒   | 18.00  | 19.00  | 20.00  | 特菜 | 斤   | 2019-06-10 |      |\n",
    "| 绿菜花   | 1.80   | 1.90   | 2.00   | 特菜 | 斤   | 2019-06-10 |      |\n",
    "| 球茎茴香 | 7.50   | 7.75   | 8.00   | 特菜 | 斤   | 2019-06-10 |      |"
   ]
  },
  {
   "cell_type": "markdown",
   "metadata": {},
   "source": [
    "- （1）以上是今天的菜价, 请你用一个二维的dict 数据类型, 将上面的菜价数据储存在其中.\n",
    "- （2）从字典中提取出 朝天椒的今日最高价, 查找出鱼腥草叶的均价\n",
    "- （3）查找数据中有没有红尖椒存在,如果没有则返回\"没有这种菜\",同时在字典中添加这种菜,菜的价格为:5.00, 5.25, 5.50, 然后打印新的字典;如果有就返回这种菜的全部价格\n",
    "- （4）删除刚才添加的红尖椒数据\n",
    "- （5）求出所有蔬菜最高值的平均值\n",
    "- （6）定义一个函数,可以计算出传入的蔬菜的最高值和最低值的平均值(注意不要读错)。调用这个函数,并打印出荷兰豆的价格"
   ]
  },
  {
   "cell_type": "code",
   "execution_count": null,
   "metadata": {},
   "outputs": [],
   "source": []
  },
  {
   "cell_type": "code",
   "execution_count": null,
   "metadata": {},
   "outputs": [],
   "source": []
  },
  {
   "cell_type": "code",
   "execution_count": null,
   "metadata": {},
   "outputs": [],
   "source": []
  },
  {
   "cell_type": "code",
   "execution_count": null,
   "metadata": {},
   "outputs": [],
   "source": []
  },
  {
   "cell_type": "code",
   "execution_count": null,
   "metadata": {},
   "outputs": [],
   "source": []
  },
  {
   "cell_type": "code",
   "execution_count": null,
   "metadata": {},
   "outputs": [],
   "source": []
  },
  {
   "cell_type": "code",
   "execution_count": null,
   "metadata": {},
   "outputs": [],
   "source": []
  },
  {
   "cell_type": "code",
   "execution_count": null,
   "metadata": {},
   "outputs": [],
   "source": []
  },
  {
   "cell_type": "code",
   "execution_count": null,
   "metadata": {},
   "outputs": [],
   "source": []
  },
  {
   "cell_type": "code",
   "execution_count": null,
   "metadata": {},
   "outputs": [],
   "source": []
  },
  {
   "cell_type": "code",
   "execution_count": null,
   "metadata": {},
   "outputs": [],
   "source": []
  },
  {
   "cell_type": "code",
   "execution_count": null,
   "metadata": {},
   "outputs": [],
   "source": []
  }
 ],
 "metadata": {
  "kernelspec": {
   "display_name": "Python 3",
   "language": "python",
   "name": "python3"
  },
  "language_info": {
   "codemirror_mode": {
    "name": "ipython",
    "version": 3
   },
   "file_extension": ".py",
   "mimetype": "text/x-python",
   "name": "python",
   "nbconvert_exporter": "python",
   "pygments_lexer": "ipython3",
   "version": "3.7.7"
  }
 },
 "nbformat": 4,
 "nbformat_minor": 4
}
