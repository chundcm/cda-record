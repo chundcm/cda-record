{
 "cells": [
  {
   "cell_type": "markdown",
   "metadata": {
    "toc-hr-collapsed": false
   },
   "source": [
    "# <center>第6部分：函数与模块<center>"
   ]
  },
  {
   "cell_type": "markdown",
   "metadata": {},
   "source": [
    "- Created By:菊安酱\n",
    "- Date：2020.07.11"
   ]
  },
  {
   "cell_type": "markdown",
   "metadata": {},
   "source": [
    "　　当我们学习完条件和循环语句之后，我们就可以编写一些简单的小程序了。但是随着代码日益增加并且越来越复杂，所以需要一个程序对代码进行重组，而函数就是一些复杂代码的重组。使用函数编写程序将会使代码更简单明了，易于理解并且降低了编写程序的难度。接下来，学习函数的内容将会辅助我们编写更复杂和更高效的程序，教我们将复杂的事情简单化。"
   ]
  },
  {
   "cell_type": "markdown",
   "metadata": {},
   "source": [
    "　　为了使程序的代码更加简单，需要把程序分解成较小的部分。函数就是这个较小部分的一种。"
   ]
  },
  {
   "cell_type": "markdown",
   "metadata": {},
   "source": [
    "**函数实际上是：**\n",
    "- 代码的一种组织形式\n",
    "- 一个函数一般完成一项特定的任务\n",
    "- 函数使用\n",
    "    - 函数需要先定义\n",
    "    - 使用函数，称之为调用\n",
    "- 函数是组织好的，可以重复使用的，用来实现单一或者相关联功能的代码段。              \n",
    "- 函数能提高应用的模块性和代码的重复利用率。             \n",
    "- 其实我们已经接触到了很多python的内建函数，比如input(),print(),type()等等。           \n",
    "- 但自己创建函数也是熟练使用python必备的技能之一。这种自建函数也称作自定义函数。"
   ]
  },
  {
   "cell_type": "markdown",
   "metadata": {},
   "source": [
    "<font color=\"blue\" size=4>**注意:** 函数是Python中非常重要的知识点，请大家认真学习哦~"
   ]
  },
  {
   "cell_type": "code",
   "execution_count": null,
   "metadata": {},
   "outputs": [],
   "source": [
    "#设置全部行输出\n",
    "from IPython.core.interactiveshell import InteractiveShell\n",
    "InteractiveShell.ast_node_interactivity = \"all\""
   ]
  },
  {
   "cell_type": "markdown",
   "metadata": {
    "toc-hr-collapsed": false
   },
   "source": [
    "```\n",
    "   \n",
    "    \n",
    "     \n",
    "```\n",
    "## 1. 函数的定义和调用"
   ]
  },
  {
   "cell_type": "markdown",
   "metadata": {},
   "source": [
    "　　除了最初学到的用打印命令（print（）这个内建函数）来打招呼。我们还可以用定义函数，再调用去实现。"
   ]
  },
  {
   "cell_type": "markdown",
   "metadata": {},
   "source": [
    "### 1.1 定义一个函数"
   ]
  },
  {
   "cell_type": "markdown",
   "metadata": {},
   "source": [
    "- 我们可以自己定义一个函数，但是需要遵循以下的规则：\n",
    "  \n",
    "    - 函数的代码块以def关键字开头，后接函数标识符名称和圆括号()【注意：括号必须是英文的】。\n",
    "    - 圆括号用来存储要传入的参数和变量，这个参数可以是默认的也可以是自定义的。\n",
    "    - 函数内容以冒号起始，并且有强制缩进。\n",
    "    - return[表达式]结束函数。选择性的返回一个值给对方调用。不带表达式的return相当于返回None。"
   ]
  },
  {
   "cell_type": "markdown",
   "metadata": {},
   "source": [
    "\n",
    "函数的一般表达形式为：\n",
    "```pyhton \n",
    "    def <函数名>(<参数>):\n",
    "        \"\"\" 文档字符串\"\"\"\n",
    "        <代码块>\n",
    "        return <函数返回值>\n",
    "```"
   ]
  },
  {
   "cell_type": "markdown",
   "metadata": {},
   "source": [
    "###  1.2 函数的调用\n",
    "　　定义一个函数：给了函数的一个名称，指定了函数里包含的参数和代码块结构。这个函数的基本结构就完成了。接下来我们就可以对定义好的函数进行调用执行了。"
   ]
  },
  {
   "cell_type": "code",
   "execution_count": null,
   "metadata": {},
   "outputs": [],
   "source": [
    "def haha():\n",
    "    print(\"我是一个函数\")"
   ]
  },
  {
   "cell_type": "code",
   "execution_count": null,
   "metadata": {
    "scrolled": true
   },
   "outputs": [],
   "source": [
    "#调用上面定义的函数\n",
    "#直接函数名后面跟括号就可以实现：\n",
    "haha()"
   ]
  },
  {
   "cell_type": "markdown",
   "metadata": {},
   "source": [
    "　　函数的调用和运行机制：当函数func()发生调用时，python会自动找到def func()的定义过程，然后依次执行代码块部分，也就是冒号下有缩进的部分。这时候只需要一条语句就能轻松点额实现函数内所有更能。加入我们想要把上述内容打印三次，只需要调用三次函数即可。"
   ]
  },
  {
   "cell_type": "code",
   "execution_count": null,
   "metadata": {
    "scrolled": false
   },
   "outputs": [],
   "source": [
    "haha()\n",
    "haha()\n",
    "haha()"
   ]
  },
  {
   "cell_type": "markdown",
   "metadata": {},
   "source": [
    "```\n",
    "\n",
    "\n",
    "\n",
    "```\n",
    "**练习1**：尝试定义一个函数，并调用5次。"
   ]
  },
  {
   "cell_type": "code",
   "execution_count": null,
   "metadata": {},
   "outputs": [],
   "source": []
  },
  {
   "cell_type": "code",
   "execution_count": null,
   "metadata": {},
   "outputs": [],
   "source": []
  },
  {
   "cell_type": "markdown",
   "metadata": {},
   "source": [
    "```\n",
    "\n",
    "\n",
    "```\n",
    "###  1.3 函数的参数\n",
    "    现在，我们可以去看看括号里面的东西了！        \n",
    "    括号里面其实是函数的参数，上面的小练习中都是无参数函数。    \n",
    "    但是，不含参数的函数就像一个对同样代码的打包程序，这跟使用循环语句没什么区别。所以就有了函数参数。   \n",
    "    参数可以使每次调用的函数有不同的实现，加入参数的概念，使函数的功能越发的强大，将其与循环语句从本质上区别开来。   \n",
    "    大大简化了重复编写类似程序的负担。"
   ]
  },
  {
   "cell_type": "raw",
   "metadata": {},
   "source": [
    "def 函数名(这里就是放置参数的地方):\n",
    "    pass"
   ]
  },
  {
   "cell_type": "markdown",
   "metadata": {},
   "source": [
    "1、**定义打印字符串的函数：**"
   ]
  },
  {
   "cell_type": "code",
   "execution_count": null,
   "metadata": {},
   "outputs": [],
   "source": [
    "#定义一个函数\n",
    "def Fonc01(aa):\n",
    "    print(aa)"
   ]
  },
  {
   "cell_type": "code",
   "execution_count": null,
   "metadata": {},
   "outputs": [],
   "source": [
    "#调用一个函数\n",
    "Fonc01('哈哈哈哈')"
   ]
  },
  {
   "cell_type": "code",
   "execution_count": null,
   "metadata": {
    "collapsed": true
   },
   "outputs": [],
   "source": [
    "# Fonc01() #不输入参数会报错"
   ]
  },
  {
   "cell_type": "code",
   "execution_count": null,
   "metadata": {
    "scrolled": true
   },
   "outputs": [],
   "source": [
    "#用循环语句实现多次调用\n",
    "for i in range(5):\n",
    "    Fonc01(\"我要好好学python!\")"
   ]
  },
  {
   "cell_type": "code",
   "execution_count": null,
   "metadata": {},
   "outputs": [],
   "source": [
    "def Func02(name):\n",
    "    print(name + '怎么这么好看！')\n",
    "\n",
    "Func02(\"你\")"
   ]
  },
  {
   "cell_type": "markdown",
   "metadata": {},
   "source": [
    "```\n",
    "\n",
    "\n",
    "```\n",
    "**练习2：**  尝试定义一个带有参数的函数，并调用3次。"
   ]
  },
  {
   "cell_type": "code",
   "execution_count": null,
   "metadata": {},
   "outputs": [],
   "source": []
  },
  {
   "cell_type": "markdown",
   "metadata": {
    "toc-hr-collapsed": true
   },
   "source": [
    "``` \n",
    "\n",
    "\n",
    "\n",
    "```  \n",
    "### 1.4 参数其他概念"
   ]
  },
  {
   "cell_type": "markdown",
   "metadata": {},
   "source": [
    "#### (1) 形参和实参\n",
    "- 参数从调用的角度来看，分为**形式参数（parameter）**和**实际参数（argument）** \n",
    "- 定义时小括号中的参数，用来接收参数用的，称为 **“形参”**\n",
    "- 调用时小括号中的参数，用来传递给函数用的，称为 **“实参”**"
   ]
  },
  {
   "attachments": {
    "image.png": {
     "image/png": "[encoded data removed]"
    }
   },
   "cell_type": "markdown",
   "metadata": {},
   "source": [
    "![image.png](attachment:image.png)"
   ]
  },
  {
   "cell_type": "markdown",
   "metadata": {},
   "source": [
    "#### (2) 位置参数\n",
    "&emsp;位置参数又称为必需参数，须以正确的顺序位置传入函数，调用时的数量和位置必须和声明时的一样。"
   ]
  },
  {
   "cell_type": "code",
   "execution_count": null,
   "metadata": {},
   "outputs": [],
   "source": [
    "def divi(x, y):\n",
    "    return x / y"
   ]
  },
  {
   "cell_type": "code",
   "execution_count": null,
   "metadata": {},
   "outputs": [],
   "source": [
    "divi(2,3)"
   ]
  },
  {
   "cell_type": "markdown",
   "metadata": {},
   "source": [
    "#### (3) 关键字参数\n",
    "　　通常在调用一个函数的时候，如果一个函数中的参数不止一个，那么记得每一个参数的位置是一个很困难，并且很容易出错的问题。"
   ]
  },
  {
   "cell_type": "code",
   "execution_count": null,
   "metadata": {},
   "outputs": [],
   "source": [
    "def Func03(name,words):  \n",
    "    print(name + '-->' +words)\n",
    "\n",
    "Func03('python','使工作更有意思！')"
   ]
  },
  {
   "cell_type": "code",
   "execution_count": null,
   "metadata": {},
   "outputs": [],
   "source": [
    "Func03('使工作更有意思！','python')"
   ]
  },
  {
   "cell_type": "markdown",
   "metadata": {},
   "source": [
    "此时，使用**关键字参数**则可以简单的解决潜在的问题，我们可以通过以下的例子进行体会："
   ]
  },
  {
   "cell_type": "code",
   "execution_count": null,
   "metadata": {
    "scrolled": true
   },
   "outputs": [],
   "source": [
    "Func03(words='使工作更有意思！',name='python')"
   ]
  },
  {
   "cell_type": "markdown",
   "metadata": {},
   "source": [
    "**<font color=\"blue\" size=4>注意！关键参数是在调用函数的时候使用，而不是在定义函数的时候使用</font>**"
   ]
  },
  {
   "cell_type": "markdown",
   "metadata": {},
   "source": [
    "```  \n",
    "\n",
    "``` \n",
    "#### (4) 默认参数\n",
    "　　我们学习了关键词参数之后，还需要去理解**默认参数**。因为初学者很容易将二者搞混。\n",
    " - **默认参数**实际上是在**定义函数的时候**赋予了默认值的参数。\n",
    " - 一个函数参数的默认值，仅仅在该函数定义的时候，被赋值一次。如此，只有当函数第一次被定义的时候，才将参数的默认值初始化到它的默认值（如一个空的列表）。\n",
    " - 使用默认参数时一定是指向不可变对象，这里主要为防止反复调用过程中出现问题。"
   ]
  },
  {
   "cell_type": "code",
   "execution_count": null,
   "metadata": {},
   "outputs": [],
   "source": [
    "def Func04(name,how=\"怎么这么好看\"):\n",
    "    print(name,how)"
   ]
  },
  {
   "cell_type": "code",
   "execution_count": null,
   "metadata": {},
   "outputs": [],
   "source": [
    "Func04(name=\"大家\")"
   ]
  },
  {
   "cell_type": "markdown",
   "metadata": {},
   "source": [
    "- **形参how被定义了默认值\"怎么这么好看\"。**\n",
    "- 在调用函数的时候，当how没有传递任何实参时，就会使用默认值，如下："
   ]
  },
  {
   "cell_type": "code",
   "execution_count": null,
   "metadata": {},
   "outputs": [],
   "source": [
    "Func04(\"他\")      "
   ]
  },
  {
   "cell_type": "markdown",
   "metadata": {},
   "source": [
    "- **调用函数的时候，即使所有形参都不使用，直接写实参，都可以按照既定的位置将实参传输到对应的位置，如下：**"
   ]
  },
  {
   "cell_type": "code",
   "execution_count": null,
   "metadata": {},
   "outputs": [],
   "source": [
    "Func04(\"你\",\"也很好看！\")"
   ]
  },
  {
   "cell_type": "markdown",
   "metadata": {},
   "source": [
    "```\n",
    "\n",
    "```\n",
    "\n",
    " \n",
    "<font color=#00008F size=4 >关键字参数和默认参数的区别：\n",
    "- <font color=#D87096 size=3 >**关键词参数**  \n",
    "    <font color=#D87096 size=3 >在函数调用的时候必须要带参数调用，通过参数名指定要赋值的参数，这样做就不怕因为该不清楚参数的顺序而导致函数调用出错。  \n",
    "\n",
    "- <font color=#D87096 size=3 >**默认参数**  \n",
    "    <font color=#D87096 size=3 >是在参数定义的过程中，为形参赋初值，当函数调用的时候不传递实参时，则默认使用形参的初始值代替。"
   ]
  },
  {
   "cell_type": "markdown",
   "metadata": {},
   "source": [
    "#### (5) 可变参数\n",
    "　　发明可变参数的动机在于：定义函数的作者并不知道这个函数究竟需要多少个参数。   \n",
    "　　虽然听起来费解，但确实会出现这种情况。这时候，仅需要在参数前面加上$*$号即可："
   ]
  },
  {
   "cell_type": "code",
   "execution_count": null,
   "metadata": {},
   "outputs": [],
   "source": [
    "def Func05(*hehehe):\n",
    "    print(\"参数的个数是：\",len(hehehe))\n",
    "    print(hehehe)"
   ]
  },
  {
   "cell_type": "code",
   "execution_count": null,
   "metadata": {},
   "outputs": [],
   "source": [
    "a = \"我是a呀\"\n",
    "b = \"我是b呀\"\n",
    "c = \"我是c呀\"\n",
    "d = \"我是d呀\"\n",
    "\n",
    "Func05(a,b,c,d)"
   ]
  },
  {
   "cell_type": "markdown",
   "metadata": {},
   "source": [
    "- python就是把可变参数的参数们打包成一个**元组**。\n",
    "- 在可变参数后面，如果还需要指定其他参数，在调用函数的时候就需要**使用该参数的关键词**来指定，否则python就会将我们实参都列入到可变参数的额范畴。重复调用的过程中就容易出现问题。"
   ]
  },
  {
   "cell_type": "code",
   "execution_count": null,
   "metadata": {},
   "outputs": [],
   "source": [
    "def Func06(*params,extra_01,extra_02):\n",
    "    print(\"可变参数是：\",params)\n",
    "    print(\"位置参数是：\",extra_01)\n",
    "    print(\"位置参数是：\",extra_02)\n",
    "Func06(a,c,b,d)    "
   ]
  },
  {
   "cell_type": "markdown",
   "metadata": {},
   "source": [
    "　　这里报错的原因是，调用函数的时候少一个位置参数，位置参数但凡传入，在调用时就必须要含参数调用，否则就会报错。因此建议大家在定义函数的参数设定时，如果含有可变参数，可以将其设置为默认参数，这样不容易出错："
   ]
  },
  {
   "cell_type": "code",
   "execution_count": null,
   "metadata": {
    "scrolled": true
   },
   "outputs": [],
   "source": [
    "def Func06(*params,extra_01,extra_02):\n",
    "    print(\"可变参数是：\",params)\n",
    "    print(\"位置参数是：\",extra_01)\n",
    "    print(\"位置参数是：\",extra_02)\n",
    "    \n",
    "Func06(a,c,extra_01=b,extra_02=d)  "
   ]
  },
  {
   "cell_type": "markdown",
   "metadata": {},
   "source": [
    "```\n",
    "\n",
    "\n",
    "\n",
    "```  \n",
    "### 1.5 return语句\n",
    "　　return[表达式]语句用于退出函数，选择性地向调用方法返回一个表达式。    \n",
    "　　不带参数值的return语句返回None。之前的例子没有示范返回值，下面我们来演示一下return语句的用法："
   ]
  },
  {
   "cell_type": "code",
   "execution_count": null,
   "metadata": {},
   "outputs": [],
   "source": [
    "def sums(arg1 , arg2):\n",
    "    print(\"这句话在return语句之前，执行本函数会输出\")\n",
    "    cc = arg1 + arg2\n",
    "    return cc\n",
    "    print(\"这句话在return语句之后，执行本函数不会输出\")\n",
    "\n",
    "sums(10,55)\n",
    "\n",
    "print(\"sums()函数调用完毕，这句话不在sums()所属的代码块内\")"
   ]
  },
  {
   "cell_type": "code",
   "execution_count": null,
   "metadata": {
    "scrolled": true
   },
   "outputs": [],
   "source": [
    "sums(10,55)"
   ]
  },
  {
   "cell_type": "markdown",
   "metadata": {},
   "source": [
    "**定义一个计算面积的函数：**"
   ]
  },
  {
   "cell_type": "code",
   "execution_count": null,
   "metadata": {},
   "outputs": [],
   "source": [
    "def area(width, height):\n",
    "    area = width * height\n",
    "    return area"
   ]
  },
  {
   "cell_type": "code",
   "execution_count": null,
   "metadata": {
    "scrolled": true
   },
   "outputs": [],
   "source": [
    "area(4,5)"
   ]
  },
  {
   "cell_type": "code",
   "execution_count": null,
   "metadata": {},
   "outputs": [],
   "source": [
    "area(height = 6,width = 5)"
   ]
  },
  {
   "cell_type": "markdown",
   "metadata": {},
   "source": [
    "### 1.6 函数的说明文档"
   ]
  },
  {
   "cell_type": "markdown",
   "metadata": {},
   "source": [
    "\n",
    "函数的一般表达形式为：\n",
    "```pyhton \n",
    "    def <函数名>(<参数>):\n",
    "        \"\"\" 文档字符串\"\"\"\n",
    "        <代码块>\n",
    "        return <函数返回值>\n",
    "```"
   ]
  },
  {
   "cell_type": "code",
   "execution_count": null,
   "metadata": {},
   "outputs": [],
   "source": [
    "# 定义一个计算面积的函数\n",
    "def area(width, height):\n",
    "    \"\"\"\n",
    "    这里可以添加函数说明\n",
    "    \"\"\"\n",
    "    area = width * height\n",
    "    return area"
   ]
  },
  {
   "cell_type": "code",
   "execution_count": null,
   "metadata": {},
   "outputs": [],
   "source": [
    "print(area.__doc__)"
   ]
  },
  {
   "cell_type": "markdown",
   "metadata": {
    "toc-hr-collapsed": false
   },
   "source": [
    "```\n",
    "\n",
    "\n",
    "\n",
    "   \n",
    "```\n",
    "##  2. 变量作用域"
   ]
  },
  {
   "cell_type": "markdown",
   "metadata": {},
   "source": [
    "### 2.1 全局变量和局部变量        \n",
    "　　定义在**函数内部**的变量拥有一个**局部作用域**，定义在**函数外**的拥有**全局作用域**。             \n",
    "　　**局部变量**只能在其被声明的**函数内部**访问，而**全局变量**可以在**整个程序**范围内访问。    \n",
    "　　调用函数时，所有在函数内声明的变量名称都将被加入到作用域中。如下实例："
   ]
  },
  {
   "cell_type": "code",
   "execution_count": null,
   "metadata": {},
   "outputs": [],
   "source": [
    "total_01 = 0 #这是一个全局变量\n",
    "# 可以写函数说明\n",
    "def sum_01(arg1,arg2):\n",
    "    #返回2个参数的和\n",
    "    total_01 = arg1 + arg2    #total_01 在这里就是局部变量\n",
    "    arg3=33\n",
    "    return arg3"
   ]
  },
  {
   "cell_type": "code",
   "execution_count": null,
   "metadata": {},
   "outputs": [],
   "source": [
    "sum_01(3,4) "
   ]
  },
  {
   "cell_type": "code",
   "execution_count": null,
   "metadata": {},
   "outputs": [],
   "source": [
    "total_01"
   ]
  },
  {
   "cell_type": "markdown",
   "metadata": {},
   "source": [
    "- 全局变量在整个代码段中都是可以访问到的，但是不要试图在函数内部去修改全局变量。\n",
    "- 因为全局变量的修改实际上是重新定义了一个新变量，内存地址发生了改变。"
   ]
  },
  {
   "cell_type": "markdown",
   "metadata": {},
   "source": [
    "  \n",
    "### 2.2 代码块与作用域"
   ]
  },
  {
   "cell_type": "markdown",
   "metadata": {},
   "source": [
    "　　python中只有**模块（module），类(class)以及函数(def ,lamda)**才会引入新的作用域，其他的代码块（如if/else/elif/、for/while、try/except等）是不会引入新的作用域的，也就是说这些语句内定义的变量，外部也可以访问，如下代码："
   ]
  },
  {
   "cell_type": "code",
   "execution_count": null,
   "metadata": {},
   "outputs": [],
   "source": [
    "a=2\n",
    "\n",
    "if a<3:\n",
    "    msg = 'I am from CDA'\n",
    "    print(msg)"
   ]
  },
  {
   "cell_type": "code",
   "execution_count": null,
   "metadata": {
    "scrolled": true
   },
   "outputs": [],
   "source": [
    "msg"
   ]
  },
  {
   "cell_type": "markdown",
   "metadata": {},
   "source": [
    "　　实例中 msg **变量定义在 if 语句块中**，但外部还是**可以访问**的。        \n",
    "\n",
    "　　如果将 msg **定义在函数中**，则它就是局部变量，外部**不能访问**："
   ]
  },
  {
   "cell_type": "code",
   "execution_count": null,
   "metadata": {},
   "outputs": [],
   "source": [
    "def test():\n",
    "    msg_01 = 'I am from CDA'\n",
    "    return msg_01"
   ]
  },
  {
   "cell_type": "code",
   "execution_count": null,
   "metadata": {
    "scrolled": true
   },
   "outputs": [],
   "source": [
    "test()"
   ]
  },
  {
   "cell_type": "code",
   "execution_count": null,
   "metadata": {},
   "outputs": [],
   "source": [
    "msg_01"
   ]
  },
  {
   "cell_type": "markdown",
   "metadata": {
    "toc-hr-collapsed": false
   },
   "source": [
    "```\n",
    "\n",
    "\n",
    "```\n",
    "## 3. 模块"
   ]
  },
  {
   "cell_type": "markdown",
   "metadata": {},
   "source": [
    "&emsp; 在Python中除了函数，还有一个概念叫做<font color=\"blue\" size=4> **模块（module）**</font>    \n",
    "&emsp; 模块是什么呢？它和函数又有什么关系？  \n",
    "\n",
    "&emsp; <font color=#0000A size=3>说的通俗点：模块就好比是工具包，而函数就相当于是工具包中的工具。   \n",
    "&emsp; 想要使用这个工具包中的工具，则必须在Python中导入这个工具包（也就是模块）"
   ]
  },
  {
   "cell_type": "markdown",
   "metadata": {},
   "source": [
    "比如我们想对数字开平方根，就需要用到sqrt函数，如果我们直接使用就会报错："
   ]
  },
  {
   "cell_type": "code",
   "execution_count": null,
   "metadata": {},
   "outputs": [],
   "source": [
    "sqrt(4)"
   ]
  },
  {
   "cell_type": "markdown",
   "metadata": {},
   "source": [
    "### 3.1 import"
   ]
  },
  {
   "cell_type": "markdown",
   "metadata": {},
   "source": [
    "在Python中用关键字import来引入某个模块，比如要引用模块math，就可以在文件最开始的地方用import math来引入。\n",
    "\n",
    "形如:\n",
    "\n",
    "    import module1,mudule2..."
   ]
  },
  {
   "cell_type": "markdown",
   "metadata": {},
   "source": [
    "引用sqrt函数需要先加载math模块："
   ]
  },
  {
   "cell_type": "code",
   "execution_count": null,
   "metadata": {},
   "outputs": [],
   "source": [
    "import math\n",
    "math.sqrt(4)"
   ]
  },
  {
   "cell_type": "markdown",
   "metadata": {},
   "source": [
    "想一想:   \n",
    "为什么必须加上模块名调用呢？\n",
    "\n",
    "答:   \n",
    "这是因为如果不指名哪个模块，解释器并不知道你调用的是哪个sqrt函数。   \n",
    "另外，如果同时加载多个模块，不同的模块可能存在相同的sqrt函数，不指明模块名，可能会加载错函数。   "
   ]
  },
  {
   "cell_type": "code",
   "execution_count": null,
   "metadata": {},
   "outputs": [],
   "source": [
    "print(dir(math))\n",
    "\n",
    "import numpy \n",
    "print(dir(numpy))"
   ]
  },
  {
   "cell_type": "markdown",
   "metadata": {},
   "source": [
    "```\n",
    "\n",
    "```\n",
    "### 3.2 import 模块名 as 别名"
   ]
  },
  {
   "cell_type": "markdown",
   "metadata": {},
   "source": [
    "&emsp;&emsp;有些模块名字比较长，想用别名作简化别名，可以在模块名后面加as+别名。"
   ]
  },
  {
   "cell_type": "code",
   "execution_count": null,
   "metadata": {},
   "outputs": [],
   "source": [
    "import pandas as pd"
   ]
  },
  {
   "cell_type": "code",
   "execution_count": null,
   "metadata": {},
   "outputs": [],
   "source": [
    "pd.DataFrame([1, 2, 3])"
   ]
  },
  {
   "cell_type": "markdown",
   "metadata": {},
   "source": [
    "&emsp;&emsp;\n",
    "<font color=#FF3366>\n",
    "**但是需要注意的是:一旦你定义了别名，就一定要使用该别名，如果继续使用原模块名就会报错：**"
   ]
  },
  {
   "cell_type": "code",
   "execution_count": null,
   "metadata": {
    "scrolled": true
   },
   "outputs": [],
   "source": [
    "pandas.DataFrame([1, 2, 3])"
   ]
  },
  {
   "cell_type": "markdown",
   "metadata": {},
   "source": [
    "```\n",
    "   \n",
    "   \n",
    "```\n",
    "### 3.3 import 包名.模块名 as 别名"
   ]
  },
  {
   "cell_type": "markdown",
   "metadata": {},
   "source": [
    "&emsp;&emsp;对于有些嵌套在工具包的模块，想引用的话需要在模块名前加上工具包的名字："
   ]
  },
  {
   "cell_type": "code",
   "execution_count": null,
   "metadata": {
    "scrolled": false
   },
   "outputs": [],
   "source": [
    "import matplotlib\n",
    "import matplotlib.pyplot "
   ]
  },
  {
   "cell_type": "code",
   "execution_count": null,
   "metadata": {},
   "outputs": [],
   "source": [
    "type(matplotlib)\n",
    "type(matplotlib.pyplot)\n",
    "type(matplotlib.pyplot.plot)"
   ]
  },
  {
   "cell_type": "code",
   "execution_count": null,
   "metadata": {},
   "outputs": [],
   "source": [
    "import matplotlib.pyplot as plt\n",
    "\n",
    "plt.plot([1, 1.5,2, 3.5, 4]);"
   ]
  },
  {
   "cell_type": "markdown",
   "metadata": {},
   "source": [
    "```\n",
    "   \n",
    "   \n",
    "```\n",
    "### 3.4 import 模块名1,模块名2，模块名3...  \n",
    "在实际工作中，我们经常会遇到一次性导入很多包的情况，这种时候我们就可以这样操作：\n",
    "```python \n",
    "import 模块1,模块2,模块3,……\n",
    "```"
   ]
  },
  {
   "cell_type": "code",
   "execution_count": null,
   "metadata": {},
   "outputs": [],
   "source": [
    "import pandas,numpy,matplotlib"
   ]
  },
  {
   "cell_type": "code",
   "execution_count": null,
   "metadata": {},
   "outputs": [],
   "source": [
    "import pandas as pd,numpy as np,matplotlib as mpl"
   ]
  },
  {
   "cell_type": "markdown",
   "metadata": {},
   "source": [
    "### 3.5 from 模块名 import 函数名1,函数名2...."
   ]
  },
  {
   "cell_type": "markdown",
   "metadata": {},
   "source": [
    "我们也可以从一个模块中一次性导入多个函数，比如：\n",
    "\n",
    "    from 模块名 import 函数名1,函数名2....\n"
   ]
  },
  {
   "cell_type": "markdown",
   "metadata": {},
   "source": [
    "比如我们想从math模块中一次性导入sin,cos,tan三个三角函数，则可以操作如下："
   ]
  },
  {
   "cell_type": "code",
   "execution_count": null,
   "metadata": {},
   "outputs": [],
   "source": [
    "from math import sin,cos,tan"
   ]
  },
  {
   "cell_type": "code",
   "execution_count": null,
   "metadata": {},
   "outputs": [],
   "source": [
    "math.sin(math.pi/2)\n",
    "math.cos(math.pi/2)\n",
    "math.tan(0)"
   ]
  },
  {
   "cell_type": "markdown",
   "metadata": {},
   "source": [
    "如果想一次性引入math中所有的东西，还可以通过from math import *来实现"
   ]
  },
  {
   "cell_type": "code",
   "execution_count": null,
   "metadata": {
    "collapsed": true
   },
   "outputs": [],
   "source": [
    "from math import *"
   ]
  },
  {
   "cell_type": "code",
   "execution_count": null,
   "metadata": {},
   "outputs": [],
   "source": [
    "sqrt(4)"
   ]
  },
  {
   "cell_type": "code",
   "execution_count": null,
   "metadata": {},
   "outputs": [],
   "source": [
    "sin(pi/2)"
   ]
  },
  {
   "cell_type": "markdown",
   "metadata": {
    "toc-hr-collapsed": false
   },
   "source": [
    "```\n",
    "   \n",
    "   \n",
    "```\n",
    "## 4. 自定义模块"
   ]
  },
  {
   "cell_type": "markdown",
   "metadata": {},
   "source": [
    "在Python中，每个Python文件都可以作为一个模块，模块的名字就是文件的名字。\n",
    "\n",
    "比如有这样一个文件test.py，在test.py中定义了加减乘除4个函数：\n",
    "\n",
    "\n",
    "\n",
    "```\n",
    "def add(x, y):\n",
    "    return x + y\n",
    "    \n",
    "def minus(x, y):\n",
    "    return x - y\n",
    "\n",
    "\n",
    "def multiply(x, y):\n",
    "    return x * y\n",
    "\n",
    "\n",
    "def division(x, y):\n",
    "    return x / y\n",
    "```"
   ]
  },
  {
   "cell_type": "markdown",
   "metadata": {},
   "source": [
    "如果想要调用这个模块，把这个py文件放到当前目录下，就可以按照之前学的方式操作啦："
   ]
  },
  {
   "cell_type": "code",
   "execution_count": null,
   "metadata": {},
   "outputs": [],
   "source": [
    "# 查看当前路径\n",
    "%pwd"
   ]
  },
  {
   "cell_type": "code",
   "execution_count": null,
   "metadata": {},
   "outputs": [],
   "source": [
    "from test import add"
   ]
  },
  {
   "cell_type": "code",
   "execution_count": null,
   "metadata": {},
   "outputs": [],
   "source": [
    "add(11,22)"
   ]
  },
  {
   "cell_type": "code",
   "execution_count": null,
   "metadata": {},
   "outputs": [],
   "source": [
    "from test import multiply as mtp\n",
    "mtp(2, 5)"
   ]
  },
  {
   "cell_type": "markdown",
   "metadata": {
    "toc-hr-collapsed": false
   },
   "source": [
    "## 5. random模块"
   ]
  },
  {
   "cell_type": "code",
   "execution_count": null,
   "metadata": {
    "collapsed": true
   },
   "outputs": [],
   "source": [
    "import random"
   ]
  },
  {
   "cell_type": "code",
   "execution_count": null,
   "metadata": {},
   "outputs": [],
   "source": [
    "random.random()        # 返回一个[0, 1)之间的随机小数"
   ]
  },
  {
   "cell_type": "code",
   "execution_count": null,
   "metadata": {},
   "outputs": [],
   "source": [
    "random.randint(1,10)  # 返回[1,10]之间的一个随机整数"
   ]
  },
  {
   "cell_type": "code",
   "execution_count": null,
   "metadata": {},
   "outputs": [],
   "source": [
    "random.randrange(1,10)     # 返回 1-10之间（不包含10）的一个随机整数"
   ]
  },
  {
   "cell_type": "code",
   "execution_count": null,
   "metadata": {},
   "outputs": [],
   "source": [
    "random.seed(1)\n",
    "random.randrange(1,10)           # 返回（1-10）随机整型数据"
   ]
  },
  {
   "cell_type": "code",
   "execution_count": null,
   "metadata": {},
   "outputs": [],
   "source": []
  }
 ],
 "metadata": {
  "kernelspec": {
   "display_name": "Python 3",
   "language": "python",
   "name": "python3"
  },
  "language_info": {
   "codemirror_mode": {
    "name": "ipython",
    "version": 3
   },
   "file_extension": ".py",
   "mimetype": "text/x-python",
   "name": "python",
   "nbconvert_exporter": "python",
   "pygments_lexer": "ipython3",
   "version": "3.7.3"
  },
  "nbTranslate": {
   "displayLangs": [
    "*"
   ],
   "hotkey": "alt-t",
   "langInMainMenu": true,
   "sourceLang": "en",
   "targetLang": "fr",
   "useGoogleTranslate": true
  },
  "toc": {
   "base_numbering": "1",
   "nav_menu": {},
   "number_sections": true,
   "sideBar": true,
   "skip_h1_title": false,
   "title_cell": "函数",
   "title_sidebar": "函数",
   "toc_cell": true,
   "toc_position": {
    "height": "calc(100% - 180px)",
    "left": "10px",
    "top": "150px",
    "width": "243.635px"
   },
   "toc_section_display": true,
   "toc_window_display": false
  },
  "varInspector": {
   "cols": {
    "lenName": 16,
    "lenType": 16,
    "lenVar": 40
   },
   "kernels_config": {
    "python": {
     "delete_cmd_postfix": "",
     "delete_cmd_prefix": "del ",
     "library": "var_list.py",
     "varRefreshCmd": "print(var_dic_list())"
    },
    "r": {
     "delete_cmd_postfix": ") ",
     "delete_cmd_prefix": "rm(",
     "library": "var_list.r",
     "varRefreshCmd": "cat(var_dic_list()) "
    }
   },
   "types_to_exclude": [
    "module",
    "function",
    "builtin_function_or_method",
    "instance",
    "_Feature"
   ],
   "window_display": false
  }
 },
 "nbformat": 4,
 "nbformat_minor": 2
}
