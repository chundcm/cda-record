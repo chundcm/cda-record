{
 "cells": [
  {
   "cell_type": "markdown",
   "metadata": {},
   "source": [
    "## Python基础课后练习题"
   ]
  },
  {
   "cell_type": "markdown",
   "metadata": {},
   "source": [
    "### 练习1\n",
    "用input输入一个数字的字符串，然后转换成整型，然后乘以5加上8计算后转换成字符串输出"
   ]
  },
  {
   "cell_type": "code",
   "execution_count": 24,
   "metadata": {},
   "outputs": [
    {
     "name": "stdin",
     "output_type": "stream",
     "text": [
      "请输入一个数字的字符串: 6\n"
     ]
    },
    {
     "name": "stdout",
     "output_type": "stream",
     "text": [
      "38\n"
     ]
    }
   ],
   "source": [
    "a = input(\"请输入一个数字的字符串:\")\n",
    "a = int(a)*5+8\n",
    "print(str(a))"
   ]
  },
  {
   "cell_type": "markdown",
   "metadata": {},
   "source": [
    "### 练习2\n",
    "给定一个字符串aStr = \"abcdefg\", 请反转字符串 "
   ]
  },
  {
   "cell_type": "code",
   "execution_count": 22,
   "metadata": {},
   "outputs": [
    {
     "data": {
      "text/plain": [
       "'gfedcba'"
      ]
     },
     "execution_count": 22,
     "metadata": {},
     "output_type": "execute_result"
    }
   ],
   "source": [
    "s = \"abcdefg\"\n",
    "r = s[::-1]\n",
    "r"
   ]
  },
  {
   "cell_type": "markdown",
   "metadata": {},
   "source": [
    "### 练习3"
   ]
  },
  {
   "cell_type": "raw",
   "metadata": {},
   "source": [
    "从字符串s中取出 'E网论坛', '子亲修装',\"论坛培训网\"\n",
    "s = \"上海E网_E网论坛_上海房产汽车装修亲子培训生活网\""
   ]
  },
  {
   "cell_type": "code",
   "execution_count": 13,
   "metadata": {},
   "outputs": [
    {
     "name": "stdout",
     "output_type": "stream",
     "text": [
      "E网论坛,子亲修装,论坛培训网\n"
     ]
    }
   ],
   "source": [
    "s = \"上海E网_E网论坛_上海房产汽车装修亲子培训生活网\"\n",
    "#E网论坛\n",
    "result1 = s[s.find('E网论坛') : len('E网论坛') + s.find('E网论坛')]\n",
    "#子亲修装\n",
    "result2 = s[s.find('装修亲子') : len('装修亲子') + s.find('装修亲子')]\n",
    "result2 = result2[::-1]\n",
    "#论坛培训网\n",
    "result3 = s[s.find('论坛') : len('论坛') + s.find('论坛')] + \\\n",
    "          s[s.find('培训') : len('培训') + s.find('培训')] + \\\n",
    "          s[s.find('网') : len('网') + s.find('网')]\n",
    "print(result1 + \",\" + result2 +  \",\" + result3)"
   ]
  },
  {
   "cell_type": "markdown",
   "metadata": {},
   "source": [
    "### 练习4 \n",
    "字符串：\"在这个阳光明媚的日子里，我来到了CDA，这是个好地方。\"      \n",
    "从字符串中，用切片的方法切出“阳光明媚”，“好地方”，“方地好”。   \n",
    "将上述切片的字符串“阳光明媚”，“好地方”，“方地好”，拼接起来。    \n",
    "将字符'阳光明媚好地方方地好'以一个空格来分隔开。  "
   ]
  },
  {
   "cell_type": "code",
   "execution_count": 20,
   "metadata": {},
   "outputs": [
    {
     "name": "stdout",
     "output_type": "stream",
     "text": [
      "阳光明媚 好地方 方地好\n"
     ]
    }
   ],
   "source": [
    "s = \"在这个阳光明媚的日子里，我来到了CDA，这是个好地方\"\n",
    "#阳光明媚\n",
    "result1 = s[s.find('阳光明媚') : len('阳光明媚') + s.find('阳光明媚')]\n",
    "#好地方\n",
    "result2 = s[s.find('好地方') : len('好地方') + s.find('好地方')]\n",
    "#方地好\n",
    "result3 = s[len('好地方') + s.find('好地方') : s.find('好地方') - 1 : -1]\n",
    "print(\" \".join([result1, result2, result3]))"
   ]
  },
  {
   "cell_type": "markdown",
   "metadata": {},
   "source": [
    "### 练习5\n",
    "将字符串\"'a','a','c','a+','d','c','d','a+','e','f','d','f','a+','f','d','d','e'\"里面所有的\"a+\"替换成\"a\"  "
   ]
  },
  {
   "cell_type": "code",
   "execution_count": 21,
   "metadata": {},
   "outputs": [
    {
     "data": {
      "text/plain": [
       "\"'a','a','c','a','d','c','d','a','e','f','d','f','a','f','d','d','e'\""
      ]
     },
     "execution_count": 21,
     "metadata": {},
     "output_type": "execute_result"
    }
   ],
   "source": [
    "s = \"'a','a','c','a+','d','c','d','a+','e','f','d','f','a+','f','d','d','e'\"\n",
    "s.replace('a+', 'a')"
   ]
  },
  {
   "cell_type": "markdown",
   "metadata": {},
   "source": [
    "### 练习6\n",
    "\n",
    "将下列字符串 s 中的奇数位都转化为大写, 偶数位都转化成小写。"
   ]
  },
  {
   "cell_type": "code",
   "execution_count": null,
   "metadata": {},
   "outputs": [],
   "source": [
    "s = 'sadINDUionaREwSS'"
   ]
  },
  {
   "cell_type": "code",
   "execution_count": 1,
   "metadata": {},
   "outputs": [
    {
     "name": "stdout",
     "output_type": "stream",
     "text": [
      "SaDiNdUiOnArEwSs\n"
     ]
    }
   ],
   "source": [
    "s = 'sadINDUionaREwSS'\n",
    "length = len(s)\n",
    "result = ''\n",
    "i = 0\n",
    "while i < length:\n",
    "    if i%2 == 0: #偶数, 但是奇数位\n",
    "        result += s[i].upper()\n",
    "        i += 1\n",
    "    else:\n",
    "        result += s[i].lower()\n",
    "        i += 1\n",
    "print(result)"
   ]
  },
  {
   "cell_type": "markdown",
   "metadata": {},
   "source": [
    "### 练习7\n",
    "已知字符串 s = “sadINDUionaREwSS” ，将该字符串前半部分转换大写，后半部分转换成小写？（若字符串长度为奇数，中间的字符大写。）"
   ]
  },
  {
   "cell_type": "code",
   "execution_count": null,
   "metadata": {},
   "outputs": [],
   "source": [
    "s = \"sadINDUionaREwSS\""
   ]
  },
  {
   "cell_type": "code",
   "execution_count": 2,
   "metadata": {},
   "outputs": [
    {
     "name": "stdout",
     "output_type": "stream",
     "text": [
      "SADINDUIonarewss\n"
     ]
    }
   ],
   "source": [
    "s = 'sadINDUionaREwSS'\n",
    "length = len(s)\n",
    "result = ''\n",
    "i = 0\n",
    "while i < length:\n",
    "    if i < length/2: #前半部分\n",
    "      result += s[i].upper()\n",
    "      i += 1\n",
    "    else:\n",
    "        result += s[i].lower()\n",
    "        i += 1\n",
    "print(result)"
   ]
  },
  {
   "cell_type": "markdown",
   "metadata": {},
   "source": [
    "### 练习8\n",
    "\n",
    "\"2020/07/10 14:15:45\"这个时间的字符串，请截取年份，月份，日期，时，分，秒"
   ]
  },
  {
   "cell_type": "code",
   "execution_count": 1,
   "metadata": {},
   "outputs": [
    {
     "name": "stdout",
     "output_type": "stream",
     "text": [
      "2020,7,10,14,15,45\n"
     ]
    }
   ],
   "source": [
    "import datetime\n",
    "\n",
    "str_date = '2020/07/10 14:15:45'\n",
    "date = datetime.datetime.strptime(str_date, '%Y/%m/%d %H:%M:%S')\n",
    "\n",
    "print(\",\".join([str(date.year), str(date.month), str(date.day), str(date.hour), str(date.minute), str(date.second)]))"
   ]
  },
  {
   "cell_type": "markdown",
   "metadata": {},
   "source": [
    "### 练习9  \n",
    "场景：用Python设计一个程序，可以打印一下祝福语：  \n",
    "\n",
    "致某某某：  \n",
    "&emsp;&emsp;今年是XXXX年的元旦，  \n",
    "    &emsp;&emsp;我的祝福送四方，  \n",
    "    &emsp;&emsp;东方送你摇钱树，  \n",
    "    &emsp;&emsp;西方送你永安康，  \n",
    "    &emsp;&emsp;南方送你成功路，  \n",
    "    &emsp;&emsp;北方送你钱满仓。  \n",
    "    &emsp;&emsp;四面八方全送到金银财宝当头照，  \n",
    "    &emsp;&emsp;新年快乐。  \n",
    "&emsp;&emsp;&emsp;&emsp;&emsp;&emsp;&emsp;&emsp;——你的某某某  \n",
    "\n",
    "使用字符串对象的format()的方法，将第一个某某某替换成你想要祝福的人名，XXXX年替换成你想要输入的年份，第二个某某某可以替换成你的名字。  "
   ]
  },
  {
   "cell_type": "code",
   "execution_count": 2,
   "metadata": {},
   "outputs": [
    {
     "name": "stdin",
     "output_type": "stream",
     "text": [
      "请输入收信人： toyou\n",
      "请输入发信人： fromme\n",
      "请输入年份： 2020\n"
     ]
    },
    {
     "name": "stdout",
     "output_type": "stream",
     "text": [
      "致toyou：\n",
      "  今年是2020年的元旦，\n",
      "  我的祝福送四方，\n",
      "  东方送你摇钱树，\n",
      "  西方送你永安康，\n",
      "  南方送你成功路，\n",
      "  北方送你钱满仓。\n",
      "  四面八方全送到金银财宝当头照，\n",
      "  新年快乐。\n",
      "        ——你的fromme\n"
     ]
    }
   ],
   "source": [
    "rev = input(\"请输入收信人：\")\n",
    "send = input(\"请输入发信人：\")\n",
    "year = input(\"请输入年份：\")\n",
    "\n",
    "print(\"致{rev}：\\n\\\n",
    "  今年是{year}年的元旦，\\n\\\n",
    "  我的祝福送四方，\\n\\\n",
    "  东方送你摇钱树，\\n\\\n",
    "  西方送你永安康，\\n\\\n",
    "  南方送你成功路，\\n\\\n",
    "  北方送你钱满仓。\\n\\\n",
    "  四面八方全送到金银财宝当头照，\\n\\\n",
    "  新年快乐。\\n\\\n",
    "        ——你的{send}\".format(rev=rev, year=year, send=send))"
   ]
  },
  {
   "cell_type": "markdown",
   "metadata": {},
   "source": [
    "### 练习10\n",
    "有多少种方法截取 [\"a\",1,True,[33,5],6,8] 中的[6,8]？"
   ]
  },
  {
   "cell_type": "code",
   "execution_count": 3,
   "metadata": {},
   "outputs": [
    {
     "name": "stdout",
     "output_type": "stream",
     "text": [
      "6,8\n"
     ]
    }
   ],
   "source": [
    "list = [\"a\",1,True,[33,5],6,8]\n",
    "print(str(list[4]) +  \",\" +str(list[5]))"
   ]
  },
  {
   "cell_type": "markdown",
   "metadata": {},
   "source": [
    "### 练习11 \n",
    "以切片的形式从[\"a\",1,True,[33,5],6,8]中取出33"
   ]
  },
  {
   "cell_type": "code",
   "execution_count": null,
   "metadata": {},
   "outputs": [],
   "source": [
    "list = [\"a\",1,True,[33,5],6,8]\n",
    "print(list[3][0])"
   ]
  },
  {
   "cell_type": "markdown",
   "metadata": {},
   "source": [
    "### 练习12\n",
    "aa=[1, 'a', [2, 5], 88, 99, '倒数第二', '倒数第一'] \n",
    "1. 判断字符串\"a\"是否在列表aa当中  \n",
    "2. 删除列表aa中索引值为3的元素\n",
    "3. 删除列表aa的元素[2,5]中的5"
   ]
  },
  {
   "cell_type": "code",
   "execution_count": 4,
   "metadata": {},
   "outputs": [
    {
     "name": "stdout",
     "output_type": "stream",
     "text": [
      "True\n",
      "[1, 'a', [2], 99, '倒数第二', '倒数第一']\n"
     ]
    }
   ],
   "source": [
    "aa=[1, 'a', [2, 5], 88, 99, '倒数第二', '倒数第一']\n",
    "# 判断字符串\"a\"是否在列表aa当中\n",
    "print('a' in aa)\n",
    "\n",
    "del aa[3]\n",
    "del aa[2][1]\n",
    "\n",
    "print(aa)"
   ]
  },
  {
   "cell_type": "markdown",
   "metadata": {},
   "source": [
    "### 练习13\n",
    "\n",
    "List=[1,3,5,7,9,0,2,4,6,8]，要求：使用切片得到[4, 0, 7]，[5, 9, 2, 6]"
   ]
  },
  {
   "cell_type": "code",
   "execution_count": 5,
   "metadata": {},
   "outputs": [
    {
     "name": "stdout",
     "output_type": "stream",
     "text": [
      "[4, 0, 7]\n",
      "[5, 9, 2, 6]\n"
     ]
    }
   ],
   "source": [
    "list=[1,3,5,7,9,0,2,4,6,8]\n",
    "print(list[7 : 2 : -2])\n",
    "print(list[2 : 9 : 2])"
   ]
  },
  {
   "cell_type": "markdown",
   "metadata": {},
   "source": [
    "### 练习14\n",
    "\n",
    "```python\n",
    "List = [\n",
    "    '列表',\n",
    "    ['Dell','Apple','HUAWEI'],\n",
    "    ('Java','Python','Go'),\n",
    "    {'土豆':'一块三','番茄':\"两块四\"},\n",
    "    True]\n",
    "```\n",
    "\n",
    "索引出 HUAWEI,\n",
    "\n",
    "提取出 Java\n",
    "\n",
    "提取出番茄的价格\n",
    "\n"
   ]
  },
  {
   "cell_type": "code",
   "execution_count": 7,
   "metadata": {},
   "outputs": [
    {
     "name": "stdout",
     "output_type": "stream",
     "text": [
      "HUAWEI\n",
      "Java\n",
      "两块四\n"
     ]
    }
   ],
   "source": [
    "list = [\n",
    "    '列表',\n",
    "    ['Dell','Apple','HUAWEI'],\n",
    "    ('Java','Python','Go'),\n",
    "    {'土豆':'一块三','番茄':\"两块四\"},\n",
    "    True]\n",
    "print(list[1][2])\n",
    "print(list[2][0])\n",
    "print(list[3].get(\"番茄\"))\n"
   ]
  },
  {
   "cell_type": "markdown",
   "metadata": {},
   "source": [
    "### 练习15\n",
    "列表L，[2,5,3,8,10,1],\n",
    "\n",
    "将列表进行翻转并输出,\n",
    "\n",
    "对翻转后结果进行升序排序并输出,\n",
    "\n",
    "再进行降序排序并输出,\n",
    "\n",
    "把列表中的最后一个数据弹出, 并赋值给变量 last_one,\n",
    "\n",
    "最后清空列表."
   ]
  },
  {
   "cell_type": "code",
   "execution_count": 8,
   "metadata": {},
   "outputs": [
    {
     "name": "stdout",
     "output_type": "stream",
     "text": [
      "[1, 10, 8, 3, 5, 2]\n",
      "[1, 2, 3, 5, 8, 10]\n",
      "10\n"
     ]
    }
   ],
   "source": [
    "list = [2,5,3,8,10,1]\n",
    "list.reverse()\n",
    "print(list)\n",
    "list.sort()\n",
    "print(list)\n",
    "last_one = list.pop()\n",
    "print(last_one)\n",
    "list.clear()"
   ]
  },
  {
   "cell_type": "markdown",
   "metadata": {},
   "source": [
    "### 练习16\n",
    "d={'键1': '值1',\n",
    " '键2': [{'键2.1': [\"值2.1\"]}],\n",
    " '键3': '值3',\n",
    " '键4': '值4'}\n",
    " \n",
    " 取出[\"值2.1\"]"
   ]
  },
  {
   "cell_type": "code",
   "execution_count": null,
   "metadata": {},
   "outputs": [],
   "source": [
    "d={'键1': '值1', '键2': [{'键2.1': [\"值2.1\"]}], '键3': '值3', '键4': '值4'}\n",
    "print(d.get('键2')[0].get('键2.1'))"
   ]
  },
  {
   "cell_type": "markdown",
   "metadata": {},
   "source": [
    "### 练习17\n",
    "先定义一个字符串作为密码。   \n",
    "再让用户输入密码，赋值到password。  \n",
    "- 使用if语句判断输入的是否和密码一致，如果是则打印以下语句：\"密码正确，恭喜\"。  \n",
    "- 如果输入错误则结束if语句。"
   ]
  },
  {
   "cell_type": "code",
   "execution_count": 9,
   "metadata": {},
   "outputs": [
    {
     "name": "stdin",
     "output_type": "stream",
     "text": [
      "有输入密码： www\n"
     ]
    }
   ],
   "source": [
    "password = 'password'\n",
    "input = input(\"有输入密码：\")\n",
    "\n",
    "if password == input:\n",
    "    print(\"密码正确，恭喜。\")"
   ]
  },
  {
   "cell_type": "markdown",
   "metadata": {},
   "source": [
    "### 练习18\n",
    "先定义一个密码，再用input用户输入，使用if语句判断用户输入的是否和密码一致。\n",
    "- 如果一致则打印以下语句：\"密码正确，恭喜\"。 \n",
    "- 如果输入错误则打印：\"密码错误\"。"
   ]
  },
  {
   "cell_type": "code",
   "execution_count": null,
   "metadata": {},
   "outputs": [],
   "source": [
    "password = 'password'\n",
    "input = input(\"有输入密码：\")\n",
    "\n",
    "if password == input:\n",
    "    print(\"密码正确，恭喜。\")\n",
    "else:\n",
    "    print(\"密码错误。\")"
   ]
  },
  {
   "cell_type": "markdown",
   "metadata": {},
   "source": [
    "### 练习19\n",
    "看看这个代码错在哪里？        \n",
    "　　**提示一下：**关于字符串和整型数字之间的矛盾。大家来解释下为什么会出这样的错误！"
   ]
  },
  {
   "cell_type": "code",
   "execution_count": 14,
   "metadata": {},
   "outputs": [
    {
     "ename": "TypeError",
     "evalue": "'str' object is not callable",
     "output_type": "error",
     "traceback": [
      "\u001b[1;31m---------------------------------------------------------------------------\u001b[0m",
      "\u001b[1;31mTypeError\u001b[0m                                 Traceback (most recent call last)",
      "\u001b[1;32m<ipython-input-14-c04bb709ba08>\u001b[0m in \u001b[0;36m<module>\u001b[1;34m\u001b[0m\n\u001b[1;32m----> 1\u001b[1;33m \u001b[0mbirth\u001b[0m \u001b[1;33m=\u001b[0m \u001b[0minput\u001b[0m\u001b[1;33m(\u001b[0m\u001b[1;34m'你的出生年份是: '\u001b[0m\u001b[1;33m)\u001b[0m\u001b[1;33m\u001b[0m\u001b[1;33m\u001b[0m\u001b[0m\n\u001b[0m\u001b[0;32m      2\u001b[0m \u001b[1;33m\u001b[0m\u001b[0m\n\u001b[0;32m      3\u001b[0m \u001b[1;32mif\u001b[0m \u001b[0mbirth\u001b[0m \u001b[1;33m<\u001b[0m \u001b[1;36m2000\u001b[0m\u001b[1;33m:\u001b[0m\u001b[1;33m\u001b[0m\u001b[1;33m\u001b[0m\u001b[0m\n\u001b[0;32m      4\u001b[0m     \u001b[0mprint\u001b[0m\u001b[1;33m(\u001b[0m\u001b[1;34m'00前'\u001b[0m\u001b[1;33m)\u001b[0m\u001b[1;33m\u001b[0m\u001b[1;33m\u001b[0m\u001b[0m\n\u001b[0;32m      5\u001b[0m \u001b[1;32melse\u001b[0m\u001b[1;33m:\u001b[0m\u001b[1;33m\u001b[0m\u001b[1;33m\u001b[0m\u001b[0m\n",
      "\u001b[1;31mTypeError\u001b[0m: 'str' object is not callable"
     ]
    }
   ],
   "source": [
    "birth = input('你的出生年份是: ')\n",
    "\n",
    "if birth < 2000:\n",
    "    print('00前')\n",
    "else:\n",
    "    print('00后')"
   ]
  },
  {
   "cell_type": "markdown",
   "metadata": {},
   "source": [
    "如何修改上面的报错，使得if-elif语句能正常运行？"
   ]
  },
  {
   "cell_type": "code",
   "execution_count": null,
   "metadata": {},
   "outputs": [
    {
     "name": "stdin",
     "output_type": "stream",
     "text": [
      "你的出生年份是: 5\n"
     ]
    }
   ],
   "source": [
    "birth = input(\"你的出生年份是:\")\n",
    "birthInInt = int(birth)\n",
    "\n",
    "if birthInInt < 2000:\n",
    "    print('00前')\n",
    "else:\n",
    "    print('00后')"
   ]
  },
  {
   "cell_type": "markdown",
   "metadata": {},
   "source": [
    "### 练习20\n",
    "要求：从键盘获取自己的年龄，判断是否大于或者等于18岁。\n",
    "- 如果满足条件就输出“成年了，可以去网吧了”  \n",
    "- 如果不满足条件，则输出“未成年，不能入内”  \n",
    "  \n",
    "提示：\n",
    "- 使用input从键盘中获取数据，并且赋值到一个变量中\n",
    "- 使用if语句，来判断 age>=18是否成立"
   ]
  },
  {
   "cell_type": "code",
   "execution_count": 1,
   "metadata": {},
   "outputs": [
    {
     "name": "stdin",
     "output_type": "stream",
     "text": [
      "你的年龄是:  1\n"
     ]
    },
    {
     "name": "stdout",
     "output_type": "stream",
     "text": [
      "“未成年，不能入内\n"
     ]
    }
   ],
   "source": [
    "age = input('你的年龄是: ')\n",
    "\n",
    "if int(age) >= 18:\n",
    "    print('成年了，可以去网吧了')\n",
    "else:\n",
    "    print('“未成年，不能入内')"
   ]
  },
  {
   "cell_type": "markdown",
   "metadata": {},
   "source": [
    "### 练习21\n",
    "- 输入自己的身高和体重，根据BMI公式计算自己的BMI指数：体质指数（BMI）=体重（kg）÷身高^2（m）\n",
    "- 并根据BMI指数判断自己体型：\n",
    "\n",
    "```\n",
    "低于18.5：过轻\n",
    "18.5-25：正常\n",
    "25-28：过重\n",
    "28-32：肥胖\n",
    "高于32：严重肥胖\n",
    "用if-elif-else语句判断并打印结果：\n",
    "```"
   ]
  },
  {
   "cell_type": "code",
   "execution_count": 3,
   "metadata": {},
   "outputs": [
    {
     "name": "stdin",
     "output_type": "stream",
     "text": [
      "你的体重(KG)是:  4\n",
      "你的身高(M)是:  5\n"
     ]
    },
    {
     "name": "stdout",
     "output_type": "stream",
     "text": [
      "过轻\n"
     ]
    }
   ],
   "source": [
    "weight = input('你的体重(KG)是: ')\n",
    "height = input('你的身高(M)是: ')\n",
    "\n",
    "BMI = float(weight)/(float(height)*float(height))\n",
    "\n",
    "if BMI < 18.5:\n",
    "    print('过轻')\n",
    "elif BMI < 25:\n",
    "    print('正常')\n",
    "elif BMI < 28:\n",
    "    print('过肥')\n",
    "elif BMI < 32:\n",
    "    print('“肥胖')\n",
    "else:\n",
    "    print(\"严重肥胖\")"
   ]
  },
  {
   "cell_type": "markdown",
   "metadata": {},
   "source": [
    "### 练习22\n",
    "从键盘输入一个整数，判断：  \n",
    "- 该整数是否能被 2 和 3 同时整除？\n",
    "- 是否能被 2 整除？\n",
    "- 是否能被 3 整除？\n",
    "- 是否不能被 2 或 3 整除？  \n",
    "最终输出相应信息。"
   ]
  },
  {
   "cell_type": "code",
   "execution_count": 1,
   "metadata": {},
   "outputs": [
    {
     "name": "stdin",
     "output_type": "stream",
     "text": [
      "请输入一个整数:  6\n"
     ]
    },
    {
     "name": "stdout",
     "output_type": "stream",
     "text": [
      "能被 2 和 3 同时整除\n",
      "能被 2 整除\n",
      "能被 3 整除\n"
     ]
    }
   ],
   "source": [
    "input = input('请输入一个整数: ')\n",
    "inputInInt = int(input)\n",
    "\n",
    "if inputInInt%2 == 0 and inputInInt%3 == 0:\n",
    "    print(\"能被 2 和 3 同时整除\")\n",
    "    if inputInInt%2 == 0:\n",
    "        print(\"能被 2 整除\")\n",
    "    if inputInInt%3 == 0:\n",
    "        print(\"能被 3 整除\")\n",
    "else:\n",
    "    print(\"不能被 2 和 3 同时整除\")"
   ]
  },
  {
   "cell_type": "markdown",
   "metadata": {},
   "source": [
    "### 练习23\n",
    "- 情节描述：上公交车，并且可以有座位坐下。\n",
    "- 要求：输入公交卡当前的余额，只要超过2元，就可以上公交车；如果空座位的数量大于0，就可以坐下。"
   ]
  },
  {
   "cell_type": "code",
   "execution_count": 2,
   "metadata": {},
   "outputs": [
    {
     "name": "stdin",
     "output_type": "stream",
     "text": [
      "请输入公交卡当前的余额： 1\n"
     ]
    }
   ],
   "source": [
    "balance = input(\"请输入公交卡当前的余额：\")\n",
    "vacancies = 3\n",
    "\n",
    "if float(balance) > 2:\n",
    "    print(\"可以上公交车\")\n",
    "    if vacancies > 0:\n",
    "        print(\"可以坐下\")"
   ]
  },
  {
   "cell_type": "markdown",
   "metadata": {},
   "source": [
    "### 练习24\n",
    "用if嵌套的方法实现以下功能：\n",
    "- 输入一个整数，判断是否为8，如果是，则打印：“对啦~”\n",
    "- 如果不是，则继续判断：\n",
    "    - 输入的整数如果大于8，则打印：“比8大了”\n",
    "    - 输入的整数如果小于8，则打印：“比8小了”"
   ]
  },
  {
   "cell_type": "code",
   "execution_count": null,
   "metadata": {},
   "outputs": [],
   "source": [
    "input = input(\"请输入一个整数：\")\n",
    "\n",
    "if int(input) == 8:\n",
    "    print(\"对啦~\")\n",
    "elif int(input) > 8:\n",
    "    print(\"比8大了\")\n",
    "else:\n",
    "    print(\"比8小了\")"
   ]
  },
  {
   "cell_type": "markdown",
   "metadata": {},
   "source": [
    "### 练习25\n",
    "求出1~100之间偶数的累积和"
   ]
  },
  {
   "cell_type": "code",
   "execution_count": null,
   "metadata": {},
   "outputs": [],
   "source": [
    "sum = 0\n",
    "\n",
    "for i in range(100):\n",
    "    if i%2 == 0:\n",
    "        sum += i\n",
    "print(sum)"
   ]
  },
  {
   "cell_type": "markdown",
   "metadata": {},
   "source": [
    "### 练习26\n",
    "新建一个空列表，用while循环的方法，将整数1~20中的奇数作为元素，插入到空列表中。"
   ]
  },
  {
   "cell_type": "code",
   "execution_count": 3,
   "metadata": {},
   "outputs": [
    {
     "name": "stdout",
     "output_type": "stream",
     "text": [
      "[1, 3, 5, 7, 9, 11, 13, 15, 17, 19]\n"
     ]
    }
   ],
   "source": [
    "list = [];\n",
    "\n",
    "for i in range(20):\n",
    "    if i%2 == 1:\n",
    "        list.append(i)\n",
    "print(list)"
   ]
  },
  {
   "cell_type": "markdown",
   "metadata": {},
   "source": [
    "### 练习27\n",
    "如何将列表[\"a\",\"a+\",\"c\",\"a+\",\"d\",\"c\",\"d\",\"a+\",\"e\",\"f\",\"d\",\"f\",\"a+\",\"f\",\"d\"]里面所有的\"a+\"替换成\"a\"。"
   ]
  },
  {
   "cell_type": "code",
   "execution_count": 2,
   "metadata": {},
   "outputs": [
    {
     "name": "stdout",
     "output_type": "stream",
     "text": [
      "['a', 'a', 'c', 'a', 'd', 'c', 'd', 'a', 'e', 'f', 'd', 'f', 'a', 'f', 'd']\n"
     ]
    }
   ],
   "source": [
    "list = [\"a\",\"a+\",\"c\",\"a+\",\"d\",\"c\",\"d\",\"a+\",\"e\",\"f\",\"d\",\"f\",\"a+\",\"f\",\"d\"]\n",
    "i = 0\n",
    "while i < len(list):\n",
    "    if 'a+' == list[i]:\n",
    "        list[i] = 'a'\n",
    "    i += 1\n",
    "print(list)"
   ]
  },
  {
   "cell_type": "markdown",
   "metadata": {},
   "source": [
    "### 练习28\n",
    "```Python\n",
    "有以下两个列表：\n",
    "a=[1,4,5,6,7]\n",
    "b=[4,6,2,8,9]\n",
    "如何计算出两个列表之间的元素相乘的结果，并生成新的一个列表？\n",
    "```"
   ]
  },
  {
   "cell_type": "code",
   "execution_count": 6,
   "metadata": {},
   "outputs": [
    {
     "name": "stdout",
     "output_type": "stream",
     "text": [
      "[4, 24, 10, 48, 63]\n"
     ]
    }
   ],
   "source": [
    "a = [1, 4, 5, 6, 7]\n",
    "b = [4, 6, 2, 8, 9]\n",
    "\n",
    "def multiple(x, y):\n",
    "    return x*y\n",
    "\n",
    "result = map(multiple, a, b)\n",
    "print(list(result))"
   ]
  },
  {
   "cell_type": "markdown",
   "metadata": {},
   "source": [
    "### 练习29\n",
    "\n",
    "字符串s为\"12345678\"，将其转化成列表,然后变成逆序, 然后使用 for 循环生成一个只保留偶数的新列表L, 最后把这个列表拼接成字符串."
   ]
  },
  {
   "cell_type": "code",
   "execution_count": 4,
   "metadata": {},
   "outputs": [
    {
     "name": "stdout",
     "output_type": "stream",
     "text": [
      "8642\n"
     ]
    }
   ],
   "source": [
    "s = \"12345678\"\n",
    "\n",
    "l = list(s)\n",
    "l.reverse()\n",
    "\n",
    "L = []\n",
    "for i in l:\n",
    "    if int(i)%2 == 0:\n",
    "        L.append(i)\n",
    "print(\"\".join(L))"
   ]
  },
  {
   "cell_type": "markdown",
   "metadata": {},
   "source": [
    "### 练习30\n",
    "- 生成0 1 2 3 4 6 7 8 9这样一列数据并打印出来\n",
    "- 生成(0 1 2 3 4 5 6 7 8 9 over)这样一列数据\n",
    "- 生成(0 over 1 over 2 over 3 over 4 over 5 over 6 over 7 over 8 over 9 over)这样一列数据"
   ]
  },
  {
   "cell_type": "code",
   "execution_count": null,
   "metadata": {},
   "outputs": [],
   "source": [
    "l1 = []\n",
    "for i in range(0, 10):\n",
    "    l1.append(str(i))\n",
    "\n",
    "print(\" \".join(l1))\n",
    "print(\" \".join(l1) + \" over\")\n",
    "print(\" over \".join(l1) + \" over\")"
   ]
  },
  {
   "cell_type": "markdown",
   "metadata": {},
   "source": [
    "### 练习31\n",
    "有四个数字：1、2、3、4，能组成多少个互不相同且无重复数字的三位数？各是多少？"
   ]
  },
  {
   "cell_type": "code",
   "execution_count": 5,
   "metadata": {},
   "outputs": [
    {
     "name": "stdout",
     "output_type": "stream",
     "text": [
      "[(1, 2, 3), (1, 2, 4), (1, 3, 2), (1, 3, 4), (1, 4, 2), (1, 4, 3), (2, 1, 3), (2, 1, 4), (2, 3, 1), (2, 3, 4), (2, 4, 1), (2, 4, 3), (3, 1, 2), (3, 1, 4), (3, 2, 1), (3, 2, 4), (3, 4, 1), (3, 4, 2), (4, 1, 2), (4, 1, 3), (4, 2, 1), (4, 2, 3), (4, 3, 1), (4, 3, 2)]\n"
     ]
    }
   ],
   "source": [
    "import itertools\n",
    "\n",
    "l = [1,2,3,4]\n",
    "print(list(itertools.permutations(l, 3)))"
   ]
  },
  {
   "cell_type": "markdown",
   "metadata": {},
   "source": [
    "### 练习32\n",
    "```\n",
    "有以下两个列表：\n",
    "a=[[1,4,5],[6,7,6]]\n",
    "b=[[4,6,2],[8,9,7]]\n",
    "如何计算出两个列表里面的元素相乘的结果，并生成新的一个列表[4, 24, 10, 48, 63, 42]？\n",
    "```"
   ]
  },
  {
   "cell_type": "code",
   "execution_count": null,
   "metadata": {},
   "outputs": [],
   "source": [
    "def multiple(x, y):\n",
    "    return x*y\n",
    "\n",
    "def multiplelist (x, y):\n",
    "    result = []\n",
    "    for i in range(len(x)):\n",
    "        result.append(multiple(x[i], y[i]))\n",
    "        i += 1\n",
    "    return result\n",
    "\n",
    "a=[[1,4,5],[6,7,6]]\n",
    "b=[[4,6,2],[8,9,7]]\n",
    "\n",
    "result = map(multiplelist, a, b)\n",
    "flat = []\n",
    "for i in result:\n",
    "    flat.extend(i)\n",
    "print(flat)"
   ]
  },
  {
   "cell_type": "markdown",
   "metadata": {},
   "source": [
    "### 练习33\n",
    "```python \n",
    "有以下两个列表：\n",
    "a=[[1,4,5],[6,7,6]]\n",
    "b=[[4,6,2],[8,9,7]]\n",
    "如何生成新列表[[4, 24, 10], [48, 63, 42]]？\n",
    "```"
   ]
  },
  {
   "cell_type": "code",
   "execution_count": 7,
   "metadata": {},
   "outputs": [
    {
     "name": "stdout",
     "output_type": "stream",
     "text": [
      "[[4, 24, 10], [48, 63, 42]]\n"
     ]
    }
   ],
   "source": [
    "def multiple(x, y):\n",
    "    return x*y\n",
    "\n",
    "def multiplelist (x, y):\n",
    "    result = []\n",
    "    for i in range(len(x)):\n",
    "        result.append(multiple(x[i], y[i]))\n",
    "        i += 1\n",
    "    return result\n",
    "\n",
    "a=[[1,4,5],[6,7,6]]\n",
    "b=[[4,6,2],[8,9,7]]\n",
    "\n",
    "result = map(multiplelist, a, b)\n",
    "print(list(result))"
   ]
  },
  {
   "cell_type": "markdown",
   "metadata": {},
   "source": [
    "### 练习34\n",
    "使用for循环打印九九乘法表"
   ]
  },
  {
   "cell_type": "code",
   "execution_count": 8,
   "metadata": {},
   "outputs": [
    {
     "name": "stdout",
     "output_type": "stream",
     "text": [
      "1×1=1 \n",
      "2×1=2 2×2=4 \n",
      "3×1=3 3×2=6 3×3=9 \n",
      "4×1=4 4×2=8 4×3=12 4×4=16 \n",
      "5×1=5 5×2=10 5×3=15 5×4=20 5×5=25 \n",
      "6×1=6 6×2=12 6×3=18 6×4=24 6×5=30 6×6=36 \n",
      "7×1=7 7×2=14 7×3=21 7×4=28 7×5=35 7×6=42 7×7=49 \n",
      "8×1=8 8×2=16 8×3=24 8×4=32 8×5=40 8×6=48 8×7=56 8×8=64 \n",
      "9×1=9 9×2=18 9×3=27 9×4=36 9×5=45 9×6=54 9×7=63 9×8=72 9×9=81 \n"
     ]
    }
   ],
   "source": [
    "for m in range(1,10):\n",
    "    for n in range(1,m+1):\n",
    "        print('%s×%s=%s'%(m,n,m*n),end=' ')\n",
    "    print()"
   ]
  },
  {
   "cell_type": "markdown",
   "metadata": {},
   "source": [
    "### 练习35\n",
    "```Python\n",
    "a=[[3, 5, 2, 4],[7, 6, 8, 8],[1, 6, 7, 7]]\n",
    "如何取出列表a中每个元素列表的前三个元素,最终生成以下新列表:\n",
    "[[3, 5, 2], [7, 6, 8], [1, 6, 7]]\n",
    "```"
   ]
  },
  {
   "cell_type": "code",
   "execution_count": 9,
   "metadata": {},
   "outputs": [
    {
     "name": "stdout",
     "output_type": "stream",
     "text": [
      "[[3, 5, 2], [7, 6, 8], [1, 6, 7]]\n"
     ]
    }
   ],
   "source": [
    "a=[[3, 5, 2, 4],[7, 6, 8, 8],[1, 6, 7, 7]]\n",
    "\n",
    "for i in range(len(a)):\n",
    "    a[i].pop()\n",
    "\n",
    "print(a)"
   ]
  },
  {
   "cell_type": "markdown",
   "metadata": {},
   "source": [
    "### 练习36\n",
    "打印1到10之间的整数,但是2、5、7、8这四个数除外。"
   ]
  },
  {
   "cell_type": "code",
   "execution_count": 3,
   "metadata": {},
   "outputs": [
    {
     "name": "stdout",
     "output_type": "stream",
     "text": [
      "0 1 3 4 6 9 10 "
     ]
    }
   ],
   "source": [
    "a=[2,5,7,8]\n",
    "\n",
    "for i in range(11):\n",
    "    if i not in a:\n",
    "        print(i, end=' ')"
   ]
  },
  {
   "cell_type": "markdown",
   "metadata": {},
   "source": [
    "### 练习37\n",
    "使用while，完成以下图形的输出\n",
    "\n",
    "```python\n",
    "*\n",
    "* *\n",
    "* * *\n",
    "* * * *\n",
    "* * * * *\n",
    "* * * *\n",
    "* * *\n",
    "* *\n",
    "*\n",
    "```"
   ]
  },
  {
   "cell_type": "code",
   "execution_count": 4,
   "metadata": {},
   "outputs": [
    {
     "name": "stdout",
     "output_type": "stream",
     "text": [
      "* \n",
      "* * \n",
      "* * * \n",
      "* * * * \n",
      "* * * * * \n",
      "* * * * \n",
      "* * * \n",
      "* * \n",
      "* \n",
      "\n"
     ]
    }
   ],
   "source": [
    "height = 10\n",
    "\n",
    "def width (h):\n",
    "    half = int(height/2)\n",
    "    if h <= half:\n",
    "     return h\n",
    "    else:\n",
    "     return height - h\n",
    "\n",
    "i = 1\n",
    "while i <= height:\n",
    "    print(\"* \"*width(i))\n",
    "    i += 1"
   ]
  },
  {
   "cell_type": "markdown",
   "metadata": {},
   "source": [
    "### 练习38\n",
    "\n",
    "使用math模块实现sigmoid函数\n",
    "\n",
    "$$ \n",
    "S(x)=\\frac{1}{1+e^{-x}}\n",
    " $$"
   ]
  },
  {
   "cell_type": "code",
   "execution_count": 1,
   "metadata": {},
   "outputs": [],
   "source": [
    "import math\n",
    "\n",
    "def sigmoid(x):\n",
    "    return 1 / (1 + math.exp( -x ))"
   ]
  },
  {
   "cell_type": "markdown",
   "metadata": {},
   "source": [
    "### 练习39\n",
    "\n",
    "编写一个函数实现正态分布函数密度函数功能\n",
    "\n",
    "$$ \n",
    "f(x)=\\frac{1}{\\sqrt{2 \\pi}} e^{\\left(-\\frac{x^{2}}{2}\\right)}\n",
    " $$"
   ]
  },
  {
   "cell_type": "code",
   "execution_count": 2,
   "metadata": {},
   "outputs": [],
   "source": [
    "import math\n",
    "\n",
    "def density(x):\n",
    "    return (1 / math.sqrt(2 * math.pi)) * math.exp(- (x**2) / 2)"
   ]
  },
  {
   "cell_type": "markdown",
   "metadata": {},
   "source": [
    "### 练习40\n",
    "企业发放的奖金根据利润提成。利润(I)低于或等于10万元时，奖金可提10%；利润高于10万元，低于20万元时，低于10万元的部分按10%提成，高于10万元的部分，可提成7.5%；20万到40万之间时，高于20万元的部分，可提成5%；40万到60万之间时高于40万元的部分，可提成3%；60万到100万之间时，高于60万元的部分，可提成1.5%，高于100万元时，超过100万元的部分按1%提成，从键盘输入当月利润I，求应发放奖金总数？"
   ]
  },
  {
   "cell_type": "code",
   "execution_count": 8,
   "metadata": {},
   "outputs": [
    {
     "name": "stdin",
     "output_type": "stream",
     "text": [
      "请输入利润(万元)为： 9\n"
     ]
    },
    {
     "name": "stdout",
     "output_type": "stream",
     "text": [
      "0.9\n"
     ]
    }
   ],
   "source": [
    "profit = input(\"请输入利润(万元)为：\")\n",
    "profit = float(profit)\n",
    "\n",
    "bonus = 0\n",
    "\n",
    "if profit <= 10:\n",
    "    bonus = profit * 0.1\n",
    "elif profit <= 20:\n",
    "    bonus = 10 * 0.1 + (profit - 10) * 0.075\n",
    "elif profit <= 40:\n",
    "    bonus = (profit - 20) * 0.05\n",
    "elif profit <= 60:\n",
    "    bonus = (profit - 40) * 0.03\n",
    "elif profit <= 100:\n",
    "    bonus = (profit - 60) * 0.015\n",
    "else:\n",
    "    bonus = (profit - 100) * 0.01\n",
    "\n",
    "print(bonus)"
   ]
  },
  {
   "cell_type": "markdown",
   "metadata": {
    "toc-hr-collapsed": true
   },
   "source": [
    "### 练习41\n",
    "建一个字典，添加新的键值对，在此基础上更新另外一个字典，在将字典以列表的方式返回。"
   ]
  },
  {
   "cell_type": "markdown",
   "metadata": {},
   "source": [
    "| 品名     | 最低价 | 平均价 | 最高价 | 规格 | 单位 | 发布日期   |      |\n",
    "| -------- | ------ | ------ | ------ | ---- | ---- | ---------- | ---- |\n",
    "| 紫贝天葵 | 6.50   | 6.75   | 7.00   | 特菜 | 斤   | 2019-06-10 |      |\n",
    "| 金丝南瓜 | 7.50   | 7.75   | 8.00   | 特菜 | 斤   | 2019-06-10 |      |\n",
    "| 鱼腥草叶 | 8.00   | 8.50   | 9.00   | 特菜 | 斤   | 2019-06-10 |      |\n",
    "| 鱼腥草根 | 6.50   | 6.75   | 7.00   | 特菜 | 斤   | 2019-06-10 |      |\n",
    "| 圣女果   | 3.50   | 3.75   | 4.00   | 特菜 | 斤   | 2019-06-10 |      |\n",
    "| 荷兰豆   | 8.00   | 8.50   | 9.00   | 特菜 | 斤   | 2019-06-10 |      |\n",
    "| 朝天椒   | 18.00  | 19.00  | 20.00  | 特菜 | 斤   | 2019-06-10 |      |\n",
    "| 绿菜花   | 1.80   | 1.90   | 2.00   | 特菜 | 斤   | 2019-06-10 |      |\n",
    "| 球茎茴香 | 7.50   | 7.75   | 8.00   | 特菜 | 斤   | 2019-06-10 |      |"
   ]
  },
  {
   "cell_type": "markdown",
   "metadata": {},
   "source": [
    "- （1）以上是今天的菜价, 请你用一个二维的dict 数据类型, 将上面的菜价数据储存在其中.\n",
    "- （2）从字典中提取出 朝天椒的今日最高价, 查找出鱼腥草叶的均价\n",
    "- （3）查找数据中有没有红尖椒存在,如果没有则返回\"没有这种菜\",同时在字典中添加这种菜,菜的价格为:5.00, 5.25, 5.50, 然后打印新的字典;如果有就返回这种菜的全部价格\n",
    "- （4）删除刚才添加的红尖椒数据\n",
    "- （5）求出所有蔬菜最高值的平均值\n",
    "- （6）定义一个函数,可以计算出传入的蔬菜的最高值和最低值的平均值(注意不要读错)。调用这个函数,并打印出荷兰豆的价格"
   ]
  },
  {
   "cell_type": "code",
   "execution_count": 10,
   "metadata": {},
   "outputs": [],
   "source": [
    "dict = {'紫贝天葵':{'最低价':6.50,'平均价':6.75,'最高价':7.00,'规格':'特菜','单位':'斤','发布日期':'2019-06-10'},\n",
    "        '金丝南瓜':{'最低价':7.50,'平均价':7.75,'最高价':8.00,'规格':'特菜','单位':'斤','发布日期':'2019-06-10'},\n",
    "        '鱼腥草叶':{'最低价':8.00,'平均价':8.70,'最高价':9.00,'规格':'特菜','单位':'斤','发布日期':'2019-06-10'},\n",
    "        '鱼腥草根':{'最低价':6.50,'平均价':6.75,'最高价':7.00,'规格':'特菜','单位':'斤','发布日期':'2019-06-10'},\n",
    "        '圣女果':{'最低价':3.50,'平均价':3.75,'最高价':4.00,'规格':'特菜','单位':'斤','发布日期':'2019-06-10'},\n",
    "        '荷兰豆':{'最低价':8.00,'平均价':8.70,'最高价':9.00,'规格':'特菜','单位':'斤','发布日期':'2019-06-10'},\n",
    "        '朝天椒':{'最低价':18.00,'平均价':19.00,'最高价':20.00,'规格':'特菜','单位':'斤','发布日期':'2019-06-10'},\n",
    "        '绿菜花':{'最低价':1.80,'平均价':1.90,'最高价':2.00,'规格':'特菜','单位':'斤','发布日期':'2019-06-10'},\n",
    "        '球茎茴香':{'最低价':7.50,'平均价':7.75,'最高价':8.00,'规格':'特菜','单位':'斤','发布日期':'2019-06-10'}\n",
    "        }"
   ]
  },
  {
   "cell_type": "code",
   "execution_count": 11,
   "metadata": {},
   "outputs": [
    {
     "name": "stdout",
     "output_type": "stream",
     "text": [
      "20.0\n",
      "8.7\n"
     ]
    }
   ],
   "source": [
    "print(dict.get('朝天椒').get('最高价'))\n",
    "print(dict.get('鱼腥草叶').get('平均价'))"
   ]
  },
  {
   "cell_type": "code",
   "execution_count": 12,
   "metadata": {},
   "outputs": [
    {
     "name": "stdout",
     "output_type": "stream",
     "text": [
      "None\n"
     ]
    }
   ],
   "source": [
    "if '红尖椒' not in dict:\n",
    "    dict.update({'红尖椒':{'最低价':5.00,'平均价':5.75,'最高价':5.50}})\n",
    "else:\n",
    "    print(dict.values())"
   ]
  },
  {
   "cell_type": "code",
   "execution_count": null,
   "metadata": {},
   "outputs": [],
   "source": [
    "dict.pop('红尖椒')"
   ]
  },
  {
   "cell_type": "code",
   "execution_count": 16,
   "metadata": {},
   "outputs": [
    {
     "name": "stdout",
     "output_type": "stream",
     "text": [
      "8.222222222222221\n"
     ]
    }
   ],
   "source": [
    "sum = 0\n",
    "for i in dict:\n",
    "    sum += dict.get(i).get('最高价')\n",
    "print(sum/len(dict))"
   ]
  },
  {
   "cell_type": "code",
   "execution_count": 18,
   "metadata": {},
   "outputs": [
    {
     "name": "stdout",
     "output_type": "stream",
     "text": [
      "8.5\n"
     ]
    }
   ],
   "source": [
    "def price(type):\n",
    "    return (dict.get(type).get('最高价') + dict.get(type).get('最低价')) /2\n",
    "print(price('荷兰豆'))"
   ]
  },
  {
   "cell_type": "code",
   "execution_count": null,
   "metadata": {},
   "outputs": [],
   "source": []
  },
  {
   "cell_type": "code",
   "execution_count": null,
   "metadata": {},
   "outputs": [],
   "source": []
  },
  {
   "cell_type": "code",
   "execution_count": null,
   "metadata": {},
   "outputs": [],
   "source": []
  },
  {
   "cell_type": "code",
   "execution_count": null,
   "metadata": {},
   "outputs": [],
   "source": []
  },
  {
   "cell_type": "code",
   "execution_count": null,
   "metadata": {},
   "outputs": [],
   "source": []
  },
  {
   "cell_type": "code",
   "execution_count": null,
   "metadata": {},
   "outputs": [],
   "source": []
  }
 ],
 "metadata": {
  "kernelspec": {
   "display_name": "Python 3",
   "language": "python",
   "name": "python3"
  },
  "language_info": {
   "codemirror_mode": {
    "name": "ipython",
    "version": 3
   },
   "file_extension": ".py",
   "mimetype": "text/x-python",
   "name": "python",
   "nbconvert_exporter": "python",
   "pygments_lexer": "ipython3",
   "version": "3.7.7"
  }
 },
 "nbformat": 4,
 "nbformat_minor": 4
}
