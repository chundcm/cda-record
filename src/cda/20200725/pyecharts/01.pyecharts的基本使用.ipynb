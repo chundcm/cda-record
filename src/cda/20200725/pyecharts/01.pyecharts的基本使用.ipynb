{
 "cells": [
  {
   "cell_type": "markdown",
   "metadata": {
    "toc": true
   },
   "source": [
    "<h1>目录<span class=\"tocSkip\"></span></h1>\n",
    "<div class=\"toc\"><ul class=\"toc-item\"><li><span><a href=\"#软件的安装\" data-toc-modified-id=\"软件的安装-1\"><span class=\"toc-item-num\">1&nbsp;&nbsp;</span>软件的安装</a></span><ul class=\"toc-item\"><li><span><a href=\"#卸载掉试一下\" data-toc-modified-id=\"卸载掉试一下-1.1\"><span class=\"toc-item-num\">1.1&nbsp;&nbsp;</span>卸载掉试一下</a></span></li><li><span><a href=\"#重新安装一下试试\" data-toc-modified-id=\"重新安装一下试试-1.2\"><span class=\"toc-item-num\">1.2&nbsp;&nbsp;</span>重新安装一下试试</a></span></li><li><span><a href=\"#导入pyecharts\" data-toc-modified-id=\"导入pyecharts-1.3\"><span class=\"toc-item-num\">1.3&nbsp;&nbsp;</span>导入pyecharts</a></span></li><li><span><a href=\"#查看一下安装的版本\" data-toc-modified-id=\"查看一下安装的版本-1.4\"><span class=\"toc-item-num\">1.4&nbsp;&nbsp;</span>查看一下安装的版本</a></span></li></ul></li><li><span><a href=\"#绘制第一个图片\" data-toc-modified-id=\"绘制第一个图片-2\"><span class=\"toc-item-num\">2&nbsp;&nbsp;</span>绘制第一个图片</a></span><ul class=\"toc-item\"><li><span><a href=\"#在本地硬盘中生成网页文件HTML\" data-toc-modified-id=\"在本地硬盘中生成网页文件HTML-2.1\"><span class=\"toc-item-num\">2.1&nbsp;&nbsp;</span>在本地硬盘中生成网页文件HTML</a></span></li><li><span><a href=\"#在jupyter中直接显示\" data-toc-modified-id=\"在jupyter中直接显示-2.2\"><span class=\"toc-item-num\">2.2&nbsp;&nbsp;</span>在jupyter中直接显示</a></span></li><li><span><a href=\"#链式调用的语法\" data-toc-modified-id=\"链式调用的语法-2.3\"><span class=\"toc-item-num\">2.3&nbsp;&nbsp;</span>链式调用的语法</a></span></li></ul></li><li><span><a href=\"#添加配置项\" data-toc-modified-id=\"添加配置项-3\"><span class=\"toc-item-num\">3&nbsp;&nbsp;</span>添加配置项</a></span><ul class=\"toc-item\"><li><span><a href=\"#提交标题配置项\" data-toc-modified-id=\"提交标题配置项-3.1\"><span class=\"toc-item-num\">3.1&nbsp;&nbsp;</span>提交标题配置项</a></span></li><li><span><a href=\"#标题的其他配置\" data-toc-modified-id=\"标题的其他配置-3.2\"><span class=\"toc-item-num\">3.2&nbsp;&nbsp;</span>标题的其他配置</a></span></li></ul></li><li><span><a href=\"#将图表渲染成图片\" data-toc-modified-id=\"将图表渲染成图片-4\"><span class=\"toc-item-num\">4&nbsp;&nbsp;</span>将图表渲染成图片</a></span></li><li><span><a href=\"#更改图片主题\" data-toc-modified-id=\"更改图片主题-5\"><span class=\"toc-item-num\">5&nbsp;&nbsp;</span>更改图片主题</a></span></li></ul></div>"
   ]
  },
  {
   "cell_type": "markdown",
   "metadata": {},
   "source": [
    "## 软件的安装"
   ]
  },
  {
   "cell_type": "code",
   "execution_count": 1,
   "metadata": {
    "collapsed": true
   },
   "outputs": [
    {
     "name": "stdout",
     "output_type": "stream",
     "text": [
      "Looking in indexes:  https://pypi.tuna.tsinghua.edu.cn/simple\n",
      "Requirement already satisfied: pyecharts in /Users/mac/anaconda3/lib/python3.7/site-packages (1.5.1)\n",
      "Requirement already satisfied: jinja2 in /Users/mac/anaconda3/lib/python3.7/site-packages (from pyecharts) (2.10)\n",
      "Requirement already satisfied: prettytable in /Users/mac/anaconda3/lib/python3.7/site-packages (from pyecharts) (0.7.2)\n",
      "Requirement already satisfied: simplejson in /Users/mac/anaconda3/lib/python3.7/site-packages (from pyecharts) (3.16.0)\n",
      "Requirement already satisfied: MarkupSafe>=0.23 in /Users/mac/anaconda3/lib/python3.7/site-packages (from jinja2->pyecharts) (1.1.1)\n",
      "\u001b[33mUrl ' https://pypi.tuna.tsinghua.edu.cn/simple/pip/' is ignored. It is either a non-existing path or lacks a specific scheme.\u001b[0m\n"
     ]
    }
   ],
   "source": [
    "!pip install pyecharts -i https://pypi.tuna.tsinghua.edu.cn/simple"
   ]
  },
  {
   "cell_type": "markdown",
   "metadata": {},
   "source": [
    "### 卸载掉试一下"
   ]
  },
  {
   "cell_type": "code",
   "execution_count": 4,
   "metadata": {},
   "outputs": [
    {
     "name": "stdout",
     "output_type": "stream",
     "text": [
      "Uninstalling pyecharts-1.5.1:\r\n",
      "  Successfully uninstalled pyecharts-1.5.1\r\n"
     ]
    }
   ],
   "source": [
    "!pip uninstall pyecharts --yes"
   ]
  },
  {
   "cell_type": "markdown",
   "metadata": {},
   "source": [
    "### 重新安装一下试试"
   ]
  },
  {
   "cell_type": "code",
   "execution_count": 9,
   "metadata": {
    "collapsed": true
   },
   "outputs": [
    {
     "name": "stdout",
     "output_type": "stream",
     "text": [
      "Requirement already satisfied: pyecharts in /Users/mac/anaconda3/lib/python3.7/site-packages (1.5.1)\r\n",
      "Requirement already satisfied: prettytable in /Users/mac/anaconda3/lib/python3.7/site-packages (from pyecharts) (0.7.2)\r\n",
      "Requirement already satisfied: jinja2 in /Users/mac/anaconda3/lib/python3.7/site-packages (from pyecharts) (2.10)\r\n",
      "Requirement already satisfied: simplejson in /Users/mac/anaconda3/lib/python3.7/site-packages (from pyecharts) (3.16.0)\r\n",
      "Requirement already satisfied: MarkupSafe>=0.23 in /Users/mac/anaconda3/lib/python3.7/site-packages (from jinja2->pyecharts) (1.1.1)\r\n"
     ]
    }
   ],
   "source": [
    "!pip install pyecharts"
   ]
  },
  {
   "cell_type": "markdown",
   "metadata": {},
   "source": [
    "### 导入pyecharts"
   ]
  },
  {
   "cell_type": "code",
   "execution_count": 10,
   "metadata": {},
   "outputs": [],
   "source": [
    "import pyecharts"
   ]
  },
  {
   "cell_type": "markdown",
   "metadata": {},
   "source": [
    "### 查看一下安装的版本"
   ]
  },
  {
   "cell_type": "code",
   "execution_count": 11,
   "metadata": {},
   "outputs": [
    {
     "data": {
      "text/plain": [
       "'1.5.1'"
      ]
     },
     "execution_count": 11,
     "metadata": {},
     "output_type": "execute_result"
    }
   ],
   "source": [
    "pyecharts.__version__"
   ]
  },
  {
   "cell_type": "code",
   "execution_count": null,
   "metadata": {},
   "outputs": [],
   "source": []
  },
  {
   "cell_type": "markdown",
   "metadata": {},
   "source": [
    "## 绘制第一个图片"
   ]
  },
  {
   "cell_type": "code",
   "execution_count": 12,
   "metadata": {},
   "outputs": [],
   "source": [
    "from pyecharts.charts import Bar"
   ]
  },
  {
   "cell_type": "code",
   "execution_count": 14,
   "metadata": {},
   "outputs": [],
   "source": [
    "cloths = [\"衬衫\", \"羊毛衫\", \"雪纺衫\", \"裤子\", \"高跟鞋\", \"袜子\"]"
   ]
  },
  {
   "cell_type": "code",
   "execution_count": 17,
   "metadata": {},
   "outputs": [],
   "source": [
    "name = '商家A'"
   ]
  },
  {
   "cell_type": "code",
   "execution_count": 18,
   "metadata": {},
   "outputs": [],
   "source": [
    "data = [5, 20, 36, 10, 75, 90]"
   ]
  },
  {
   "cell_type": "markdown",
   "metadata": {},
   "source": [
    "### 在本地硬盘中生成网页文件HTML"
   ]
  },
  {
   "cell_type": "code",
   "execution_count": 21,
   "metadata": {},
   "outputs": [
    {
     "data": {
      "text/plain": [
       "'/Users/mac/FangCloudV2/个人文件/Python课件/pythoncode/备课文件夹/04.数据可视化课件/01.数据可视化网络视频录制/柱状图测试.html'"
      ]
     },
     "execution_count": 21,
     "metadata": {},
     "output_type": "execute_result"
    }
   ],
   "source": [
    "# 类的实例化,实例化一个柱状图的对象\n",
    "bar = Bar()\n",
    "# 添加横轴和纵轴的数据\n",
    "bar.add_xaxis(cloths)\n",
    "bar.add_yaxis(name, data)\n",
    "# 在本地生成图片\n",
    "bar.render('柱状图测试.html')"
   ]
  },
  {
   "cell_type": "markdown",
   "metadata": {},
   "source": [
    "### 在jupyter中直接显示"
   ]
  },
  {
   "cell_type": "code",
   "execution_count": 23,
   "metadata": {},
   "outputs": [],
   "source": [
    "# 类的实例化,实例化一个柱状图的对象\n",
    "bar = Bar()"
   ]
  },
  {
   "cell_type": "code",
   "execution_count": 24,
   "metadata": {
    "collapsed": true
   },
   "outputs": [
    {
     "data": {
      "text/html": [
       "\n",
       "<script>\n",
       "    require.config({\n",
       "        paths: {\n",
       "            'echarts':'https://assets.pyecharts.org/assets/echarts.min'\n",
       "        }\n",
       "    });\n",
       "</script>\n",
       "\n",
       "        <div id=\"b2b06b6355e34643957abe94936ad847\" style=\"width:900px; height:500px;\"></div>\n",
       "\n",
       "<script>\n",
       "        require(['echarts'], function(echarts) {\n",
       "                var chart_b2b06b6355e34643957abe94936ad847 = echarts.init(\n",
       "                    document.getElementById('b2b06b6355e34643957abe94936ad847'), 'white', {renderer: 'canvas'});\n",
       "                var option_b2b06b6355e34643957abe94936ad847 = {\n",
       "    \"animation\": true,\n",
       "    \"animationThreshold\": 2000,\n",
       "    \"animationDuration\": 1000,\n",
       "    \"animationEasing\": \"cubicOut\",\n",
       "    \"animationDelay\": 0,\n",
       "    \"animationDurationUpdate\": 300,\n",
       "    \"animationEasingUpdate\": \"cubicOut\",\n",
       "    \"animationDelayUpdate\": 0,\n",
       "    \"color\": [\n",
       "        \"#c23531\",\n",
       "        \"#2f4554\",\n",
       "        \"#61a0a8\",\n",
       "        \"#d48265\",\n",
       "        \"#749f83\",\n",
       "        \"#ca8622\",\n",
       "        \"#bda29a\",\n",
       "        \"#6e7074\",\n",
       "        \"#546570\",\n",
       "        \"#c4ccd3\",\n",
       "        \"#f05b72\",\n",
       "        \"#ef5b9c\",\n",
       "        \"#f47920\",\n",
       "        \"#905a3d\",\n",
       "        \"#fab27b\",\n",
       "        \"#2a5caa\",\n",
       "        \"#444693\",\n",
       "        \"#726930\",\n",
       "        \"#b2d235\",\n",
       "        \"#6d8346\",\n",
       "        \"#ac6767\",\n",
       "        \"#1d953f\",\n",
       "        \"#6950a1\",\n",
       "        \"#918597\"\n",
       "    ],\n",
       "    \"series\": [\n",
       "        {\n",
       "            \"type\": \"bar\",\n",
       "            \"name\": \"\\u5546\\u5bb6A\",\n",
       "            \"data\": [\n",
       "                5,\n",
       "                20,\n",
       "                36,\n",
       "                10,\n",
       "                75,\n",
       "                90\n",
       "            ],\n",
       "            \"barCategoryGap\": \"20%\",\n",
       "            \"label\": {\n",
       "                \"show\": true,\n",
       "                \"position\": \"top\",\n",
       "                \"margin\": 8\n",
       "            }\n",
       "        }\n",
       "    ],\n",
       "    \"legend\": [\n",
       "        {\n",
       "            \"data\": [\n",
       "                \"\\u5546\\u5bb6A\"\n",
       "            ],\n",
       "            \"selected\": {\n",
       "                \"\\u5546\\u5bb6A\": true\n",
       "            }\n",
       "        }\n",
       "    ],\n",
       "    \"tooltip\": {\n",
       "        \"show\": true,\n",
       "        \"trigger\": \"item\",\n",
       "        \"triggerOn\": \"mousemove|click\",\n",
       "        \"axisPointer\": {\n",
       "            \"type\": \"line\"\n",
       "        },\n",
       "        \"textStyle\": {\n",
       "            \"fontSize\": 14\n",
       "        },\n",
       "        \"borderWidth\": 0\n",
       "    },\n",
       "    \"xAxis\": [\n",
       "        {\n",
       "            \"show\": true,\n",
       "            \"scale\": false,\n",
       "            \"nameLocation\": \"end\",\n",
       "            \"nameGap\": 15,\n",
       "            \"gridIndex\": 0,\n",
       "            \"inverse\": false,\n",
       "            \"offset\": 0,\n",
       "            \"splitNumber\": 5,\n",
       "            \"minInterval\": 0,\n",
       "            \"splitLine\": {\n",
       "                \"show\": false,\n",
       "                \"lineStyle\": {\n",
       "                    \"width\": 1,\n",
       "                    \"opacity\": 1,\n",
       "                    \"curveness\": 0,\n",
       "                    \"type\": \"solid\"\n",
       "                }\n",
       "            },\n",
       "            \"data\": [\n",
       "                \"\\u886c\\u886b\",\n",
       "                \"\\u7f8a\\u6bdb\\u886b\",\n",
       "                \"\\u96ea\\u7eba\\u886b\",\n",
       "                \"\\u88e4\\u5b50\",\n",
       "                \"\\u9ad8\\u8ddf\\u978b\",\n",
       "                \"\\u889c\\u5b50\"\n",
       "            ]\n",
       "        }\n",
       "    ],\n",
       "    \"yAxis\": [\n",
       "        {\n",
       "            \"show\": true,\n",
       "            \"scale\": false,\n",
       "            \"nameLocation\": \"end\",\n",
       "            \"nameGap\": 15,\n",
       "            \"gridIndex\": 0,\n",
       "            \"inverse\": false,\n",
       "            \"offset\": 0,\n",
       "            \"splitNumber\": 5,\n",
       "            \"minInterval\": 0,\n",
       "            \"splitLine\": {\n",
       "                \"show\": false,\n",
       "                \"lineStyle\": {\n",
       "                    \"width\": 1,\n",
       "                    \"opacity\": 1,\n",
       "                    \"curveness\": 0,\n",
       "                    \"type\": \"solid\"\n",
       "                }\n",
       "            }\n",
       "        }\n",
       "    ]\n",
       "};\n",
       "                chart_b2b06b6355e34643957abe94936ad847.setOption(option_b2b06b6355e34643957abe94936ad847);\n",
       "        });\n",
       "    </script>\n"
      ],
      "text/plain": [
       "<pyecharts.render.display.HTML at 0x109b559e8>"
      ]
     },
     "execution_count": 24,
     "metadata": {},
     "output_type": "execute_result"
    }
   ],
   "source": [
    "# 添加横轴和纵轴的数据\n",
    "bar.add_xaxis(cloths)\n",
    "bar.add_yaxis(name, data)\n",
    "# 在jupyter 中显示\n",
    "bar.render_notebook()"
   ]
  },
  {
   "cell_type": "markdown",
   "metadata": {},
   "source": [
    "### 链式调用的语法"
   ]
  },
  {
   "cell_type": "code",
   "execution_count": 25,
   "metadata": {},
   "outputs": [
    {
     "data": {
      "text/html": [
       "\n",
       "<script>\n",
       "    require.config({\n",
       "        paths: {\n",
       "            'echarts':'https://assets.pyecharts.org/assets/echarts.min'\n",
       "        }\n",
       "    });\n",
       "</script>\n",
       "\n",
       "        <div id=\"361b656c8c544af6b7bf9fa6d9c6bac5\" style=\"width:900px; height:500px;\"></div>\n",
       "\n",
       "<script>\n",
       "        require(['echarts'], function(echarts) {\n",
       "                var chart_361b656c8c544af6b7bf9fa6d9c6bac5 = echarts.init(\n",
       "                    document.getElementById('361b656c8c544af6b7bf9fa6d9c6bac5'), 'white', {renderer: 'canvas'});\n",
       "                var option_361b656c8c544af6b7bf9fa6d9c6bac5 = {\n",
       "    \"animation\": true,\n",
       "    \"animationThreshold\": 2000,\n",
       "    \"animationDuration\": 1000,\n",
       "    \"animationEasing\": \"cubicOut\",\n",
       "    \"animationDelay\": 0,\n",
       "    \"animationDurationUpdate\": 300,\n",
       "    \"animationEasingUpdate\": \"cubicOut\",\n",
       "    \"animationDelayUpdate\": 0,\n",
       "    \"color\": [\n",
       "        \"#c23531\",\n",
       "        \"#2f4554\",\n",
       "        \"#61a0a8\",\n",
       "        \"#d48265\",\n",
       "        \"#749f83\",\n",
       "        \"#ca8622\",\n",
       "        \"#bda29a\",\n",
       "        \"#6e7074\",\n",
       "        \"#546570\",\n",
       "        \"#c4ccd3\",\n",
       "        \"#f05b72\",\n",
       "        \"#ef5b9c\",\n",
       "        \"#f47920\",\n",
       "        \"#905a3d\",\n",
       "        \"#fab27b\",\n",
       "        \"#2a5caa\",\n",
       "        \"#444693\",\n",
       "        \"#726930\",\n",
       "        \"#b2d235\",\n",
       "        \"#6d8346\",\n",
       "        \"#ac6767\",\n",
       "        \"#1d953f\",\n",
       "        \"#6950a1\",\n",
       "        \"#918597\"\n",
       "    ],\n",
       "    \"series\": [\n",
       "        {\n",
       "            \"type\": \"bar\",\n",
       "            \"name\": \"\\u5546\\u5bb6A\",\n",
       "            \"data\": [\n",
       "                5,\n",
       "                20,\n",
       "                36,\n",
       "                10,\n",
       "                75,\n",
       "                90\n",
       "            ],\n",
       "            \"barCategoryGap\": \"20%\",\n",
       "            \"label\": {\n",
       "                \"show\": true,\n",
       "                \"position\": \"top\",\n",
       "                \"margin\": 8\n",
       "            }\n",
       "        }\n",
       "    ],\n",
       "    \"legend\": [\n",
       "        {\n",
       "            \"data\": [\n",
       "                \"\\u5546\\u5bb6A\"\n",
       "            ],\n",
       "            \"selected\": {\n",
       "                \"\\u5546\\u5bb6A\": true\n",
       "            }\n",
       "        }\n",
       "    ],\n",
       "    \"tooltip\": {\n",
       "        \"show\": true,\n",
       "        \"trigger\": \"item\",\n",
       "        \"triggerOn\": \"mousemove|click\",\n",
       "        \"axisPointer\": {\n",
       "            \"type\": \"line\"\n",
       "        },\n",
       "        \"textStyle\": {\n",
       "            \"fontSize\": 14\n",
       "        },\n",
       "        \"borderWidth\": 0\n",
       "    },\n",
       "    \"xAxis\": [\n",
       "        {\n",
       "            \"show\": true,\n",
       "            \"scale\": false,\n",
       "            \"nameLocation\": \"end\",\n",
       "            \"nameGap\": 15,\n",
       "            \"gridIndex\": 0,\n",
       "            \"inverse\": false,\n",
       "            \"offset\": 0,\n",
       "            \"splitNumber\": 5,\n",
       "            \"minInterval\": 0,\n",
       "            \"splitLine\": {\n",
       "                \"show\": false,\n",
       "                \"lineStyle\": {\n",
       "                    \"width\": 1,\n",
       "                    \"opacity\": 1,\n",
       "                    \"curveness\": 0,\n",
       "                    \"type\": \"solid\"\n",
       "                }\n",
       "            },\n",
       "            \"data\": [\n",
       "                \"\\u886c\\u886b\",\n",
       "                \"\\u7f8a\\u6bdb\\u886b\",\n",
       "                \"\\u96ea\\u7eba\\u886b\",\n",
       "                \"\\u88e4\\u5b50\",\n",
       "                \"\\u9ad8\\u8ddf\\u978b\",\n",
       "                \"\\u889c\\u5b50\"\n",
       "            ]\n",
       "        }\n",
       "    ],\n",
       "    \"yAxis\": [\n",
       "        {\n",
       "            \"show\": true,\n",
       "            \"scale\": false,\n",
       "            \"nameLocation\": \"end\",\n",
       "            \"nameGap\": 15,\n",
       "            \"gridIndex\": 0,\n",
       "            \"inverse\": false,\n",
       "            \"offset\": 0,\n",
       "            \"splitNumber\": 5,\n",
       "            \"minInterval\": 0,\n",
       "            \"splitLine\": {\n",
       "                \"show\": false,\n",
       "                \"lineStyle\": {\n",
       "                    \"width\": 1,\n",
       "                    \"opacity\": 1,\n",
       "                    \"curveness\": 0,\n",
       "                    \"type\": \"solid\"\n",
       "                }\n",
       "            }\n",
       "        }\n",
       "    ]\n",
       "};\n",
       "                chart_361b656c8c544af6b7bf9fa6d9c6bac5.setOption(option_361b656c8c544af6b7bf9fa6d9c6bac5);\n",
       "        });\n",
       "    </script>\n"
      ],
      "text/plain": [
       "<pyecharts.render.display.HTML at 0x10b2e2d68>"
      ]
     },
     "execution_count": 25,
     "metadata": {},
     "output_type": "execute_result"
    }
   ],
   "source": [
    "bar = (Bar()\n",
    "      .add_xaxis(cloths)\n",
    "    .add_yaxis(name ,data)\n",
    "\n",
    "      )\n",
    "\n",
    "bar.render_notebook()"
   ]
  },
  {
   "cell_type": "code",
   "execution_count": null,
   "metadata": {},
   "outputs": [],
   "source": []
  },
  {
   "cell_type": "markdown",
   "metadata": {},
   "source": [
    "## 添加配置项\n",
    "\n",
    "使用 options 配置项，在 pyecharts 中，一切皆 Options。"
   ]
  },
  {
   "cell_type": "code",
   "execution_count": 26,
   "metadata": {},
   "outputs": [],
   "source": [
    "from pyecharts import options as opts"
   ]
  },
  {
   "cell_type": "markdown",
   "metadata": {},
   "source": [
    "### 提交标题配置项"
   ]
  },
  {
   "cell_type": "code",
   "execution_count": null,
   "metadata": {},
   "outputs": [],
   "source": [
    "# 标题配置对象\n",
    "# opts.TitleOpts('服装销售柱状图')"
   ]
  },
  {
   "cell_type": "code",
   "execution_count": 28,
   "metadata": {},
   "outputs": [],
   "source": [
    "# 类的实例化,实例化一个柱状图的对象\n",
    "bar = Bar()"
   ]
  },
  {
   "cell_type": "code",
   "execution_count": 29,
   "metadata": {},
   "outputs": [
    {
     "data": {
      "text/plain": [
       "'/Users/mac/FangCloudV2/个人文件/Python课件/pythoncode/备课文件夹/04.数据可视化课件/01.数据可视化网络视频录制/柱状图测试.html'"
      ]
     },
     "execution_count": 29,
     "metadata": {},
     "output_type": "execute_result"
    }
   ],
   "source": [
    "# 添加横轴和纵轴的数据\n",
    "bar.add_xaxis(cloths)\n",
    "bar.add_yaxis(name, data)\n",
    "# 在本地生成图片\n",
    "bar.set_global_opts(title_opts=opts.TitleOpts('服装销售柱状图'))\n",
    "bar.render('柱状图测试.html')"
   ]
  },
  {
   "cell_type": "markdown",
   "metadata": {},
   "source": [
    "### 标题的其他配置"
   ]
  },
  {
   "cell_type": "code",
   "execution_count": 33,
   "metadata": {},
   "outputs": [],
   "source": [
    "# 类的实例化,实例化一个柱状图的对象\n",
    "bar = Bar()"
   ]
  },
  {
   "cell_type": "code",
   "execution_count": 34,
   "metadata": {},
   "outputs": [
    {
     "data": {
      "text/plain": [
       "'/Users/mac/FangCloudV2/个人文件/Python课件/pythoncode/备课文件夹/04.数据可视化课件/01.数据可视化网络视频录制/柱状图测试.html'"
      ]
     },
     "execution_count": 34,
     "metadata": {},
     "output_type": "execute_result"
    }
   ],
   "source": [
    "# 添加横轴和纵轴的数据\n",
    "bar.add_xaxis(cloths)\n",
    "bar.add_yaxis(name, data)\n",
    "# 在本地生成图片\n",
    "bar.set_global_opts(title_opts=opts.TitleOpts('服装销售柱状图',\n",
    "                subtitle = '我们的第一个pyecharts图片测试')\n",
    "                   )\n",
    "bar.render('柱状图测试.html')"
   ]
  },
  {
   "cell_type": "code",
   "execution_count": null,
   "metadata": {},
   "outputs": [],
   "source": []
  },
  {
   "cell_type": "code",
   "execution_count": 35,
   "metadata": {},
   "outputs": [
    {
     "data": {
      "text/plain": [
       "'/Users/mac/FangCloudV2/个人文件/Python课件/pythoncode/备课文件夹/04.数据可视化课件/01.数据可视化网络视频录制/柱状图测试.html'"
      ]
     },
     "execution_count": 35,
     "metadata": {},
     "output_type": "execute_result"
    }
   ],
   "source": [
    "# 标题跳转连接\n",
    "# 类的实例化,实例化一个柱状图的对象\n",
    "bar = Bar()\n",
    "# 添加横轴和纵轴的数据\n",
    "bar.add_xaxis(cloths)\n",
    "bar.add_yaxis(name, data)\n",
    "# 在本地生成图片\n",
    "bar.set_global_opts(title_opts=opts.TitleOpts('服装销售柱状图',\n",
    "          title_link = 'http://edu.cda.cn' , subtitle = '我们的第一个pyecharts图片测试')\n",
    "                   )\n",
    "bar.render('柱状图测试.html')"
   ]
  },
  {
   "cell_type": "code",
   "execution_count": null,
   "metadata": {},
   "outputs": [],
   "source": []
  },
  {
   "cell_type": "code",
   "execution_count": 36,
   "metadata": {},
   "outputs": [
    {
     "data": {
      "text/plain": [
       "'/Users/mac/FangCloudV2/个人文件/Python课件/pythoncode/备课文件夹/04.数据可视化课件/01.数据可视化网络视频录制/柱状图测试.html'"
      ]
     },
     "execution_count": 36,
     "metadata": {},
     "output_type": "execute_result"
    }
   ],
   "source": [
    "# 改变标题位置\n",
    "# 类的实例化,实例化一个柱状图的对象\n",
    "bar = Bar()\n",
    "# 添加横轴和纵轴的数据\n",
    "bar.add_xaxis(cloths)\n",
    "bar.add_yaxis(name, data)\n",
    "# 在本地生成图片\n",
    "bar.set_global_opts(title_opts=opts.TitleOpts('服装销售柱状图',\n",
    "          title_link = 'http://edu.cda.cn' , subtitle = '我们的第一个pyecharts图片测试',\n",
    "                                             pos_left = 'right')\n",
    "                   )\n",
    "bar.render('柱状图测试.html')"
   ]
  },
  {
   "cell_type": "code",
   "execution_count": null,
   "metadata": {},
   "outputs": [],
   "source": []
  },
  {
   "cell_type": "markdown",
   "metadata": {},
   "source": [
    "## 将图表渲染成图片"
   ]
  },
  {
   "cell_type": "code",
   "execution_count": 43,
   "metadata": {},
   "outputs": [],
   "source": [
    "from pyecharts.render import make_snapshot"
   ]
  },
  {
   "cell_type": "code",
   "execution_count": 45,
   "metadata": {},
   "outputs": [],
   "source": [
    "# 安装snapshot_selenium"
   ]
  },
  {
   "cell_type": "code",
   "execution_count": 46,
   "metadata": {},
   "outputs": [
    {
     "name": "stdout",
     "output_type": "stream",
     "text": [
      "Collecting snapshot-selenium\n",
      "  Downloading https://files.pythonhosted.org/packages/64/d9/89e6835708320f8700246a5683133bf99f2743eaaa218e6f36f31fb7f7e7/snapshot_selenium-0.0.2-py2.py3-none-any.whl\n",
      "Requirement already satisfied: selenium in /Users/mac/anaconda3/lib/python3.7/site-packages (from snapshot-selenium) (3.141.0)\n",
      "Requirement already satisfied: urllib3 in /Users/mac/anaconda3/lib/python3.7/site-packages (from selenium->snapshot-selenium) (1.24.1)\n",
      "Installing collected packages: snapshot-selenium\n",
      "Successfully installed snapshot-selenium-0.0.2\n"
     ]
    }
   ],
   "source": [
    "!pip install snapshot-selenium"
   ]
  },
  {
   "cell_type": "code",
   "execution_count": 47,
   "metadata": {},
   "outputs": [],
   "source": [
    "# 使用 snapshot-selenium 渲染图片\n",
    "from snapshot_selenium import snapshot"
   ]
  },
  {
   "cell_type": "code",
   "execution_count": 50,
   "metadata": {},
   "outputs": [],
   "source": [
    "# 类的实例化,实例化一个柱状图的对象\n",
    "bar = Bar()\n",
    "# 添加横轴和纵轴的数据\n",
    "bar.add_xaxis(cloths)\n",
    "bar.add_yaxis(name, data)\n",
    "# 在本地生成图片\n",
    "bar.set_global_opts(title_opts=opts.TitleOpts('服装销售柱状图',\n",
    "          title_link = 'http://edu.cda.cn' , subtitle = '我们的第一个pyecharts图片测试',\n",
    "                                             pos_left = 'right')\n",
    "                   )\n",
    "make_snapshot(snapshot , bar.render() , '柱状图.png')"
   ]
  },
  {
   "cell_type": "code",
   "execution_count": 52,
   "metadata": {},
   "outputs": [],
   "source": [
    "# 类的实例化,实例化一个柱状图的对象\n",
    "bar = Bar()\n",
    "# 添加横轴和纵轴的数据\n",
    "bar.add_xaxis(cloths)\n",
    "bar.add_yaxis(name, data)\n",
    "# 在本地生成图片\n",
    "bar.set_global_opts(title_opts=opts.TitleOpts('服装销售柱状图',\n",
    "          title_link = 'http://edu.cda.cn' , subtitle = '我们的第一个pyecharts图片测试',\n",
    "                                             pos_left = 'right')\n",
    "                   )\n",
    "make_snapshot(snapshot , bar.render() , '柱状图.gif')"
   ]
  },
  {
   "cell_type": "markdown",
   "metadata": {},
   "source": [
    "支持的图片格式\n",
    "\n",
    "html/svg/jpeg/png/pdf/gif"
   ]
  },
  {
   "cell_type": "code",
   "execution_count": null,
   "metadata": {},
   "outputs": [],
   "source": []
  },
  {
   "cell_type": "markdown",
   "metadata": {},
   "source": [
    "## 更改图片主题"
   ]
  },
  {
   "cell_type": "code",
   "execution_count": 53,
   "metadata": {},
   "outputs": [],
   "source": [
    "# 内置主题类型可查看 pyecharts.globals.ThemeType\n",
    "from pyecharts.globals import ThemeType"
   ]
  },
  {
   "cell_type": "code",
   "execution_count": 60,
   "metadata": {},
   "outputs": [
    {
     "data": {
      "text/plain": [
       "['BUILTIN_THEMES',\n",
       " 'CHALK',\n",
       " 'DARK',\n",
       " 'ESSOS',\n",
       " 'INFOGRAPHIC',\n",
       " 'LIGHT',\n",
       " 'MACARONS',\n",
       " 'PURPLE_PASSION',\n",
       " 'ROMA',\n",
       " 'ROMANTIC',\n",
       " 'SHINE',\n",
       " 'VINTAGE',\n",
       " 'WALDEN',\n",
       " 'WESTEROS',\n",
       " 'WHITE',\n",
       " 'WONDERLAND']"
      ]
     },
     "execution_count": 60,
     "metadata": {},
     "output_type": "execute_result"
    }
   ],
   "source": [
    "# 查看有哪些内置主题\n",
    "dir(ThemeType)[:16]"
   ]
  },
  {
   "cell_type": "code",
   "execution_count": 68,
   "metadata": {},
   "outputs": [],
   "source": [
    "# 类的实例化,实例化一个柱状图的对象\n",
    "bar = Bar(init_opts=opts.InitOpts(theme=ThemeType.ROMANTIC ))"
   ]
  },
  {
   "cell_type": "code",
   "execution_count": 69,
   "metadata": {},
   "outputs": [
    {
     "data": {
      "text/html": [
       "\n",
       "<script>\n",
       "    require.config({\n",
       "        paths: {\n",
       "            'echarts':'https://assets.pyecharts.org/assets/echarts.min', 'romantic':'https://assets.pyecharts.org/assets/themes/romantic'\n",
       "        }\n",
       "    });\n",
       "</script>\n",
       "\n",
       "        <div id=\"7add55be83c44db6b95e4b914b389ed4\" style=\"width:900px; height:500px;\"></div>\n",
       "\n",
       "<script>\n",
       "        require(['echarts', 'romantic'], function(echarts) {\n",
       "                var chart_7add55be83c44db6b95e4b914b389ed4 = echarts.init(\n",
       "                    document.getElementById('7add55be83c44db6b95e4b914b389ed4'), 'romantic', {renderer: 'canvas'});\n",
       "                var option_7add55be83c44db6b95e4b914b389ed4 = {\n",
       "    \"animation\": true,\n",
       "    \"animationThreshold\": 2000,\n",
       "    \"animationDuration\": 1000,\n",
       "    \"animationEasing\": \"cubicOut\",\n",
       "    \"animationDelay\": 0,\n",
       "    \"animationDurationUpdate\": 300,\n",
       "    \"animationEasingUpdate\": \"cubicOut\",\n",
       "    \"animationDelayUpdate\": 0,\n",
       "    \"series\": [\n",
       "        {\n",
       "            \"type\": \"bar\",\n",
       "            \"name\": \"\\u5546\\u5bb6A\",\n",
       "            \"data\": [\n",
       "                5,\n",
       "                20,\n",
       "                36,\n",
       "                10,\n",
       "                75,\n",
       "                90\n",
       "            ],\n",
       "            \"barCategoryGap\": \"20%\",\n",
       "            \"label\": {\n",
       "                \"show\": true,\n",
       "                \"position\": \"top\",\n",
       "                \"margin\": 8\n",
       "            }\n",
       "        }\n",
       "    ],\n",
       "    \"legend\": [\n",
       "        {\n",
       "            \"data\": [\n",
       "                \"\\u5546\\u5bb6A\"\n",
       "            ],\n",
       "            \"selected\": {\n",
       "                \"\\u5546\\u5bb6A\": true\n",
       "            }\n",
       "        }\n",
       "    ],\n",
       "    \"tooltip\": {\n",
       "        \"show\": true,\n",
       "        \"trigger\": \"item\",\n",
       "        \"triggerOn\": \"mousemove|click\",\n",
       "        \"axisPointer\": {\n",
       "            \"type\": \"line\"\n",
       "        },\n",
       "        \"textStyle\": {\n",
       "            \"fontSize\": 14\n",
       "        },\n",
       "        \"borderWidth\": 0\n",
       "    },\n",
       "    \"xAxis\": [\n",
       "        {\n",
       "            \"show\": true,\n",
       "            \"scale\": false,\n",
       "            \"nameLocation\": \"end\",\n",
       "            \"nameGap\": 15,\n",
       "            \"gridIndex\": 0,\n",
       "            \"inverse\": false,\n",
       "            \"offset\": 0,\n",
       "            \"splitNumber\": 5,\n",
       "            \"minInterval\": 0,\n",
       "            \"splitLine\": {\n",
       "                \"show\": false,\n",
       "                \"lineStyle\": {\n",
       "                    \"width\": 1,\n",
       "                    \"opacity\": 1,\n",
       "                    \"curveness\": 0,\n",
       "                    \"type\": \"solid\"\n",
       "                }\n",
       "            },\n",
       "            \"data\": [\n",
       "                \"\\u886c\\u886b\",\n",
       "                \"\\u7f8a\\u6bdb\\u886b\",\n",
       "                \"\\u96ea\\u7eba\\u886b\",\n",
       "                \"\\u88e4\\u5b50\",\n",
       "                \"\\u9ad8\\u8ddf\\u978b\",\n",
       "                \"\\u889c\\u5b50\"\n",
       "            ]\n",
       "        }\n",
       "    ],\n",
       "    \"yAxis\": [\n",
       "        {\n",
       "            \"show\": true,\n",
       "            \"scale\": false,\n",
       "            \"nameLocation\": \"end\",\n",
       "            \"nameGap\": 15,\n",
       "            \"gridIndex\": 0,\n",
       "            \"inverse\": false,\n",
       "            \"offset\": 0,\n",
       "            \"splitNumber\": 5,\n",
       "            \"minInterval\": 0,\n",
       "            \"splitLine\": {\n",
       "                \"show\": false,\n",
       "                \"lineStyle\": {\n",
       "                    \"width\": 1,\n",
       "                    \"opacity\": 1,\n",
       "                    \"curveness\": 0,\n",
       "                    \"type\": \"solid\"\n",
       "                }\n",
       "            }\n",
       "        }\n",
       "    ]\n",
       "};\n",
       "                chart_7add55be83c44db6b95e4b914b389ed4.setOption(option_7add55be83c44db6b95e4b914b389ed4);\n",
       "        });\n",
       "    </script>\n"
      ],
      "text/plain": [
       "<pyecharts.render.display.HTML at 0x10ed0a9e8>"
      ]
     },
     "execution_count": 69,
     "metadata": {},
     "output_type": "execute_result"
    }
   ],
   "source": [
    "# 添加横轴和纵轴的数据\n",
    "bar.add_xaxis(cloths)\n",
    "bar.add_yaxis(name, data)\n",
    "\n",
    "# 在本地生成图片\n",
    "bar.render_notebook()"
   ]
  },
  {
   "cell_type": "code",
   "execution_count": null,
   "metadata": {},
   "outputs": [],
   "source": []
  },
  {
   "cell_type": "code",
   "execution_count": null,
   "metadata": {},
   "outputs": [],
   "source": []
  },
  {
   "cell_type": "code",
   "execution_count": null,
   "metadata": {},
   "outputs": [],
   "source": []
  },
  {
   "cell_type": "code",
   "execution_count": null,
   "metadata": {},
   "outputs": [],
   "source": []
  },
  {
   "cell_type": "code",
   "execution_count": null,
   "metadata": {},
   "outputs": [],
   "source": []
  },
  {
   "cell_type": "code",
   "execution_count": null,
   "metadata": {},
   "outputs": [],
   "source": []
  },
  {
   "cell_type": "code",
   "execution_count": null,
   "metadata": {},
   "outputs": [],
   "source": []
  },
  {
   "cell_type": "code",
   "execution_count": null,
   "metadata": {},
   "outputs": [],
   "source": []
  },
  {
   "cell_type": "code",
   "execution_count": null,
   "metadata": {},
   "outputs": [],
   "source": []
  },
  {
   "cell_type": "code",
   "execution_count": null,
   "metadata": {},
   "outputs": [],
   "source": []
  },
  {
   "cell_type": "code",
   "execution_count": null,
   "metadata": {},
   "outputs": [],
   "source": []
  },
  {
   "cell_type": "code",
   "execution_count": null,
   "metadata": {},
   "outputs": [],
   "source": []
  }
 ],
 "metadata": {
  "kernelspec": {
   "display_name": "Python 3",
   "language": "python",
   "name": "python3"
  },
  "language_info": {
   "codemirror_mode": {
    "name": "ipython",
    "version": 3
   },
   "file_extension": ".py",
   "mimetype": "text/x-python",
   "name": "python",
   "nbconvert_exporter": "python",
   "pygments_lexer": "ipython3",
   "version": "3.7.3"
  },
  "toc": {
   "base_numbering": 1,
   "nav_menu": {},
   "number_sections": true,
   "sideBar": true,
   "skip_h1_title": true,
   "title_cell": "目录",
   "title_sidebar": "目录",
   "toc_cell": true,
   "toc_position": {},
   "toc_section_display": true,
   "toc_window_display": true
  }
 },
 "nbformat": 4,
 "nbformat_minor": 2
}
