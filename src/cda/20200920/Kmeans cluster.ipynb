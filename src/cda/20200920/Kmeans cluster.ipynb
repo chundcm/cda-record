{
 "cells": [
  {
   "cell_type": "code",
   "execution_count": 10,
   "metadata": {},
   "outputs": [],
   "source": [
    "import jieba\n",
    "import jieba.posseg as pseg\n",
    "import codecs\n",
    "import re\n",
    "import os\n",
    "import numpy as np\n",
    "from sklearn.feature_extraction.text import TfidfVectorizer\n",
    "from sklearn.feature_extraction.text import CountVectorizer"
   ]
  },
  {
   "cell_type": "code",
   "execution_count": 11,
   "metadata": {},
   "outputs": [
    {
     "name": "stdout",
     "output_type": "stream",
     "text": [
      "500\n",
      "﻿刘烨 获 聘 希望 家 爱心 大使 小朋友 开心 互动 新浪 娱乐 讯 中华 希望 树 儿童 救助 基金 组织 成立 旨在 帮助 周边 地区 贫困 家庭 学 儿童 农民工 子女 希望 家 正式 京 落户 举行 希望 家 成立 挂牌 仪式 忙于 宣传 新 电影 让 孤单 著名 演员 刘烨 积极 加入 到 希望 家 活动 中华 希望 树 儿童 救助 基金 爱心 大使 出席 活动 参与 挂牌 仪式 讲述 寓言 故事 送 上 图书 文具 方式 小朋友 进行 爱心 互动 仪式 作为 爱心 大使 刘烨 呼吁 关注 周边 地区 贫困 家庭 学 儿童 农民工 子女 使 贫困 儿童 获得 学前教育 机会 学习 多 知识 活动 刘烨 小朋友 分发 学习 用品 食品 小朋友 讲述 专心致志 寓言 故事 呼吁 多 人 能 参与 到 关 护 贫困 家庭 儿童 行列 来 刘烨 表示 人 父 孩子 互动 感觉 亲切 觉得 儿童 公益 活动 意义 会 不遗余力 支持 恰逢 刘烨 媒体 送 上 祝福 祝 天下 妈妈 节日 快乐 希望 家 活动 结束 刘烨 继续 投入 到 舒淇 主演 新片 让 孤单 宣传 刘烨 舒淇 出演 经历 磨难 收获 幸福 欢喜 冤家 让 孤单 登陆 全国 院线\n",
      "娛樂\n"
     ]
    }
   ],
   "source": [
    "## load segement result ##\n",
    "cwd = os.getcwd() #work place\n",
    "\n",
    "seg_news = list()\n",
    "category = list()\n",
    "\n",
    "with codecs.open(cwd+'/data/seg.csv','r',encoding='utf-8') as seg_file:\n",
    "    for seg in seg_file.readlines():\n",
    "        line = seg.split(',')\n",
    "        seg_news.append(line[0].strip())\n",
    "        category.append(line[1].strip())\n",
    "\n",
    "print(len(seg_news))\n",
    "print(seg_news[0])\n",
    "print(category[0])"
   ]
  },
  {
   "cell_type": "code",
   "execution_count": 12,
   "metadata": {},
   "outputs": [
    {
     "name": "stdout",
     "output_type": "stream",
     "text": [
      "tfidf shape: (500, 3398)\n"
     ]
    }
   ],
   "source": [
    "## 計算tfidf ##\n",
    "vectorizer = TfidfVectorizer(min_df = 5)\n",
    "tfidf = vectorizer.fit_transform(seg_news)\n",
    "print('tfidf shape:',tfidf.shape)"
   ]
  },
  {
   "cell_type": "code",
   "execution_count": 13,
   "metadata": {},
   "outputs": [
    {
     "name": "stdout",
     "output_type": "stream",
     "text": [
      "Start Kmeans:\n",
      "[[0.         0.0001495  0.00555704 ... 0.         0.00231015 0.        ]\n",
      " [0.         0.         0.00025703 ... 0.         0.         0.        ]\n",
      " [0.00083032 0.00160062 0.00269074 ... 0.         0.         0.00112061]\n",
      " [0.00035223 0.         0.00360083 ... 0.01589528 0.         0.0019274 ]\n",
      " [0.00224126 0.00038023 0.00838919 ... 0.         0.         0.00129304]]\n",
      "[4 4 4 4 4 4 4 4 4 4 4 4 4 4 4 4 4 4 4 4 4 4 4 4 4 4 4 4 4 4 4 4 4 4 4 4 4\n",
      " 4 4 4 4 4 4 4 4 4 4 4 4 4 4 4 4 4 4 4 4 4 4 4 4 4 4 4 4 4 4 4 4 4 4 4 4 4\n",
      " 4 4 4 4 4 4 4 4 4 4 4 4 4 4 4 4 4 4 4 4 4 4 4 4 4 4 1 1 0 1 1 1 1 0 1 1 1\n",
      " 0 1 0 1 1 1 1 1 1 1 1 1 1 1 1 1 1 1 1 0 1 1 1 1 1 1 1 1 1 1 1 1 1 1 1 1 1\n",
      " 1 1 1 1 1 1 1 1 1 1 1 1 1 1 1 1 1 1 1 1 1 1 1 1 1 1 1 1 1 1 1 0 1 0 1 1 1\n",
      " 1 1 1 1 1 1 1 1 1 1 1 1 1 1 0 0 0 0 0 0 0 0 0 0 0 0 0 0 0 0 0 0 0 0 0 0 4\n",
      " 0 0 0 0 0 0 0 0 0 0 0 0 0 0 0 0 0 0 0 0 0 0 0 0 0 0 0 0 0 0 0 0 0 0 0 0 0\n",
      " 0 0 0 0 0 0 0 0 0 0 0 0 0 0 0 0 0 0 0 0 0 0 1 0 0 0 0 0 0 0 0 0 0 0 0 0 0\n",
      " 0 0 0 0 3 1 3 3 3 3 3 3 3 3 3 3 3 3 3 3 1 3 3 3 3 3 3 3 3 3 3 3 3 3 3 3 3\n",
      " 3 3 3 3 3 3 3 3 3 3 3 3 3 3 3 3 3 3 3 3 3 3 3 3 3 3 3 3 3 3 3 3 3 3 3 3 3\n",
      " 3 3 3 3 3 3 3 3 3 3 2 3 3 3 3 3 3 3 3 3 3 3 3 1 1 1 3 3 3 3 2 2 2 2 2 2 2\n",
      " 2 2 2 2 2 2 2 2 2 2 2 2 2 2 2 2 2 2 2 2 2 2 2 2 2 2 2 2 2 2 2 2 2 2 2 2 2\n",
      " 2 2 2 2 2 2 2 2 2 2 2 2 2 2 2 2 2 2 2 2 2 2 2 2 2 2 2 2 2 2 2 2 2 2 2 2 2\n",
      " 2 2 1 2 2 2 2 2 2 1 3 2 2 2 2 2 2 2 2]\n",
      "448.81252956876983\n"
     ]
    }
   ],
   "source": [
    "## 開始分群 ##\n",
    "from sklearn.cluster import KMeans\n",
    "\n",
    "print('Start Kmeans:')\n",
    "\n",
    "clf = KMeans(n_clusters=5, random_state=3)\n",
    "clf.fit(tfidf)\n",
    "\n",
    "print(clf.cluster_centers_) #群中心\n",
    "\n",
    "# 每個樣本所属的群\n",
    "print(clf.labels_)\n",
    "\n",
    "pred = list()\n",
    "\n",
    "i = 1\n",
    "\n",
    "while i <= len(clf.labels_):\n",
    "    #print(i, clf.labels_[i-1],category[i-1])\n",
    "    pred.append(str(clf.labels_[i-1]))\n",
    "    i = i + 1\n",
    "\n",
    "#print(pred)\n",
    "    \n",
    "print(clf.inertia_)"
   ]
  },
  {
   "cell_type": "code",
   "execution_count": 14,
   "metadata": {},
   "outputs": [
    {
     "data": {
      "text/html": [
       "<div>\n",
       "<style scoped>\n",
       "    .dataframe tbody tr th:only-of-type {\n",
       "        vertical-align: middle;\n",
       "    }\n",
       "\n",
       "    .dataframe tbody tr th {\n",
       "        vertical-align: top;\n",
       "    }\n",
       "\n",
       "    .dataframe thead th {\n",
       "        text-align: right;\n",
       "    }\n",
       "</style>\n",
       "<table border=\"1\" class=\"dataframe\">\n",
       "  <thead>\n",
       "    <tr style=\"text-align: right;\">\n",
       "      <th>Cluster</th>\n",
       "      <th>0</th>\n",
       "      <th>1</th>\n",
       "      <th>2</th>\n",
       "      <th>3</th>\n",
       "      <th>4</th>\n",
       "    </tr>\n",
       "    <tr>\n",
       "      <th>Actual</th>\n",
       "      <th></th>\n",
       "      <th></th>\n",
       "      <th></th>\n",
       "      <th></th>\n",
       "      <th></th>\n",
       "    </tr>\n",
       "  </thead>\n",
       "  <tbody>\n",
       "    <tr>\n",
       "      <th>娛樂</th>\n",
       "      <td>0</td>\n",
       "      <td>0</td>\n",
       "      <td>0</td>\n",
       "      <td>0</td>\n",
       "      <td>100</td>\n",
       "    </tr>\n",
       "    <tr>\n",
       "      <th>社會</th>\n",
       "      <td>8</td>\n",
       "      <td>92</td>\n",
       "      <td>0</td>\n",
       "      <td>0</td>\n",
       "      <td>0</td>\n",
       "    </tr>\n",
       "    <tr>\n",
       "      <th>財金</th>\n",
       "      <td>98</td>\n",
       "      <td>1</td>\n",
       "      <td>0</td>\n",
       "      <td>0</td>\n",
       "      <td>1</td>\n",
       "    </tr>\n",
       "    <tr>\n",
       "      <th>遊戲</th>\n",
       "      <td>0</td>\n",
       "      <td>5</td>\n",
       "      <td>1</td>\n",
       "      <td>94</td>\n",
       "      <td>0</td>\n",
       "    </tr>\n",
       "    <tr>\n",
       "      <th>體育</th>\n",
       "      <td>0</td>\n",
       "      <td>2</td>\n",
       "      <td>97</td>\n",
       "      <td>1</td>\n",
       "      <td>0</td>\n",
       "    </tr>\n",
       "  </tbody>\n",
       "</table>\n",
       "</div>"
      ],
      "text/plain": [
       "Cluster   0   1   2   3    4\n",
       "Actual                      \n",
       "娛樂        0   0   0   0  100\n",
       "社會        8  92   0   0    0\n",
       "財金       98   1   0   0    1\n",
       "遊戲        0   5   1  94    0\n",
       "體育        0   2  97   1    0"
      ]
     },
     "execution_count": 14,
     "metadata": {},
     "output_type": "execute_result"
    }
   ],
   "source": [
    "import numpy as np\n",
    "\n",
    "y_true = np.array(category)\n",
    "y_pred = np.array(pred)\n",
    "\n",
    "import pandas as pd\n",
    "\n",
    "pd.crosstab(y_true, y_pred, rownames=['Actual'], colnames=['Cluster'])"
   ]
  },
  {
   "cell_type": "code",
   "execution_count": 15,
   "metadata": {},
   "outputs": [
    {
     "data": {
      "text/plain": [
       "0.962"
      ]
     },
     "execution_count": 15,
     "metadata": {},
     "output_type": "execute_result"
    }
   ],
   "source": [
    "(500-19)/500"
   ]
  },
  {
   "cell_type": "code",
   "execution_count": 16,
   "metadata": {},
   "outputs": [
    {
     "name": "stdout",
     "output_type": "stream",
     "text": [
      "Cluster\n",
      "0    106\n",
      "1    100\n",
      "2     98\n",
      "3     95\n",
      "4    101\n",
      "dtype: int64\n",
      "Cluster\n",
      "0     98\n",
      "1     92\n",
      "2     97\n",
      "3     94\n",
      "4    100\n",
      "dtype: int64\n",
      "0.962\n",
      "0.962\n"
     ]
    }
   ],
   "source": [
    "import pandas as pd\n",
    "\n",
    "result = pd.crosstab(y_true, y_pred, rownames=['Actual'], colnames=['Cluster'])\n",
    "\n",
    "#print(result.iat[0,2])\n",
    "s = result.sum(axis = 0)\n",
    "m = result.max(axis = 0)\n",
    "print(s)\n",
    "print(m)\n",
    "print((500 - sum(s - m)) / 500)\n",
    "print(sum(m)/sum(s))"
   ]
  },
  {
   "cell_type": "code",
   "execution_count": 17,
   "metadata": {},
   "outputs": [
    {
     "name": "stdout",
     "output_type": "stream",
     "text": [
      "i =  0 Correct Rate:  0.87\n",
      "i =  1 Correct Rate:  0.864\n",
      "i =  2 Correct Rate:  0.884\n",
      "i =  3 Correct Rate:  0.962\n",
      "i =  4 Correct Rate:  0.914\n",
      "i =  5 Correct Rate:  0.882\n",
      "i =  6 Correct Rate:  0.954\n",
      "i =  7 Correct Rate:  0.948\n",
      "i =  8 Correct Rate:  0.952\n",
      "i =  9 Correct Rate:  0.948\n",
      "i =  10 Correct Rate:  0.962\n",
      "i =  11 Correct Rate:  0.886\n",
      "i =  12 Correct Rate:  0.96\n",
      "i =  13 Correct Rate:  0.894\n",
      "i =  14 Correct Rate:  0.956\n",
      "i =  15 Correct Rate:  0.946\n",
      "i =  16 Correct Rate:  0.884\n",
      "i =  17 Correct Rate:  0.97\n",
      "i =  18 Correct Rate:  0.892\n",
      "i =  19 Correct Rate:  0.912\n",
      "random_state =  17 is the best one.\n"
     ]
    }
   ],
   "source": [
    "rs = -1\n",
    "err = 1000\n",
    "\n",
    "for i in range(20):\n",
    "    clf = KMeans(n_clusters=5, random_state=i)\n",
    "    clf.fit(tfidf)\n",
    "\n",
    "    y_true = np.array(category)\n",
    "    y_pred = np.array(clf.labels_)\n",
    "\n",
    "    result = pd.crosstab(y_true, y_pred, rownames=['Actual'], colnames=['Cluster'])\n",
    "\n",
    "    s = result.sum(axis = 0)\n",
    "    m = result.max(axis = 0)\n",
    "    \n",
    "    if sum(s - m) < err:\n",
    "        err = sum(s - m)\n",
    "        rs = i\n",
    "\n",
    "    print('i = ', i, \"Correct Rate: \", (500 - sum(s - m)) / 500)\n",
    "\n",
    "print('random_state = ', rs, 'is the best one.')"
   ]
  },
  {
   "cell_type": "code",
   "execution_count": null,
   "metadata": {},
   "outputs": [],
   "source": []
  }
 ],
 "metadata": {
  "kernelspec": {
   "display_name": "Python 3",
   "language": "python",
   "name": "python3"
  },
  "language_info": {
   "codemirror_mode": {
    "name": "ipython",
    "version": 3
   },
   "file_extension": ".py",
   "mimetype": "text/x-python",
   "name": "python",
   "nbconvert_exporter": "python",
   "pygments_lexer": "ipython3",
   "version": "3.7.6"
  }
 },
 "nbformat": 4,
 "nbformat_minor": 2
}
