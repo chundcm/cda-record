{
 "cells": [
  {
   "cell_type": "code",
   "execution_count": 1,
   "metadata": {},
   "outputs": [],
   "source": [
    "import csv\n",
    "import face_recognition\n",
    "import pickle"
   ]
  },
  {
   "cell_type": "code",
   "execution_count": 2,
   "metadata": {},
   "outputs": [],
   "source": [
    "pict_path = 'C:/Users/leeys/Desktop/python Algorithms/人臉辨識/Book Code/ch14/pict/'                # 請自行修改路徑\n",
    "csv_file = 'C:/Users/leeys/Desktop/python Algorithms/人臉辨識/Book Code/ch14/dataset/staff.csv'     # 請自行修改路徑\n",
    "pickle_file = 'C:/Users/leeys/Desktop/python Algorithms/人臉辨識/Book Code/ch14/dataset/staff.dat'  # 請自行修改路徑"
   ]
  },
  {
   "cell_type": "code",
   "execution_count": 3,
   "metadata": {},
   "outputs": [],
   "source": [
    "staff = {\n",
    "    'name':[],\n",
    "    'pict':[],\n",
    "    'encode':[]\n",
    "}"
   ]
  },
  {
   "cell_type": "code",
   "execution_count": 4,
   "metadata": {},
   "outputs": [],
   "source": [
    "# 從CVS檔讀取個人資料\n",
    "with open(csv_file, encoding='utf-8') as f:\n",
    "    csv_data = csv.reader(f, delimiter=',')\n",
    "    #print(list(csv_data))\n",
    "    for row in csv_data:\n",
    "        _key = row[0]\n",
    "        _data = row[1:]\n",
    "        staff[_key] = _data"
   ]
  },
  {
   "cell_type": "code",
   "execution_count": 5,
   "metadata": {},
   "outputs": [
    {
     "name": "stdout",
     "output_type": "stream",
     "text": [
      "{'name': ['成龍', '李連杰', '章子怡', '李御玺', '大魔頭'], 'pict': ['成龍.png', '李連杰.jpg', '章子怡.jpg', '李御玺.jpg', '大魔頭.jpg'], 'encode': []}\n"
     ]
    }
   ],
   "source": [
    "print(staff)"
   ]
  },
  {
   "cell_type": "code",
   "execution_count": 6,
   "metadata": {},
   "outputs": [],
   "source": [
    "for pic in staff['pict']:\n",
    "    img = face_recognition.load_image_file(pict_path+pic)\n",
    "    #print(img)\n",
    "    encoding = face_recognition.face_encodings(img)[0]\n",
    "    #print(face_recognition.face_encodings(img))\n",
    "    staff['encode'].append(encoding)"
   ]
  },
  {
   "cell_type": "code",
   "execution_count": 17,
   "metadata": {},
   "outputs": [],
   "source": [
    "#print(staff)"
   ]
  },
  {
   "cell_type": "code",
   "execution_count": 7,
   "metadata": {},
   "outputs": [],
   "source": [
    "with open(pickle_file, 'wb') as f:\n",
    "    pickle.dump(staff, f)"
   ]
  },
  {
   "cell_type": "code",
   "execution_count": null,
   "metadata": {},
   "outputs": [],
   "source": []
  }
 ],
 "metadata": {
  "kernelspec": {
   "display_name": "Python 3",
   "language": "python",
   "name": "python3"
  },
  "language_info": {
   "codemirror_mode": {
    "name": "ipython",
    "version": 3
   },
   "file_extension": ".py",
   "mimetype": "text/x-python",
   "name": "python",
   "nbconvert_exporter": "python",
   "pygments_lexer": "ipython3",
   "version": "3.7.6"
  }
 },
 "nbformat": 4,
 "nbformat_minor": 2
}
