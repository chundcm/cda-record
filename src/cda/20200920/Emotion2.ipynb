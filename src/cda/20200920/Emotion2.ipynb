{
 "cells": [
  {
   "cell_type": "code",
   "execution_count": 1,
   "metadata": {},
   "outputs": [],
   "source": [
    "import os\n",
    "import numpy as np\n",
    "import scipy as sp\n",
    "import codecs\n",
    "from sklearn import tree\n",
    "from matplotlib import pyplot\n",
    "from sklearn.model_selection import train_test_split  \n",
    "from sklearn.feature_extraction.text import  CountVectorizer  \n",
    "from sklearn.metrics import precision_recall_curve\n",
    "from sklearn.metrics import classification_report\n",
    "from numpy import *"
   ]
  },
  {
   "cell_type": "code",
   "execution_count": 2,
   "metadata": {},
   "outputs": [
    {
     "name": "stdout",
     "output_type": "stream",
     "text": [
      "C:\\Users\\leeys\\Desktop\\workspace\\文本分析\\data\\keyword_CSCorp.csv\n"
     ]
    }
   ],
   "source": [
    "cwd = os.getcwd()\n",
    "file_dir = cwd + \"\\\\data\\\\keyword_CSCorp.csv\"\n",
    "print(file_dir)"
   ]
  },
  {
   "cell_type": "code",
   "execution_count": 4,
   "metadata": {},
   "outputs": [
    {
     "name": "stdout",
     "output_type": "stream",
     "text": [
      "不错 停车 吸引 方便 => 1\n",
      "1954\n"
     ]
    }
   ],
   "source": [
    "##讀檔\n",
    "data = [] #評論\n",
    "labels = [] #正負評標籤 0:負評  1:正評\n",
    "\n",
    "with codecs.open(file_dir, \"r\", encoding='utf-8') as file:\n",
    "    for line in file.readlines():\n",
    "        line=line.strip().split(',')\n",
    "        data.append(line[0].strip())\n",
    "        labels.append(line[1].strip())\n",
    "\n",
    "print(data[1000] + ' => ' +  labels[1000])\n",
    "\n",
    "print(len(data))"
   ]
  },
  {
   "cell_type": "code",
   "execution_count": 5,
   "metadata": {},
   "outputs": [
    {
     "name": "stdout",
     "output_type": "stream",
     "text": [
      "  (0, 321)\t1\n",
      "  (0, 453)\t1\n",
      "  (0, 607)\t1\n",
      "  (0, 744)\t1\n",
      "  (0, 758)\t1\n",
      "  (0, 765)\t1\n",
      "  (0, 766)\t1\n",
      "  (0, 880)\t1\n",
      "  (0, 926)\t1\n",
      "  (0, 978)\t1\n",
      "  (0, 1084)\t1\n",
      "  (0, 1093)\t1\n",
      "  (0, 1224)\t1\n",
      "  (0, 1302)\t1\n",
      "  (0, 1304)\t1\n",
      "  (0, 1469)\t1\n",
      "  (0, 1471)\t1\n",
      "  (0, 1784)\t1\n",
      "  (0, 2034)\t1\n",
      "  (0, 2037)\t1\n",
      "  (0, 2093)\t1\n",
      "  (0, 2151)\t1\n",
      "  (0, 2272)\t1\n",
      "  (0, 2318)\t1\n",
      "  (0, 2409)\t1\n",
      "  (0, 2530)\t1\n",
      "  (0, 2600)\t1\n",
      "  (0, 2605)\t1\n",
      "  (0, 2943)\t1\n",
      "  (0, 3225)\t1\n",
      "  (0, 3250)\t1\n",
      "  (0, 3291)\t1\n",
      "  (0, 3352)\t1\n"
     ]
    }
   ],
   "source": [
    "x_train, x_test, y_train, y_test = train_test_split(data, labels, test_size=0.2, random_state=7)#training:0.8;test:0.2  \n",
    "\n",
    "count_vec = CountVectorizer(binary = True) #關鍵詞01矩陣(sklearn 物件)\n",
    "\n",
    "x_train = count_vec.fit_transform(x_train) #將評論轉為關鍵詞01矩陣(是否出現)\n",
    "x_test  = count_vec.transform(x_test) #將評論轉為關鍵詞01矩陣(是否出現)\n",
    "\n",
    "print(x_train[0])"
   ]
  },
  {
   "cell_type": "code",
   "execution_count": 6,
   "metadata": {},
   "outputs": [
    {
     "data": {
      "text/plain": [
       "DecisionTreeClassifier(max_depth=15, min_impurity_decrease=0.001)"
      ]
     },
     "execution_count": 6,
     "metadata": {},
     "output_type": "execute_result"
    }
   ],
   "source": [
    "clf = tree.DecisionTreeClassifier(max_depth=15, min_impurity_decrease=0.001)\n",
    "clf.fit(x_train, y_train)"
   ]
  },
  {
   "cell_type": "code",
   "execution_count": 7,
   "metadata": {},
   "outputs": [],
   "source": [
    "import os\n",
    "os.environ[\"PATH\"] += os.pathsep + 'C:/Users/leeys/Anaconda3/Library/bin/graphviz'"
   ]
  },
  {
   "cell_type": "code",
   "execution_count": 8,
   "metadata": {},
   "outputs": [
    {
     "data": {
      "text/plain": [
       "'C:\\\\Users\\\\leeys\\\\Desktop\\\\workspace\\\\文本分析/data\\\\tree.svg'"
      ]
     },
     "execution_count": 8,
     "metadata": {},
     "output_type": "execute_result"
    }
   ],
   "source": [
    "# draw tree  ##\n",
    "import graphviz \n",
    "dot_data = tree.export_graphviz(clf, out_file=None,\n",
    "                                feature_names=count_vec.get_feature_names(),)\n",
    "graph = graphviz.Source(dot_data) \n",
    "\n",
    "graph.format = 'svg'\n",
    "graph.render(cwd+\"/data/tree\" ,view=True)"
   ]
  },
  {
   "cell_type": "code",
   "execution_count": 9,
   "metadata": {},
   "outputs": [
    {
     "name": "stdout",
     "output_type": "stream",
     "text": [
      "[[162  35]\n",
      " [ 34 160]]\n"
     ]
    }
   ],
   "source": [
    "y_true = y_test\n",
    "y_pred = clf.predict(x_test)\n",
    "\n",
    "from sklearn.metrics import confusion_matrix\n",
    "print(confusion_matrix(y_true, y_pred, labels = ['0','1']))"
   ]
  },
  {
   "cell_type": "code",
   "execution_count": 10,
   "metadata": {},
   "outputs": [
    {
     "name": "stdout",
     "output_type": "stream",
     "text": [
      "              precision    recall  f1-score   support\n",
      "\n",
      "           0       0.83      0.82      0.82       197\n",
      "           1       0.82      0.82      0.82       194\n",
      "\n",
      "    accuracy                           0.82       391\n",
      "   macro avg       0.82      0.82      0.82       391\n",
      "weighted avg       0.82      0.82      0.82       391\n",
      "\n",
      "--------------------\n",
      "準確率: 0.82\n",
      "準確率: 0.82\n"
     ]
    }
   ],
   "source": [
    "#precision and recall  \n",
    "#precision, recall, thresholds = precision_recall_curve(y_test, clf.predict(x_test))  \n",
    "    \n",
    "print(classification_report(y_true, y_pred , target_names = ['0','1']))\n",
    "print(\"--------------------\")\n",
    "from sklearn.metrics import accuracy_score\n",
    "print('準確率: %.2f' % accuracy_score(y_true, y_pred))\n",
    "print('準確率: %.2f' % np.mean(y_true == y_pred))#預測值與真實值"
   ]
  },
  {
   "cell_type": "code",
   "execution_count": 11,
   "metadata": {},
   "outputs": [
    {
     "name": "stdout",
     "output_type": "stream",
     "text": [
      "              precision    recall  f1-score   support\n",
      "\n",
      "           0       0.83      0.92      0.87       768\n",
      "           1       0.91      0.82      0.86       795\n",
      "\n",
      "    accuracy                           0.87      1563\n",
      "   macro avg       0.87      0.87      0.86      1563\n",
      "weighted avg       0.87      0.87      0.86      1563\n",
      "\n",
      "--------------------\n",
      "準確率: 0.87\n",
      "準確率: 0.87\n"
     ]
    }
   ],
   "source": [
    "y_true = y_train\n",
    "y_pred = clf.predict(x_train) \n",
    "\n",
    "#precision and recall  \n",
    "#precision, recall, thresholds = precision_recall_curve(y_test, clf.predict(x_test))  \n",
    "    \n",
    "print(classification_report(y_true, y_pred , target_names = ['0','1']))\n",
    "print(\"--------------------\")\n",
    "from sklearn.metrics import accuracy_score\n",
    "print('準確率: %.2f' % accuracy_score(y_true, y_pred))\n",
    "print('準確率: %.2f' % np.mean(y_true == y_pred))#預測值與真實值"
   ]
  },
  {
   "cell_type": "code",
   "execution_count": null,
   "metadata": {},
   "outputs": [],
   "source": []
  }
 ],
 "metadata": {
  "kernelspec": {
   "display_name": "Python 3",
   "language": "python",
   "name": "python3"
  },
  "language_info": {
   "codemirror_mode": {
    "name": "ipython",
    "version": 3
   },
   "file_extension": ".py",
   "mimetype": "text/x-python",
   "name": "python",
   "nbconvert_exporter": "python",
   "pygments_lexer": "ipython3",
   "version": "3.7.6"
  }
 },
 "nbformat": 4,
 "nbformat_minor": 2
}
