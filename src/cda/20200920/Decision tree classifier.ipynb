{
 "cells": [
  {
   "cell_type": "code",
   "execution_count": 1,
   "metadata": {},
   "outputs": [],
   "source": [
    "import codecs\n",
    "import re\n",
    "import numpy as np\n",
    "import os\n",
    "from sklearn import tree\n",
    "from sklearn.feature_extraction.text import CountVectorizer\n",
    "from sklearn.feature_extraction.text import TfidfVectorizer\n",
    "from sklearn.metrics import classification_report\n",
    "from sklearn.model_selection import train_test_split"
   ]
  },
  {
   "cell_type": "code",
   "execution_count": 2,
   "metadata": {},
   "outputs": [
    {
     "name": "stdout",
     "output_type": "stream",
     "text": [
      "旬 老人 孙女 参加 新 农合 无法 报销 药费 华商 报 安康 讯 记者 赵伯平 上 小学 孙女 学校 参加 城镇 居民 医疗 保险 参加 农村 合作医疗 安康市 汉滨区 恒口镇 和平村 老人 胡先元 患病 住院 费用 无法 报销 家人 跑 部门 问题 无法 解决 出院 医疗费 报销 了 家 人 上 小学 女儿 参加 农村 合作医疗 胡先元 儿子 胡登军 说 上 小学 女儿 学校 带 回 通知 称 在校生 参加 城镇 居民 医疗 保险 家里人 要求 交 钱 孩子 办 保险 父亲 胡先元 肠胃 穿 孔 住 进 汉滨区 医院 治疗费 花 出院 家里人 带 手续 去 医院 报销 结果 医院 说 新农合 户口本 人数 参保 如 人 参保 能 报销 医疗费 胡登军 家 记者 恒口 小学 下发 给 家长 告知书 看到 汉滨区 政府 文件 精神 在校 参加 城镇 居民 保险 参加 农 合 胡登军 说 女儿 学校 要求 购买 保险 想到 父亲 医疗费 无法 报销 孙女 参加 城镇 居民 医保 恒口 小学 校长 熊兰功 介绍 甲流 暴发 时 汉滨区 要求 全区 在校生 办理 城镇 居民 医疗 保险 确保 学生 患病 能 得到 保障 全校 多 学生 办理 城镇 居民 医疗 保险 汉滨区 医院 院长 马明宝 说 国家 政策 规定 参加 农村 合作医疗 户 为 单位 参保 人 参保 规定 能 报销 区 合疗办 反映 希望 区 有关 部门 能 牵头 出面 解决 恒口镇 合疗办 主任 李贵清 说 镇上 上级 有关 部门 政策 执行 接到 群众 问题 反映 参合 能 报销 医疗费 保证 参合率 农民 参加 新 农 合 参合 能 报销 医疗费 汉滨区 合疗办 主任 汪富强 说 区 文件 规定 新 农 合 坚持 家庭 为 单位 参加 农村 合作医疗 原则 参加 农村 合作医疗 户口本 确定 人数 为 准 参加 家庭 上 户口 人员 应 缴纳 参合 基金 交 清人 均元 参合 基金 收缴 工作 结束 参保 可能 参合 能 报销 医疗 费用 政策 具体 执行者 胡先元 问题 区 无法 解决 汪富强 说 在校生 参加 城镇 居民 医疗 保险 开始 类似 和平村 胡先元 遇到 问题 全区 显现 估计 月 问题 突出 汪富强 表示 区 合疗办 收集 类似 问题 积极 上级 部门 反映 拿 出 办法 来 解决 卫生部 人保部 协调 时 记者 电话 联系 省 合疗办 电话 无 人 接听 新农合 开始 试点 让 农民 能 享受 到 保障 要求 参合 能 报销 医疗费 记者 电话 采访 卫生部 农村 卫生 管理司 合作医疗 处 姓 温 音 工作 人员 表示 学校 推行 城镇 居民 医疗 保险 卫生部 接到 卫生 部门 反映 类似 问题 卫生部 人力 资源 社会保障部 进行 协调 希望 能 推动 解决 问题 经济 困难 希望 问题 能 解决 胡登军 说 父亲 参加 农村 合作医疗 缴纳 费用 应该 给 报销 相关 费用\n",
      "社會\n"
     ]
    }
   ],
   "source": [
    "## 讀WordProcss.py斷完的結果 ##\n",
    "cwd = os.getcwd()\n",
    "\n",
    "seg_news = list()\n",
    "category = list()\n",
    "\n",
    "with codecs.open(cwd+'/data/seg.csv','r',encoding='utf-8') as seg_file:\n",
    "    for seg in seg_file.readlines():\n",
    "        line = seg.split(',')\n",
    "        seg_news.append(line[0].strip())\n",
    "        category.append(line[1].strip())\n",
    "\n",
    "print(seg_news[109])\n",
    "print(category[109])"
   ]
  },
  {
   "cell_type": "code",
   "execution_count": 4,
   "metadata": {},
   "outputs": [
    {
     "name": "stdout",
     "output_type": "stream",
     "text": [
      "(500, 3000)\n",
      "['一代', '一样', '一线', '一致', '一般', '一角', '丁金华', '万元', '丈夫', '三星']\n",
      "中华 主演 举行 互动 仪式 作为 儿童 全国 关注 出席 出演 加入 参与 周边 呼吁 地区 基金 大使 天下 妈妈 娱乐 媒体 学习 孩子 宣传 家庭 希望 帮助 幸福 开心 快乐 意义 感觉 成立 投入 支持 收获 故事 新浪 新片 方式 机会 正式 活动 演员 电影 登陆 知识 祝福 积极 组织 经历 结束 继续 舒淇 节日 获得 著名 表示 觉得 讲述 进行 院线 食品\n",
      "娛樂\n"
     ]
    }
   ],
   "source": [
    "## 找關鍵字 ##\n",
    "vectorizer = TfidfVectorizer(max_features=3000) #max_features留下的最大特徵數\n",
    "tfidf = vectorizer.fit_transform(seg_news)\n",
    "print(tfidf.shape)\n",
    "\n",
    "words = vectorizer.get_feature_names()\n",
    "print(words[:10])\n",
    "\n",
    "data = list() #留下的詞\n",
    "labels = list() #類別\n",
    "\n",
    "## write keyword file ##\n",
    "with codecs.open(cwd+'/data/keyword.csv','w',encoding='utf-8') as kwd:\n",
    "    kwd.write('\\ufeff')\n",
    "    \n",
    "    for i in range(len(seg_news)):\n",
    "        print('----Document %d----' % (i+1),end='\\r')\n",
    "        \n",
    "        keywords = list()\n",
    "        \n",
    "        for j in range(len(words)):\n",
    "            if tfidf[i,j] > 1e-2: \n",
    "                kwd.write(words[j]+' ')\n",
    "                keywords.append(words[j])\n",
    "                \n",
    "        kwd.write(','+str(category[i])+'\\r')\n",
    "        data.append(' '.join(keywords))\n",
    "        labels.append(category[i])\n",
    "        \n",
    "print(data[0])\n",
    "print(labels[0])"
   ]
  },
  {
   "cell_type": "code",
   "execution_count": 5,
   "metadata": {},
   "outputs": [
    {
     "name": "stdout",
     "output_type": "stream",
     "text": [
      "  (0, 7)\t1\n",
      "  (0, 22)\t1\n",
      "  (0, 40)\t1\n",
      "  (0, 73)\t1\n",
      "  (0, 176)\t1\n",
      "  (0, 201)\t1\n",
      "  (0, 202)\t1\n",
      "  (0, 232)\t1\n",
      "  (0, 233)\t1\n",
      "  (0, 237)\t1\n",
      "  (0, 261)\t1\n",
      "  (0, 272)\t1\n",
      "  (0, 317)\t1\n",
      "  (0, 364)\t1\n",
      "  (0, 365)\t1\n",
      "  (0, 481)\t1\n",
      "  (0, 521)\t1\n",
      "  (0, 559)\t1\n",
      "  (0, 564)\t1\n",
      "  (0, 594)\t1\n",
      "  (0, 626)\t1\n",
      "  (0, 629)\t1\n",
      "  (0, 704)\t1\n",
      "  (0, 752)\t1\n",
      "  (0, 931)\t1\n",
      "  :\t:\n",
      "  (0, 1748)\t1\n",
      "  (0, 1764)\t1\n",
      "  (0, 1802)\t1\n",
      "  (0, 1888)\t1\n",
      "  (0, 1903)\t1\n",
      "  (0, 2066)\t1\n",
      "  (0, 2162)\t1\n",
      "  (0, 2209)\t1\n",
      "  (0, 2212)\t1\n",
      "  (0, 2262)\t1\n",
      "  (0, 2383)\t1\n",
      "  (0, 2420)\t1\n",
      "  (0, 2448)\t1\n",
      "  (0, 2494)\t1\n",
      "  (0, 2504)\t1\n",
      "  (0, 2552)\t1\n",
      "  (0, 2587)\t1\n",
      "  (0, 2662)\t1\n",
      "  (0, 2688)\t1\n",
      "  (0, 2707)\t1\n",
      "  (0, 2718)\t1\n",
      "  (0, 2722)\t1\n",
      "  (0, 2772)\t1\n",
      "  (0, 2807)\t1\n",
      "  (0, 2947)\t1\n",
      "(450, 2982)\n"
     ]
    }
   ],
   "source": [
    "## 將資料分為訓練與測試 ##\n",
    "data = np.array(data)\n",
    "labels = np.array(labels)\n",
    "\n",
    "#test_size測試集比例\n",
    "x_train, x_test, y_train, y_test = train_test_split(data, labels, test_size=0.1, random_state=2019) \n",
    "\n",
    "## 將文本轉為0/1矩陣, 詞出現為1 ##\n",
    "count_vec = CountVectorizer(binary = True)\n",
    "x_train = count_vec.fit_transform(x_train)  \n",
    "x_test  = count_vec.transform(x_test)\n",
    "\n",
    "print(x_train[0])\n",
    "print(x_train.shape)"
   ]
  },
  {
   "cell_type": "code",
   "execution_count": 6,
   "metadata": {
    "scrolled": true
   },
   "outputs": [
    {
     "data": {
      "text/plain": [
       "DecisionTreeClassifier(max_depth=10, random_state=2020)"
      ]
     },
     "execution_count": 6,
     "metadata": {},
     "output_type": "execute_result"
    }
   ],
   "source": [
    "## start training and precision ##\n",
    "clf=tree.DecisionTreeClassifier(max_depth=10, random_state=2020)\n",
    "clf.fit(x_train, y_train)"
   ]
  },
  {
   "cell_type": "code",
   "execution_count": 7,
   "metadata": {},
   "outputs": [],
   "source": [
    "import os\n",
    "os.environ[\"PATH\"] += os.pathsep + 'C:/Users/leeys/Anaconda3/Library/bin/graphviz'"
   ]
  },
  {
   "cell_type": "code",
   "execution_count": 8,
   "metadata": {},
   "outputs": [
    {
     "data": {
      "text/plain": [
       "'C:\\\\Users\\\\leeys\\\\Desktop\\\\workspace\\\\文本分析/data\\\\tree.svg'"
      ]
     },
     "execution_count": 8,
     "metadata": {},
     "output_type": "execute_result"
    }
   ],
   "source": [
    "# draw tree  ##\n",
    "import graphviz \n",
    "dot_data = tree.export_graphviz(clf, out_file=None, feature_names=count_vec.get_feature_names(),)\n",
    "graph = graphviz.Source(dot_data) \n",
    "\n",
    "graph.format = 'svg'\n",
    "graph.render(cwd+\"/data/tree\" ,view=True)"
   ]
  },
  {
   "cell_type": "code",
   "execution_count": 9,
   "metadata": {
    "scrolled": true
   },
   "outputs": [
    {
     "name": "stdout",
     "output_type": "stream",
     "text": [
      "['娛樂' '遊戲' '娛樂' '財金' '娛樂' '體育' '社會' '財金' '社會' '社會']\n",
      "['娛樂' '遊戲' '娛樂' '財金' '娛樂' '體育' '娛樂' '財金' '社會' '娛樂']\n",
      "[[11  2  0  0  0]\n",
      " [ 0  8  0  0  0]\n",
      " [ 0  3 12  0  0]\n",
      " [ 0  0  0  4  0]\n",
      " [ 0  1  0  1  8]]\n"
     ]
    }
   ],
   "source": [
    "y_true = y_test\n",
    "y_pred = clf.predict(x_test)\n",
    "\n",
    "print(y_pred[:10])\n",
    "print(y_true[:10])\n",
    "\n",
    "from sklearn.metrics import confusion_matrix\n",
    "print(confusion_matrix(y_true, y_pred, labels = ['娛樂','社會','財金','遊戲','體育']))"
   ]
  },
  {
   "cell_type": "code",
   "execution_count": 39,
   "metadata": {},
   "outputs": [
    {
     "name": "stdout",
     "output_type": "stream",
     "text": [
      "              precision    recall  f1-score   support\n",
      "\n",
      "          娛樂       1.00      0.85      0.92        13\n",
      "          社會       0.62      1.00      0.76         8\n",
      "          財金       1.00      0.87      0.93        15\n",
      "          遊戲       0.80      1.00      0.89         4\n",
      "          體育       1.00      0.80      0.89        10\n",
      "\n",
      "    accuracy                           0.88        50\n",
      "   macro avg       0.88      0.90      0.88        50\n",
      "weighted avg       0.92      0.88      0.89        50\n",
      "\n",
      "--------------------\n",
      "準確率: 0.88\n",
      "準確率: 0.88\n"
     ]
    }
   ],
   "source": [
    "#precision and recall  \n",
    "#precision, recall, thresholds = precision_recall_curve(y_test, clf.predict(x_test))  \n",
    "    \n",
    "print(classification_report(y_true, y_pred , target_names = ['娛樂','社會','財金','遊戲','體育']))\n",
    "print(\"--------------------\")\n",
    "from sklearn.metrics import accuracy_score\n",
    "print('準確率: %.2f' % accuracy_score(y_true, y_pred))\n",
    "print('準確率: %.2f' % np.mean(y_true == y_pred))#預測值與真實值"
   ]
  },
  {
   "cell_type": "code",
   "execution_count": 40,
   "metadata": {},
   "outputs": [
    {
     "name": "stdout",
     "output_type": "stream",
     "text": [
      "              precision    recall  f1-score   support\n",
      "\n",
      "          娛樂       0.99      1.00      0.99        87\n",
      "          社會       0.92      1.00      0.96        92\n",
      "          財金       1.00      1.00      1.00        85\n",
      "          遊戲       1.00      0.98      0.99        96\n",
      "          體育       1.00      0.92      0.96        90\n",
      "\n",
      "    accuracy                           0.98       450\n",
      "   macro avg       0.98      0.98      0.98       450\n",
      "weighted avg       0.98      0.98      0.98       450\n",
      "\n",
      "--------------------\n",
      "準確率: 0.98\n",
      "準確率: 0.98\n"
     ]
    }
   ],
   "source": [
    "y_true = y_train\n",
    "y_pred = clf.predict(x_train) \n",
    "\n",
    "#precision and recall  \n",
    "#precision, recall, thresholds = precision_recall_curve(y_test, clf.predict(x_test))  \n",
    "    \n",
    "print(classification_report(y_true, y_pred , target_names = ['娛樂','社會','財金','遊戲','體育']))\n",
    "print(\"--------------------\")\n",
    "from sklearn.metrics import accuracy_score\n",
    "print('準確率: %.2f' % accuracy_score(y_true, y_pred))\n",
    "print('準確率: %.2f' % np.mean(y_true == y_pred))#預測值與真實值"
   ]
  },
  {
   "cell_type": "code",
   "execution_count": null,
   "metadata": {},
   "outputs": [],
   "source": []
  }
 ],
 "metadata": {
  "kernelspec": {
   "display_name": "Python 3",
   "language": "python",
   "name": "python3"
  },
  "language_info": {
   "codemirror_mode": {
    "name": "ipython",
    "version": 3
   },
   "file_extension": ".py",
   "mimetype": "text/x-python",
   "name": "python",
   "nbconvert_exporter": "python",
   "pygments_lexer": "ipython3",
   "version": "3.7.6"
  }
 },
 "nbformat": 4,
 "nbformat_minor": 2
}
