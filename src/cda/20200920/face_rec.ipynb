{
 "cells": [
  {
   "cell_type": "code",
   "execution_count": 3,
   "metadata": {},
   "outputs": [],
   "source": [
    "import face_recognition as fr\n",
    "from PIL import Image, ImageDraw, ImageFont\n",
    "import pickle"
   ]
  },
  {
   "cell_type": "code",
   "execution_count": 4,
   "metadata": {},
   "outputs": [],
   "source": [
    "dataset_file = 'dataset/staff.dat'             # 請自行修改路徑\n",
    "font_file = \"font/NotoSansCJKtc-Regular.otf\"   # 請自行修改路徑\n",
    "_font = ImageFont.truetype(font_file, 15) "
   ]
  },
  {
   "cell_type": "code",
   "execution_count": 5,
   "metadata": {},
   "outputs": [
    {
     "name": "stdout",
     "output_type": "stream",
     "text": [
      "['成龍', '李連杰', '章子怡', '李御玺', '大魔頭']\n"
     ]
    }
   ],
   "source": [
    "with open(dataset_file, 'rb') as f:\n",
    "    d = pickle.load(f)\n",
    "    face_names = d['name']\n",
    "    face_encodings = d['encode']\n",
    "print(face_names)"
   ]
  },
  {
   "cell_type": "code",
   "execution_count": 4,
   "metadata": {},
   "outputs": [],
   "source": [
    "photo = fr.load_image_file(\"pict/李成.jpg\")  # 請自行修改路徑\n",
    "\n",
    "pil_img = Image.fromarray(photo)\n",
    "pil_img.show()\n",
    "\n",
    "people_locs = fr.face_locations(photo)\n",
    "\n",
    "for loc in people_locs:\n",
    "    top, right, bottom, left = loc\n",
    "    draw = ImageDraw.Draw(pil_img)\n",
    "    draw.rectangle([left, top, right, bottom], outline=(\"red\"))\n",
    "    \n",
    "pil_img.show()"
   ]
  },
  {
   "cell_type": "code",
   "execution_count": 7,
   "metadata": {},
   "outputs": [],
   "source": [
    "people_encs = fr.face_encodings(photo, people_locs)\n",
    "\n",
    "draw = ImageDraw.Draw(pil_img)\n",
    "\n",
    "for (top, right, bottom, left), encoding in zip(people_locs, people_encs):\n",
    "    matches = fr.compare_faces(face_encodings, encoding, tolerance=0.62)\n",
    "    \n",
    "    name = \"路人甲\"\n",
    "\n",
    "    if True in matches:\n",
    "        first_match_index = matches.index(True)\n",
    "        name = face_names[first_match_index]\n",
    "\n",
    "    draw.rectangle(((left, top), (right, bottom)), outline='blue')  # (0, 0, 255)\n",
    "    txt_w, txt_h = draw.textsize(name, font=_font)\n",
    "    draw.rectangle(((left, bottom + txt_h + 10), (right, bottom)), fill='blue', outline='blue')\n",
    "    draw.text((left + 8, bottom + 5), name, fill='white', font=_font) # (255, 255, 255, 255)\n",
    "\n",
    "del draw\n",
    "\n",
    "pil_img.show()"
   ]
  },
  {
   "cell_type": "code",
   "execution_count": null,
   "metadata": {},
   "outputs": [],
   "source": []
  }
 ],
 "metadata": {
  "kernelspec": {
   "display_name": "Python 3",
   "language": "python",
   "name": "python3"
  },
  "language_info": {
   "codemirror_mode": {
    "name": "ipython",
    "version": 3
   },
   "file_extension": ".py",
   "mimetype": "text/x-python",
   "name": "python",
   "nbconvert_exporter": "python",
   "pygments_lexer": "ipython3",
   "version": "3.7.6"
  }
 },
 "nbformat": 4,
 "nbformat_minor": 2
}
