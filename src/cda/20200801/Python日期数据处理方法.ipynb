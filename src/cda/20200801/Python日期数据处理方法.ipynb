{
 "cells": [
  {
   "cell_type": "code",
   "execution_count": 4,
   "metadata": {},
   "outputs": [],
   "source": [
    "#导入相关库\n",
    "import pandas as pd\n",
    "import numpy as np\n",
    "import time\n",
    "import datetime\n",
    "import matplotlib.pyplot as plt\n",
    "\n",
    "# 解决坐标轴刻度负号乱码\n",
    "plt.rcParams['axes.unicode_minus'] = False\n",
    "\n",
    "# 解决中文乱码问题\n",
    "plt.rcParams['font.sans-serif'] = ['Simhei']"
   ]
  },
  {
   "cell_type": "markdown",
   "metadata": {},
   "source": [
    "在计算机中，时间实际上是用数字表示的。  \n",
    "我们把1970年1月1日 00:00:00 UTC+00:00时区的时刻称为epoch time(纪元)，记为0（1970年以前的时间timestamp为负数），当前时间就是相对于epoch time的秒数，称为timestamp。   \n",
    "timestamp的值与时区毫无关系，因为timestamp一旦确定，其UTC时间就确定了，转换到任意时区的时间也是完全确定的，这就是为什么计算机存储的当前时间是以timestamp表示的，因为全球各地的计算机在任意时刻的timestamp都是完全相同的（假定时间已校准）。    \n"
   ]
  },
  {
   "cell_type": "markdown",
   "metadata": {},
   "source": [
    "|类型|描述|\n",
    "|----------------|-----------------|\n",
    "|%Y|四位的年份|\n",
    "|%y|两位的年份|\n",
    "|%m|两位的月份|\n",
    "|%d|两位的日期号|\n",
    "|%H|小时，24小时制00-23|\n",
    "|%I|小时，12小时制01-12|\n",
    "|%M|两位的分钟00-59|\n",
    "|%S|秒00-61，其中60,61是闰秒|\n",
    "|%w|星期日期0-6，其中0表示星期日|\n",
    "|%U|一年中的星期数00-53。以星期天为每周第一天，一年中第一个星期天前的日期作为第“0”周|\n",
    "|%W|一年中的星期数00-53。以星期一为每周第一天，一年中第一个星期一前的日期作为第“0”周|\n",
    "|%z|格式为+HHMM或者-HHMM的UTC时区偏移；如果没有时区则为空。|\n",
    "|%F|%Y-%m-%d的简写|\n",
    "|%D|%m/%d/%y的简写|\n"
   ]
  },
  {
   "cell_type": "markdown",
   "metadata": {},
   "source": [
    "# 时间戳Timestamp对象的生成"
   ]
  },
  {
   "cell_type": "markdown",
   "metadata": {},
   "source": [
    "## pd.Timestamp"
   ]
  },
  {
   "cell_type": "code",
   "execution_count": 106,
   "metadata": {},
   "outputs": [
    {
     "data": {
      "text/plain": [
       "Timestamp('1975-03-24 17:17:41')"
      ]
     },
     "execution_count": 106,
     "metadata": {},
     "output_type": "execute_result"
    }
   ],
   "source": [
    "pd.Timestamp(164913461,unit='s')"
   ]
  },
  {
   "cell_type": "code",
   "execution_count": 2,
   "metadata": {},
   "outputs": [
    {
     "data": {
      "text/plain": [
       "Timestamp('2019-12-12 00:00:00')"
      ]
     },
     "execution_count": 2,
     "metadata": {},
     "output_type": "execute_result"
    }
   ],
   "source": [
    "pd.Timestamp(\"2019-12-12\")"
   ]
  },
  {
   "cell_type": "code",
   "execution_count": 4,
   "metadata": {},
   "outputs": [
    {
     "data": {
      "text/plain": [
       "Timestamp('2019-12-12 00:00:00')"
      ]
     },
     "execution_count": 4,
     "metadata": {},
     "output_type": "execute_result"
    }
   ],
   "source": [
    "pd.Timestamp(\"2019/12/12\")"
   ]
  },
  {
   "cell_type": "code",
   "execution_count": 5,
   "metadata": {},
   "outputs": [
    {
     "data": {
      "text/plain": [
       "Timestamp('2019-12-12 00:00:00')"
      ]
     },
     "execution_count": 5,
     "metadata": {},
     "output_type": "execute_result"
    }
   ],
   "source": [
    "pd.Timestamp(2019,12,12)"
   ]
  },
  {
   "cell_type": "code",
   "execution_count": 6,
   "metadata": {},
   "outputs": [
    {
     "data": {
      "text/plain": [
       "Timestamp('2019-12-12 00:00:00')"
      ]
     },
     "execution_count": 6,
     "metadata": {},
     "output_type": "execute_result"
    }
   ],
   "source": [
    " pd.Timestamp(year=2019, month=12, day=12, hour=0,minute=0,second=0)"
   ]
  },
  {
   "cell_type": "markdown",
   "metadata": {},
   "source": [
    "如果是一个日期序列的话，也可以处理吗？"
   ]
  },
  {
   "cell_type": "code",
   "execution_count": 13,
   "metadata": {},
   "outputs": [
    {
     "data": {
      "text/plain": [
       "0   2019-12-10\n",
       "1   2019-12-11\n",
       "2   2019-12-12\n",
       "dtype: datetime64[ns]"
      ]
     },
     "execution_count": 13,
     "metadata": {},
     "output_type": "execute_result"
    }
   ],
   "source": [
    "mydate=pd.Series([\"2019/12/10\",\"2019/12/11\",\"2019/12/12\"])\n",
    "\n",
    "pd.to_datetime(mydate)"
   ]
  },
  {
   "cell_type": "code",
   "execution_count": 16,
   "metadata": {},
   "outputs": [
    {
     "data": {
      "text/plain": [
       "0   2019-12-10\n",
       "1   2019-12-11\n",
       "2   2019-12-12\n",
       "dtype: datetime64[ns]"
      ]
     },
     "execution_count": 16,
     "metadata": {},
     "output_type": "execute_result"
    }
   ],
   "source": [
    "mydate=pd.Series([\"2019-12-10\",\"2019/12/11\",\"2019/12/12\"])\n",
    "\n",
    "pd.to_datetime(mydate)"
   ]
  },
  {
   "cell_type": "markdown",
   "metadata": {},
   "source": [
    "## pd.to_datetime"
   ]
  },
  {
   "cell_type": "code",
   "execution_count": 18,
   "metadata": {},
   "outputs": [
    {
     "data": {
      "text/plain": [
       "Timestamp('2019-12-12 00:00:00')"
      ]
     },
     "execution_count": 18,
     "metadata": {},
     "output_type": "execute_result"
    }
   ],
   "source": [
    "pd.to_datetime(\"2019*12*12\",format=\"%Y*%m*%d\")\n",
    "#errors有raise,ignore,coerce"
   ]
  },
  {
   "cell_type": "code",
   "execution_count": 8,
   "metadata": {},
   "outputs": [
    {
     "data": {
      "text/plain": [
       "Timestamp('2019-12-12 00:00:00')"
      ]
     },
     "execution_count": 8,
     "metadata": {},
     "output_type": "execute_result"
    }
   ],
   "source": [
    "pd.to_datetime(\"2019/12/12\",format=\"%Y/%m/%d\")\n",
    "#errors有raise,ignore,coerce"
   ]
  },
  {
   "cell_type": "code",
   "execution_count": null,
   "metadata": {},
   "outputs": [],
   "source": []
  },
  {
   "cell_type": "markdown",
   "metadata": {},
   "source": [
    "## pd.date_range"
   ]
  },
  {
   "cell_type": "code",
   "execution_count": 20,
   "metadata": {},
   "outputs": [
    {
     "data": {
      "text/plain": [
       "DatetimeIndex(['2011-01-20', '2011-01-21', '2011-01-22', '2011-01-23',\n",
       "               '2011-01-24', '2011-01-25', '2011-01-26', '2011-01-27'],\n",
       "              dtype='datetime64[ns]', freq='D')"
      ]
     },
     "execution_count": 20,
     "metadata": {},
     "output_type": "execute_result"
    }
   ],
   "source": [
    "s1=pd.date_range('2011-1-20',  freq='D',periods=8) \n",
    "s1"
   ]
  },
  {
   "cell_type": "code",
   "execution_count": 21,
   "metadata": {},
   "outputs": [
    {
     "data": {
      "text/plain": [
       "Timestamp('2011-01-20 00:00:00', freq='D')"
      ]
     },
     "execution_count": 21,
     "metadata": {},
     "output_type": "execute_result"
    }
   ],
   "source": [
    "s1[0]"
   ]
  },
  {
   "cell_type": "code",
   "execution_count": 22,
   "metadata": {},
   "outputs": [
    {
     "data": {
      "text/plain": [
       "DatetimeIndex(['2011-01-20', '2011-01-21', '2011-01-22', '2011-01-23',\n",
       "               '2011-01-24', '2011-01-25', '2011-01-26', '2011-01-27',\n",
       "               '2011-01-28', '2011-01-29', '2011-01-30'],\n",
       "              dtype='datetime64[ns]', freq='D')"
      ]
     },
     "execution_count": 22,
     "metadata": {},
     "output_type": "execute_result"
    }
   ],
   "source": [
    "s1=pd.date_range('2011-1-20',  '2011-1-30',freq='D') \n",
    "s1"
   ]
  },
  {
   "cell_type": "markdown",
   "metadata": {},
   "source": [
    "# 日期数据转化"
   ]
  },
  {
   "cell_type": "code",
   "execution_count": 23,
   "metadata": {},
   "outputs": [
    {
     "data": {
      "text/html": [
       "<div>\n",
       "<style scoped>\n",
       "    .dataframe tbody tr th:only-of-type {\n",
       "        vertical-align: middle;\n",
       "    }\n",
       "\n",
       "    .dataframe tbody tr th {\n",
       "        vertical-align: top;\n",
       "    }\n",
       "\n",
       "    .dataframe thead th {\n",
       "        text-align: right;\n",
       "    }\n",
       "</style>\n",
       "<table border=\"1\" class=\"dataframe\">\n",
       "  <thead>\n",
       "    <tr style=\"text-align: right;\">\n",
       "      <th></th>\n",
       "      <th>日期</th>\n",
       "      <th>收盘价</th>\n",
       "      <th>最高价</th>\n",
       "      <th>最低价</th>\n",
       "      <th>开盘价</th>\n",
       "      <th>涨跌额</th>\n",
       "      <th>涨跌幅</th>\n",
       "      <th>成交量</th>\n",
       "      <th>成交额</th>\n",
       "    </tr>\n",
       "  </thead>\n",
       "  <tbody>\n",
       "    <tr>\n",
       "      <td>0</td>\n",
       "      <td>2017-09-14</td>\n",
       "      <td>3371.4256</td>\n",
       "      <td>3391.6435</td>\n",
       "      <td>3361.3335</td>\n",
       "      <td>3383.4700</td>\n",
       "      <td>-12.7214</td>\n",
       "      <td>-0.3759</td>\n",
       "      <td>221306487</td>\n",
       "      <td>256744421274</td>\n",
       "    </tr>\n",
       "    <tr>\n",
       "      <td>1</td>\n",
       "      <td>2017-09-13</td>\n",
       "      <td>3384.1470</td>\n",
       "      <td>3387.1397</td>\n",
       "      <td>3366.5412</td>\n",
       "      <td>3374.7185</td>\n",
       "      <td>4.659</td>\n",
       "      <td>0.1379</td>\n",
       "      <td>194550715</td>\n",
       "      <td>230733408867</td>\n",
       "    </tr>\n",
       "    <tr>\n",
       "      <td>2</td>\n",
       "      <td>2017-09-12</td>\n",
       "      <td>3379.4880</td>\n",
       "      <td>3391.0694</td>\n",
       "      <td>3370.8519</td>\n",
       "      <td>3381.4870</td>\n",
       "      <td>3.0692</td>\n",
       "      <td>0.0909</td>\n",
       "      <td>272910319</td>\n",
       "      <td>325024951982</td>\n",
       "    </tr>\n",
       "    <tr>\n",
       "      <td>3</td>\n",
       "      <td>2017-09-11</td>\n",
       "      <td>3376.4188</td>\n",
       "      <td>3384.8100</td>\n",
       "      <td>3360.0462</td>\n",
       "      <td>3365.3506</td>\n",
       "      <td>11.1762</td>\n",
       "      <td>0.3321</td>\n",
       "      <td>219011019</td>\n",
       "      <td>256888810547</td>\n",
       "    </tr>\n",
       "    <tr>\n",
       "      <td>4</td>\n",
       "      <td>2017-09-08</td>\n",
       "      <td>3365.2426</td>\n",
       "      <td>3380.8898</td>\n",
       "      <td>3353.6876</td>\n",
       "      <td>3364.4275</td>\n",
       "      <td>-0.2548</td>\n",
       "      <td>-0.0076</td>\n",
       "      <td>198405184</td>\n",
       "      <td>235160227356</td>\n",
       "    </tr>\n",
       "  </tbody>\n",
       "</table>\n",
       "</div>"
      ],
      "text/plain": [
       "          日期        收盘价        最高价        最低价        开盘价      涨跌额     涨跌幅  \\\n",
       "0 2017-09-14  3371.4256  3391.6435  3361.3335  3383.4700 -12.7214 -0.3759   \n",
       "1 2017-09-13  3384.1470  3387.1397  3366.5412  3374.7185    4.659  0.1379   \n",
       "2 2017-09-12  3379.4880  3391.0694  3370.8519  3381.4870   3.0692  0.0909   \n",
       "3 2017-09-11  3376.4188  3384.8100  3360.0462  3365.3506  11.1762  0.3321   \n",
       "4 2017-09-08  3365.2426  3380.8898  3353.6876  3364.4275  -0.2548 -0.0076   \n",
       "\n",
       "         成交量           成交额  \n",
       "0  221306487  256744421274  \n",
       "1  194550715  230733408867  \n",
       "2  272910319  325024951982  \n",
       "3  219011019  256888810547  \n",
       "4  198405184  235160227356  "
      ]
     },
     "execution_count": 23,
     "metadata": {},
     "output_type": "execute_result"
    }
   ],
   "source": [
    "raw_data=pd.read_excel(\"上证指数收盘价历史数据(1990-2017.9).xlsx\",header=0)\n",
    "raw_data.head()"
   ]
  },
  {
   "cell_type": "code",
   "execution_count": 20,
   "metadata": {},
   "outputs": [
    {
     "name": "stdout",
     "output_type": "stream",
     "text": [
      "<class 'pandas.core.frame.DataFrame'>\n",
      "RangeIndex: 6542 entries, 0 to 6541\n",
      "Data columns (total 9 columns):\n",
      "日期     6542 non-null datetime64[ns]\n",
      "收盘价    6542 non-null float64\n",
      "最高价    6542 non-null float64\n",
      "最低价    6542 non-null float64\n",
      "开盘价    6542 non-null float64\n",
      "涨跌额    6542 non-null object\n",
      "涨跌幅    6542 non-null object\n",
      "成交量    6542 non-null int64\n",
      "成交额    6542 non-null object\n",
      "dtypes: datetime64[ns](1), float64(4), int64(1), object(3)\n",
      "memory usage: 460.1+ KB\n"
     ]
    }
   ],
   "source": [
    "raw_data.info()"
   ]
  },
  {
   "cell_type": "markdown",
   "metadata": {},
   "source": [
    "如果日期字段不是datetime格式的呢？比如object格式？该如何转化为datetime格式？"
   ]
  },
  {
   "cell_type": "code",
   "execution_count": 26,
   "metadata": {},
   "outputs": [
    {
     "data": {
      "text/plain": [
       "0       2017-09-14\n",
       "1       2017-09-13\n",
       "2       2017-09-12\n",
       "3       2017-09-11\n",
       "4       2017-09-08\n",
       "           ...    \n",
       "6537    1990-12-25\n",
       "6538    1990-12-24\n",
       "6539    1990-12-21\n",
       "6540    1990-12-20\n",
       "6541    1990-12-19\n",
       "Name: 日期, Length: 6542, dtype: object"
      ]
     },
     "execution_count": 26,
     "metadata": {},
     "output_type": "execute_result"
    }
   ],
   "source": [
    "date=raw_data.日期.astype(str)\n",
    "date"
   ]
  },
  {
   "cell_type": "code",
   "execution_count": 27,
   "metadata": {},
   "outputs": [
    {
     "data": {
      "text/plain": [
       "0      2017-09-14\n",
       "1      2017-09-13\n",
       "2      2017-09-12\n",
       "3      2017-09-11\n",
       "4      2017-09-08\n",
       "          ...    \n",
       "6537   1990-12-25\n",
       "6538   1990-12-24\n",
       "6539   1990-12-21\n",
       "6540   1990-12-20\n",
       "6541   1990-12-19\n",
       "Name: 日期, Length: 6542, dtype: datetime64[ns]"
      ]
     },
     "execution_count": 27,
     "metadata": {},
     "output_type": "execute_result"
    }
   ],
   "source": [
    "pd.to_datetime(date)"
   ]
  },
  {
   "cell_type": "code",
   "execution_count": 36,
   "metadata": {},
   "outputs": [
    {
     "data": {
      "text/plain": [
       "0       2017-09-14\n",
       "1       2017-09-13\n",
       "2       2017-09-12\n",
       "3       2017-09-11\n",
       "4       2017-09-08\n",
       "           ...    \n",
       "6537    1990-12-25\n",
       "6538    1990-12-24\n",
       "6539    1990-12-21\n",
       "6540    1990-12-20\n",
       "6541    1990-12-19\n",
       "Name: 日期, Length: 6542, dtype: object"
      ]
     },
     "execution_count": 36,
     "metadata": {},
     "output_type": "execute_result"
    }
   ],
   "source": [
    "date"
   ]
  },
  {
   "cell_type": "markdown",
   "metadata": {},
   "source": [
    "##  转化为指定格式.dt.strftime()"
   ]
  },
  {
   "cell_type": "code",
   "execution_count": 38,
   "metadata": {},
   "outputs": [
    {
     "data": {
      "text/plain": [
       "0       2017/09/14\n",
       "1       2017/09/13\n",
       "2       2017/09/12\n",
       "3       2017/09/11\n",
       "4       2017/09/08\n",
       "           ...    \n",
       "6537    1990/12/25\n",
       "6538    1990/12/24\n",
       "6539    1990/12/21\n",
       "6540    1990/12/20\n",
       "6541    1990/12/19\n",
       "Name: 日期, Length: 6542, dtype: object"
      ]
     },
     "execution_count": 38,
     "metadata": {},
     "output_type": "execute_result"
    }
   ],
   "source": [
    "raw_data.日期.dt.strftime('%Y/%m/%d')"
   ]
  },
  {
   "cell_type": "code",
   "execution_count": 39,
   "metadata": {},
   "outputs": [
    {
     "data": {
      "text/plain": [
       "0       2017/09/14\n",
       "1       2017/09/13\n",
       "2       2017/09/12\n",
       "3       2017/09/11\n",
       "4       2017/09/08\n",
       "           ...    \n",
       "6537    1990/12/25\n",
       "6538    1990/12/24\n",
       "6539    1990/12/21\n",
       "6540    1990/12/20\n",
       "6541    1990/12/19\n",
       "Name: 日期, Length: 6542, dtype: object"
      ]
     },
     "execution_count": 39,
     "metadata": {},
     "output_type": "execute_result"
    }
   ],
   "source": [
    "raw_data.日期.dt.strftime(\"%Y/%m/%d\")"
   ]
  },
  {
   "cell_type": "code",
   "execution_count": 43,
   "metadata": {},
   "outputs": [
    {
     "data": {
      "text/plain": [
       "0       2017\n",
       "1       2017\n",
       "2       2017\n",
       "3       2017\n",
       "4       2017\n",
       "        ... \n",
       "6537    1990\n",
       "6538    1990\n",
       "6539    1990\n",
       "6540    1990\n",
       "6541    1990\n",
       "Name: 日期, Length: 6542, dtype: object"
      ]
     },
     "execution_count": 43,
     "metadata": {},
     "output_type": "execute_result"
    }
   ],
   "source": [
    "raw_data.日期.dt.strftime(\"%Y\")"
   ]
  },
  {
   "cell_type": "markdown",
   "metadata": {},
   "source": [
    "## 提取时间元素"
   ]
  },
  {
   "cell_type": "code",
   "execution_count": 44,
   "metadata": {},
   "outputs": [
    {
     "data": {
      "text/plain": [
       "0       2017\n",
       "1       2017\n",
       "2       2017\n",
       "3       2017\n",
       "4       2017\n",
       "        ... \n",
       "6537    1990\n",
       "6538    1990\n",
       "6539    1990\n",
       "6540    1990\n",
       "6541    1990\n",
       "Name: 日期, Length: 6542, dtype: int64"
      ]
     },
     "execution_count": 44,
     "metadata": {},
     "output_type": "execute_result"
    }
   ],
   "source": [
    "raw_data.日期.dt.year #把年调出来是一个int类型"
   ]
  },
  {
   "cell_type": "code",
   "execution_count": 45,
   "metadata": {},
   "outputs": [
    {
     "data": {
      "text/plain": [
       "0        9\n",
       "1        9\n",
       "2        9\n",
       "3        9\n",
       "4        9\n",
       "        ..\n",
       "6537    12\n",
       "6538    12\n",
       "6539    12\n",
       "6540    12\n",
       "6541    12\n",
       "Name: 日期, Length: 6542, dtype: int64"
      ]
     },
     "execution_count": 45,
     "metadata": {},
     "output_type": "execute_result"
    }
   ],
   "source": [
    "raw_data.日期.dt.month #把月调出来是一个int类型"
   ]
  },
  {
   "cell_type": "code",
   "execution_count": 46,
   "metadata": {},
   "outputs": [
    {
     "data": {
      "text/plain": [
       "0       14\n",
       "1       13\n",
       "2       12\n",
       "3       11\n",
       "4        8\n",
       "        ..\n",
       "6537    25\n",
       "6538    24\n",
       "6539    21\n",
       "6540    20\n",
       "6541    19\n",
       "Name: 日期, Length: 6542, dtype: int64"
      ]
     },
     "execution_count": 46,
     "metadata": {},
     "output_type": "execute_result"
    }
   ],
   "source": [
    "raw_data.日期.dt.day #把日调出来是一个int类型"
   ]
  },
  {
   "cell_type": "code",
   "execution_count": 48,
   "metadata": {},
   "outputs": [
    {
     "data": {
      "text/plain": [
       "0       2017-09-14\n",
       "1       2017-09-13\n",
       "2       2017-09-12\n",
       "3       2017-09-11\n",
       "4       2017-09-08\n",
       "           ...    \n",
       "6537    1990-12-25\n",
       "6538    1990-12-24\n",
       "6539    1990-12-21\n",
       "6540    1990-12-20\n",
       "6541    1990-12-19\n",
       "Name: 日期, Length: 6542, dtype: object"
      ]
     },
     "execution_count": 48,
     "metadata": {},
     "output_type": "execute_result"
    }
   ],
   "source": [
    "raw_data.日期.dt.date #把日期调出来,是一个object类型"
   ]
  },
  {
   "cell_type": "code",
   "execution_count": 26,
   "metadata": {},
   "outputs": [
    {
     "data": {
      "text/plain": [
       "0       00:00:00\n",
       "1       00:00:00\n",
       "2       00:00:00\n",
       "3       00:00:00\n",
       "4       00:00:00\n",
       "          ...   \n",
       "6537    00:00:00\n",
       "6538    00:00:00\n",
       "6539    00:00:00\n",
       "6540    00:00:00\n",
       "6541    00:00:00\n",
       "Name: 日期, Length: 6542, dtype: object"
      ]
     },
     "execution_count": 26,
     "metadata": {},
     "output_type": "execute_result"
    }
   ],
   "source": [
    "data.日期.dt.time #把时间调出来,是一个object类型"
   ]
  },
  {
   "cell_type": "markdown",
   "metadata": {},
   "source": [
    "注意，上面提取的Series，都是object类型，要转化为datatime类型，还是需要用to_datetime方法。"
   ]
  },
  {
   "cell_type": "markdown",
   "metadata": {},
   "source": [
    "# 日期索引对象DatetimeIndex"
   ]
  },
  {
   "cell_type": "markdown",
   "metadata": {},
   "source": [
    "DatetimeIndex 的主要作用是之一是用作 Pandas 对象的索引，使用它作为索引除了拥有普通索引对象的所有基本功能外，还拥有简化频率处理的高级时间序列方法。"
   ]
  },
  {
   "cell_type": "code",
   "execution_count": 54,
   "metadata": {},
   "outputs": [],
   "source": [
    "data=raw_data.copy()"
   ]
  },
  {
   "cell_type": "code",
   "execution_count": 55,
   "metadata": {},
   "outputs": [
    {
     "data": {
      "text/html": [
       "<div>\n",
       "<style scoped>\n",
       "    .dataframe tbody tr th:only-of-type {\n",
       "        vertical-align: middle;\n",
       "    }\n",
       "\n",
       "    .dataframe tbody tr th {\n",
       "        vertical-align: top;\n",
       "    }\n",
       "\n",
       "    .dataframe thead th {\n",
       "        text-align: right;\n",
       "    }\n",
       "</style>\n",
       "<table border=\"1\" class=\"dataframe\">\n",
       "  <thead>\n",
       "    <tr style=\"text-align: right;\">\n",
       "      <th></th>\n",
       "      <th>日期</th>\n",
       "      <th>收盘价</th>\n",
       "      <th>最高价</th>\n",
       "      <th>最低价</th>\n",
       "      <th>开盘价</th>\n",
       "      <th>涨跌额</th>\n",
       "      <th>涨跌幅</th>\n",
       "      <th>成交量</th>\n",
       "      <th>成交额</th>\n",
       "    </tr>\n",
       "  </thead>\n",
       "  <tbody>\n",
       "    <tr>\n",
       "      <td>0</td>\n",
       "      <td>2017-09-14</td>\n",
       "      <td>3371.4256</td>\n",
       "      <td>3391.6435</td>\n",
       "      <td>3361.3335</td>\n",
       "      <td>3383.4700</td>\n",
       "      <td>-12.7214</td>\n",
       "      <td>-0.3759</td>\n",
       "      <td>221306487</td>\n",
       "      <td>256744421274</td>\n",
       "    </tr>\n",
       "    <tr>\n",
       "      <td>1</td>\n",
       "      <td>2017-09-13</td>\n",
       "      <td>3384.1470</td>\n",
       "      <td>3387.1397</td>\n",
       "      <td>3366.5412</td>\n",
       "      <td>3374.7185</td>\n",
       "      <td>4.659</td>\n",
       "      <td>0.1379</td>\n",
       "      <td>194550715</td>\n",
       "      <td>230733408867</td>\n",
       "    </tr>\n",
       "    <tr>\n",
       "      <td>2</td>\n",
       "      <td>2017-09-12</td>\n",
       "      <td>3379.4880</td>\n",
       "      <td>3391.0694</td>\n",
       "      <td>3370.8519</td>\n",
       "      <td>3381.4870</td>\n",
       "      <td>3.0692</td>\n",
       "      <td>0.0909</td>\n",
       "      <td>272910319</td>\n",
       "      <td>325024951982</td>\n",
       "    </tr>\n",
       "    <tr>\n",
       "      <td>3</td>\n",
       "      <td>2017-09-11</td>\n",
       "      <td>3376.4188</td>\n",
       "      <td>3384.8100</td>\n",
       "      <td>3360.0462</td>\n",
       "      <td>3365.3506</td>\n",
       "      <td>11.1762</td>\n",
       "      <td>0.3321</td>\n",
       "      <td>219011019</td>\n",
       "      <td>256888810547</td>\n",
       "    </tr>\n",
       "    <tr>\n",
       "      <td>4</td>\n",
       "      <td>2017-09-08</td>\n",
       "      <td>3365.2426</td>\n",
       "      <td>3380.8898</td>\n",
       "      <td>3353.6876</td>\n",
       "      <td>3364.4275</td>\n",
       "      <td>-0.2548</td>\n",
       "      <td>-0.0076</td>\n",
       "      <td>198405184</td>\n",
       "      <td>235160227356</td>\n",
       "    </tr>\n",
       "  </tbody>\n",
       "</table>\n",
       "</div>"
      ],
      "text/plain": [
       "          日期        收盘价        最高价        最低价        开盘价      涨跌额     涨跌幅  \\\n",
       "0 2017-09-14  3371.4256  3391.6435  3361.3335  3383.4700 -12.7214 -0.3759   \n",
       "1 2017-09-13  3384.1470  3387.1397  3366.5412  3374.7185    4.659  0.1379   \n",
       "2 2017-09-12  3379.4880  3391.0694  3370.8519  3381.4870   3.0692  0.0909   \n",
       "3 2017-09-11  3376.4188  3384.8100  3360.0462  3365.3506  11.1762  0.3321   \n",
       "4 2017-09-08  3365.2426  3380.8898  3353.6876  3364.4275  -0.2548 -0.0076   \n",
       "\n",
       "         成交量           成交额  \n",
       "0  221306487  256744421274  \n",
       "1  194550715  230733408867  \n",
       "2  272910319  325024951982  \n",
       "3  219011019  256888810547  \n",
       "4  198405184  235160227356  "
      ]
     },
     "execution_count": 55,
     "metadata": {},
     "output_type": "execute_result"
    }
   ],
   "source": [
    "data.head()"
   ]
  },
  {
   "cell_type": "markdown",
   "metadata": {},
   "source": [
    "把上面的日期字段，转化为datetime类型，然后作为DataFrame的索引对象，会有什么效果？"
   ]
  },
  {
   "cell_type": "code",
   "execution_count": 56,
   "metadata": {},
   "outputs": [
    {
     "data": {
      "text/plain": [
       "0      2017-09-14\n",
       "1      2017-09-13\n",
       "2      2017-09-12\n",
       "3      2017-09-11\n",
       "4      2017-09-08\n",
       "          ...    \n",
       "6537   1990-12-25\n",
       "6538   1990-12-24\n",
       "6539   1990-12-21\n",
       "6540   1990-12-20\n",
       "6541   1990-12-19\n",
       "Name: 日期, Length: 6542, dtype: datetime64[ns]"
      ]
     },
     "execution_count": 56,
     "metadata": {},
     "output_type": "execute_result"
    }
   ],
   "source": [
    "data.日期"
   ]
  },
  {
   "cell_type": "code",
   "execution_count": 57,
   "metadata": {},
   "outputs": [],
   "source": [
    "data.index=data.日期\n",
    "data=data.drop(columns=\"日期\")"
   ]
  },
  {
   "cell_type": "code",
   "execution_count": 58,
   "metadata": {},
   "outputs": [
    {
     "data": {
      "text/plain": [
       "pandas.core.indexes.datetimes.DatetimeIndex"
      ]
     },
     "execution_count": 58,
     "metadata": {},
     "output_type": "execute_result"
    }
   ],
   "source": [
    "type(data.index)"
   ]
  },
  {
   "cell_type": "code",
   "execution_count": 59,
   "metadata": {},
   "outputs": [
    {
     "data": {
      "text/html": [
       "<div>\n",
       "<style scoped>\n",
       "    .dataframe tbody tr th:only-of-type {\n",
       "        vertical-align: middle;\n",
       "    }\n",
       "\n",
       "    .dataframe tbody tr th {\n",
       "        vertical-align: top;\n",
       "    }\n",
       "\n",
       "    .dataframe thead th {\n",
       "        text-align: right;\n",
       "    }\n",
       "</style>\n",
       "<table border=\"1\" class=\"dataframe\">\n",
       "  <thead>\n",
       "    <tr style=\"text-align: right;\">\n",
       "      <th></th>\n",
       "      <th>收盘价</th>\n",
       "      <th>最高价</th>\n",
       "      <th>最低价</th>\n",
       "      <th>开盘价</th>\n",
       "      <th>涨跌额</th>\n",
       "      <th>涨跌幅</th>\n",
       "      <th>成交量</th>\n",
       "      <th>成交额</th>\n",
       "    </tr>\n",
       "    <tr>\n",
       "      <th>日期</th>\n",
       "      <th></th>\n",
       "      <th></th>\n",
       "      <th></th>\n",
       "      <th></th>\n",
       "      <th></th>\n",
       "      <th></th>\n",
       "      <th></th>\n",
       "      <th></th>\n",
       "    </tr>\n",
       "  </thead>\n",
       "  <tbody>\n",
       "    <tr>\n",
       "      <td>2017-09-14</td>\n",
       "      <td>3371.4256</td>\n",
       "      <td>3391.6435</td>\n",
       "      <td>3361.3335</td>\n",
       "      <td>3383.4700</td>\n",
       "      <td>-12.7214</td>\n",
       "      <td>-0.3759</td>\n",
       "      <td>221306487</td>\n",
       "      <td>256744421274</td>\n",
       "    </tr>\n",
       "    <tr>\n",
       "      <td>2017-09-13</td>\n",
       "      <td>3384.1470</td>\n",
       "      <td>3387.1397</td>\n",
       "      <td>3366.5412</td>\n",
       "      <td>3374.7185</td>\n",
       "      <td>4.659</td>\n",
       "      <td>0.1379</td>\n",
       "      <td>194550715</td>\n",
       "      <td>230733408867</td>\n",
       "    </tr>\n",
       "    <tr>\n",
       "      <td>2017-09-12</td>\n",
       "      <td>3379.4880</td>\n",
       "      <td>3391.0694</td>\n",
       "      <td>3370.8519</td>\n",
       "      <td>3381.4870</td>\n",
       "      <td>3.0692</td>\n",
       "      <td>0.0909</td>\n",
       "      <td>272910319</td>\n",
       "      <td>325024951982</td>\n",
       "    </tr>\n",
       "    <tr>\n",
       "      <td>2017-09-11</td>\n",
       "      <td>3376.4188</td>\n",
       "      <td>3384.8100</td>\n",
       "      <td>3360.0462</td>\n",
       "      <td>3365.3506</td>\n",
       "      <td>11.1762</td>\n",
       "      <td>0.3321</td>\n",
       "      <td>219011019</td>\n",
       "      <td>256888810547</td>\n",
       "    </tr>\n",
       "    <tr>\n",
       "      <td>2017-09-08</td>\n",
       "      <td>3365.2426</td>\n",
       "      <td>3380.8898</td>\n",
       "      <td>3353.6876</td>\n",
       "      <td>3364.4275</td>\n",
       "      <td>-0.2548</td>\n",
       "      <td>-0.0076</td>\n",
       "      <td>198405184</td>\n",
       "      <td>235160227356</td>\n",
       "    </tr>\n",
       "    <tr>\n",
       "      <td>...</td>\n",
       "      <td>...</td>\n",
       "      <td>...</td>\n",
       "      <td>...</td>\n",
       "      <td>...</td>\n",
       "      <td>...</td>\n",
       "      <td>...</td>\n",
       "      <td>...</td>\n",
       "      <td>...</td>\n",
       "    </tr>\n",
       "    <tr>\n",
       "      <td>1990-12-25</td>\n",
       "      <td>120.2500</td>\n",
       "      <td>120.2500</td>\n",
       "      <td>114.5500</td>\n",
       "      <td>120.0900</td>\n",
       "      <td>5.7</td>\n",
       "      <td>4.976</td>\n",
       "      <td>15</td>\n",
       "      <td>6000</td>\n",
       "    </tr>\n",
       "    <tr>\n",
       "      <td>1990-12-24</td>\n",
       "      <td>114.5500</td>\n",
       "      <td>114.5500</td>\n",
       "      <td>109.1300</td>\n",
       "      <td>113.5700</td>\n",
       "      <td>5.42</td>\n",
       "      <td>4.9666</td>\n",
       "      <td>32</td>\n",
       "      <td>31000</td>\n",
       "    </tr>\n",
       "    <tr>\n",
       "      <td>1990-12-21</td>\n",
       "      <td>109.1300</td>\n",
       "      <td>109.1300</td>\n",
       "      <td>103.7300</td>\n",
       "      <td>109.0700</td>\n",
       "      <td>4.74</td>\n",
       "      <td>4.5407</td>\n",
       "      <td>28</td>\n",
       "      <td>16000</td>\n",
       "    </tr>\n",
       "    <tr>\n",
       "      <td>1990-12-20</td>\n",
       "      <td>104.3900</td>\n",
       "      <td>104.3900</td>\n",
       "      <td>99.9800</td>\n",
       "      <td>104.3000</td>\n",
       "      <td>4.41</td>\n",
       "      <td>4.4109</td>\n",
       "      <td>197</td>\n",
       "      <td>84000</td>\n",
       "    </tr>\n",
       "    <tr>\n",
       "      <td>1990-12-19</td>\n",
       "      <td>99.9800</td>\n",
       "      <td>99.9800</td>\n",
       "      <td>95.7900</td>\n",
       "      <td>96.0500</td>\n",
       "      <td>None</td>\n",
       "      <td>None</td>\n",
       "      <td>1260</td>\n",
       "      <td>494000</td>\n",
       "    </tr>\n",
       "  </tbody>\n",
       "</table>\n",
       "<p>6542 rows × 8 columns</p>\n",
       "</div>"
      ],
      "text/plain": [
       "                  收盘价        最高价        最低价        开盘价      涨跌额     涨跌幅  \\\n",
       "日期                                                                        \n",
       "2017-09-14  3371.4256  3391.6435  3361.3335  3383.4700 -12.7214 -0.3759   \n",
       "2017-09-13  3384.1470  3387.1397  3366.5412  3374.7185    4.659  0.1379   \n",
       "2017-09-12  3379.4880  3391.0694  3370.8519  3381.4870   3.0692  0.0909   \n",
       "2017-09-11  3376.4188  3384.8100  3360.0462  3365.3506  11.1762  0.3321   \n",
       "2017-09-08  3365.2426  3380.8898  3353.6876  3364.4275  -0.2548 -0.0076   \n",
       "...               ...        ...        ...        ...      ...     ...   \n",
       "1990-12-25   120.2500   120.2500   114.5500   120.0900      5.7   4.976   \n",
       "1990-12-24   114.5500   114.5500   109.1300   113.5700     5.42  4.9666   \n",
       "1990-12-21   109.1300   109.1300   103.7300   109.0700     4.74  4.5407   \n",
       "1990-12-20   104.3900   104.3900    99.9800   104.3000     4.41  4.4109   \n",
       "1990-12-19    99.9800    99.9800    95.7900    96.0500     None    None   \n",
       "\n",
       "                  成交量           成交额  \n",
       "日期                                   \n",
       "2017-09-14  221306487  256744421274  \n",
       "2017-09-13  194550715  230733408867  \n",
       "2017-09-12  272910319  325024951982  \n",
       "2017-09-11  219011019  256888810547  \n",
       "2017-09-08  198405184  235160227356  \n",
       "...               ...           ...  \n",
       "1990-12-25         15          6000  \n",
       "1990-12-24         32         31000  \n",
       "1990-12-21         28         16000  \n",
       "1990-12-20        197         84000  \n",
       "1990-12-19       1260        494000  \n",
       "\n",
       "[6542 rows x 8 columns]"
      ]
     },
     "execution_count": 59,
     "metadata": {},
     "output_type": "execute_result"
    }
   ],
   "source": [
    "data"
   ]
  },
  {
   "cell_type": "markdown",
   "metadata": {},
   "source": [
    "## 索引和切片"
   ]
  },
  {
   "cell_type": "code",
   "execution_count": 60,
   "metadata": {},
   "outputs": [
    {
     "data": {
      "text/html": [
       "<div>\n",
       "<style scoped>\n",
       "    .dataframe tbody tr th:only-of-type {\n",
       "        vertical-align: middle;\n",
       "    }\n",
       "\n",
       "    .dataframe tbody tr th {\n",
       "        vertical-align: top;\n",
       "    }\n",
       "\n",
       "    .dataframe thead th {\n",
       "        text-align: right;\n",
       "    }\n",
       "</style>\n",
       "<table border=\"1\" class=\"dataframe\">\n",
       "  <thead>\n",
       "    <tr style=\"text-align: right;\">\n",
       "      <th></th>\n",
       "      <th>收盘价</th>\n",
       "      <th>最高价</th>\n",
       "      <th>最低价</th>\n",
       "      <th>开盘价</th>\n",
       "      <th>涨跌额</th>\n",
       "      <th>涨跌幅</th>\n",
       "      <th>成交量</th>\n",
       "      <th>成交额</th>\n",
       "    </tr>\n",
       "    <tr>\n",
       "      <th>日期</th>\n",
       "      <th></th>\n",
       "      <th></th>\n",
       "      <th></th>\n",
       "      <th></th>\n",
       "      <th></th>\n",
       "      <th></th>\n",
       "      <th></th>\n",
       "      <th></th>\n",
       "    </tr>\n",
       "  </thead>\n",
       "  <tbody>\n",
       "    <tr>\n",
       "      <td>2017-09-14</td>\n",
       "      <td>3371.4256</td>\n",
       "      <td>3391.6435</td>\n",
       "      <td>3361.3335</td>\n",
       "      <td>3383.4700</td>\n",
       "      <td>-12.7214</td>\n",
       "      <td>-0.3759</td>\n",
       "      <td>221306487</td>\n",
       "      <td>256744421274</td>\n",
       "    </tr>\n",
       "    <tr>\n",
       "      <td>2017-09-13</td>\n",
       "      <td>3384.1470</td>\n",
       "      <td>3387.1397</td>\n",
       "      <td>3366.5412</td>\n",
       "      <td>3374.7185</td>\n",
       "      <td>4.659</td>\n",
       "      <td>0.1379</td>\n",
       "      <td>194550715</td>\n",
       "      <td>230733408867</td>\n",
       "    </tr>\n",
       "    <tr>\n",
       "      <td>2017-09-12</td>\n",
       "      <td>3379.4880</td>\n",
       "      <td>3391.0694</td>\n",
       "      <td>3370.8519</td>\n",
       "      <td>3381.4870</td>\n",
       "      <td>3.0692</td>\n",
       "      <td>0.0909</td>\n",
       "      <td>272910319</td>\n",
       "      <td>325024951982</td>\n",
       "    </tr>\n",
       "    <tr>\n",
       "      <td>2017-09-11</td>\n",
       "      <td>3376.4188</td>\n",
       "      <td>3384.8100</td>\n",
       "      <td>3360.0462</td>\n",
       "      <td>3365.3506</td>\n",
       "      <td>11.1762</td>\n",
       "      <td>0.3321</td>\n",
       "      <td>219011019</td>\n",
       "      <td>256888810547</td>\n",
       "    </tr>\n",
       "    <tr>\n",
       "      <td>2017-09-08</td>\n",
       "      <td>3365.2426</td>\n",
       "      <td>3380.8898</td>\n",
       "      <td>3353.6876</td>\n",
       "      <td>3364.4275</td>\n",
       "      <td>-0.2548</td>\n",
       "      <td>-0.0076</td>\n",
       "      <td>198405184</td>\n",
       "      <td>235160227356</td>\n",
       "    </tr>\n",
       "  </tbody>\n",
       "</table>\n",
       "</div>"
      ],
      "text/plain": [
       "                  收盘价        最高价        最低价        开盘价      涨跌额     涨跌幅  \\\n",
       "日期                                                                        \n",
       "2017-09-14  3371.4256  3391.6435  3361.3335  3383.4700 -12.7214 -0.3759   \n",
       "2017-09-13  3384.1470  3387.1397  3366.5412  3374.7185    4.659  0.1379   \n",
       "2017-09-12  3379.4880  3391.0694  3370.8519  3381.4870   3.0692  0.0909   \n",
       "2017-09-11  3376.4188  3384.8100  3360.0462  3365.3506  11.1762  0.3321   \n",
       "2017-09-08  3365.2426  3380.8898  3353.6876  3364.4275  -0.2548 -0.0076   \n",
       "\n",
       "                  成交量           成交额  \n",
       "日期                                   \n",
       "2017-09-14  221306487  256744421274  \n",
       "2017-09-13  194550715  230733408867  \n",
       "2017-09-12  272910319  325024951982  \n",
       "2017-09-11  219011019  256888810547  \n",
       "2017-09-08  198405184  235160227356  "
      ]
     },
     "execution_count": 60,
     "metadata": {},
     "output_type": "execute_result"
    }
   ],
   "source": [
    "data.head()"
   ]
  },
  {
   "cell_type": "code",
   "execution_count": 63,
   "metadata": {},
   "outputs": [
    {
     "data": {
      "text/html": [
       "<div>\n",
       "<style scoped>\n",
       "    .dataframe tbody tr th:only-of-type {\n",
       "        vertical-align: middle;\n",
       "    }\n",
       "\n",
       "    .dataframe tbody tr th {\n",
       "        vertical-align: top;\n",
       "    }\n",
       "\n",
       "    .dataframe thead th {\n",
       "        text-align: right;\n",
       "    }\n",
       "</style>\n",
       "<table border=\"1\" class=\"dataframe\">\n",
       "  <thead>\n",
       "    <tr style=\"text-align: right;\">\n",
       "      <th></th>\n",
       "      <th>收盘价</th>\n",
       "      <th>最高价</th>\n",
       "      <th>最低价</th>\n",
       "      <th>开盘价</th>\n",
       "      <th>涨跌额</th>\n",
       "      <th>涨跌幅</th>\n",
       "      <th>成交量</th>\n",
       "      <th>成交额</th>\n",
       "    </tr>\n",
       "    <tr>\n",
       "      <th>日期</th>\n",
       "      <th></th>\n",
       "      <th></th>\n",
       "      <th></th>\n",
       "      <th></th>\n",
       "      <th></th>\n",
       "      <th></th>\n",
       "      <th></th>\n",
       "      <th></th>\n",
       "    </tr>\n",
       "  </thead>\n",
       "  <tbody>\n",
       "    <tr>\n",
       "      <td>1999-01-28</td>\n",
       "      <td>1140.975</td>\n",
       "      <td>1150.579</td>\n",
       "      <td>1137.121</td>\n",
       "      <td>1147.866</td>\n",
       "      <td>-5.518</td>\n",
       "      <td>-0.4813</td>\n",
       "      <td>6254345</td>\n",
       "      <td>3988271880</td>\n",
       "    </tr>\n",
       "  </tbody>\n",
       "</table>\n",
       "</div>"
      ],
      "text/plain": [
       "                 收盘价       最高价       最低价       开盘价    涨跌额     涨跌幅      成交量  \\\n",
       "日期                                                                           \n",
       "1999-01-28  1140.975  1150.579  1137.121  1147.866 -5.518 -0.4813  6254345   \n",
       "\n",
       "                   成交额  \n",
       "日期                      \n",
       "1999-01-28  3988271880  "
      ]
     },
     "execution_count": 63,
     "metadata": {},
     "output_type": "execute_result"
    }
   ],
   "source": [
    "data[\"1999-01-28\"]"
   ]
  },
  {
   "cell_type": "code",
   "execution_count": 66,
   "metadata": {},
   "outputs": [
    {
     "data": {
      "text/html": [
       "<div>\n",
       "<style scoped>\n",
       "    .dataframe tbody tr th:only-of-type {\n",
       "        vertical-align: middle;\n",
       "    }\n",
       "\n",
       "    .dataframe tbody tr th {\n",
       "        vertical-align: top;\n",
       "    }\n",
       "\n",
       "    .dataframe thead th {\n",
       "        text-align: right;\n",
       "    }\n",
       "</style>\n",
       "<table border=\"1\" class=\"dataframe\">\n",
       "  <thead>\n",
       "    <tr style=\"text-align: right;\">\n",
       "      <th></th>\n",
       "      <th>收盘价</th>\n",
       "      <th>最高价</th>\n",
       "      <th>最低价</th>\n",
       "      <th>开盘价</th>\n",
       "      <th>涨跌额</th>\n",
       "      <th>涨跌幅</th>\n",
       "      <th>成交量</th>\n",
       "      <th>成交额</th>\n",
       "    </tr>\n",
       "    <tr>\n",
       "      <th>日期</th>\n",
       "      <th></th>\n",
       "      <th></th>\n",
       "      <th></th>\n",
       "      <th></th>\n",
       "      <th></th>\n",
       "      <th></th>\n",
       "      <th></th>\n",
       "      <th></th>\n",
       "    </tr>\n",
       "  </thead>\n",
       "  <tbody>\n",
       "    <tr>\n",
       "      <td>2017-09-14</td>\n",
       "      <td>3371.4256</td>\n",
       "      <td>3391.6435</td>\n",
       "      <td>3361.3335</td>\n",
       "      <td>3383.4700</td>\n",
       "      <td>-12.7214</td>\n",
       "      <td>-0.3759</td>\n",
       "      <td>221306487</td>\n",
       "      <td>256744421274</td>\n",
       "    </tr>\n",
       "    <tr>\n",
       "      <td>2017-09-13</td>\n",
       "      <td>3384.1470</td>\n",
       "      <td>3387.1397</td>\n",
       "      <td>3366.5412</td>\n",
       "      <td>3374.7185</td>\n",
       "      <td>4.659</td>\n",
       "      <td>0.1379</td>\n",
       "      <td>194550715</td>\n",
       "      <td>230733408867</td>\n",
       "    </tr>\n",
       "    <tr>\n",
       "      <td>2017-09-12</td>\n",
       "      <td>3379.4880</td>\n",
       "      <td>3391.0694</td>\n",
       "      <td>3370.8519</td>\n",
       "      <td>3381.4870</td>\n",
       "      <td>3.0692</td>\n",
       "      <td>0.0909</td>\n",
       "      <td>272910319</td>\n",
       "      <td>325024951982</td>\n",
       "    </tr>\n",
       "    <tr>\n",
       "      <td>2017-09-11</td>\n",
       "      <td>3376.4188</td>\n",
       "      <td>3384.8100</td>\n",
       "      <td>3360.0462</td>\n",
       "      <td>3365.3506</td>\n",
       "      <td>11.1762</td>\n",
       "      <td>0.3321</td>\n",
       "      <td>219011019</td>\n",
       "      <td>256888810547</td>\n",
       "    </tr>\n",
       "    <tr>\n",
       "      <td>2017-09-08</td>\n",
       "      <td>3365.2426</td>\n",
       "      <td>3380.8898</td>\n",
       "      <td>3353.6876</td>\n",
       "      <td>3364.4275</td>\n",
       "      <td>-0.2548</td>\n",
       "      <td>-0.0076</td>\n",
       "      <td>198405184</td>\n",
       "      <td>235160227356</td>\n",
       "    </tr>\n",
       "  </tbody>\n",
       "</table>\n",
       "</div>"
      ],
      "text/plain": [
       "                  收盘价        最高价        最低价        开盘价      涨跌额     涨跌幅  \\\n",
       "日期                                                                        \n",
       "2017-09-14  3371.4256  3391.6435  3361.3335  3383.4700 -12.7214 -0.3759   \n",
       "2017-09-13  3384.1470  3387.1397  3366.5412  3374.7185    4.659  0.1379   \n",
       "2017-09-12  3379.4880  3391.0694  3370.8519  3381.4870   3.0692  0.0909   \n",
       "2017-09-11  3376.4188  3384.8100  3360.0462  3365.3506  11.1762  0.3321   \n",
       "2017-09-08  3365.2426  3380.8898  3353.6876  3364.4275  -0.2548 -0.0076   \n",
       "\n",
       "                  成交量           成交额  \n",
       "日期                                   \n",
       "2017-09-14  221306487  256744421274  \n",
       "2017-09-13  194550715  230733408867  \n",
       "2017-09-12  272910319  325024951982  \n",
       "2017-09-11  219011019  256888810547  \n",
       "2017-09-08  198405184  235160227356  "
      ]
     },
     "execution_count": 66,
     "metadata": {},
     "output_type": "execute_result"
    }
   ],
   "source": [
    "data.head()"
   ]
  },
  {
   "cell_type": "code",
   "execution_count": 70,
   "metadata": {},
   "outputs": [
    {
     "data": {
      "text/html": [
       "<div>\n",
       "<style scoped>\n",
       "    .dataframe tbody tr th:only-of-type {\n",
       "        vertical-align: middle;\n",
       "    }\n",
       "\n",
       "    .dataframe tbody tr th {\n",
       "        vertical-align: top;\n",
       "    }\n",
       "\n",
       "    .dataframe thead th {\n",
       "        text-align: right;\n",
       "    }\n",
       "</style>\n",
       "<table border=\"1\" class=\"dataframe\">\n",
       "  <thead>\n",
       "    <tr style=\"text-align: right;\">\n",
       "      <th></th>\n",
       "      <th>收盘价</th>\n",
       "      <th>最高价</th>\n",
       "      <th>最低价</th>\n",
       "      <th>开盘价</th>\n",
       "      <th>涨跌额</th>\n",
       "      <th>涨跌幅</th>\n",
       "      <th>成交量</th>\n",
       "      <th>成交额</th>\n",
       "    </tr>\n",
       "    <tr>\n",
       "      <th>日期</th>\n",
       "      <th></th>\n",
       "      <th></th>\n",
       "      <th></th>\n",
       "      <th></th>\n",
       "      <th></th>\n",
       "      <th></th>\n",
       "      <th></th>\n",
       "      <th></th>\n",
       "    </tr>\n",
       "  </thead>\n",
       "  <tbody>\n",
       "    <tr>\n",
       "      <td>1991-02-01</td>\n",
       "      <td>129.51</td>\n",
       "      <td>129.97</td>\n",
       "      <td>129.45</td>\n",
       "      <td>129.50</td>\n",
       "      <td>-0.46</td>\n",
       "      <td>-0.3539</td>\n",
       "      <td>345</td>\n",
       "      <td>140000</td>\n",
       "    </tr>\n",
       "    <tr>\n",
       "      <td>1991-02-04</td>\n",
       "      <td>129.05</td>\n",
       "      <td>129.58</td>\n",
       "      <td>129.05</td>\n",
       "      <td>129.05</td>\n",
       "      <td>-0.46</td>\n",
       "      <td>-0.3552</td>\n",
       "      <td>553</td>\n",
       "      <td>273000</td>\n",
       "    </tr>\n",
       "    <tr>\n",
       "      <td>1991-02-05</td>\n",
       "      <td>128.58</td>\n",
       "      <td>128.58</td>\n",
       "      <td>128.53</td>\n",
       "      <td>128.56</td>\n",
       "      <td>-0.47</td>\n",
       "      <td>-0.3642</td>\n",
       "      <td>8562</td>\n",
       "      <td>4250000</td>\n",
       "    </tr>\n",
       "  </tbody>\n",
       "</table>\n",
       "</div>"
      ],
      "text/plain": [
       "               收盘价     最高价     最低价     开盘价   涨跌额     涨跌幅   成交量      成交额\n",
       "日期                                                                     \n",
       "1991-02-01  129.51  129.97  129.45  129.50 -0.46 -0.3539   345   140000\n",
       "1991-02-04  129.05  129.58  129.05  129.05 -0.46 -0.3552   553   273000\n",
       "1991-02-05  128.58  128.58  128.53  128.56 -0.47 -0.3642  8562  4250000"
      ]
     },
     "execution_count": 70,
     "metadata": {},
     "output_type": "execute_result"
    }
   ],
   "source": [
    "data[\"1991-02-01\":\"1991-02-05\":-1]"
   ]
  },
  {
   "cell_type": "code",
   "execution_count": 71,
   "metadata": {},
   "outputs": [
    {
     "data": {
      "text/html": [
       "<div>\n",
       "<style scoped>\n",
       "    .dataframe tbody tr th:only-of-type {\n",
       "        vertical-align: middle;\n",
       "    }\n",
       "\n",
       "    .dataframe tbody tr th {\n",
       "        vertical-align: top;\n",
       "    }\n",
       "\n",
       "    .dataframe thead th {\n",
       "        text-align: right;\n",
       "    }\n",
       "</style>\n",
       "<table border=\"1\" class=\"dataframe\">\n",
       "  <thead>\n",
       "    <tr style=\"text-align: right;\">\n",
       "      <th></th>\n",
       "      <th>收盘价</th>\n",
       "      <th>最高价</th>\n",
       "      <th>最低价</th>\n",
       "      <th>开盘价</th>\n",
       "      <th>涨跌额</th>\n",
       "      <th>涨跌幅</th>\n",
       "      <th>成交量</th>\n",
       "      <th>成交额</th>\n",
       "    </tr>\n",
       "    <tr>\n",
       "      <th>日期</th>\n",
       "      <th></th>\n",
       "      <th></th>\n",
       "      <th></th>\n",
       "      <th></th>\n",
       "      <th></th>\n",
       "      <th></th>\n",
       "      <th></th>\n",
       "      <th></th>\n",
       "    </tr>\n",
       "  </thead>\n",
       "  <tbody>\n",
       "    <tr>\n",
       "      <td>1990-12-19</td>\n",
       "      <td>99.9800</td>\n",
       "      <td>99.9800</td>\n",
       "      <td>95.7900</td>\n",
       "      <td>96.0500</td>\n",
       "      <td>None</td>\n",
       "      <td>None</td>\n",
       "      <td>1260</td>\n",
       "      <td>494000</td>\n",
       "    </tr>\n",
       "    <tr>\n",
       "      <td>1990-12-20</td>\n",
       "      <td>104.3900</td>\n",
       "      <td>104.3900</td>\n",
       "      <td>99.9800</td>\n",
       "      <td>104.3000</td>\n",
       "      <td>4.41</td>\n",
       "      <td>4.4109</td>\n",
       "      <td>197</td>\n",
       "      <td>84000</td>\n",
       "    </tr>\n",
       "    <tr>\n",
       "      <td>1990-12-21</td>\n",
       "      <td>109.1300</td>\n",
       "      <td>109.1300</td>\n",
       "      <td>103.7300</td>\n",
       "      <td>109.0700</td>\n",
       "      <td>4.74</td>\n",
       "      <td>4.5407</td>\n",
       "      <td>28</td>\n",
       "      <td>16000</td>\n",
       "    </tr>\n",
       "    <tr>\n",
       "      <td>1990-12-24</td>\n",
       "      <td>114.5500</td>\n",
       "      <td>114.5500</td>\n",
       "      <td>109.1300</td>\n",
       "      <td>113.5700</td>\n",
       "      <td>5.42</td>\n",
       "      <td>4.9666</td>\n",
       "      <td>32</td>\n",
       "      <td>31000</td>\n",
       "    </tr>\n",
       "    <tr>\n",
       "      <td>1990-12-25</td>\n",
       "      <td>120.2500</td>\n",
       "      <td>120.2500</td>\n",
       "      <td>114.5500</td>\n",
       "      <td>120.0900</td>\n",
       "      <td>5.7</td>\n",
       "      <td>4.976</td>\n",
       "      <td>15</td>\n",
       "      <td>6000</td>\n",
       "    </tr>\n",
       "    <tr>\n",
       "      <td>...</td>\n",
       "      <td>...</td>\n",
       "      <td>...</td>\n",
       "      <td>...</td>\n",
       "      <td>...</td>\n",
       "      <td>...</td>\n",
       "      <td>...</td>\n",
       "      <td>...</td>\n",
       "      <td>...</td>\n",
       "    </tr>\n",
       "    <tr>\n",
       "      <td>2017-09-08</td>\n",
       "      <td>3365.2426</td>\n",
       "      <td>3380.8898</td>\n",
       "      <td>3353.6876</td>\n",
       "      <td>3364.4275</td>\n",
       "      <td>-0.2548</td>\n",
       "      <td>-0.0076</td>\n",
       "      <td>198405184</td>\n",
       "      <td>235160227356</td>\n",
       "    </tr>\n",
       "    <tr>\n",
       "      <td>2017-09-11</td>\n",
       "      <td>3376.4188</td>\n",
       "      <td>3384.8100</td>\n",
       "      <td>3360.0462</td>\n",
       "      <td>3365.3506</td>\n",
       "      <td>11.1762</td>\n",
       "      <td>0.3321</td>\n",
       "      <td>219011019</td>\n",
       "      <td>256888810547</td>\n",
       "    </tr>\n",
       "    <tr>\n",
       "      <td>2017-09-12</td>\n",
       "      <td>3379.4880</td>\n",
       "      <td>3391.0694</td>\n",
       "      <td>3370.8519</td>\n",
       "      <td>3381.4870</td>\n",
       "      <td>3.0692</td>\n",
       "      <td>0.0909</td>\n",
       "      <td>272910319</td>\n",
       "      <td>325024951982</td>\n",
       "    </tr>\n",
       "    <tr>\n",
       "      <td>2017-09-13</td>\n",
       "      <td>3384.1470</td>\n",
       "      <td>3387.1397</td>\n",
       "      <td>3366.5412</td>\n",
       "      <td>3374.7185</td>\n",
       "      <td>4.659</td>\n",
       "      <td>0.1379</td>\n",
       "      <td>194550715</td>\n",
       "      <td>230733408867</td>\n",
       "    </tr>\n",
       "    <tr>\n",
       "      <td>2017-09-14</td>\n",
       "      <td>3371.4256</td>\n",
       "      <td>3391.6435</td>\n",
       "      <td>3361.3335</td>\n",
       "      <td>3383.4700</td>\n",
       "      <td>-12.7214</td>\n",
       "      <td>-0.3759</td>\n",
       "      <td>221306487</td>\n",
       "      <td>256744421274</td>\n",
       "    </tr>\n",
       "  </tbody>\n",
       "</table>\n",
       "<p>6542 rows × 8 columns</p>\n",
       "</div>"
      ],
      "text/plain": [
       "                  收盘价        最高价        最低价        开盘价      涨跌额     涨跌幅  \\\n",
       "日期                                                                        \n",
       "1990-12-19    99.9800    99.9800    95.7900    96.0500     None    None   \n",
       "1990-12-20   104.3900   104.3900    99.9800   104.3000     4.41  4.4109   \n",
       "1990-12-21   109.1300   109.1300   103.7300   109.0700     4.74  4.5407   \n",
       "1990-12-24   114.5500   114.5500   109.1300   113.5700     5.42  4.9666   \n",
       "1990-12-25   120.2500   120.2500   114.5500   120.0900      5.7   4.976   \n",
       "...               ...        ...        ...        ...      ...     ...   \n",
       "2017-09-08  3365.2426  3380.8898  3353.6876  3364.4275  -0.2548 -0.0076   \n",
       "2017-09-11  3376.4188  3384.8100  3360.0462  3365.3506  11.1762  0.3321   \n",
       "2017-09-12  3379.4880  3391.0694  3370.8519  3381.4870   3.0692  0.0909   \n",
       "2017-09-13  3384.1470  3387.1397  3366.5412  3374.7185    4.659  0.1379   \n",
       "2017-09-14  3371.4256  3391.6435  3361.3335  3383.4700 -12.7214 -0.3759   \n",
       "\n",
       "                  成交量           成交额  \n",
       "日期                                   \n",
       "1990-12-19       1260        494000  \n",
       "1990-12-20        197         84000  \n",
       "1990-12-21         28         16000  \n",
       "1990-12-24         32         31000  \n",
       "1990-12-25         15          6000  \n",
       "...               ...           ...  \n",
       "2017-09-08  198405184  235160227356  \n",
       "2017-09-11  219011019  256888810547  \n",
       "2017-09-12  272910319  325024951982  \n",
       "2017-09-13  194550715  230733408867  \n",
       "2017-09-14  221306487  256744421274  \n",
       "\n",
       "[6542 rows x 8 columns]"
      ]
     },
     "execution_count": 71,
     "metadata": {},
     "output_type": "execute_result"
    }
   ],
   "source": [
    "data.sort_index()"
   ]
  },
  {
   "cell_type": "markdown",
   "metadata": {},
   "source": [
    "## 其他方法"
   ]
  },
  {
   "cell_type": "code",
   "execution_count": 37,
   "metadata": {},
   "outputs": [
    {
     "data": {
      "text/html": [
       "<div>\n",
       "<style scoped>\n",
       "    .dataframe tbody tr th:only-of-type {\n",
       "        vertical-align: middle;\n",
       "    }\n",
       "\n",
       "    .dataframe tbody tr th {\n",
       "        vertical-align: top;\n",
       "    }\n",
       "\n",
       "    .dataframe thead th {\n",
       "        text-align: right;\n",
       "    }\n",
       "</style>\n",
       "<table border=\"1\" class=\"dataframe\">\n",
       "  <thead>\n",
       "    <tr style=\"text-align: right;\">\n",
       "      <th></th>\n",
       "      <th>收盘价</th>\n",
       "      <th>最高价</th>\n",
       "      <th>最低价</th>\n",
       "      <th>开盘价</th>\n",
       "      <th>涨跌额</th>\n",
       "      <th>涨跌幅</th>\n",
       "      <th>成交量</th>\n",
       "      <th>成交额</th>\n",
       "    </tr>\n",
       "    <tr>\n",
       "      <th>日期</th>\n",
       "      <th></th>\n",
       "      <th></th>\n",
       "      <th></th>\n",
       "      <th></th>\n",
       "      <th></th>\n",
       "      <th></th>\n",
       "      <th></th>\n",
       "      <th></th>\n",
       "    </tr>\n",
       "  </thead>\n",
       "  <tbody>\n",
       "    <tr>\n",
       "      <td>2017-09-14</td>\n",
       "      <td>3371.4256</td>\n",
       "      <td>3391.6435</td>\n",
       "      <td>3361.3335</td>\n",
       "      <td>3383.4700</td>\n",
       "      <td>-12.7214</td>\n",
       "      <td>-0.3759</td>\n",
       "      <td>221306487</td>\n",
       "      <td>256744421274</td>\n",
       "    </tr>\n",
       "    <tr>\n",
       "      <td>2017-09-13</td>\n",
       "      <td>3384.1470</td>\n",
       "      <td>3387.1397</td>\n",
       "      <td>3366.5412</td>\n",
       "      <td>3374.7185</td>\n",
       "      <td>4.659</td>\n",
       "      <td>0.1379</td>\n",
       "      <td>194550715</td>\n",
       "      <td>230733408867</td>\n",
       "    </tr>\n",
       "    <tr>\n",
       "      <td>2017-09-12</td>\n",
       "      <td>3379.4880</td>\n",
       "      <td>3391.0694</td>\n",
       "      <td>3370.8519</td>\n",
       "      <td>3381.4870</td>\n",
       "      <td>3.0692</td>\n",
       "      <td>0.0909</td>\n",
       "      <td>272910319</td>\n",
       "      <td>325024951982</td>\n",
       "    </tr>\n",
       "    <tr>\n",
       "      <td>2017-09-11</td>\n",
       "      <td>3376.4188</td>\n",
       "      <td>3384.8100</td>\n",
       "      <td>3360.0462</td>\n",
       "      <td>3365.3506</td>\n",
       "      <td>11.1762</td>\n",
       "      <td>0.3321</td>\n",
       "      <td>219011019</td>\n",
       "      <td>256888810547</td>\n",
       "    </tr>\n",
       "    <tr>\n",
       "      <td>2017-09-08</td>\n",
       "      <td>3365.2426</td>\n",
       "      <td>3380.8898</td>\n",
       "      <td>3353.6876</td>\n",
       "      <td>3364.4275</td>\n",
       "      <td>-0.2548</td>\n",
       "      <td>-0.0076</td>\n",
       "      <td>198405184</td>\n",
       "      <td>235160227356</td>\n",
       "    </tr>\n",
       "  </tbody>\n",
       "</table>\n",
       "</div>"
      ],
      "text/plain": [
       "                  收盘价        最高价        最低价        开盘价      涨跌额     涨跌幅  \\\n",
       "日期                                                                        \n",
       "2017-09-14  3371.4256  3391.6435  3361.3335  3383.4700 -12.7214 -0.3759   \n",
       "2017-09-13  3384.1470  3387.1397  3366.5412  3374.7185    4.659  0.1379   \n",
       "2017-09-12  3379.4880  3391.0694  3370.8519  3381.4870   3.0692  0.0909   \n",
       "2017-09-11  3376.4188  3384.8100  3360.0462  3365.3506  11.1762  0.3321   \n",
       "2017-09-08  3365.2426  3380.8898  3353.6876  3364.4275  -0.2548 -0.0076   \n",
       "\n",
       "                  成交量           成交额  \n",
       "日期                                   \n",
       "2017-09-14  221306487  256744421274  \n",
       "2017-09-13  194550715  230733408867  \n",
       "2017-09-12  272910319  325024951982  \n",
       "2017-09-11  219011019  256888810547  \n",
       "2017-09-08  198405184  235160227356  "
      ]
     },
     "execution_count": 37,
     "metadata": {},
     "output_type": "execute_result"
    }
   ],
   "source": [
    "data.head()"
   ]
  },
  {
   "cell_type": "code",
   "execution_count": null,
   "metadata": {},
   "outputs": [],
   "source": []
  },
  {
   "cell_type": "code",
   "execution_count": 73,
   "metadata": {},
   "outputs": [
    {
     "data": {
      "text/plain": [
       "Int64Index([4, 3, 2, 1, 5, 4, 3, 2, 1, 5,\n",
       "            ...\n",
       "            3, 1, 5, 4, 3, 2, 1, 5, 4, 3],\n",
       "           dtype='int64', name='日期', length=6542)"
      ]
     },
     "execution_count": 73,
     "metadata": {},
     "output_type": "execute_result"
    }
   ],
   "source": [
    "data.index.dayofweek+1"
   ]
  },
  {
   "cell_type": "code",
   "execution_count": 36,
   "metadata": {},
   "outputs": [
    {
     "data": {
      "text/plain": [
       "Int64Index([257, 256, 255, 254, 251, 250, 249, 248, 247, 244,\n",
       "            ...\n",
       "              2, 365, 362, 361, 360, 359, 358, 355, 354, 353],\n",
       "           dtype='int64', name='日期', length=6542)"
      ]
     },
     "execution_count": 36,
     "metadata": {},
     "output_type": "execute_result"
    }
   ],
   "source": [
    "data.index.dayofyear"
   ]
  },
  {
   "cell_type": "code",
   "execution_count": 80,
   "metadata": {},
   "outputs": [
    {
     "data": {
      "text/plain": [
       "Int64Index([37, 37, 37, 37, 36, 36, 36, 36, 36, 35,\n",
       "            ...\n",
       "             1,  1, 52, 52, 52, 52, 52, 51, 51, 51],\n",
       "           dtype='int64', name='日期', length=6542)"
      ]
     },
     "execution_count": 80,
     "metadata": {},
     "output_type": "execute_result"
    }
   ],
   "source": [
    "data.index.weekofyear"
   ]
  },
  {
   "cell_type": "code",
   "execution_count": 74,
   "metadata": {},
   "outputs": [
    {
     "data": {
      "text/plain": [
       "array([False, False, False, ..., False, False, False])"
      ]
     },
     "execution_count": 74,
     "metadata": {},
     "output_type": "execute_result"
    }
   ],
   "source": [
    "data.index.is_month_start"
   ]
  },
  {
   "cell_type": "markdown",
   "metadata": {},
   "source": [
    "我们可以通过 Timestamp 或 DateTimeIndex 访问一些时间/日期的属性。\n",
    "\n",
    "这里列举一些常见的，想要查看所有的属性见官方链接：\n",
    "\n",
    "Time/Date Components (http://pandas.pydata.org/pandas-docs/stable/timeseries.html#time-date-components)"
   ]
  },
  {
   "cell_type": "code",
   "execution_count": 83,
   "metadata": {},
   "outputs": [
    {
     "data": {
      "text/plain": [
       "array([False, False, False, ..., False, False, False])"
      ]
     },
     "execution_count": 83,
     "metadata": {},
     "output_type": "execute_result"
    }
   ],
   "source": [
    "data.index.is_month_end"
   ]
  },
  {
   "cell_type": "markdown",
   "metadata": {},
   "source": [
    "# DateOffset对象"
   ]
  },
  {
   "cell_type": "markdown",
   "metadata": {},
   "source": [
    "DateOffset 从名称中就可以看出来是要做日期偏移的，它的参数与 dateutil.relativedelta 基本相同，工作方式如下"
   ]
  },
  {
   "cell_type": "code",
   "execution_count": 75,
   "metadata": {},
   "outputs": [
    {
     "data": {
      "text/plain": [
       "Timestamp('2018-06-25 00:00:00')"
      ]
     },
     "execution_count": 75,
     "metadata": {},
     "output_type": "execute_result"
    }
   ],
   "source": [
    "date = pd.Timestamp(\"2018-06-25\")\n",
    "date"
   ]
  },
  {
   "cell_type": "code",
   "execution_count": 78,
   "metadata": {},
   "outputs": [
    {
     "data": {
      "text/plain": [
       "Timestamp('2017-03-24 00:00:00')"
      ]
     },
     "execution_count": 78,
     "metadata": {},
     "output_type": "execute_result"
    }
   ],
   "source": [
    "date - pd.DateOffset(years=1,months=3, days=1)  #当然可以再里面再添加years、hours等参数"
   ]
  },
  {
   "cell_type": "markdown",
   "metadata": {},
   "source": [
    "# 与时间序列相关的方法"
   ]
  },
  {
   "cell_type": "markdown",
   "metadata": {},
   "source": [
    "在做时间序列相关的工作时，经常要对时间做一些移动/滞后、频率转换、采样等相关操作，我们来看下这些操作如何使用吧。"
   ]
  },
  {
   "cell_type": "markdown",
   "metadata": {},
   "source": [
    "## 移动df.shift()"
   ]
  },
  {
   "cell_type": "markdown",
   "metadata": {},
   "source": [
    "如果你想移动或滞后时间序列，你可以使用 shift 方法。"
   ]
  },
  {
   "cell_type": "code",
   "execution_count": 79,
   "metadata": {},
   "outputs": [
    {
     "data": {
      "text/plain": [
       "2018-06-24     吃饭\n",
       "2018-07-01     睡觉\n",
       "2018-07-08    上厕所\n",
       "2018-07-15    打豆豆\n",
       "Freq: W-SUN, dtype: object"
      ]
     },
     "execution_count": 79,
     "metadata": {},
     "output_type": "execute_result"
    }
   ],
   "source": [
    "index = pd.date_range(\"2018-6-24\", periods=4, freq=\"W\")\n",
    "ts = pd.Series(['吃饭', '睡觉', '上厕所', '打豆豆'], index=index)\n",
    "ts"
   ]
  },
  {
   "cell_type": "code",
   "execution_count": 80,
   "metadata": {},
   "outputs": [
    {
     "data": {
      "text/plain": [
       "2018-06-24    上厕所\n",
       "2018-07-01    打豆豆\n",
       "2018-07-08    NaN\n",
       "2018-07-15    NaN\n",
       "Freq: W-SUN, dtype: object"
      ]
     },
     "execution_count": 80,
     "metadata": {},
     "output_type": "execute_result"
    }
   ],
   "source": [
    "ts.shift(-2)       #将数据往后移两位"
   ]
  },
  {
   "cell_type": "code",
   "execution_count": 89,
   "metadata": {},
   "outputs": [
    {
     "data": {
      "text/plain": [
       "2018-06-24    上厕所\n",
       "2018-07-01    打豆豆\n",
       "2018-07-08    NaN\n",
       "2018-07-15    NaN\n",
       "Freq: W-SUN, dtype: object"
      ]
     },
     "execution_count": 89,
     "metadata": {},
     "output_type": "execute_result"
    }
   ],
   "source": [
    "ts.shift(-2)     #将数据往前移两位"
   ]
  },
  {
   "cell_type": "markdown",
   "metadata": {},
   "source": [
    "可以看到，Series 所有的值都移动了 2 个距离。\n",
    "\n",
    "如果不想移动值，而是移动日期索引，可以使用 freq 参数，它可以接受一个 DateOffset 类或其他timedelta 类对象或一个 offset 别名。\n",
    "\n",
    "所有别名详细介绍见：Offset Aliases (http://pandas.pydata.org/pandas-docs/stable/timeseries.html#offset-aliases)"
   ]
  },
  {
   "cell_type": "code",
   "execution_count": 44,
   "metadata": {},
   "outputs": [
    {
     "data": {
      "text/plain": [
       "2018-06-26     吃饭\n",
       "2018-07-03     睡觉\n",
       "2018-07-10    上厕所\n",
       "2018-07-17    打豆豆\n",
       "Freq: W-TUE, dtype: object"
      ]
     },
     "execution_count": 44,
     "metadata": {},
     "output_type": "execute_result"
    }
   ],
   "source": [
    "ts.shift(2, freq='D')  "
   ]
  },
  {
   "cell_type": "markdown",
   "metadata": {},
   "source": [
    "## 频率转换df.asfreq()"
   ]
  },
  {
   "cell_type": "markdown",
   "metadata": {},
   "source": [
    "频率转换可以使用 asfreq 函数来实现。下面演示了将频率由周转为了天"
   ]
  },
  {
   "cell_type": "code",
   "execution_count": 81,
   "metadata": {},
   "outputs": [
    {
     "data": {
      "text/html": [
       "<div>\n",
       "<style scoped>\n",
       "    .dataframe tbody tr th:only-of-type {\n",
       "        vertical-align: middle;\n",
       "    }\n",
       "\n",
       "    .dataframe tbody tr th {\n",
       "        vertical-align: top;\n",
       "    }\n",
       "\n",
       "    .dataframe thead th {\n",
       "        text-align: right;\n",
       "    }\n",
       "</style>\n",
       "<table border=\"1\" class=\"dataframe\">\n",
       "  <thead>\n",
       "    <tr style=\"text-align: right;\">\n",
       "      <th></th>\n",
       "      <th>收盘价</th>\n",
       "      <th>最高价</th>\n",
       "      <th>最低价</th>\n",
       "      <th>开盘价</th>\n",
       "      <th>涨跌额</th>\n",
       "      <th>涨跌幅</th>\n",
       "      <th>成交量</th>\n",
       "      <th>成交额</th>\n",
       "    </tr>\n",
       "    <tr>\n",
       "      <th>日期</th>\n",
       "      <th></th>\n",
       "      <th></th>\n",
       "      <th></th>\n",
       "      <th></th>\n",
       "      <th></th>\n",
       "      <th></th>\n",
       "      <th></th>\n",
       "      <th></th>\n",
       "    </tr>\n",
       "  </thead>\n",
       "  <tbody>\n",
       "    <tr>\n",
       "      <td>2017-09-14</td>\n",
       "      <td>3371.4256</td>\n",
       "      <td>3391.6435</td>\n",
       "      <td>3361.3335</td>\n",
       "      <td>3383.4700</td>\n",
       "      <td>-12.7214</td>\n",
       "      <td>-0.3759</td>\n",
       "      <td>221306487</td>\n",
       "      <td>256744421274</td>\n",
       "    </tr>\n",
       "    <tr>\n",
       "      <td>2017-09-13</td>\n",
       "      <td>3384.1470</td>\n",
       "      <td>3387.1397</td>\n",
       "      <td>3366.5412</td>\n",
       "      <td>3374.7185</td>\n",
       "      <td>4.659</td>\n",
       "      <td>0.1379</td>\n",
       "      <td>194550715</td>\n",
       "      <td>230733408867</td>\n",
       "    </tr>\n",
       "    <tr>\n",
       "      <td>2017-09-12</td>\n",
       "      <td>3379.4880</td>\n",
       "      <td>3391.0694</td>\n",
       "      <td>3370.8519</td>\n",
       "      <td>3381.4870</td>\n",
       "      <td>3.0692</td>\n",
       "      <td>0.0909</td>\n",
       "      <td>272910319</td>\n",
       "      <td>325024951982</td>\n",
       "    </tr>\n",
       "    <tr>\n",
       "      <td>2017-09-11</td>\n",
       "      <td>3376.4188</td>\n",
       "      <td>3384.8100</td>\n",
       "      <td>3360.0462</td>\n",
       "      <td>3365.3506</td>\n",
       "      <td>11.1762</td>\n",
       "      <td>0.3321</td>\n",
       "      <td>219011019</td>\n",
       "      <td>256888810547</td>\n",
       "    </tr>\n",
       "    <tr>\n",
       "      <td>2017-09-08</td>\n",
       "      <td>3365.2426</td>\n",
       "      <td>3380.8898</td>\n",
       "      <td>3353.6876</td>\n",
       "      <td>3364.4275</td>\n",
       "      <td>-0.2548</td>\n",
       "      <td>-0.0076</td>\n",
       "      <td>198405184</td>\n",
       "      <td>235160227356</td>\n",
       "    </tr>\n",
       "  </tbody>\n",
       "</table>\n",
       "</div>"
      ],
      "text/plain": [
       "                  收盘价        最高价        最低价        开盘价      涨跌额     涨跌幅  \\\n",
       "日期                                                                        \n",
       "2017-09-14  3371.4256  3391.6435  3361.3335  3383.4700 -12.7214 -0.3759   \n",
       "2017-09-13  3384.1470  3387.1397  3366.5412  3374.7185    4.659  0.1379   \n",
       "2017-09-12  3379.4880  3391.0694  3370.8519  3381.4870   3.0692  0.0909   \n",
       "2017-09-11  3376.4188  3384.8100  3360.0462  3365.3506  11.1762  0.3321   \n",
       "2017-09-08  3365.2426  3380.8898  3353.6876  3364.4275  -0.2548 -0.0076   \n",
       "\n",
       "                  成交量           成交额  \n",
       "日期                                   \n",
       "2017-09-14  221306487  256744421274  \n",
       "2017-09-13  194550715  230733408867  \n",
       "2017-09-12  272910319  325024951982  \n",
       "2017-09-11  219011019  256888810547  \n",
       "2017-09-08  198405184  235160227356  "
      ]
     },
     "execution_count": 81,
     "metadata": {},
     "output_type": "execute_result"
    }
   ],
   "source": [
    "data.head()"
   ]
  },
  {
   "cell_type": "code",
   "execution_count": 82,
   "metadata": {},
   "outputs": [
    {
     "data": {
      "text/html": [
       "<div>\n",
       "<style scoped>\n",
       "    .dataframe tbody tr th:only-of-type {\n",
       "        vertical-align: middle;\n",
       "    }\n",
       "\n",
       "    .dataframe tbody tr th {\n",
       "        vertical-align: top;\n",
       "    }\n",
       "\n",
       "    .dataframe thead th {\n",
       "        text-align: right;\n",
       "    }\n",
       "</style>\n",
       "<table border=\"1\" class=\"dataframe\">\n",
       "  <thead>\n",
       "    <tr style=\"text-align: right;\">\n",
       "      <th></th>\n",
       "      <th>收盘价</th>\n",
       "      <th>最高价</th>\n",
       "      <th>最低价</th>\n",
       "      <th>开盘价</th>\n",
       "      <th>涨跌额</th>\n",
       "      <th>涨跌幅</th>\n",
       "      <th>成交量</th>\n",
       "      <th>成交额</th>\n",
       "    </tr>\n",
       "    <tr>\n",
       "      <th>日期</th>\n",
       "      <th></th>\n",
       "      <th></th>\n",
       "      <th></th>\n",
       "      <th></th>\n",
       "      <th></th>\n",
       "      <th></th>\n",
       "      <th></th>\n",
       "      <th></th>\n",
       "    </tr>\n",
       "  </thead>\n",
       "  <tbody>\n",
       "    <tr>\n",
       "      <td>1990-12-19</td>\n",
       "      <td>99.98</td>\n",
       "      <td>99.98</td>\n",
       "      <td>95.79</td>\n",
       "      <td>96.05</td>\n",
       "      <td>None</td>\n",
       "      <td>None</td>\n",
       "      <td>1260</td>\n",
       "      <td>494000</td>\n",
       "    </tr>\n",
       "    <tr>\n",
       "      <td>1990-12-20</td>\n",
       "      <td>104.39</td>\n",
       "      <td>104.39</td>\n",
       "      <td>99.98</td>\n",
       "      <td>104.30</td>\n",
       "      <td>4.41</td>\n",
       "      <td>4.4109</td>\n",
       "      <td>197</td>\n",
       "      <td>84000</td>\n",
       "    </tr>\n",
       "    <tr>\n",
       "      <td>1990-12-21</td>\n",
       "      <td>109.13</td>\n",
       "      <td>109.13</td>\n",
       "      <td>103.73</td>\n",
       "      <td>109.07</td>\n",
       "      <td>4.74</td>\n",
       "      <td>4.5407</td>\n",
       "      <td>28</td>\n",
       "      <td>16000</td>\n",
       "    </tr>\n",
       "    <tr>\n",
       "      <td>1990-12-24</td>\n",
       "      <td>114.55</td>\n",
       "      <td>114.55</td>\n",
       "      <td>109.13</td>\n",
       "      <td>113.57</td>\n",
       "      <td>5.42</td>\n",
       "      <td>4.9666</td>\n",
       "      <td>32</td>\n",
       "      <td>31000</td>\n",
       "    </tr>\n",
       "    <tr>\n",
       "      <td>1990-12-25</td>\n",
       "      <td>120.25</td>\n",
       "      <td>120.25</td>\n",
       "      <td>114.55</td>\n",
       "      <td>120.09</td>\n",
       "      <td>5.7</td>\n",
       "      <td>4.976</td>\n",
       "      <td>15</td>\n",
       "      <td>6000</td>\n",
       "    </tr>\n",
       "  </tbody>\n",
       "</table>\n",
       "</div>"
      ],
      "text/plain": [
       "               收盘价     最高价     最低价     开盘价   涨跌额     涨跌幅   成交量     成交额\n",
       "日期                                                                    \n",
       "1990-12-19   99.98   99.98   95.79   96.05  None    None  1260  494000\n",
       "1990-12-20  104.39  104.39   99.98  104.30  4.41  4.4109   197   84000\n",
       "1990-12-21  109.13  109.13  103.73  109.07  4.74  4.5407    28   16000\n",
       "1990-12-24  114.55  114.55  109.13  113.57  5.42  4.9666    32   31000\n",
       "1990-12-25  120.25  120.25  114.55  120.09   5.7   4.976    15    6000"
      ]
     },
     "execution_count": 82,
     "metadata": {},
     "output_type": "execute_result"
    }
   ],
   "source": [
    "data=data.sort_index()\n",
    "data.head()"
   ]
  },
  {
   "cell_type": "code",
   "execution_count": 87,
   "metadata": {},
   "outputs": [
    {
     "data": {
      "text/html": [
       "<div>\n",
       "<style scoped>\n",
       "    .dataframe tbody tr th:only-of-type {\n",
       "        vertical-align: middle;\n",
       "    }\n",
       "\n",
       "    .dataframe tbody tr th {\n",
       "        vertical-align: top;\n",
       "    }\n",
       "\n",
       "    .dataframe thead th {\n",
       "        text-align: right;\n",
       "    }\n",
       "</style>\n",
       "<table border=\"1\" class=\"dataframe\">\n",
       "  <thead>\n",
       "    <tr style=\"text-align: right;\">\n",
       "      <th></th>\n",
       "      <th>收盘价</th>\n",
       "      <th>最高价</th>\n",
       "      <th>最低价</th>\n",
       "      <th>开盘价</th>\n",
       "      <th>涨跌额</th>\n",
       "      <th>涨跌幅</th>\n",
       "      <th>成交量</th>\n",
       "      <th>成交额</th>\n",
       "    </tr>\n",
       "    <tr>\n",
       "      <th>日期</th>\n",
       "      <th></th>\n",
       "      <th></th>\n",
       "      <th></th>\n",
       "      <th></th>\n",
       "      <th></th>\n",
       "      <th></th>\n",
       "      <th></th>\n",
       "      <th></th>\n",
       "    </tr>\n",
       "  </thead>\n",
       "  <tbody>\n",
       "    <tr>\n",
       "      <td>1990-12-20</td>\n",
       "      <td>104.3900</td>\n",
       "      <td>104.3900</td>\n",
       "      <td>99.9800</td>\n",
       "      <td>104.3000</td>\n",
       "      <td>4.41</td>\n",
       "      <td>4.4109</td>\n",
       "      <td>197.0</td>\n",
       "      <td>84000</td>\n",
       "    </tr>\n",
       "    <tr>\n",
       "      <td>1990-12-22</td>\n",
       "      <td>NaN</td>\n",
       "      <td>NaN</td>\n",
       "      <td>NaN</td>\n",
       "      <td>NaN</td>\n",
       "      <td>NaN</td>\n",
       "      <td>NaN</td>\n",
       "      <td>NaN</td>\n",
       "      <td>NaN</td>\n",
       "    </tr>\n",
       "    <tr>\n",
       "      <td>1990-12-24</td>\n",
       "      <td>114.5500</td>\n",
       "      <td>114.5500</td>\n",
       "      <td>109.1300</td>\n",
       "      <td>113.5700</td>\n",
       "      <td>5.42</td>\n",
       "      <td>4.9666</td>\n",
       "      <td>32.0</td>\n",
       "      <td>31000</td>\n",
       "    </tr>\n",
       "    <tr>\n",
       "      <td>1990-12-26</td>\n",
       "      <td>125.2700</td>\n",
       "      <td>125.2700</td>\n",
       "      <td>120.2500</td>\n",
       "      <td>125.2700</td>\n",
       "      <td>5.02</td>\n",
       "      <td>4.1746</td>\n",
       "      <td>100.0</td>\n",
       "      <td>53000</td>\n",
       "    </tr>\n",
       "    <tr>\n",
       "      <td>1990-12-28</td>\n",
       "      <td>126.4500</td>\n",
       "      <td>126.4500</td>\n",
       "      <td>125.2800</td>\n",
       "      <td>126.3900</td>\n",
       "      <td>1.17</td>\n",
       "      <td>0.9339</td>\n",
       "      <td>108.0</td>\n",
       "      <td>88000</td>\n",
       "    </tr>\n",
       "    <tr>\n",
       "      <td>...</td>\n",
       "      <td>...</td>\n",
       "      <td>...</td>\n",
       "      <td>...</td>\n",
       "      <td>...</td>\n",
       "      <td>...</td>\n",
       "      <td>...</td>\n",
       "      <td>...</td>\n",
       "      <td>...</td>\n",
       "    </tr>\n",
       "    <tr>\n",
       "      <td>2017-09-05</td>\n",
       "      <td>3384.3170</td>\n",
       "      <td>3390.8233</td>\n",
       "      <td>3371.5706</td>\n",
       "      <td>3377.1968</td>\n",
       "      <td>4.734</td>\n",
       "      <td>0.1401</td>\n",
       "      <td>216552946.0</td>\n",
       "      <td>245596608276</td>\n",
       "    </tr>\n",
       "    <tr>\n",
       "      <td>2017-09-07</td>\n",
       "      <td>3365.4974</td>\n",
       "      <td>3387.7956</td>\n",
       "      <td>3363.1765</td>\n",
       "      <td>3383.6281</td>\n",
       "      <td>-19.8914</td>\n",
       "      <td>-0.5876</td>\n",
       "      <td>221118685.0</td>\n",
       "      <td>264037023512</td>\n",
       "    </tr>\n",
       "    <tr>\n",
       "      <td>2017-09-09</td>\n",
       "      <td>NaN</td>\n",
       "      <td>NaN</td>\n",
       "      <td>NaN</td>\n",
       "      <td>NaN</td>\n",
       "      <td>NaN</td>\n",
       "      <td>NaN</td>\n",
       "      <td>NaN</td>\n",
       "      <td>NaN</td>\n",
       "    </tr>\n",
       "    <tr>\n",
       "      <td>2017-09-11</td>\n",
       "      <td>3376.4188</td>\n",
       "      <td>3384.8100</td>\n",
       "      <td>3360.0462</td>\n",
       "      <td>3365.3506</td>\n",
       "      <td>11.1762</td>\n",
       "      <td>0.3321</td>\n",
       "      <td>219011019.0</td>\n",
       "      <td>256888810547</td>\n",
       "    </tr>\n",
       "    <tr>\n",
       "      <td>2017-09-13</td>\n",
       "      <td>3384.1470</td>\n",
       "      <td>3387.1397</td>\n",
       "      <td>3366.5412</td>\n",
       "      <td>3374.7185</td>\n",
       "      <td>4.659</td>\n",
       "      <td>0.1379</td>\n",
       "      <td>194550715.0</td>\n",
       "      <td>230733408867</td>\n",
       "    </tr>\n",
       "  </tbody>\n",
       "</table>\n",
       "<p>4883 rows × 8 columns</p>\n",
       "</div>"
      ],
      "text/plain": [
       "                  收盘价        最高价        最低价        开盘价      涨跌额     涨跌幅  \\\n",
       "日期                                                                        \n",
       "1990-12-20   104.3900   104.3900    99.9800   104.3000     4.41  4.4109   \n",
       "1990-12-22        NaN        NaN        NaN        NaN      NaN     NaN   \n",
       "1990-12-24   114.5500   114.5500   109.1300   113.5700     5.42  4.9666   \n",
       "1990-12-26   125.2700   125.2700   120.2500   125.2700     5.02  4.1746   \n",
       "1990-12-28   126.4500   126.4500   125.2800   126.3900     1.17  0.9339   \n",
       "...               ...        ...        ...        ...      ...     ...   \n",
       "2017-09-05  3384.3170  3390.8233  3371.5706  3377.1968    4.734  0.1401   \n",
       "2017-09-07  3365.4974  3387.7956  3363.1765  3383.6281 -19.8914 -0.5876   \n",
       "2017-09-09        NaN        NaN        NaN        NaN      NaN     NaN   \n",
       "2017-09-11  3376.4188  3384.8100  3360.0462  3365.3506  11.1762  0.3321   \n",
       "2017-09-13  3384.1470  3387.1397  3366.5412  3374.7185    4.659  0.1379   \n",
       "\n",
       "                    成交量           成交额  \n",
       "日期                                     \n",
       "1990-12-20        197.0         84000  \n",
       "1990-12-22          NaN           NaN  \n",
       "1990-12-24         32.0         31000  \n",
       "1990-12-26        100.0         53000  \n",
       "1990-12-28        108.0         88000  \n",
       "...                 ...           ...  \n",
       "2017-09-05  216552946.0  245596608276  \n",
       "2017-09-07  221118685.0  264037023512  \n",
       "2017-09-09          NaN           NaN  \n",
       "2017-09-11  219011019.0  256888810547  \n",
       "2017-09-13  194550715.0  230733408867  \n",
       "\n",
       "[4883 rows x 8 columns]"
      ]
     },
     "execution_count": 87,
     "metadata": {},
     "output_type": "execute_result"
    }
   ],
   "source": [
    "data[1:].asfreq(freq='2D')"
   ]
  },
  {
   "cell_type": "markdown",
   "metadata": {},
   "source": [
    "## 重采样resample对象"
   ]
  },
  {
   "cell_type": "markdown",
   "metadata": {},
   "source": [
    "esample 表示根据日期维度进行数据聚合，可以按照分钟、小时、工作日、周、月、年等来作为日期维度，更多的日期维度见 Offset Aliases( http://pandas.pydata.org/pandas-docs/stable/timeseries.html#offset-aliases )。\n"
   ]
  },
  {
   "cell_type": "markdown",
   "metadata": {},
   "source": [
    "比如我们想要查看每一年的成交量"
   ]
  },
  {
   "cell_type": "code",
   "execution_count": 88,
   "metadata": {},
   "outputs": [
    {
     "data": {
      "text/html": [
       "<div>\n",
       "<style scoped>\n",
       "    .dataframe tbody tr th:only-of-type {\n",
       "        vertical-align: middle;\n",
       "    }\n",
       "\n",
       "    .dataframe tbody tr th {\n",
       "        vertical-align: top;\n",
       "    }\n",
       "\n",
       "    .dataframe thead th {\n",
       "        text-align: right;\n",
       "    }\n",
       "</style>\n",
       "<table border=\"1\" class=\"dataframe\">\n",
       "  <thead>\n",
       "    <tr style=\"text-align: right;\">\n",
       "      <th></th>\n",
       "      <th>收盘价</th>\n",
       "      <th>最高价</th>\n",
       "      <th>最低价</th>\n",
       "      <th>开盘价</th>\n",
       "      <th>涨跌额</th>\n",
       "      <th>涨跌幅</th>\n",
       "      <th>成交量</th>\n",
       "      <th>成交额</th>\n",
       "    </tr>\n",
       "    <tr>\n",
       "      <th>日期</th>\n",
       "      <th></th>\n",
       "      <th></th>\n",
       "      <th></th>\n",
       "      <th></th>\n",
       "      <th></th>\n",
       "      <th></th>\n",
       "      <th></th>\n",
       "      <th></th>\n",
       "    </tr>\n",
       "  </thead>\n",
       "  <tbody>\n",
       "    <tr>\n",
       "      <td>1990-12-19</td>\n",
       "      <td>99.98</td>\n",
       "      <td>99.98</td>\n",
       "      <td>95.79</td>\n",
       "      <td>96.05</td>\n",
       "      <td>None</td>\n",
       "      <td>None</td>\n",
       "      <td>1260</td>\n",
       "      <td>494000</td>\n",
       "    </tr>\n",
       "    <tr>\n",
       "      <td>1990-12-20</td>\n",
       "      <td>104.39</td>\n",
       "      <td>104.39</td>\n",
       "      <td>99.98</td>\n",
       "      <td>104.30</td>\n",
       "      <td>4.41</td>\n",
       "      <td>4.4109</td>\n",
       "      <td>197</td>\n",
       "      <td>84000</td>\n",
       "    </tr>\n",
       "    <tr>\n",
       "      <td>1990-12-21</td>\n",
       "      <td>109.13</td>\n",
       "      <td>109.13</td>\n",
       "      <td>103.73</td>\n",
       "      <td>109.07</td>\n",
       "      <td>4.74</td>\n",
       "      <td>4.5407</td>\n",
       "      <td>28</td>\n",
       "      <td>16000</td>\n",
       "    </tr>\n",
       "    <tr>\n",
       "      <td>1990-12-24</td>\n",
       "      <td>114.55</td>\n",
       "      <td>114.55</td>\n",
       "      <td>109.13</td>\n",
       "      <td>113.57</td>\n",
       "      <td>5.42</td>\n",
       "      <td>4.9666</td>\n",
       "      <td>32</td>\n",
       "      <td>31000</td>\n",
       "    </tr>\n",
       "    <tr>\n",
       "      <td>1990-12-25</td>\n",
       "      <td>120.25</td>\n",
       "      <td>120.25</td>\n",
       "      <td>114.55</td>\n",
       "      <td>120.09</td>\n",
       "      <td>5.7</td>\n",
       "      <td>4.976</td>\n",
       "      <td>15</td>\n",
       "      <td>6000</td>\n",
       "    </tr>\n",
       "  </tbody>\n",
       "</table>\n",
       "</div>"
      ],
      "text/plain": [
       "               收盘价     最高价     最低价     开盘价   涨跌额     涨跌幅   成交量     成交额\n",
       "日期                                                                    \n",
       "1990-12-19   99.98   99.98   95.79   96.05  None    None  1260  494000\n",
       "1990-12-20  104.39  104.39   99.98  104.30  4.41  4.4109   197   84000\n",
       "1990-12-21  109.13  109.13  103.73  109.07  4.74  4.5407    28   16000\n",
       "1990-12-24  114.55  114.55  109.13  113.57  5.42  4.9666    32   31000\n",
       "1990-12-25  120.25  120.25  114.55  120.09   5.7   4.976    15    6000"
      ]
     },
     "execution_count": 88,
     "metadata": {},
     "output_type": "execute_result"
    }
   ],
   "source": [
    "data.head()"
   ]
  },
  {
   "cell_type": "code",
   "execution_count": 53,
   "metadata": {},
   "outputs": [
    {
     "data": {
      "text/plain": [
       "日期\n",
       "1990-12-31            1884\n",
       "1991-12-31         1258450\n",
       "1992-12-31        18243640\n",
       "1993-12-31       153907556\n",
       "1994-12-31       686346172\n",
       "1995-12-31       517133001\n",
       "1996-12-31      1178384863\n",
       "1997-12-31      1272013024\n",
       "1998-12-31      1457521860\n",
       "1999-12-31      2388494426\n",
       "2000-12-31      3434397008\n",
       "2001-12-31      2970147444\n",
       "2002-12-31      2349106210\n",
       "2003-12-31      3130995928\n",
       "2004-12-31      3853626296\n",
       "2005-12-31      3984953878\n",
       "2006-12-31     10282524705\n",
       "2007-12-31     24323472663\n",
       "2008-12-31     16283039153\n",
       "2009-12-31     33637048392\n",
       "2010-12-31     25909513462\n",
       "2011-12-31     21109960286\n",
       "2012-12-31     18855913817\n",
       "2013-12-31     26459332613\n",
       "2014-12-31     42386825292\n",
       "2015-12-31    101470359632\n",
       "2016-12-31     44635983674\n",
       "2017-12-31     32067658038\n",
       "Freq: A-DEC, Name: 成交量, dtype: int64"
      ]
     },
     "execution_count": 53,
     "metadata": {},
     "output_type": "execute_result"
    }
   ],
   "source": [
    "data.resample(\"Y\")[\"成交量\"].sum()"
   ]
  },
  {
   "cell_type": "code",
   "execution_count": 54,
   "metadata": {},
   "outputs": [
    {
     "data": {
      "text/plain": [
       "日期\n",
       "1990-12-31          1884\n",
       "1991-01-31         67197\n",
       "1991-02-28         50982\n",
       "1991-03-31         24528\n",
       "1991-04-30         70671\n",
       "                 ...    \n",
       "2017-05-31    3228021196\n",
       "2017-06-30    3204652287\n",
       "2017-07-31    4187623651\n",
       "2017-08-31    5059863051\n",
       "2017-09-30    2322871573\n",
       "Freq: M, Name: 成交量, Length: 322, dtype: int64"
      ]
     },
     "execution_count": 54,
     "metadata": {},
     "output_type": "execute_result"
    }
   ],
   "source": [
    "data.resample(\"M\")[\"成交量\"].sum()"
   ]
  },
  {
   "cell_type": "code",
   "execution_count": 89,
   "metadata": {},
   "outputs": [
    {
     "data": {
      "text/html": [
       "<div>\n",
       "<style scoped>\n",
       "    .dataframe tbody tr th:only-of-type {\n",
       "        vertical-align: middle;\n",
       "    }\n",
       "\n",
       "    .dataframe tbody tr th {\n",
       "        vertical-align: top;\n",
       "    }\n",
       "\n",
       "    .dataframe thead th {\n",
       "        text-align: right;\n",
       "    }\n",
       "</style>\n",
       "<table border=\"1\" class=\"dataframe\">\n",
       "  <thead>\n",
       "    <tr style=\"text-align: right;\">\n",
       "      <th></th>\n",
       "      <th>收盘价</th>\n",
       "      <th>最高价</th>\n",
       "      <th>最低价</th>\n",
       "      <th>开盘价</th>\n",
       "      <th>涨跌额</th>\n",
       "      <th>涨跌幅</th>\n",
       "      <th>成交量</th>\n",
       "      <th>成交额</th>\n",
       "    </tr>\n",
       "    <tr>\n",
       "      <th>日期</th>\n",
       "      <th></th>\n",
       "      <th></th>\n",
       "      <th></th>\n",
       "      <th></th>\n",
       "      <th></th>\n",
       "      <th></th>\n",
       "      <th></th>\n",
       "      <th></th>\n",
       "    </tr>\n",
       "  </thead>\n",
       "  <tbody>\n",
       "    <tr>\n",
       "      <td>1990-12-19</td>\n",
       "      <td>99.9800</td>\n",
       "      <td>99.9800</td>\n",
       "      <td>95.7900</td>\n",
       "      <td>96.0500</td>\n",
       "      <td>None</td>\n",
       "      <td>None</td>\n",
       "      <td>1260</td>\n",
       "      <td>494000</td>\n",
       "    </tr>\n",
       "    <tr>\n",
       "      <td>1990-12-20</td>\n",
       "      <td>104.3900</td>\n",
       "      <td>104.3900</td>\n",
       "      <td>99.9800</td>\n",
       "      <td>104.3000</td>\n",
       "      <td>4.41</td>\n",
       "      <td>4.4109</td>\n",
       "      <td>197</td>\n",
       "      <td>84000</td>\n",
       "    </tr>\n",
       "    <tr>\n",
       "      <td>1990-12-21</td>\n",
       "      <td>109.1300</td>\n",
       "      <td>109.1300</td>\n",
       "      <td>103.7300</td>\n",
       "      <td>109.0700</td>\n",
       "      <td>4.74</td>\n",
       "      <td>4.5407</td>\n",
       "      <td>28</td>\n",
       "      <td>16000</td>\n",
       "    </tr>\n",
       "    <tr>\n",
       "      <td>1990-12-24</td>\n",
       "      <td>114.5500</td>\n",
       "      <td>114.5500</td>\n",
       "      <td>109.1300</td>\n",
       "      <td>113.5700</td>\n",
       "      <td>5.42</td>\n",
       "      <td>4.9666</td>\n",
       "      <td>32</td>\n",
       "      <td>31000</td>\n",
       "    </tr>\n",
       "    <tr>\n",
       "      <td>1990-12-25</td>\n",
       "      <td>120.2500</td>\n",
       "      <td>120.2500</td>\n",
       "      <td>114.5500</td>\n",
       "      <td>120.0900</td>\n",
       "      <td>5.7</td>\n",
       "      <td>4.976</td>\n",
       "      <td>15</td>\n",
       "      <td>6000</td>\n",
       "    </tr>\n",
       "    <tr>\n",
       "      <td>...</td>\n",
       "      <td>...</td>\n",
       "      <td>...</td>\n",
       "      <td>...</td>\n",
       "      <td>...</td>\n",
       "      <td>...</td>\n",
       "      <td>...</td>\n",
       "      <td>...</td>\n",
       "      <td>...</td>\n",
       "    </tr>\n",
       "    <tr>\n",
       "      <td>2017-09-08</td>\n",
       "      <td>3365.2426</td>\n",
       "      <td>3380.8898</td>\n",
       "      <td>3353.6876</td>\n",
       "      <td>3364.4275</td>\n",
       "      <td>-0.2548</td>\n",
       "      <td>-0.0076</td>\n",
       "      <td>198405184</td>\n",
       "      <td>235160227356</td>\n",
       "    </tr>\n",
       "    <tr>\n",
       "      <td>2017-09-11</td>\n",
       "      <td>3376.4188</td>\n",
       "      <td>3384.8100</td>\n",
       "      <td>3360.0462</td>\n",
       "      <td>3365.3506</td>\n",
       "      <td>11.1762</td>\n",
       "      <td>0.3321</td>\n",
       "      <td>219011019</td>\n",
       "      <td>256888810547</td>\n",
       "    </tr>\n",
       "    <tr>\n",
       "      <td>2017-09-12</td>\n",
       "      <td>3379.4880</td>\n",
       "      <td>3391.0694</td>\n",
       "      <td>3370.8519</td>\n",
       "      <td>3381.4870</td>\n",
       "      <td>3.0692</td>\n",
       "      <td>0.0909</td>\n",
       "      <td>272910319</td>\n",
       "      <td>325024951982</td>\n",
       "    </tr>\n",
       "    <tr>\n",
       "      <td>2017-09-13</td>\n",
       "      <td>3384.1470</td>\n",
       "      <td>3387.1397</td>\n",
       "      <td>3366.5412</td>\n",
       "      <td>3374.7185</td>\n",
       "      <td>4.659</td>\n",
       "      <td>0.1379</td>\n",
       "      <td>194550715</td>\n",
       "      <td>230733408867</td>\n",
       "    </tr>\n",
       "    <tr>\n",
       "      <td>2017-09-14</td>\n",
       "      <td>3371.4256</td>\n",
       "      <td>3391.6435</td>\n",
       "      <td>3361.3335</td>\n",
       "      <td>3383.4700</td>\n",
       "      <td>-12.7214</td>\n",
       "      <td>-0.3759</td>\n",
       "      <td>221306487</td>\n",
       "      <td>256744421274</td>\n",
       "    </tr>\n",
       "  </tbody>\n",
       "</table>\n",
       "<p>6542 rows × 8 columns</p>\n",
       "</div>"
      ],
      "text/plain": [
       "                  收盘价        最高价        最低价        开盘价      涨跌额     涨跌幅  \\\n",
       "日期                                                                        \n",
       "1990-12-19    99.9800    99.9800    95.7900    96.0500     None    None   \n",
       "1990-12-20   104.3900   104.3900    99.9800   104.3000     4.41  4.4109   \n",
       "1990-12-21   109.1300   109.1300   103.7300   109.0700     4.74  4.5407   \n",
       "1990-12-24   114.5500   114.5500   109.1300   113.5700     5.42  4.9666   \n",
       "1990-12-25   120.2500   120.2500   114.5500   120.0900      5.7   4.976   \n",
       "...               ...        ...        ...        ...      ...     ...   \n",
       "2017-09-08  3365.2426  3380.8898  3353.6876  3364.4275  -0.2548 -0.0076   \n",
       "2017-09-11  3376.4188  3384.8100  3360.0462  3365.3506  11.1762  0.3321   \n",
       "2017-09-12  3379.4880  3391.0694  3370.8519  3381.4870   3.0692  0.0909   \n",
       "2017-09-13  3384.1470  3387.1397  3366.5412  3374.7185    4.659  0.1379   \n",
       "2017-09-14  3371.4256  3391.6435  3361.3335  3383.4700 -12.7214 -0.3759   \n",
       "\n",
       "                  成交量           成交额  \n",
       "日期                                   \n",
       "1990-12-19       1260        494000  \n",
       "1990-12-20        197         84000  \n",
       "1990-12-21         28         16000  \n",
       "1990-12-24         32         31000  \n",
       "1990-12-25         15          6000  \n",
       "...               ...           ...  \n",
       "2017-09-08  198405184  235160227356  \n",
       "2017-09-11  219011019  256888810547  \n",
       "2017-09-12  272910319  325024951982  \n",
       "2017-09-13  194550715  230733408867  \n",
       "2017-09-14  221306487  256744421274  \n",
       "\n",
       "[6542 rows x 8 columns]"
      ]
     },
     "execution_count": 89,
     "metadata": {},
     "output_type": "execute_result"
    }
   ],
   "source": [
    "data"
   ]
  },
  {
   "cell_type": "code",
   "execution_count": 99,
   "metadata": {},
   "outputs": [
    {
     "data": {
      "text/html": [
       "<div>\n",
       "<style scoped>\n",
       "    .dataframe tbody tr th:only-of-type {\n",
       "        vertical-align: middle;\n",
       "    }\n",
       "\n",
       "    .dataframe tbody tr th {\n",
       "        vertical-align: top;\n",
       "    }\n",
       "\n",
       "    .dataframe thead th {\n",
       "        text-align: right;\n",
       "    }\n",
       "</style>\n",
       "<table border=\"1\" class=\"dataframe\">\n",
       "  <thead>\n",
       "    <tr style=\"text-align: right;\">\n",
       "      <th></th>\n",
       "      <th>收盘价</th>\n",
       "      <th>最高价</th>\n",
       "      <th>最低价</th>\n",
       "      <th>开盘价</th>\n",
       "      <th>涨跌额</th>\n",
       "      <th>涨跌幅</th>\n",
       "      <th>成交量</th>\n",
       "      <th>成交额</th>\n",
       "    </tr>\n",
       "    <tr>\n",
       "      <th>日期</th>\n",
       "      <th></th>\n",
       "      <th></th>\n",
       "      <th></th>\n",
       "      <th></th>\n",
       "      <th></th>\n",
       "      <th></th>\n",
       "      <th></th>\n",
       "      <th></th>\n",
       "    </tr>\n",
       "  </thead>\n",
       "  <tbody>\n",
       "    <tr>\n",
       "      <td>1990-12-19</td>\n",
       "      <td>99.9800</td>\n",
       "      <td>99.9800</td>\n",
       "      <td>95.7900</td>\n",
       "      <td>96.0500</td>\n",
       "      <td>None</td>\n",
       "      <td>None</td>\n",
       "      <td>1260</td>\n",
       "      <td>494000</td>\n",
       "    </tr>\n",
       "    <tr>\n",
       "      <td>1990-12-20</td>\n",
       "      <td>104.3900</td>\n",
       "      <td>104.3900</td>\n",
       "      <td>99.9800</td>\n",
       "      <td>104.3000</td>\n",
       "      <td>4.41</td>\n",
       "      <td>4.4109</td>\n",
       "      <td>197</td>\n",
       "      <td>84000</td>\n",
       "    </tr>\n",
       "    <tr>\n",
       "      <td>1990-12-21</td>\n",
       "      <td>109.1300</td>\n",
       "      <td>109.1300</td>\n",
       "      <td>103.7300</td>\n",
       "      <td>109.0700</td>\n",
       "      <td>4.74</td>\n",
       "      <td>4.5407</td>\n",
       "      <td>28</td>\n",
       "      <td>16000</td>\n",
       "    </tr>\n",
       "    <tr>\n",
       "      <td>1990-12-24</td>\n",
       "      <td>114.5500</td>\n",
       "      <td>114.5500</td>\n",
       "      <td>109.1300</td>\n",
       "      <td>113.5700</td>\n",
       "      <td>5.42</td>\n",
       "      <td>4.9666</td>\n",
       "      <td>32</td>\n",
       "      <td>31000</td>\n",
       "    </tr>\n",
       "    <tr>\n",
       "      <td>1990-12-25</td>\n",
       "      <td>120.2500</td>\n",
       "      <td>120.2500</td>\n",
       "      <td>114.5500</td>\n",
       "      <td>120.0900</td>\n",
       "      <td>5.7</td>\n",
       "      <td>4.976</td>\n",
       "      <td>15</td>\n",
       "      <td>6000</td>\n",
       "    </tr>\n",
       "    <tr>\n",
       "      <td>...</td>\n",
       "      <td>...</td>\n",
       "      <td>...</td>\n",
       "      <td>...</td>\n",
       "      <td>...</td>\n",
       "      <td>...</td>\n",
       "      <td>...</td>\n",
       "      <td>...</td>\n",
       "      <td>...</td>\n",
       "    </tr>\n",
       "    <tr>\n",
       "      <td>2017-09-08</td>\n",
       "      <td>3365.2426</td>\n",
       "      <td>3380.8898</td>\n",
       "      <td>3353.6876</td>\n",
       "      <td>3364.4275</td>\n",
       "      <td>-0.2548</td>\n",
       "      <td>-0.0076</td>\n",
       "      <td>198405184</td>\n",
       "      <td>235160227356</td>\n",
       "    </tr>\n",
       "    <tr>\n",
       "      <td>2017-09-11</td>\n",
       "      <td>3376.4188</td>\n",
       "      <td>3384.8100</td>\n",
       "      <td>3360.0462</td>\n",
       "      <td>3365.3506</td>\n",
       "      <td>11.1762</td>\n",
       "      <td>0.3321</td>\n",
       "      <td>219011019</td>\n",
       "      <td>256888810547</td>\n",
       "    </tr>\n",
       "    <tr>\n",
       "      <td>2017-09-12</td>\n",
       "      <td>3379.4880</td>\n",
       "      <td>3391.0694</td>\n",
       "      <td>3370.8519</td>\n",
       "      <td>3381.4870</td>\n",
       "      <td>3.0692</td>\n",
       "      <td>0.0909</td>\n",
       "      <td>272910319</td>\n",
       "      <td>325024951982</td>\n",
       "    </tr>\n",
       "    <tr>\n",
       "      <td>2017-09-13</td>\n",
       "      <td>3384.1470</td>\n",
       "      <td>3387.1397</td>\n",
       "      <td>3366.5412</td>\n",
       "      <td>3374.7185</td>\n",
       "      <td>4.659</td>\n",
       "      <td>0.1379</td>\n",
       "      <td>194550715</td>\n",
       "      <td>230733408867</td>\n",
       "    </tr>\n",
       "    <tr>\n",
       "      <td>2017-09-14</td>\n",
       "      <td>3371.4256</td>\n",
       "      <td>3391.6435</td>\n",
       "      <td>3361.3335</td>\n",
       "      <td>3383.4700</td>\n",
       "      <td>-12.7214</td>\n",
       "      <td>-0.3759</td>\n",
       "      <td>221306487</td>\n",
       "      <td>256744421274</td>\n",
       "    </tr>\n",
       "  </tbody>\n",
       "</table>\n",
       "<p>6542 rows × 8 columns</p>\n",
       "</div>"
      ],
      "text/plain": [
       "                  收盘价        最高价        最低价        开盘价      涨跌额     涨跌幅  \\\n",
       "日期                                                                        \n",
       "1990-12-19    99.9800    99.9800    95.7900    96.0500     None    None   \n",
       "1990-12-20   104.3900   104.3900    99.9800   104.3000     4.41  4.4109   \n",
       "1990-12-21   109.1300   109.1300   103.7300   109.0700     4.74  4.5407   \n",
       "1990-12-24   114.5500   114.5500   109.1300   113.5700     5.42  4.9666   \n",
       "1990-12-25   120.2500   120.2500   114.5500   120.0900      5.7   4.976   \n",
       "...               ...        ...        ...        ...      ...     ...   \n",
       "2017-09-08  3365.2426  3380.8898  3353.6876  3364.4275  -0.2548 -0.0076   \n",
       "2017-09-11  3376.4188  3384.8100  3360.0462  3365.3506  11.1762  0.3321   \n",
       "2017-09-12  3379.4880  3391.0694  3370.8519  3381.4870   3.0692  0.0909   \n",
       "2017-09-13  3384.1470  3387.1397  3366.5412  3374.7185    4.659  0.1379   \n",
       "2017-09-14  3371.4256  3391.6435  3361.3335  3383.4700 -12.7214 -0.3759   \n",
       "\n",
       "                  成交量           成交额  \n",
       "日期                                   \n",
       "1990-12-19       1260        494000  \n",
       "1990-12-20        197         84000  \n",
       "1990-12-21         28         16000  \n",
       "1990-12-24         32         31000  \n",
       "1990-12-25         15          6000  \n",
       "...               ...           ...  \n",
       "2017-09-08  198405184  235160227356  \n",
       "2017-09-11  219011019  256888810547  \n",
       "2017-09-12  272910319  325024951982  \n",
       "2017-09-13  194550715  230733408867  \n",
       "2017-09-14  221306487  256744421274  \n",
       "\n",
       "[6542 rows x 8 columns]"
      ]
     },
     "execution_count": 99,
     "metadata": {},
     "output_type": "execute_result"
    }
   ],
   "source": [
    "data"
   ]
  },
  {
   "cell_type": "code",
   "execution_count": 101,
   "metadata": {},
   "outputs": [
    {
     "data": {
      "text/plain": [
       "array([False, False, False, ..., False, False, False])"
      ]
     },
     "execution_count": 101,
     "metadata": {},
     "output_type": "execute_result"
    }
   ],
   "source": [
    "data.index.is_month_end"
   ]
  },
  {
   "cell_type": "code",
   "execution_count": 103,
   "metadata": {},
   "outputs": [
    {
     "data": {
      "text/plain": [
       "array([False, False, False, ..., False, False, False])"
      ]
     },
     "execution_count": 103,
     "metadata": {},
     "output_type": "execute_result"
    }
   ],
   "source": [
    "data.index.day==15"
   ]
  },
  {
   "cell_type": "code",
   "execution_count": 104,
   "metadata": {},
   "outputs": [
    {
     "data": {
      "text/plain": [
       "array([False, False, False, ..., False, False, False])"
      ]
     },
     "execution_count": 104,
     "metadata": {},
     "output_type": "execute_result"
    }
   ],
   "source": [
    "(data.index.is_month_end)|(data.index.day==15)"
   ]
  },
  {
   "cell_type": "code",
   "execution_count": 105,
   "metadata": {},
   "outputs": [
    {
     "data": {
      "text/html": [
       "<div>\n",
       "<style scoped>\n",
       "    .dataframe tbody tr th:only-of-type {\n",
       "        vertical-align: middle;\n",
       "    }\n",
       "\n",
       "    .dataframe tbody tr th {\n",
       "        vertical-align: top;\n",
       "    }\n",
       "\n",
       "    .dataframe thead th {\n",
       "        text-align: right;\n",
       "    }\n",
       "</style>\n",
       "<table border=\"1\" class=\"dataframe\">\n",
       "  <thead>\n",
       "    <tr style=\"text-align: right;\">\n",
       "      <th></th>\n",
       "      <th>收盘价</th>\n",
       "      <th>最高价</th>\n",
       "      <th>最低价</th>\n",
       "      <th>开盘价</th>\n",
       "      <th>涨跌额</th>\n",
       "      <th>涨跌幅</th>\n",
       "      <th>成交量</th>\n",
       "      <th>成交额</th>\n",
       "    </tr>\n",
       "    <tr>\n",
       "      <th>日期</th>\n",
       "      <th></th>\n",
       "      <th></th>\n",
       "      <th></th>\n",
       "      <th></th>\n",
       "      <th></th>\n",
       "      <th></th>\n",
       "      <th></th>\n",
       "      <th></th>\n",
       "    </tr>\n",
       "  </thead>\n",
       "  <tbody>\n",
       "    <tr>\n",
       "      <td>1990-12-31</td>\n",
       "      <td>127.6100</td>\n",
       "      <td>127.6100</td>\n",
       "      <td>126.4800</td>\n",
       "      <td>126.5600</td>\n",
       "      <td>1.16</td>\n",
       "      <td>0.9174</td>\n",
       "      <td>78</td>\n",
       "      <td>60000</td>\n",
       "    </tr>\n",
       "    <tr>\n",
       "      <td>1991-01-15</td>\n",
       "      <td>134.7400</td>\n",
       "      <td>134.7400</td>\n",
       "      <td>134.1900</td>\n",
       "      <td>134.2100</td>\n",
       "      <td>0.07</td>\n",
       "      <td>0.052</td>\n",
       "      <td>1446</td>\n",
       "      <td>1010000</td>\n",
       "    </tr>\n",
       "    <tr>\n",
       "      <td>1991-01-31</td>\n",
       "      <td>129.9700</td>\n",
       "      <td>130.4600</td>\n",
       "      <td>129.9300</td>\n",
       "      <td>129.9300</td>\n",
       "      <td>-0.47</td>\n",
       "      <td>-0.3603</td>\n",
       "      <td>510</td>\n",
       "      <td>244000</td>\n",
       "    </tr>\n",
       "    <tr>\n",
       "      <td>1991-02-28</td>\n",
       "      <td>133.0100</td>\n",
       "      <td>133.5200</td>\n",
       "      <td>132.9800</td>\n",
       "      <td>132.9900</td>\n",
       "      <td>-0.46</td>\n",
       "      <td>-0.3446</td>\n",
       "      <td>2258</td>\n",
       "      <td>1187000</td>\n",
       "    </tr>\n",
       "    <tr>\n",
       "      <td>1991-03-15</td>\n",
       "      <td>125.1700</td>\n",
       "      <td>125.6200</td>\n",
       "      <td>125.0800</td>\n",
       "      <td>125.0800</td>\n",
       "      <td>-0.46</td>\n",
       "      <td>-0.3662</td>\n",
       "      <td>790</td>\n",
       "      <td>403000</td>\n",
       "    </tr>\n",
       "    <tr>\n",
       "      <td>...</td>\n",
       "      <td>...</td>\n",
       "      <td>...</td>\n",
       "      <td>...</td>\n",
       "      <td>...</td>\n",
       "      <td>...</td>\n",
       "      <td>...</td>\n",
       "      <td>...</td>\n",
       "      <td>...</td>\n",
       "    </tr>\n",
       "    <tr>\n",
       "      <td>2017-06-15</td>\n",
       "      <td>3132.4863</td>\n",
       "      <td>3137.5854</td>\n",
       "      <td>3117.0840</td>\n",
       "      <td>3125.5865</td>\n",
       "      <td>1.8123</td>\n",
       "      <td>0.0579</td>\n",
       "      <td>146954245</td>\n",
       "      <td>171124529384</td>\n",
       "    </tr>\n",
       "    <tr>\n",
       "      <td>2017-06-30</td>\n",
       "      <td>3192.4269</td>\n",
       "      <td>3193.2411</td>\n",
       "      <td>3171.5703</td>\n",
       "      <td>3176.9481</td>\n",
       "      <td>4.3644</td>\n",
       "      <td>0.1369</td>\n",
       "      <td>121464543</td>\n",
       "      <td>143195603458</td>\n",
       "    </tr>\n",
       "    <tr>\n",
       "      <td>2017-07-31</td>\n",
       "      <td>3273.0283</td>\n",
       "      <td>3276.9461</td>\n",
       "      <td>3251.1941</td>\n",
       "      <td>3252.7519</td>\n",
       "      <td>19.7879</td>\n",
       "      <td>0.6083</td>\n",
       "      <td>246039440</td>\n",
       "      <td>253525920802</td>\n",
       "    </tr>\n",
       "    <tr>\n",
       "      <td>2017-08-15</td>\n",
       "      <td>3251.2617</td>\n",
       "      <td>3263.5892</td>\n",
       "      <td>3235.1013</td>\n",
       "      <td>3235.2298</td>\n",
       "      <td>13.9015</td>\n",
       "      <td>0.4294</td>\n",
       "      <td>182297997</td>\n",
       "      <td>204595858616</td>\n",
       "    </tr>\n",
       "    <tr>\n",
       "      <td>2017-08-31</td>\n",
       "      <td>3360.8103</td>\n",
       "      <td>3367.3581</td>\n",
       "      <td>3340.6865</td>\n",
       "      <td>3361.4621</td>\n",
       "      <td>-2.8163</td>\n",
       "      <td>-0.0837</td>\n",
       "      <td>234419781</td>\n",
       "      <td>269133107793</td>\n",
       "    </tr>\n",
       "  </tbody>\n",
       "</table>\n",
       "<p>434 rows × 8 columns</p>\n",
       "</div>"
      ],
      "text/plain": [
       "                  收盘价        最高价        最低价        开盘价      涨跌额     涨跌幅  \\\n",
       "日期                                                                        \n",
       "1990-12-31   127.6100   127.6100   126.4800   126.5600     1.16  0.9174   \n",
       "1991-01-15   134.7400   134.7400   134.1900   134.2100     0.07   0.052   \n",
       "1991-01-31   129.9700   130.4600   129.9300   129.9300    -0.47 -0.3603   \n",
       "1991-02-28   133.0100   133.5200   132.9800   132.9900    -0.46 -0.3446   \n",
       "1991-03-15   125.1700   125.6200   125.0800   125.0800    -0.46 -0.3662   \n",
       "...               ...        ...        ...        ...      ...     ...   \n",
       "2017-06-15  3132.4863  3137.5854  3117.0840  3125.5865   1.8123  0.0579   \n",
       "2017-06-30  3192.4269  3193.2411  3171.5703  3176.9481   4.3644  0.1369   \n",
       "2017-07-31  3273.0283  3276.9461  3251.1941  3252.7519  19.7879  0.6083   \n",
       "2017-08-15  3251.2617  3263.5892  3235.1013  3235.2298  13.9015  0.4294   \n",
       "2017-08-31  3360.8103  3367.3581  3340.6865  3361.4621  -2.8163 -0.0837   \n",
       "\n",
       "                  成交量           成交额  \n",
       "日期                                   \n",
       "1990-12-31         78         60000  \n",
       "1991-01-15       1446       1010000  \n",
       "1991-01-31        510        244000  \n",
       "1991-02-28       2258       1187000  \n",
       "1991-03-15        790        403000  \n",
       "...               ...           ...  \n",
       "2017-06-15  146954245  171124529384  \n",
       "2017-06-30  121464543  143195603458  \n",
       "2017-07-31  246039440  253525920802  \n",
       "2017-08-15  182297997  204595858616  \n",
       "2017-08-31  234419781  269133107793  \n",
       "\n",
       "[434 rows x 8 columns]"
      ]
     },
     "execution_count": 105,
     "metadata": {},
     "output_type": "execute_result"
    }
   ],
   "source": [
    "data[(data.index.is_month_end)|(data.index.day==15)]"
   ]
  }
 ],
 "metadata": {
  "kernelspec": {
   "display_name": "Python 3",
   "language": "python",
   "name": "python3"
  },
  "language_info": {
   "codemirror_mode": {
    "name": "ipython",
    "version": 3
   },
   "file_extension": ".py",
   "mimetype": "text/x-python",
   "name": "python",
   "nbconvert_exporter": "python",
   "pygments_lexer": "ipython3",
   "version": "3.7.6"
  },
  "toc": {
   "base_numbering": 1,
   "nav_menu": {},
   "number_sections": true,
   "sideBar": true,
   "skip_h1_title": false,
   "title_cell": "Table of Contents",
   "title_sidebar": "Contents",
   "toc_cell": false,
   "toc_position": {
    "height": "calc(100% - 180px)",
    "left": "10px",
    "top": "150px",
    "width": "229.601px"
   },
   "toc_section_display": true,
   "toc_window_display": true
  }
 },
 "nbformat": 4,
 "nbformat_minor": 2
}
