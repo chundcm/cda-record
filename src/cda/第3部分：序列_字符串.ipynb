{
 "cells": [
  {
   "cell_type": "markdown",
   "metadata": {
    "toc-hr-collapsed": false
   },
   "source": [
    "# 第3部分：序列_字符串"
   ]
  },
  {
   "cell_type": "markdown",
   "metadata": {},
   "source": [
    "- **Created By：菊安酱**\n",
    "- **Date：2020.07.11**"
   ]
  },
  {
   "cell_type": "code",
   "execution_count": null,
   "metadata": {},
   "outputs": [],
   "source": [
    "# 全行输出设置\n",
    "from IPython.core.interactiveshell import InteractiveShell\n",
    "InteractiveShell.ast_node_interactivity = \"all\""
   ]
  },
  {
   "cell_type": "markdown",
   "metadata": {},
   "source": [
    "## 序列的概念    \n",
    "- 序列是一处存放多个值的连续内存空间。\n",
    "- 序列的每一个值称为元素，每一个元素都会分配一个数字，这个数字成为索引（或位置）。\n",
    "- 在Python中，序列结构的主要有字符串、列表、元组、字典、集合。（我们后面会陆续介绍）"
   ]
  },
  {
   "cell_type": "markdown",
   "metadata": {},
   "source": [
    "<img src='https://pictes.oss-cn-beijing.aliyuncs.com/%E8%8F%8A%E5%AE%89%E9%85%B1/Python%E5%9F%BA%E7%A1%80/%E5%BA%8F%E5%88%97.png' width=500>"
   ]
  },
  {
   "cell_type": "markdown",
   "metadata": {},
   "source": [
    "## 索引"
   ]
  },
  {
   "cell_type": "markdown",
   "metadata": {},
   "source": [
    "（1）从左往右  \n",
    "    \n",
    "    \n",
    "- 序列中每一个元素都有一个编号，称为索引。\n",
    "- 这个索引是从0开始递增的，下标为0表示第一个元素，下标为2表示第2个元素，如此类推。   \n",
    "\n",
    "<img src='https://pictes.oss-cn-beijing.aliyuncs.com/%E8%8F%8A%E5%AE%89%E9%85%B1/Python%E5%9F%BA%E7%A1%80/%E4%BB%8E%E5%B7%A6%E5%BE%80%E5%8F%B3%E5%BA%8F%E5%88%97.png'>"
   ]
  },
  {
   "cell_type": "markdown",
   "metadata": {},
   "source": [
    "举个例子，比如字符串a=\"我爱北京天安门\"，索引如下：    \n",
    "<img src='https://pictes.oss-cn-beijing.aliyuncs.com/%E8%8F%8A%E5%AE%89%E9%85%B1/Python%E5%9F%BA%E7%A1%80/%E4%BB%8E%E5%B7%A6%E5%BE%80%E5%8F%B3%E5%BA%8F%E5%88%97%E4%BE%8B%E5%AD%90.png'>"
   ]
  },
  {
   "cell_type": "markdown",
   "metadata": {},
   "source": [
    "如果我想截取出“爱”字，就可以直接使用“爱”对应的索引值“1”："
   ]
  },
  {
   "cell_type": "code",
   "execution_count": null,
   "metadata": {},
   "outputs": [],
   "source": [
    "a=\"我爱北京天安门\"\n",
    "a[1]"
   ]
  },
  {
   "cell_type": "markdown",
   "metadata": {},
   "source": [
    "（2）从右往左\n",
    "\n",
    "第二种索引是从右到左，即最后一个元素的索引值是-1，倒数第二个是-2，如此类推。\n",
    "<img src='https://pictes.oss-cn-beijing.aliyuncs.com/%E8%8F%8A%E5%AE%89%E9%85%B1/Python%E5%9F%BA%E7%A1%80/%E4%BB%8E%E5%8F%B3%E5%BE%80%E5%B7%A6%E5%BA%8F%E5%88%97.png'>"
   ]
  },
  {
   "cell_type": "markdown",
   "metadata": {},
   "source": [
    "那么，如果还是字符串a=\"我爱北京天安门\"，取出“爱”字就还可以使用另一种索引方法：\n",
    "<img src='https://pictes.oss-cn-beijing.aliyuncs.com/%E8%8F%8A%E5%AE%89%E9%85%B1/Python%E5%9F%BA%E7%A1%80/%E4%BB%8E%E5%8F%B3%E5%BE%80%E5%B7%A6%E4%BE%8B%E5%AD%90.png'>"
   ]
  },
  {
   "cell_type": "code",
   "execution_count": null,
   "metadata": {},
   "outputs": [],
   "source": [
    "a=\"我爱北京天安门\"\n",
    "a[-6]"
   ]
  },
  {
   "cell_type": "markdown",
   "metadata": {},
   "source": [
    "\n",
    "\n"
   ]
  },
  {
   "cell_type": "markdown",
   "metadata": {},
   "source": [
    "## 切片"
   ]
  },
  {
   "cell_type": "markdown",
   "metadata": {},
   "source": [
    "<img src='https://pictes.oss-cn-beijing.aliyuncs.com/%E8%8F%8A%E5%AE%89%E9%85%B1/Python%E5%9F%BA%E7%A1%80/%E5%88%87%E7%89%87.gif'>"
   ]
  },
  {
   "cell_type": "markdown",
   "metadata": {},
   "source": [
    "- 如果我们想截取的是“我爱北京天安门”其中的“天安门”三个字  \n",
    "- 使用单个索引的方法就无法实现，此时我们可以使用切片操作  \n",
    "- 切片可以访问一定范围的元素\n",
    "- 通过切片返回的是一个新的序列"
   ]
  },
  {
   "cell_type": "markdown",
   "metadata": {},
   "source": [
    "切片语法格式：   \n",
    "    \n",
    "<font color=\"bule\" size=2 >**sname[start: end :step]**\n",
    "\n",
    "- **sname：序列的名称**\n",
    "- **start：切片的开始位置，包括该位置（如果不写，默认为0或-1）**\n",
    "- **end：切片的截止位置，不包括该位置（如果不写，默认是start的另一端）**\n",
    "- **step：切片步长，不写的话默认为1**,**<font color=#DC143C> （如果是正数意味着从左取到右，负数意味着从右取到左）**"
   ]
  },
  {
   "cell_type": "markdown",
   "metadata": {},
   "source": [
    "<img src='https://pictes.oss-cn-beijing.aliyuncs.com/%E8%8F%8A%E5%AE%89%E9%85%B1/Python%E5%9F%BA%E7%A1%80/%E4%BB%8E%E5%B7%A6%E5%BE%80%E5%8F%B3%E5%BA%8F%E5%88%97%E4%BE%8B%E5%AD%90.png'>\n",
    "\n",
    "比如，还是a=\"我爱北京天安门\"  \n",
    "- 如果我们取出“天安门”这三字，start就是“天”（索引值为4）\n",
    "- end是“门”（索引值为6，但是不包括6，还需要再往前一步取，end的索引值需要是7）\n",
    "- 因为我们是一个个取，不是“越位”“跳着”取，且从左到右取，因此步长step为1"
   ]
  },
  {
   "cell_type": "code",
   "execution_count": null,
   "metadata": {},
   "outputs": [],
   "source": [
    "a=\"我爱北京天安门\"\n",
    "a[4:7:1]\n",
    "\n",
    "#注意，由于“天安门”这三个字是从左到右取，决定了步长一定是正数，且为1，即使我们换一种索引值来取也是一样。"
   ]
  },
  {
   "cell_type": "markdown",
   "metadata": {},
   "source": [
    "如果我们想要取完所有字符，可以开始位置和截止位置都不写："
   ]
  },
  {
   "cell_type": "code",
   "execution_count": null,
   "metadata": {},
   "outputs": [],
   "source": [
    "a=\"我爱北京天安门\"\n",
    "a[::1]\n",
    "a[::]"
   ]
  },
  {
   "cell_type": "markdown",
   "metadata": {},
   "source": [
    "如果要取出“我北天门”这四个字（跳一个字符来读取），可以设置步长为2："
   ]
  },
  {
   "cell_type": "code",
   "execution_count": null,
   "metadata": {},
   "outputs": [],
   "source": [
    "a=\"我爱北京天安门\"\n",
    "a[::2]"
   ]
  },
  {
   "cell_type": "markdown",
   "metadata": {},
   "source": [
    "相反的方向取，即'门天北我'，步长2变成-2就可以:   "
   ]
  },
  {
   "cell_type": "code",
   "execution_count": null,
   "metadata": {},
   "outputs": [],
   "source": [
    "a=\"我爱北京天安门\"\n",
    "a[::-2]"
   ]
  },
  {
   "cell_type": "markdown",
   "metadata": {},
   "source": [
    "```\n",
    "   \n",
    "      \n",
    "```\n",
    "## 序列相加\n",
    "\n",
    "- 两种相同类型的序列可以相加，前提是类型相同！\n",
    "- 两个序列相加，不会去除重复的元素"
   ]
  },
  {
   "cell_type": "code",
   "execution_count": null,
   "metadata": {},
   "outputs": [],
   "source": [
    "\"我爱北京天安门\"+\",\"+\"天安门上太阳升\""
   ]
  },
  {
   "cell_type": "code",
   "execution_count": null,
   "metadata": {},
   "outputs": [],
   "source": [
    "\"Python\" + \"CDA \""
   ]
  },
  {
   "cell_type": "markdown",
   "metadata": {},
   "source": [
    "```\n",
    "     \n",
    "     \n",
    "```\n",
    "## 序列乘法"
   ]
  },
  {
   "cell_type": "code",
   "execution_count": null,
   "metadata": {},
   "outputs": [],
   "source": [
    "\"Python\"*3"
   ]
  },
  {
   "cell_type": "markdown",
   "metadata": {},
   "source": [
    "```\n",
    "   \n",
    "    \n",
    "     \n",
    "```\n",
    "## 判断元素存在否"
   ]
  },
  {
   "cell_type": "code",
   "execution_count": null,
   "metadata": {},
   "outputs": [],
   "source": [
    "'y' in 'Python'"
   ]
  },
  {
   "cell_type": "code",
   "execution_count": null,
   "metadata": {},
   "outputs": [],
   "source": [
    "'m' in 'Python'"
   ]
  },
  {
   "cell_type": "markdown",
   "metadata": {},
   "source": [
    "```\n",
    "   \n",
    "    \n",
    "     \n",
    "```\n",
    "\n",
    "## 序列相关BIF\n",
    "\n",
    "- len()返回序列包含的元素的个数\n",
    "- max()返回序列中最大元素\n",
    "- min()返回序列中最小元素"
   ]
  },
  {
   "cell_type": "code",
   "execution_count": null,
   "metadata": {},
   "outputs": [],
   "source": [
    "len(\"12345\")\n",
    "\n",
    "max(\"12345\")\n",
    "\n",
    "min(\"12345\")"
   ]
  },
  {
   "cell_type": "markdown",
   "metadata": {},
   "source": [
    "```\n",
    "   \n",
    "   \n",
    "```\n",
    "\n",
    "**序列相关的其他内置函数**\n",
    "    \n",
    "- list()    ：  将序列转为列表  \n",
    "- str()     ：  将序列转为字符串  \n",
    "- sum()     ：  计算元素和  \n",
    "- sorted()  ：  对元素排序  \n",
    "- reversed()：  反向序列中的元素  \n",
    "\n",
    "注: 字符串也是一个可迭代对象, 迭代次数就是字符串的字符数"
   ]
  },
  {
   "cell_type": "markdown",
   "metadata": {},
   "source": [
    "```\n",
    "\n",
    "``` \n",
    "# 字符串"
   ]
  },
  {
   "cell_type": "markdown",
   "metadata": {},
   "source": [
    "- 字符串就是连续的字符序列，是计算机所能表示的一切字符的集合。\n",
    "- 在Python中，字符串属于不可变序列。\n",
    "- 通常使用单引号''、双引号\"\"、或者三引号''' '''或\"\"\" \"\"\"括起来。\n",
    "    - 这三种引号形式在语义上没有差别，只是在形式上有些差别。\n",
    "    - 单引号和双引号的字符序列必须在同一行上\n",
    "    - 而三引号内的字符序列可以分布在多行。\n",
    "\n",
    "- 请注意，字符串两边的单引号 '' 或双引号 \"\" 本身只是一种表示方式，并不是字符串的一部分。\n",
    "\n",
    "&emsp; 在交互式解释器中，输出的字符串会用引号引起来，特殊字符会用反斜杠转义。虽然可能和输入看上去不太一样，但是两个字符串是相等的。如果字符串中只有单引号而没有双引号，就用双引号引用，否则用单引号引用。print() 函数生成可读性更好的输出, 它会省去引号并且打印出转义后的特殊字符："
   ]
  },
  {
   "cell_type": "code",
   "execution_count": null,
   "metadata": {},
   "outputs": [],
   "source": [
    "a = '我是字符串'"
   ]
  },
  {
   "cell_type": "code",
   "execution_count": null,
   "metadata": {},
   "outputs": [],
   "source": [
    "b = \"我也是字符串\""
   ]
  },
  {
   "cell_type": "code",
   "execution_count": null,
   "metadata": {},
   "outputs": [],
   "source": [
    "c = \"\"\"我还是字符串\n",
    "     字符串分布在多行\"\"\"\n",
    "print(c)"
   ]
  },
  {
   "cell_type": "markdown",
   "metadata": {},
   "source": [
    "```\n",
    "\n",
    "\n",
    "```\n",
    "## 字符串的索引和切片   \n",
    "&emsp;字符串也可以被截取（检索）。类似于 C ，字符串的第一个字符索引为 0 。Python 没有单独的字符类型；一个字符就是一个简单的长度为 1 的字符串。    \n",
    "&emsp;索引也可以是负数，这样的话就会从字符串的右边开始计算："
   ]
  },
  {
   "cell_type": "code",
   "execution_count": null,
   "metadata": {},
   "outputs": [],
   "source": [
    "word = 'Python'"
   ]
  },
  {
   "cell_type": "code",
   "execution_count": null,
   "metadata": {},
   "outputs": [],
   "source": [
    "word[0]\n",
    "word[5]"
   ]
  },
  {
   "cell_type": "code",
   "execution_count": null,
   "metadata": {},
   "outputs": [],
   "source": [
    "word[-1]\n",
    "word[-6]"
   ]
  },
  {
   "cell_type": "markdown",
   "metadata": {},
   "source": [
    "除了索引，还支持切片。索引用于获得单个字符，切片让你获得一个子字符串：   \n",
    "- 字符串切片的标准语法：**string[开始位置:终止位置:步长和方向]**<br />\n",
    "- 注意：选区的区间属于**左闭右开**型，即从“起始”位开始，到“结束”位的前一位结束（不包含结束位本身）。"
   ]
  },
  {
   "cell_type": "code",
   "execution_count": null,
   "metadata": {},
   "outputs": [],
   "source": [
    "word[0:2]\n",
    "word[2:5]"
   ]
  },
  {
   "cell_type": "markdown",
   "metadata": {},
   "source": [
    "切片包含起始的字符，不包含末尾的字符。这使得 s[:i] + s[i:] 永远等于 s："
   ]
  },
  {
   "cell_type": "code",
   "execution_count": null,
   "metadata": {},
   "outputs": [],
   "source": [
    "word[:2] + word[2:]"
   ]
  },
  {
   "cell_type": "markdown",
   "metadata": {},
   "source": [
    "切片的步长可以通过第三个参数提供："
   ]
  },
  {
   "cell_type": "code",
   "execution_count": null,
   "metadata": {},
   "outputs": [],
   "source": [
    "word[2:5:]"
   ]
  },
  {
   "cell_type": "code",
   "execution_count": null,
   "metadata": {},
   "outputs": [],
   "source": [
    "word[::2]"
   ]
  },
  {
   "cell_type": "code",
   "execution_count": null,
   "metadata": {},
   "outputs": [],
   "source": [
    "word[5:2:-1]"
   ]
  },
  {
   "cell_type": "markdown",
   "metadata": {},
   "source": [
    "```\n",
    "\n",
    "\n",
    "```\n",
    "## 转义字符   \n",
    "&emsp; \\ 可以转义很多字符，比如 \\n 表示换行，\\t 表示制表符，字符 \\ 本身也要转义，所以 \\\\ 表示\n",
    "的字符就是 \\。    \n",
    "&emsp; Python 内还允许用 r' ' 表示字符串为原生字符串其内部默认不转义："
   ]
  },
  {
   "cell_type": "code",
   "execution_count": null,
   "metadata": {},
   "outputs": [],
   "source": [
    "print(\"\\\"ABC\")\n",
    "print('\\'ABC')"
   ]
  },
  {
   "cell_type": "code",
   "execution_count": null,
   "metadata": {},
   "outputs": [],
   "source": [
    "print('ABC\\nDEF')"
   ]
  },
  {
   "cell_type": "code",
   "execution_count": null,
   "metadata": {},
   "outputs": [],
   "source": [
    "print(r'ABC\\nDEF')"
   ]
  },
  {
   "cell_type": "markdown",
   "metadata": {},
   "source": [
    "如果我想打印\\，可以这样操作："
   ]
  },
  {
   "cell_type": "code",
   "execution_count": null,
   "metadata": {},
   "outputs": [],
   "source": [
    "print(\"\\\\\")"
   ]
  },
  {
   "cell_type": "markdown",
   "metadata": {},
   "source": [
    "如果我想打印'或者\",可以这样操作："
   ]
  },
  {
   "cell_type": "code",
   "execution_count": null,
   "metadata": {},
   "outputs": [],
   "source": [
    "print(\"\\'\")"
   ]
  },
  {
   "cell_type": "code",
   "execution_count": null,
   "metadata": {},
   "outputs": [],
   "source": [
    "print(\"\\\"\")"
   ]
  },
  {
   "cell_type": "markdown",
   "metadata": {},
   "source": [
    "&emsp;Python 原生字符串内部无法实现引号独立使用，因为即使是在原生字符串内部也需要使用转义的符号表示后面的引号转义。但可以使用不同的引号来达到目的，如果在字符串内部需要使用两种引号，那么就必须使用多行字符串。同时上面的问题也导致了 Python 的任何字符串不允许结尾出现单数的 \\："
   ]
  },
  {
   "cell_type": "code",
   "execution_count": null,
   "metadata": {},
   "outputs": [],
   "source": [
    "print(\"ABD'C'EF\")"
   ]
  },
  {
   "cell_type": "code",
   "execution_count": null,
   "metadata": {},
   "outputs": [],
   "source": [
    "print('内外\"引号\"不一样就可以')"
   ]
  },
  {
   "cell_type": "code",
   "execution_count": null,
   "metadata": {},
   "outputs": [],
   "source": [
    "print(\"\"\"这样\"无论使用哪种引号'都\"可以\"\"\")"
   ]
  },
  {
   "cell_type": "markdown",
   "metadata": {},
   "source": [
    "如果需要实现以 \\ 结尾的字符串可以通过如下方式实现："
   ]
  },
  {
   "cell_type": "code",
   "execution_count": null,
   "metadata": {},
   "outputs": [],
   "source": [
    "print(\"just want \\\\\") # 普通字符自行按需转义"
   ]
  },
  {
   "cell_type": "markdown",
   "metadata": {},
   "source": [
    "&emsp;多行字符串不仅仅可以包含不同类型的引号，还可以跨行写。例如需要把一段代码作为文档现实给其他人看，直接编写 \\n 是非常不方便的。为了简化，此时就可以使用多行字符串。"
   ]
  },
  {
   "cell_type": "code",
   "execution_count": null,
   "metadata": {},
   "outputs": [],
   "source": [
    "doc = \"\"\"\n",
    "下面的代码就可以实现\n",
    "打印 1-10 中的奇数：\n",
    "\n",
    "for i in range(11):\n",
    "    if i%2 == 1:\n",
    "        print(i)\n",
    "\"\"\""
   ]
  },
  {
   "cell_type": "code",
   "execution_count": null,
   "metadata": {},
   "outputs": [],
   "source": [
    "print(doc)"
   ]
  },
  {
   "cell_type": "markdown",
   "metadata": {},
   "source": [
    "此外，还可以通过如下方式编写多行字符串："
   ]
  },
  {
   "cell_type": "code",
   "execution_count": null,
   "metadata": {},
   "outputs": [],
   "source": [
    " doc2 = (\"第一行，\"\n",
    "        \"第二行，\"\n",
    "        \"每一行都会自动完成\"\n",
    "        \"字符串内部内容的首尾相连！\")"
   ]
  },
  {
   "cell_type": "code",
   "execution_count": null,
   "metadata": {},
   "outputs": [],
   "source": [
    "print(doc2)"
   ]
  },
  {
   "cell_type": "markdown",
   "metadata": {},
   "source": [
    "```\n",
    "\n",
    "\n",
    "```\n",
    "## 字符串常用方法   "
   ]
  },
  {
   "cell_type": "markdown",
   "metadata": {},
   "source": [
    "### 字符串长度   \n",
    "通过len()函数计算字符串的长度时，不区分英文、数字和汉字，所有字符都按一个字符计算。"
   ]
  },
  {
   "cell_type": "code",
   "execution_count": null,
   "metadata": {},
   "outputs": [],
   "source": [
    "len(\"人生苦短1234我用Python\")"
   ]
  },
  {
   "cell_type": "markdown",
   "metadata": {},
   "source": [
    "### 字符串拼接\n",
    "字符串可以通过加法和乘法进行连接和重复："
   ]
  },
  {
   "cell_type": "code",
   "execution_count": null,
   "metadata": {},
   "outputs": [],
   "source": [
    "print(\"Python\" + \"ABCD\")"
   ]
  },
  {
   "cell_type": "code",
   "execution_count": null,
   "metadata": {},
   "outputs": [],
   "source": [
    "print(\"Python\" * 3)"
   ]
  },
  {
   "cell_type": "code",
   "execution_count": null,
   "metadata": {},
   "outputs": [],
   "source": [
    "print(\"Python\" * 3+'ABD'*2)"
   ]
  },
  {
   "cell_type": "markdown",
   "metadata": {},
   "source": [
    "### 字符串检索\n",
    "除了采用切片的方法，字符串对象提供了其他的字符串查找方法。"
   ]
  },
  {
   "cell_type": "markdown",
   "metadata": {},
   "source": [
    "<font color=#00008B > \n",
    " **（1）count()方法**     \n",
    "&emsp;&emsp;&emsp;**语法：   mystr.count(obj, start,end)**    \n",
    "<font color=#000000 >   \n",
    "返回的是：你寻找的对象，在字符串里面出现的次数，比如："
   ]
  },
  {
   "cell_type": "code",
   "execution_count": null,
   "metadata": {},
   "outputs": [],
   "source": [
    "a = '我爱北京天安门，天安门上太阳升'\n",
    "\n",
    "a.count(\"天安门\")"
   ]
  },
  {
   "cell_type": "code",
   "execution_count": null,
   "metadata": {},
   "outputs": [],
   "source": [
    "a.count('天安门',0,10)   #第二个“门”的索引值为10\n",
    "\n",
    "a.count('天安门',0,11) "
   ]
  },
  {
   "cell_type": "markdown",
   "metadata": {},
   "source": [
    "<font color=#00008B > \n",
    "**（2）find()方法**\n",
    "\n",
    "   \n",
    "&emsp;&emsp;**语法：mystr.find(obj，start,end)**  \n",
    "<font color=#000000 >  \n",
    "- 如果对象包含在字符串内,则返回开始的索引值，否则返回-1　\n",
    "- rfind()返回的是最后一次出现的位置\n",
    "<font color=#DC143C >  \n",
    "**注意：find()返回的是索！引！值！**"
   ]
  },
  {
   "cell_type": "code",
   "execution_count": null,
   "metadata": {},
   "outputs": [],
   "source": [
    "a = \"这是一个查找是的函数\""
   ]
  },
  {
   "cell_type": "code",
   "execution_count": null,
   "metadata": {},
   "outputs": [],
   "source": [
    "a.find('是')"
   ]
  },
  {
   "cell_type": "code",
   "execution_count": null,
   "metadata": {},
   "outputs": [],
   "source": [
    "a.rfind('是')"
   ]
  },
  {
   "cell_type": "code",
   "execution_count": null,
   "metadata": {},
   "outputs": [],
   "source": [
    "a.find('是',2,5)"
   ]
  },
  {
   "cell_type": "code",
   "execution_count": null,
   "metadata": {},
   "outputs": [],
   "source": [
    "a.find('我')"
   ]
  },
  {
   "cell_type": "markdown",
   "metadata": {},
   "source": [
    "&ensp; \n",
    "\n",
    "&ensp;\n",
    "<font color=#00008B  >\n",
    "**（3）index()方法**\n",
    "  "
   ]
  },
  {
   "cell_type": "markdown",
   "metadata": {},
   "source": [
    "  \n",
    "- index()方法同find()方法基本一样，也是用于检索字符串类是否包含特定的对象，返回的也是索引值  \n",
    "- 只不过如果要检索的对象如果不存在于字符串内，不会像find()一样返回-1，<font color=#DC143C size=3 >而是直接报错 \n",
    "- rindex()是最后一次出现的位置"
   ]
  },
  {
   "cell_type": "code",
   "execution_count": null,
   "metadata": {},
   "outputs": [],
   "source": [
    "a = \"这是一个查找函数\"\n",
    "\n",
    "a.index('是',0,3)\n",
    "\n",
    "a.index('一')"
   ]
  },
  {
   "cell_type": "code",
   "execution_count": null,
   "metadata": {},
   "outputs": [],
   "source": [
    "a = \"这是一个查找函数\"\n",
    "\n",
    "a.index('我')"
   ]
  },
  {
   "cell_type": "markdown",
   "metadata": {},
   "source": [
    "### 字符串合并"
   ]
  },
  {
   "cell_type": "markdown",
   "metadata": {},
   "source": [
    "<font color=#00008B >    \n",
    "**语法：\"合并符\".join(mystr)**  "
   ]
  },
  {
   "cell_type": "code",
   "execution_count": null,
   "metadata": {},
   "outputs": [],
   "source": [
    "print(\" \".join(\"Python\")) # 使用字符将后面的序列连接起来\n",
    "print(\"--\".join(\"我就是喜欢这么说话你来打我啊！\"))\n",
    "print(\"*\".join('十九是一只非常可爱的喵星人~'))\n",
    "print(\" \".join([\"just\",\"do\",\"it\"])) # 序列也可以是其他的数据类型"
   ]
  },
  {
   "cell_type": "markdown",
   "metadata": {},
   "source": [
    "```\n",
    "\n",
    "```\n",
    "\n",
    "### 字符串分割"
   ]
  },
  {
   "cell_type": "markdown",
   "metadata": {},
   "source": [
    "<font color=#00008B  >    \n",
    "**（1）mystr.split(\"分割符\",分割次数)**"
   ]
  },
  {
   "cell_type": "code",
   "execution_count": null,
   "metadata": {},
   "outputs": [],
   "source": [
    "str_01 = \"123哈 254哈 354534哈 4646\""
   ]
  },
  {
   "cell_type": "code",
   "execution_count": null,
   "metadata": {},
   "outputs": [],
   "source": [
    "str_01.split()             # 切割字符串，默认在空白处切分\n",
    "str_01.split(\"哈\")         # 也可以在指定位置切割\n",
    "str_01.split(\"哈\",2)       # 还可以传入参数去限制分割几次"
   ]
  },
  {
   "cell_type": "markdown",
   "metadata": {},
   "source": [
    "&ensp;\n",
    "&emsp;  \n",
    "**如果想从右边开始分隔（还是加个“r”）：**"
   ]
  },
  {
   "cell_type": "code",
   "execution_count": null,
   "metadata": {},
   "outputs": [],
   "source": [
    "str_01.rsplit(\"哈\")"
   ]
  },
  {
   "cell_type": "code",
   "execution_count": null,
   "metadata": {},
   "outputs": [],
   "source": [
    "str_01.rsplit(\"哈\",2)"
   ]
  },
  {
   "cell_type": "markdown",
   "metadata": {},
   "source": [
    "<font color=#00008B>   \n",
    "    **（2） mystr.splitlines(True或False)**   "
   ]
  },
  {
   "cell_type": "markdown",
   "metadata": {},
   "source": [
    "按照行分隔，返回一个包含各行作为元素的列表。\n",
    "- mystr.splitlines()按照行('\\r', '\\r\\n', \\n')分隔，返回一个包含各行作为元素的列表。\n",
    "- 如果参数 keepends 为 False，不包含换行符，如果为 True，则保留换行符。"
   ]
  },
  {
   "cell_type": "code",
   "execution_count": null,
   "metadata": {},
   "outputs": [],
   "source": [
    "a = \"我说你是人间的四月天\\r笑响点亮了四面风\\r\\n轻灵在春的光艳中交舞着变\\n你是四月早天里的云烟\\n黄昏吹着风的软\\n星子在无意中闪\\n细雨点洒在花前\\n你是一树一树的花开\\n是燕在梁间呢喃\\n——你是爱，是暖，是希望\\n你是人间的四月天！\"\n",
    "b = a.splitlines(False)  #括号里面填False，效果一样，不显示换行符\n",
    "b"
   ]
  },
  {
   "cell_type": "code",
   "execution_count": null,
   "metadata": {},
   "outputs": [],
   "source": [
    "b[2]"
   ]
  },
  {
   "cell_type": "markdown",
   "metadata": {},
   "source": [
    "<font color=#00008B  >     \n",
    "**（3）mystr.partition(分隔符)**  "
   ]
  },
  {
   "cell_type": "markdown",
   "metadata": {},
   "source": [
    "把str以分隔符为标准，分割成三部分,str前，str和str后"
   ]
  },
  {
   "cell_type": "code",
   "execution_count": null,
   "metadata": {},
   "outputs": [],
   "source": [
    "a = 'abcd哈fgabcd哈123'\n",
    "\n",
    "a.split('哈')\n",
    "\n",
    "a.partition('哈')"
   ]
  },
  {
   "cell_type": "markdown",
   "metadata": {},
   "source": [
    "&ensp;\n",
    "&emsp;  \n",
    "如果想从右边开始分割（还是加个“r”）："
   ]
  },
  {
   "cell_type": "code",
   "execution_count": null,
   "metadata": {},
   "outputs": [],
   "source": [
    "a.rpartition('哈')"
   ]
  },
  {
   "cell_type": "markdown",
   "metadata": {},
   "source": [
    "### 字母的大小写转换\n",
    "\n",
    "- str.lower()：全部字符小写\n",
    "- str.upper()：全部字符大写\n",
    "- str.capitalize()：首字母大写\n",
    "- str.title()：每个单词的首字母大写\n",
    "- str.swapcase()：大小写互换"
   ]
  },
  {
   "cell_type": "code",
   "execution_count": null,
   "metadata": {},
   "outputs": [],
   "source": [
    "text = \"apple_pen\""
   ]
  },
  {
   "cell_type": "code",
   "execution_count": null,
   "metadata": {},
   "outputs": [],
   "source": [
    "print(text.upper())                # 字符串全部大写\n",
    "print(text.upper().lower())    # 字符串全部小写\n",
    "print(text.title())                   # 字符串每个单词首字母大写\n",
    "print(text.capitalize())          # 首字母大写\n",
    "print(text.title().swapcase()) # 交换字符串中的大小写"
   ]
  },
  {
   "cell_type": "markdown",
   "metadata": {},
   "source": [
    "### 去除特殊字符  \n",
    "- 删除str字符串两端的空白字符以及特殊字符\n",
    "- 这里的特殊字符包括制表符\\t、回车符\\r、换行符\\n"
   ]
  },
  {
   "cell_type": "code",
   "execution_count": null,
   "metadata": {},
   "outputs": [],
   "source": [
    "b = \"   哈哈  \"\n",
    "\n",
    "b\n",
    "\n",
    "b.strip()"
   ]
  },
  {
   "cell_type": "code",
   "execution_count": null,
   "metadata": {},
   "outputs": [],
   "source": [
    "b = \"\\t哈哈\\r\\n\"\n",
    "\n",
    "b\n",
    "\n",
    "b.strip()"
   ]
  },
  {
   "cell_type": "markdown",
   "metadata": {},
   "source": [
    "如果指定去除字符左右两边某些字符，在strip()内填入你指定的字符即可。"
   ]
  },
  {
   "cell_type": "code",
   "execution_count": null,
   "metadata": {},
   "outputs": [],
   "source": [
    "b = \"@@@哈哈￥￥\"\n",
    "\n",
    "b\n",
    "\n",
    "b.strip(\"@\").strip(\"￥\")"
   ]
  },
  {
   "cell_type": "markdown",
   "metadata": {},
   "source": [
    "- 字符串.rstrip()——只去除右边的空格和特殊字符\n",
    "- 字符串.lstrip()——只去除左边的空格和特殊字符"
   ]
  },
  {
   "cell_type": "code",
   "execution_count": null,
   "metadata": {},
   "outputs": [],
   "source": [
    "a = '\\n哈哈\\t  '\n",
    "a.lstrip()\n",
    "a.rstrip()"
   ]
  },
  {
   "cell_type": "markdown",
   "metadata": {},
   "source": [
    "&emsp;  \n",
    "\n",
    "&emsp;  \n",
    "### 字符串替换的方法\n",
    "\n",
    "**（1）replace()  \n",
    "&emsp;&emsp;&emsp;字符串.replace(被替换的字符, 用来替换的字符, 替换次数)**   \n",
    "\n",
    "- 如果想要去除字符串里面某个字符，可以用replace()方法。\n",
    "- 用来替换的字符参数为空字符即可"
   ]
  },
  {
   "cell_type": "code",
   "execution_count": null,
   "metadata": {},
   "outputs": [],
   "source": [
    "\"我爱北京天安门，天安门上太阳升\".replace('天安门', '故宫')"
   ]
  },
  {
   "cell_type": "code",
   "execution_count": null,
   "metadata": {},
   "outputs": [],
   "source": [
    "\"我爱北京天安门，天安门上太阳升\".replace('天安门', '故宫',1)"
   ]
  },
  {
   "cell_type": "markdown",
   "metadata": {},
   "source": [
    "```\n",
    "\n",
    "```"
   ]
  },
  {
   "cell_type": "markdown",
   "metadata": {},
   "source": [
    "```\n",
    "\n",
    "\n",
    "\n",
    "```  \n",
    "# 字符串格式化\n",
    "<strong><font  color=\"#FF0000\" size=3 >这两天知识学完后再回头看这一节内容，会有新的领悟。</font><br /></strong>"
   ]
  },
  {
   "cell_type": "markdown",
   "metadata": {},
   "source": [
    "如果我们希望数值在字符串中运算，该怎么办？"
   ]
  },
  {
   "cell_type": "code",
   "execution_count": null,
   "metadata": {},
   "outputs": [],
   "source": [
    "print(\"8*8\")"
   ]
  },
  {
   "cell_type": "code",
   "execution_count": null,
   "metadata": {},
   "outputs": [],
   "source": [
    "eval('8*8')"
   ]
  },
  {
   "cell_type": "markdown",
   "metadata": {},
   "source": [
    "## 使用%操作符\n",
    "- 格式化字符串时，Python使用一个字符串作为模板。\n",
    "- 模板中有格式符（如%s和%d），这些格式符为真实值预留位置，并说明真实数值应该呈现的格式。\n",
    "- Python用一个tuple将多个值传递给模板，每个值对应一个格式符。"
   ]
  },
  {
   "cell_type": "code",
   "execution_count": null,
   "metadata": {},
   "outputs": [],
   "source": [
    "print(\"I'm Amy. I'm 2*13 year old\")"
   ]
  },
  {
   "cell_type": "markdown",
   "metadata": {},
   "source": [
    "如果想将2*3的运算结果输入到字符串里面，怎么办？"
   ]
  },
  {
   "cell_type": "code",
   "execution_count": null,
   "metadata": {},
   "outputs": [],
   "source": [
    "print(\"I'm %s. I'm %d year old\" % ('Amy', 2*13))"
   ]
  },
  {
   "cell_type": "markdown",
   "metadata": {},
   "source": [
    "上面的例子中，\n",
    "- ('Amy', 2*13)的两个元素'Julia'和99为替换%s和%d的真实值。 \n",
    "- 在模板和元组之间，有一个%号分隔，它代表了格式化操作。"
   ]
  },
  {
   "cell_type": "markdown",
   "metadata": {},
   "source": [
    "如果我们将%后面括号的元组(就是%后面的括号内容)赋值到一个变量，就会有实用的效果："
   ]
  },
  {
   "cell_type": "code",
   "execution_count": null,
   "metadata": {},
   "outputs": [],
   "source": [
    "p1=(\"Amy\",26)\n",
    "p2=(\"Julia\",99)\n",
    "\n",
    "print(\"I'm %s. I'm %d year old\" % p1)\n",
    "print(\"I'm %s. I'm %d year old\" % p2)"
   ]
  },
  {
   "cell_type": "markdown",
   "metadata": {},
   "source": [
    "&ensp; \n",
    "\n",
    " \n",
    "&ensp;\n",
    "<font color=#DC143C size=3 >\n",
    "**但是这有个问题就是，如果要输入的参数太多，输入顺序记错的话，岂不是很容易混淆？**"
   ]
  },
  {
   "cell_type": "markdown",
   "metadata": {},
   "source": [
    "解决的办法是将上面的元组替换成字典："
   ]
  },
  {
   "cell_type": "code",
   "execution_count": null,
   "metadata": {},
   "outputs": [],
   "source": [
    "p3={\"name\":\"Amy\",\"age\":26,\"city\":\"beijing\"}\n",
    "\n",
    "print(\"I'm %(name)s. I'm %(age)d year old.I'm from %(city)s.\" % p3)"
   ]
  },
  {
   "cell_type": "markdown",
   "metadata": {},
   "source": [
    "%s,%d分别表示字符串以str（），以及十进制整数表示，%f表示结果为浮点型，其他不常用。"
   ]
  },
  {
   "cell_type": "markdown",
   "metadata": {},
   "source": [
    "```  \n",
    "\n",
    "```  \n",
    "## 使用字符串对象的format()方法"
   ]
  },
  {
   "cell_type": "markdown",
   "metadata": {},
   "source": [
    "- 字符串的格式化   \n",
    "    - 将其他类型的数据转换为字符串，通过format()方法实现   \n",
    "- 三种格式   \n",
    "    - **按默认从左到右的默认顺序传值：**  \n",
    "            “字符串-｛｝ -字符串-｛｝” .format(“内容1” ，“内容2”)   \n",
    "    - **按指定位置传值：**   \n",
    "            “字符串-｛2｝ -字符串-｛1｝” .format(“内容1” ，“内容2”)   \n",
    "    - **按设置参数传值，返回格式化后的字符串：**\n",
    "            “字符串-｛变量名1｝ -字符串-｛变量名2｝” .format(变量名1 = “内容 ”，变量名2 = “内容2”)   "
   ]
  },
  {
   "cell_type": "code",
   "execution_count": null,
   "metadata": {},
   "outputs": [],
   "source": [
    "\"{}{}{}\".format(\"who \",\"am \",\"i \")"
   ]
  },
  {
   "cell_type": "code",
   "execution_count": null,
   "metadata": {},
   "outputs": [],
   "source": [
    "\"{2}{1}{0}\".format(\"who \",\"am \",\"i \")"
   ]
  },
  {
   "cell_type": "code",
   "execution_count": null,
   "metadata": {},
   "outputs": [],
   "source": [
    "\"{a}{b}{c}\".format(c=\"who \",b=\"am \",a=\"i \")"
   ]
  },
  {
   "cell_type": "markdown",
   "metadata": {},
   "source": [
    "可以用来传递变量进字符串里面"
   ]
  },
  {
   "cell_type": "code",
   "execution_count": null,
   "metadata": {},
   "outputs": [],
   "source": [
    "name=\"Amy\"\n",
    "age= 26\n",
    "city=\"beijing\" \n",
    "\n",
    "print(\"I'm {aa}. I'm {bb} year old. I'm from {cc}.\".format(aa=name,bb=age,cc=city))"
   ]
  },
  {
   "cell_type": "markdown",
   "metadata": {},
   "source": [
    "```\n",
    "\n",
    "\n",
    "\n",
    "```  \n",
    "## 格式控制"
   ]
  },
  {
   "cell_type": "markdown",
   "metadata": {},
   "source": [
    "```\n",
    "样式如下： {<参数序号>: <格式控制标记>}  \n",
    "格式控制标记包括： <填充><对齐><宽度>,<.精度><类型>6个字段，  \n",
    "这些字段都是可选的，可以组合使用  \n",
    "```"
   ]
  },
  {
   "cell_type": "markdown",
   "metadata": {},
   "source": [
    "### 精度与类型"
   ]
  },
  {
   "cell_type": "code",
   "execution_count": null,
   "metadata": {},
   "outputs": [],
   "source": [
    "'{:.3f}'.format(3.1415926)\n",
    "# 保留三位小数"
   ]
  },
  {
   "cell_type": "code",
   "execution_count": null,
   "metadata": {},
   "outputs": [],
   "source": [
    "'{0:.2f},{1:.3f}'.format(3.1415926,6.55433)"
   ]
  },
  {
   "cell_type": "markdown",
   "metadata": {
    "toc-hr-collapsed": false
   },
   "source": [
    "```  \n",
    "```  \n",
    "### 金额的千位分隔符"
   ]
  },
  {
   "cell_type": "code",
   "execution_count": null,
   "metadata": {},
   "outputs": [],
   "source": [
    "'{:,}'.format(1234567890)"
   ]
  },
  {
   "cell_type": "markdown",
   "metadata": {},
   "source": [
    "除此之外还有一些稍微复杂一点的格式化方法\n",
    "\n",
    "``` \n",
    "``` \n",
    "### 填充与对齐\n",
    "\n",
    "填充常跟对齐一起使用\n",
    "^   <   >分别是居中、左对齐、右对齐，后面带宽度\n",
    "\n",
    ":号后面带填充的字符，只能是一个字符，不指定的话默认是用空格填充"
   ]
  },
  {
   "cell_type": "code",
   "execution_count": null,
   "metadata": {},
   "outputs": [],
   "source": [
    "'{:>5}'.format('88')"
   ]
  },
  {
   "cell_type": "code",
   "execution_count": null,
   "metadata": {},
   "outputs": [],
   "source": [
    "\"{:<10}\".format('88')"
   ]
  },
  {
   "cell_type": "code",
   "execution_count": null,
   "metadata": {},
   "outputs": [],
   "source": [
    "\"{:*<5}\".format('88')"
   ]
  },
  {
   "cell_type": "code",
   "execution_count": null,
   "metadata": {},
   "outputs": [],
   "source": [
    "\"{:*^7}\".format('88')"
   ]
  },
  {
   "cell_type": "markdown",
   "metadata": {},
   "source": [
    "```\n",
    "\n",
    "\n",
    "\n",
    "\n",
    "```\n",
    "\n",
    "## 字符串方法总览（供查阅）"
   ]
  },
  {
   "cell_type": "markdown",
   "metadata": {},
   "source": [
    "| 方法 | 描述\n",
    "|----|----|\n",
    "| title() | 每个单词首字母大写\n",
    "| lower()/upper() | 全部小写/大写\n",
    "| capitalize() | 首字母大写，其余小写\n",
    "| swapcase() | 反转大小写\n",
    "| join(seq) | 以指定字符串作为分隔符，将 seq 中所有的元素(的字符串表示)合并为一个新的字符串，相对于运算符而言，性能更佳\n",
    "| rstrip() | 删除字符串字符串末尾的空格.\n",
    "| istrip() | 删除字符串开头的空格\n",
    "| strip([chars]) | 在字符串上执行 lstrip()和 rstrip()\n",
    "| ljust(width[, fillchar]) | 返回一个原字符串左对齐,并使用 fillchar 填充至长度 width 的新字符串，fillchar 默认为空格。\n",
    "| rjust(width,[, fillchar]) | 返回一个原字符串右对齐,并使用fillchar(默认空格）填充至长度 width 的新字符串\n",
    "| zfill (width) | 返回长度为 width 的字符串，原字符串右对齐，前面填充0\n",
    "| bytes.decode(encoding=\"utf-8\", errors=\"strict\") |  Python3 中没有 decode 方法，但我们可以使用 bytes 对象的 decode() 方法来解码给定的 bytes 对象，这个 bytes 对象可以由 str.encode() 来编码返回。\n",
    "| len(string) | 返回字符串长度\n",
    "| center(width, fillchar) | 返回一个指定的宽度 width 居中的字符串，fillchar 为填充的字符，默认为空格。\n",
    "| count(str, beg= 0,end=len(string)) |  返回 str 在 string 里面出现的次数，如果 beg 或者 end 指定则返回指定范围内 str 出现的次数\n",
    "| find(str, beg=0 end=len(string)) | 检测 str 是否包含在字符串中，如果指定范围 beg 和 end ，则检查是否包含在指定范围内，如果包含返回开始的索引值，否则返回-1\n",
    "| index(str, beg=0, end=len(string)) | 跟find()方法一样，只不过如果str不在字符串中会报一个异常.\n",
    "| rfind(str, beg=0,end=len(string)) | 类似于 find()函数，不过是从右边开始查找.\n",
    "| startswith(str, beg=0,end=len(string)) | 检查字符串是否是以 obj 开头，是则返回 True，否则返回 False。如果beg 和 end 指定值，则在指定范围内检查。\n",
    "| endswith(suffix, beg=0, end=len(string)) | 检查字符串是否以 obj 结束，如果beg 或者 end 指定则检查指定的范围内是否以 obj 结束，如果是，返回 True,否则返回 False\n",
    "| max(str) | 返回字符串 str 中最大的字母。\n",
    "| min(str) | 返回字符串 str 中最小的字母。\n",
    "| lstrip() | 截掉字符串左边的空格或指定字符。\n",
    "| isalnum() | 如果字符串至少有一个字符并且所有字符都是字母或数字则返 回 True,否则返回 False\n",
    "| isalpha() | 如果字符串至少有一个字符并且所有字符都是字母则返回 True, 否则返回 False\n",
    "| isdigit() | 如果字符串只包含数字则返回 True 否则返回 False..\n",
    "| islower() | 如果字符串中包含至少一个区分大小写的字符，并且所有这些(区分大小写的)字符都是小写，则返回 True，否则返回 False\n",
    "| isnumeric() | 如果字符串中只包含数字字符，则返回 True，否则返回 False\n",
    "| isspace() | 如果字符串中只包含空白，则返回 True，否则返回 False.\n",
    "| istitle() | 如果字符串是标题化的(见 title())则返回 True，否则返回 False\n",
    "| isupper() | 如果字符串中包含至少一个区分大小写的字符，并且所有这些(区分大小写的)字符都是大写，则返回 True，否则返回 False\n",
    "| isdecimal() | 检查字符串是否只包含十进制字符，如果是返回 true，否则返回 false。\n",
    "| rindex( str, beg=0, end=len(string)) | 类似于 index()，不过是从右边开始.\n",
    "| index(str, beg=0, end=len(string)) | 跟find()方法一样，只不过如果str不在字符串中会报一个异常\n",
    "| split(str=\"\", num=string.count(str)) | num=string.count(str)) 以 str 为分隔符截取字符串，如果 num 有指定值，则仅截取 num 个子字符串\n",
    "| replace(old, new [, max]) | 将字符串中的 str1 替换成 str2,如果 max 指定，则替换不超过 max 次。\n",
    "| splitlines([keepends]) | 按照行('\\r', '\\r\\n', \\n')分隔，返回一个包含各行作为元素的列表，如果参数 keepends 为 False，不包含换行符，如果为 True，则保留换行符。\n",
    "| translate(table, deletechars=\"\") | 根据 str 给出的表(包含 256 个字符)转换 string 的字符, 要过滤掉的字符放到 deletechars 参数中\n",
    "| maketrans() | 创建字符映射的转换表，对于接受两个参数的最简单的调用方式，第一个参数是字符串，表示需要转换的字符，第二个参数也是字符串表示转换的目标。\n",
    "| expandtabs(tabsize=8) | 把字符串 string 中的 tab 符号转为空格，tab 符号默认的空格数是 8 。"
   ]
  }
 ],
 "metadata": {
  "kernelspec": {
   "display_name": "Python 3",
   "language": "python",
   "name": "python3"
  },
  "language_info": {
   "codemirror_mode": {
    "name": "ipython",
    "version": 3
   },
   "file_extension": ".py",
   "mimetype": "text/x-python",
   "name": "python",
   "nbconvert_exporter": "python",
   "pygments_lexer": "ipython3",
   "version": "3.7.3"
  }
 },
 "nbformat": 4,
 "nbformat_minor": 2
}
