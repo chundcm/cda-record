{
 "cells": [
  {
   "cell_type": "markdown",
   "metadata": {},
   "source": [
    "# <center>第2部分：标准数据类型<center>  "
   ]
  },
  {
   "cell_type": "markdown",
   "metadata": {},
   "source": [
    "- **Created By：菊安酱**\n",
    "- **Date：2020.07.11**"
   ]
  },
  {
   "cell_type": "code",
   "execution_count": null,
   "metadata": {},
   "outputs": [],
   "source": [
    "# 全行输出设置\n",
    "from IPython.core.interactiveshell import InteractiveShell\n",
    "InteractiveShell.ast_node_interactivity = \"all\""
   ]
  },
  {
   "cell_type": "markdown",
   "metadata": {
    "toc-hr-collapsed": false
   },
   "source": [
    "# 数据类型简介"
   ]
  },
  {
   "cell_type": "markdown",
   "metadata": {},
   "source": [
    "<img src='https://pictes.oss-cn-beijing.aliyuncs.com/%E8%8F%8A%E5%AE%89%E9%85%B1/Python%E5%9F%BA%E7%A1%80/%E6%95%B0%E6%8D%AE%E7%B1%BB%E5%9E%8B.png' width=500>"
   ]
  },
  {
   "cell_type": "markdown",
   "metadata": {},
   "source": [
    "类型的作用：编程语言对数据的一种划分，数据从不同角度看有不同的含义。  \n",
    "程序设计语言不允许存在语法歧义，因此，需要明确说明数据的含义， 这就是“类型” 的作用。"
   ]
  },
  {
   "cell_type": "markdown",
   "metadata": {},
   "source": [
    "**<font color=#0000F size=3.3 >\n",
    "Python中常用的数据类型有：** \n",
    "\n",
    "- <font color=\"bule\">数字 (Numbers)</font>： 整数、浮点数、分数、复数等   \n",
    "- <font color=\"bule\">布尔值 (Booleans)</font>： True 或 False   \n",
    "- <font color=\"bule\">字符串 (Strings)</font>： Unicode 字符序列（不可变对象）    \n",
    "- <font color=\"bule\">列表 (List)</font>： 有序的值可变的序列    \n",
    "- <font color=\"bule\">元组 (Tuples)</font>： 有序的值的序列且不可改变   \n",
    "- <font color=\"bule\">集合 (Sets)</font>： 无序的不含重复值的序列   \n",
    "- <font color=\"bule\">字典 (Dictionaries)</font>： 无序的键值对的集合  \n"
   ]
  },
  {
   "cell_type": "markdown",
   "metadata": {},
   "source": [
    "## 类型判断\n",
    "type(obj): 返回obj的类型 "
   ]
  },
  {
   "cell_type": "code",
   "execution_count": null,
   "metadata": {},
   "outputs": [],
   "source": [
    "type(1)         \n",
    "type(1.0)      \n",
    "type('1')      \n",
    "type(True)      "
   ]
  },
  {
   "cell_type": "markdown",
   "metadata": {},
   "source": [
    "isinstance(obj,class): 测试对象obj是class的实例"
   ]
  },
  {
   "cell_type": "code",
   "execution_count": null,
   "metadata": {},
   "outputs": [],
   "source": [
    "isinstance(1,int)      \n",
    "isinstance('1',str)      \n",
    "isinstance(False,str)   "
   ]
  },
  {
   "cell_type": "code",
   "execution_count": null,
   "metadata": {},
   "outputs": [],
   "source": [
    "# 看一个特例\n",
    "isinstance(True,bool)  \n",
    "isinstance(True,int)   "
   ]
  },
  {
   "cell_type": "markdown",
   "metadata": {},
   "source": [
    "需要注意，在 Python 3 中，bool 类型是 int 的子类。"
   ]
  },
  {
   "cell_type": "code",
   "execution_count": null,
   "metadata": {},
   "outputs": [],
   "source": [
    "issubclass(bool, int) #判断是否为子类"
   ]
  },
  {
   "cell_type": "markdown",
   "metadata": {
    "toc-hr-collapsed": true
   },
   "source": [
    "#  布尔值 Booleans   \n",
    "和布尔代数的表示完全一致，一个布尔值只有True、False两种值，要么是True，要么是False。"
   ]
  },
  {
   "cell_type": "code",
   "execution_count": null,
   "metadata": {},
   "outputs": [],
   "source": [
    "type(True)   "
   ]
  },
  {
   "cell_type": "markdown",
   "metadata": {},
   "source": [
    "&emsp;在 Python 中，类似于 C，任何非零整数都是 True；0 是 False。\n",
    "条件也可以是字符串或列表，实际上可以是任何序列，所有长度不为零的是 True，空序列是False。"
   ]
  },
  {
   "cell_type": "code",
   "execution_count": null,
   "metadata": {},
   "outputs": [],
   "source": [
    "print(bool(1))\n",
    "print(bool(100))\n",
    "print(bool(\"Hi!\")) # 字符串\n",
    "print(bool(\" \"))\n",
    "\n",
    "print(bool(0))\n",
    "print(bool(\"\"))    # 空字符串\n",
    "print(bool([]))    # 空列表\n",
    "print(bool(None))  # 空值"
   ]
  },
  {
   "cell_type": "markdown",
   "metadata": {},
   "source": [
    "### True和False\n",
    "- 布尔类型数据可以运算，但是不是用来运算的，而是用来判断真假的。\n",
    "- 如果布尔类型运算的时候，可以把True当做1，把False当做0。"
   ]
  },
  {
   "cell_type": "code",
   "execution_count": null,
   "metadata": {},
   "outputs": [],
   "source": [
    "True + True "
   ]
  },
  {
   "cell_type": "code",
   "execution_count": null,
   "metadata": {
    "scrolled": true
   },
   "outputs": [],
   "source": [
    "True + False"
   ]
  },
  {
   "cell_type": "code",
   "execution_count": null,
   "metadata": {
    "scrolled": true
   },
   "outputs": [],
   "source": [
    "True /False"
   ]
  },
  {
   "cell_type": "markdown",
   "metadata": {},
   "source": [
    "### 逻辑比较\n",
    "通过逻辑比较可以得到布尔结果："
   ]
  },
  {
   "cell_type": "code",
   "execution_count": null,
   "metadata": {},
   "outputs": [],
   "source": [
    "print(0 > 1)\n",
    "print(2 == 2)\n",
    "print(1 < -1)"
   ]
  },
  {
   "cell_type": "code",
   "execution_count": null,
   "metadata": {},
   "outputs": [],
   "source": [
    "print(3 != 3)\n",
    "print(2 >= 2)\n",
    "print(2 > 1 > 0)"
   ]
  },
  {
   "cell_type": "markdown",
   "metadata": {},
   "source": [
    "如上面演示， Python 中允许使用连续比较："
   ]
  },
  {
   "cell_type": "code",
   "execution_count": null,
   "metadata": {},
   "outputs": [],
   "source": [
    "print(-1 <= 0 <= 100)\n",
    "print(2 == 2.0 != 3)"
   ]
  },
  {
   "cell_type": "markdown",
   "metadata": {},
   "source": [
    "### 逻辑运算符"
   ]
  },
  {
   "cell_type": "markdown",
   "metadata": {},
   "source": [
    "| 运算符 | 逻辑表达式 | 描述 | \n",
    "| :--- | :--- | :--- | \n",
    "| and\t| x and y\t| 布尔\"与\" - 如果 x 为 False，x and y 返回 False，否则它返回 y 的计算值。\t| \n",
    "|or |\tx or y\t| 布尔\"或\" - 如果 x 是 True，它返回 x 的值，否则它返回 y 的计算值。\t| \n",
    "|not|\tnot x\t| 布尔\"非\" - 如果 x 为 True，返回 False 。如果 x 为 False，它返回 True。 |"
   ]
  },
  {
   "cell_type": "markdown",
   "metadata": {},
   "source": [
    "对于初学者来说，记忆逻辑运算符的运算规则是比较棘手的问题。  \n",
    "由于逻辑运算符涉及布尔类型数值的知识，因此，在这里对布尔类型知识进行扩充。\n",
    "&ensp; \n",
    "\n",
    " \n",
    "&ensp;\n",
    "<font color=#00008B size=3.5 >\n",
    "**（1）not运算符**  \n",
    "<font color=#DC143C size=2.5 >\n",
    "- 我们可以使用not逻辑运算符进行真值测试\n",
    "- 以下情况将会被视作False：\n",
    "    - False 、None、0、0.0、虚数0\n",
    "    - 空字符串、空元组、空列表、空字典、空集合\n",
    "    "
   ]
  },
  {
   "cell_type": "code",
   "execution_count": null,
   "metadata": {},
   "outputs": [],
   "source": [
    "not 0"
   ]
  },
  {
   "cell_type": "code",
   "execution_count": null,
   "metadata": {},
   "outputs": [],
   "source": [
    "not \"abc\""
   ]
  },
  {
   "cell_type": "code",
   "execution_count": null,
   "metadata": {},
   "outputs": [],
   "source": [
    "not False\n",
    "not None \n",
    "not 0\n",
    "not 0.0\n",
    "not 0+0j"
   ]
  },
  {
   "cell_type": "markdown",
   "metadata": {},
   "source": [
    "&ensp; \n",
    "\n",
    " \n",
    "&ensp;\n",
    "<font color=#00008B size=3.5 face=\"黑体\">\n",
    "**（2）对于and运算符**  \n",
    "<font color=#DC143C size=2.5 face=\"黑体\">\n",
    "- and逻辑判断语句从左读到右，比如A and B\n",
    "- 从左到右读，一旦遇到False，则返回遇到的第一个False\n",
    "- 从左到右读，全都是True，则返回最后一个True\n",
    "- 记忆法：and会抓出来第一个False，实在没有False，抓最后一个True"
   ]
  },
  {
   "cell_type": "code",
   "execution_count": null,
   "metadata": {
    "scrolled": true
   },
   "outputs": [],
   "source": [
    "True and False and True"
   ]
  },
  {
   "cell_type": "code",
   "execution_count": null,
   "metadata": {},
   "outputs": [],
   "source": [
    "1 and [] and 0 and 3"
   ]
  },
  {
   "cell_type": "markdown",
   "metadata": {},
   "source": [
    "&ensp; \n",
    "\n",
    "   \n",
    "     \n",
    "&ensp;\n",
    "&ensp; \n",
    "\n",
    "   \n",
    "     \n",
    "&ensp;\n",
    "<font color=#00008B size=3.5 face=\"黑体\">\n",
    "**（3）对于or运算符**  \n",
    "<font color=#DC143C size=2.5 face=\"黑体\">\n",
    "- or逻辑判断语句从左读到右，比如A or B\n",
    "- 从左到右读，一旦遇到True，则返回遇到的第一个True\n",
    "- 从左到右读，全都是False，则返回最后一个False\n",
    "- 记忆法：or会抓出来第一个True，实在没有True，抓最后一个False"
   ]
  },
  {
   "cell_type": "code",
   "execution_count": null,
   "metadata": {},
   "outputs": [],
   "source": [
    "False or True"
   ]
  },
  {
   "cell_type": "code",
   "execution_count": null,
   "metadata": {},
   "outputs": [],
   "source": [
    "False or True or False"
   ]
  },
  {
   "cell_type": "code",
   "execution_count": null,
   "metadata": {},
   "outputs": [],
   "source": [
    "0 or 1"
   ]
  },
  {
   "cell_type": "code",
   "execution_count": null,
   "metadata": {},
   "outputs": [],
   "source": [
    "0 or 2 or 1 or 0"
   ]
  },
  {
   "cell_type": "code",
   "execution_count": null,
   "metadata": {},
   "outputs": [],
   "source": [
    "0 or [] or ()"
   ]
  },
  {
   "cell_type": "markdown",
   "metadata": {},
   "source": [
    "&ensp; \n",
    "\n",
    " \n",
    "&ensp;\n",
    "<font color=#00008B size=3.5 face=\"黑体\">\n",
    "**（4）逻辑运算符优先级问题**  \n",
    "<font color=#DC143C size=3 face=\"黑体\">\n",
    "- 优先级顺序：or<and<not\n",
    "- 先处理not，然后处理and，最后处理or"
   ]
  },
  {
   "cell_type": "code",
   "execution_count": null,
   "metadata": {},
   "outputs": [],
   "source": [
    "1 and 2 and 3 or 4  or  not []"
   ]
  },
  {
   "cell_type": "code",
   "execution_count": null,
   "metadata": {
    "scrolled": true
   },
   "outputs": [],
   "source": [
    "(1 and 2 and 3) or 4  or  (not [])"
   ]
  },
  {
   "cell_type": "markdown",
   "metadata": {},
   "source": [
    "```\n",
    "\n",
    "```\n",
    "小练习     \n",
    "猜一猜：0 or 0 or 0 and 5 or not 0 or 10"
   ]
  },
  {
   "cell_type": "code",
   "execution_count": null,
   "metadata": {},
   "outputs": [],
   "source": []
  },
  {
   "cell_type": "markdown",
   "metadata": {
    "toc-hr-collapsed": true
   },
   "source": [
    "```\n",
    "\n",
    "\n",
    "\n",
    "```\n",
    "# 数字 Numbers "
   ]
  },
  {
   "cell_type": "markdown",
   "metadata": {},
   "source": [
    "Python中数字主要有四种类型：整数（int），浮点数（float），分数（fractions），复数（complex）"
   ]
  },
  {
   "cell_type": "markdown",
   "metadata": {},
   "source": [
    "## 整型int "
   ]
  },
  {
   "cell_type": "markdown",
   "metadata": {},
   "source": [
    "&emsp;Python 默认可以处理任意大小的整数，当然包括负整数，在程序中的表示方法和数学上的写\n",
    "法一模一样，例如：1，100，-8080，0 等等。   \n",
    "&emsp; 在解释器中输入一个整数也会得到一个同样整数的输出："
   ]
  },
  {
   "cell_type": "code",
   "execution_count": null,
   "metadata": {},
   "outputs": [],
   "source": [
    "100"
   ]
  },
  {
   "cell_type": "code",
   "execution_count": null,
   "metadata": {},
   "outputs": [],
   "source": [
    "type(100)"
   ]
  },
  {
   "cell_type": "markdown",
   "metadata": {},
   "source": [
    "Python中的整数长度没有限制，通常是连续分配的内存空间"
   ]
  },
  {
   "cell_type": "code",
   "execution_count": null,
   "metadata": {},
   "outputs": [],
   "source": [
    "100001244"
   ]
  },
  {
   "cell_type": "markdown",
   "metadata": {},
   "source": [
    "```\n",
    "\n",
    "\n",
    "```  \n",
    "## 浮点数float   \n",
    "浮点数也就是小数，浮点数可以用数学写法，如1.23，3.14，-9.01.    \n",
    "但是对于很大或很小的浮点数，就必须用科学记数法表示。浮点数有精度上的限制，默认超过16 位就不再精确了："
   ]
  },
  {
   "cell_type": "code",
   "execution_count": null,
   "metadata": {},
   "outputs": [],
   "source": [
    "num = 1.2345678901234567890  # 1.1234567890123457\n",
    "num"
   ]
  },
  {
   "cell_type": "code",
   "execution_count": null,
   "metadata": {},
   "outputs": [],
   "source": [
    "print(\"{:.25f}\".format(num))"
   ]
  },
  {
   "cell_type": "markdown",
   "metadata": {},
   "source": [
    "科学计数法使用字母“e” 或者“E” 作为幂的符号，以10为基数"
   ]
  },
  {
   "cell_type": "code",
   "execution_count": null,
   "metadata": {},
   "outputs": [],
   "source": [
    "2.1e2   #2.1*10**2"
   ]
  },
  {
   "cell_type": "code",
   "execution_count": null,
   "metadata": {},
   "outputs": [],
   "source": [
    "2.1*10**2"
   ]
  },
  {
   "cell_type": "code",
   "execution_count": null,
   "metadata": {},
   "outputs": [],
   "source": [
    "1.23e9   # 1230000000.0"
   ]
  },
  {
   "cell_type": "markdown",
   "metadata": {},
   "source": [
    "Note:    \n",
    "&emsp;整数和浮点数在计算机内部存储的方式是不同的，整数运算结果永远是精确的，而浮点数运算则可能会有精度上的误差。<br />\n",
    "&emsp;浮点数存在上界和下界，超过结果导致溢出。<br />\n",
    "&emsp;由于存储有限，计算机不能精确显示无限小数，会产生误差。    \n",
    "&emsp;另外计算机内部采用二进制，不是所有的十进制实数都可以用二进制数精确表示。"
   ]
  },
  {
   "cell_type": "code",
   "execution_count": null,
   "metadata": {},
   "outputs": [],
   "source": [
    "print('{:.20f}'.format(2.5))\n",
    "print('{:.20f}'.format(1.25))\n",
    "print('{:.20f}'.format(1.245))\n",
    "print('{:.20f}'.format(1.45))"
   ]
  },
  {
   "cell_type": "code",
   "execution_count": null,
   "metadata": {},
   "outputs": [],
   "source": [
    "#查看float的最大值和最小值：\n",
    "import sys\n",
    "sys.float_info.max\n",
    "sys.float_info.min"
   ]
  },
  {
   "cell_type": "markdown",
   "metadata": {},
   "source": [
    "```\n",
    "\n",
    "\n",
    "```  \n",
    "## 分数 fractions"
   ]
  },
  {
   "cell_type": "markdown",
   "metadata": {},
   "source": [
    "在Python中，不止有浮点数（float），而且还有分数（Fraction）这个类型。    \n",
    "要使用分数，必须引入一个模块fractions"
   ]
  },
  {
   "cell_type": "code",
   "execution_count": null,
   "metadata": {},
   "outputs": [],
   "source": [
    "import fractions"
   ]
  },
  {
   "cell_type": "code",
   "execution_count": null,
   "metadata": {},
   "outputs": [],
   "source": [
    "x = fractions.Fraction(1,2)\n",
    "print(x)"
   ]
  },
  {
   "cell_type": "code",
   "execution_count": null,
   "metadata": {},
   "outputs": [],
   "source": [
    "x"
   ]
  },
  {
   "cell_type": "markdown",
   "metadata": {},
   "source": [
    "Python会自动转换浮点数为分数"
   ]
  },
  {
   "cell_type": "code",
   "execution_count": null,
   "metadata": {},
   "outputs": [],
   "source": [
    "y = fractions.Fraction(0.5) \n",
    "print(y)"
   ]
  },
  {
   "cell_type": "code",
   "execution_count": null,
   "metadata": {},
   "outputs": [],
   "source": [
    "y"
   ]
  },
  {
   "cell_type": "markdown",
   "metadata": {},
   "source": [
    "需要注意的是，Python会自动进行约分："
   ]
  },
  {
   "cell_type": "code",
   "execution_count": null,
   "metadata": {},
   "outputs": [],
   "source": [
    "a = fractions.Fraction(1,5)\n",
    "b = fractions.Fraction(2,10)\n",
    "a == b"
   ]
  },
  {
   "cell_type": "code",
   "execution_count": null,
   "metadata": {},
   "outputs": [],
   "source": [
    "a"
   ]
  },
  {
   "cell_type": "code",
   "execution_count": null,
   "metadata": {},
   "outputs": [],
   "source": [
    "b"
   ]
  },
  {
   "cell_type": "markdown",
   "metadata": {},
   "source": [
    "```\n",
    "\n",
    "\n",
    "\n",
    "``` \n",
    "## 复数 complex   "
   ]
  },
  {
   "cell_type": "markdown",
   "metadata": {},
   "source": [
    "与数学中的复数概念一致, z = a + bj， a是实数部分， b是虚数部分，虚数部分用j或者J标识    \n",
    "在Python中复数对象有两个属性**real**和**imag**用于查看**实部**和**虚部**    \n",
    "\n",
    "需要注意的是：    \n",
    "- 虚部不能单独存在\n",
    "- 实部和虚部都是浮点数\n",
    "- 虚部必须有 j 或 J"
   ]
  },
  {
   "cell_type": "code",
   "execution_count": null,
   "metadata": {},
   "outputs": [],
   "source": [
    "com = 1+2j"
   ]
  },
  {
   "cell_type": "code",
   "execution_count": null,
   "metadata": {},
   "outputs": [],
   "source": [
    "com"
   ]
  },
  {
   "cell_type": "code",
   "execution_count": null,
   "metadata": {},
   "outputs": [],
   "source": [
    "type(com)"
   ]
  },
  {
   "cell_type": "code",
   "execution_count": null,
   "metadata": {},
   "outputs": [],
   "source": [
    "com.real   # 返回该复数的实数部分\n",
    "com.imag   # 返回该复数的虚数部分\n",
    "com.conjugate()   # 返回该复数的共轭复数"
   ]
  },
  {
   "cell_type": "markdown",
   "metadata": {},
   "source": [
    "complex() 函数用于创建一个复数或者将一个数或字符串转换为复数形式，其返回值为一个复数。该函数的语法为：   \n",
    "complex(real,imag)   \n",
    "其中，real可以为int、float或字符串类型；而imag只能为int或float类型。    "
   ]
  },
  {
   "cell_type": "code",
   "execution_count": null,
   "metadata": {
    "ExecuteTime": {
     "end_time": "2019-03-05T05:10:43.468396Z",
     "start_time": "2019-03-05T05:10:43.451403Z"
    }
   },
   "outputs": [],
   "source": [
    "complex(1)            #数字\n",
    "complex('1')          #当作字符串处理\n",
    "complex('1+2j')"
   ]
  },
  {
   "cell_type": "markdown",
   "metadata": {},
   "source": [
    "注意："
   ]
  },
  {
   "cell_type": "code",
   "execution_count": null,
   "metadata": {},
   "outputs": [],
   "source": [
    "complex('1 + 2j')"
   ]
  },
  {
   "cell_type": "code",
   "execution_count": null,
   "metadata": {},
   "outputs": [],
   "source": [
    "complex('1',1)      #如果第一个参数为字符串，第二个参数必须省略否则报错；若第一个参数为其他类型，则第二个参数可以选择。"
   ]
  },
  {
   "cell_type": "markdown",
   "metadata": {},
   "source": [
    "```\n",
    "\n",
    "\n",
    "\n",
    " \n",
    "```\n",
    "## 数字类型转换"
   ]
  },
  {
   "cell_type": "markdown",
   "metadata": {},
   "source": [
    "&ensp; \n",
    "&ensp;\n",
    "<font color=#00008B size=4 >\n",
    "**（1）int(x)**\n",
    "<font color=#000000 size=2.5 >\n",
    "- 将x转换成整数类型(支持 float、str转换为int类型。)\n",
    "- 如果x是浮点型，<font color=#DC143C size=2.5 >小数点后面的数字都会砍掉，注意不是四舍五入。\n",
    "<font color=#000000 size=2.5 >\n",
    "- 如果想四舍五入，可以用round(x)"
   ]
  },
  {
   "cell_type": "code",
   "execution_count": null,
   "metadata": {
    "ExecuteTime": {
     "end_time": "2019-03-05T05:12:31.277446Z",
     "start_time": "2019-03-05T05:12:31.264456Z"
    }
   },
   "outputs": [],
   "source": [
    "print(int(1.23))\n",
    "print(int(1.89))"
   ]
  },
  {
   "cell_type": "code",
   "execution_count": null,
   "metadata": {},
   "outputs": [],
   "source": [
    "print(round(1.23))\n",
    "print(round(1.89))\n",
    "print(round(1.89, 1)) # 也可以指定位数"
   ]
  },
  {
   "cell_type": "markdown",
   "metadata": {},
   "source": [
    "但是由于我们日常使用的四舍五入是基于十进制的，在二进制无法精确表示的时候是会有误差的："
   ]
  },
  {
   "cell_type": "code",
   "execution_count": null,
   "metadata": {},
   "outputs": [],
   "source": [
    "print(round(0.5))\n",
    "print(round(2.5))\n",
    "print(round(2.125,2))"
   ]
  },
  {
   "cell_type": "markdown",
   "metadata": {},
   "source": [
    "&ensp; \n",
    "\n",
    "\n",
    "&ensp;\n",
    "<font color=#00008B size=4 face=\"黑体\">\n",
    "**（2） float(x)**  \n",
    "<font color=#000000 size=2.5 face=\"黑体\">\n",
    "——将x转换成浮点数类型"
   ]
  },
  {
   "cell_type": "markdown",
   "metadata": {
    "slideshow": {
     "slide_type": "-"
    }
   },
   "source": [
    "支持转换为 float 类型的，仅有 int、str、bytes，其他类型均不支持。"
   ]
  },
  {
   "cell_type": "code",
   "execution_count": null,
   "metadata": {},
   "outputs": [],
   "source": [
    "a = 123\n",
    "b = float(a)\n",
    "\n",
    "#转换结果如何？\n",
    "a\n",
    "b\n",
    "type(b)"
   ]
  },
  {
   "cell_type": "code",
   "execution_count": null,
   "metadata": {},
   "outputs": [],
   "source": [
    "c = \"2\"\n",
    "float(c)"
   ]
  },
  {
   "cell_type": "code",
   "execution_count": null,
   "metadata": {},
   "outputs": [],
   "source": [
    "d = b'5'"
   ]
  },
  {
   "cell_type": "code",
   "execution_count": null,
   "metadata": {},
   "outputs": [],
   "source": [
    "type(d)"
   ]
  },
  {
   "cell_type": "code",
   "execution_count": null,
   "metadata": {},
   "outputs": [],
   "source": [
    "float(d)"
   ]
  },
  {
   "cell_type": "markdown",
   "metadata": {},
   "source": [
    "&ensp; \n",
    "\n",
    "\n",
    "&ensp;\n",
    "<font color=#00008B size=4 face=\"黑体\">\n",
    "**（3） complex(x)**  \n",
    "<font color=#000000 size=2.5 face=\"黑体\">\n",
    "——将x转换成复数类型"
   ]
  },
  {
   "cell_type": "code",
   "execution_count": null,
   "metadata": {
    "ExecuteTime": {
     "end_time": "2019-03-05T05:13:56.349208Z",
     "start_time": "2019-03-05T05:13:56.343211Z"
    }
   },
   "outputs": [],
   "source": [
    "complex(12) "
   ]
  },
  {
   "cell_type": "code",
   "execution_count": null,
   "metadata": {},
   "outputs": [],
   "source": [
    "complex(4.5)"
   ]
  },
  {
   "cell_type": "markdown",
   "metadata": {},
   "source": [
    "```\n",
    "\n",
    "\n",
    "\n",
    "``` \n",
    "## 数字类型的运算符"
   ]
  },
  {
   "cell_type": "markdown",
   "metadata": {},
   "source": [
    "下面以a=10 ,b=20为例进行计算\n",
    "\n",
    "| 运算符 | 描述   | 实例                                                         |\n",
    "| ------ | ------ | ------------------------------------------------------------ |\n",
    "| +      | 加     | 两个对象相加 a + b 输出结果 30                               |\n",
    "| -      | 减     | 得到负数或是一个数减去另一个数 a - b 输出结果 -10            |\n",
    "| *      | 乘     | 两个数相乘或是返回一个被重复若干次的字符串 a * b 输出结果 200 |\n",
    "| /      | 除     | x除以y b / a 输出结果 2                                      |\n",
    "| //     | 取整除 | 返回商的整数部分 9//2 输出结果 4 , 9.0//2.0 输出结果 4.0     |\n",
    "| %      | 取余   | 返回除法的余数 b % a 输出结果 0                              |\n",
    "| **     | 幂     | 返回x的y次幂 a**b 为10的20次方， 输出结果 100000000000000000000 |  \n",
    "\n",
    "注意：只要有任意一个操作数是浮点数，结果就会是浮点数。\n"
   ]
  },
  {
   "cell_type": "code",
   "execution_count": null,
   "metadata": {},
   "outputs": [],
   "source": [
    "print(12 / 5)\n",
    "print(12 / 3)\n",
    "print(12.34 / 2)\n",
    "print(12.0 / 2)"
   ]
  },
  {
   "cell_type": "code",
   "execution_count": null,
   "metadata": {},
   "outputs": [],
   "source": [
    "print(9 // 2)\n",
    "print(9.0 // 2)"
   ]
  },
  {
   "cell_type": "code",
   "execution_count": null,
   "metadata": {},
   "outputs": [],
   "source": [
    "print(8.3 % 2)\n",
    "print(9 % 2)\n",
    "print(9.0 % 2)"
   ]
  },
  {
   "cell_type": "code",
   "execution_count": null,
   "metadata": {},
   "outputs": [],
   "source": [
    "print(2 ** 3)\n",
    "print(2.0 ** 3)"
   ]
  },
  {
   "cell_type": "markdown",
   "metadata": {},
   "source": [
    "Python 的数学运算符的优先级与数学上的相同，但是为了更好的可读性，建议使用括号表达运算先后逻辑："
   ]
  },
  {
   "cell_type": "code",
   "execution_count": null,
   "metadata": {},
   "outputs": [],
   "source": [
    "print(50 - 5*6)\n",
    "print(5*6**2)\n",
    "print(5 * (6**2)) # 推荐的写法"
   ]
  },
  {
   "cell_type": "markdown",
   "metadata": {},
   "source": [
    "### 比较运算符"
   ]
  },
  {
   "cell_type": "markdown",
   "metadata": {},
   "source": [
    "  | 运算符 | 描述                                                         | 示例                                              |\n",
    "  | ------ | ------------------------------------------------------------ | ------------------------------------------------- |\n",
    "  | ==     | 检查两个操作数的值是否相等，如果是则条件变为真。             | 如a=3,b=3则（a == b) 为 true.                     |\n",
    "  | !=     | 检查两个操作数的值是否相等，如果值不相等，则条件变为真。     | 如a=1,b=3则(a != b) 为 true.                      |\n",
    "  | >      | 检查左操作数的值是否大于右操作数的值，如果是，则条件成立。   | 如a=7,b=3则(a > b) 为 true.                       |\n",
    "  | <      | 检查左操作数的值是否小于右操作数的值，如果是，则条件成立。   | 如a=7,b=3则(a < b) 为 false.                      |\n",
    "  | >=     | 检查左操作数的值是否大于或等于右操作数的值，如果是，则条件成立。 | 如a=3,b=3则(a >= b) 为 true.                      |\n",
    "  | <=     | 检查左操作数的值是否小于或等于右操作数的值，如果是，则条件成立。 | 如a=3,b=3则(a <= b) 为 true.                      |"
   ]
  },
  {
   "cell_type": "code",
   "execution_count": null,
   "metadata": {},
   "outputs": [],
   "source": [
    "a = 2\n",
    "b = 3\n",
    "\n",
    "a != b"
   ]
  },
  {
   "cell_type": "markdown",
   "metadata": {},
   "source": [
    "```\n",
    "\n",
    "\n",
    "``` \n",
    "### 复合赋值运算符"
   ]
  },
  {
   "cell_type": "markdown",
   "metadata": {},
   "source": [
    "| 运算符 | 描述             | 实例                      |\n",
    "| ------ | ---------------- | ------------------------- |\n",
    "| +=     | 加法赋值运算符   | c += a 等效于 c = c + a   |\n",
    "| -=     | 减法赋值运算符   | c -= a 等效于 c = c - a   |\n",
    "| *=     | 乘法赋值运算符   | c * = a 等效于 c = c * a   |\n",
    "| /=     | 除法赋值运算符   | c /= a 等效于 c = c / a   |\n",
    "| %=     | 取模赋值运算符   | c %= a 等效于 c = c % a   |\n",
    "| **=    | 幂赋值运算符     | c ** = a 等效于 c = c ** a |\n",
    "| //=    | 取整除赋值运算符 | c //= a 等效于 c = c // a |"
   ]
  },
  {
   "cell_type": "code",
   "execution_count": null,
   "metadata": {},
   "outputs": [],
   "source": [
    "a = 10\n",
    "b = 20\n",
    "a *= b    #相当于a=a*b，就是说a+b等于10*20，结果等于200，再将200重新赋值给a，a最后变成200\n",
    "a"
   ]
  },
  {
   "cell_type": "code",
   "execution_count": null,
   "metadata": {},
   "outputs": [],
   "source": [
    "a = 100\n",
    "b = 2\n",
    "a /= b\n",
    "a"
   ]
  },
  {
   "cell_type": "markdown",
   "metadata": {},
   "source": [
    "&emsp;\n",
    "&emsp;"
   ]
  },
  {
   "cell_type": "markdown",
   "metadata": {},
   "source": [
    "### 运算的优先级"
   ]
  },
  {
   "cell_type": "markdown",
   "metadata": {},
   "source": [
    "<img src='https://imagepp.oss-cn-beijing.aliyuncs.com/caseimage/%E8%BF%90%E7%AE%97%E7%AC%A6%E4%BC%98%E5%85%88%E7%BA%A7.jpg' width=600>"
   ]
  },
  {
   "cell_type": "markdown",
   "metadata": {},
   "source": [
    "```\n",
    "\n",
    "\n",
    "``` \n",
    "### 与数字相关的BIF"
   ]
  },
  {
   "cell_type": "markdown",
   "metadata": {},
   "source": [
    "|.|python内置的一些计算函数：|\n",
    "| :---- | :-----: |\n",
    "| abs(x) | 返回x的绝对值，类型随x|\n",
    "| max(n1, n2, ...) | 返回最大值 |\n",
    "| min(n1, n2, ...) | 返回最小值 |\n",
    "| round(x [,n]) | 默认返回浮点数x的四舍五入值，如给出n值，则代表舍入到小数点后的n位。例如round(1.23456, 3)返回1.235 |\n",
    "| divmod             | 取模，返回商和余数。例：divmod(5,2) 返回 (2,1)               |\n",
    "| sum                | 求和。例：sum([1,2,3,4]) 返回 10                             |\n",
    "| pow(x,y)|返回x的y次幂，即x**y|"
   ]
  },
  {
   "cell_type": "markdown",
   "metadata": {},
   "source": [
    "```\n",
    "\n",
    "``` \n",
    "\n",
    "### math科学计算库"
   ]
  },
  {
   "cell_type": "markdown",
   "metadata": {},
   "source": [
    "|.. |python还提供科学计算等库，例如math，导入math库后，常用的函数有：|\n",
    "|----|-----|\n",
    "| fabs(x)|返回x的绝对值，类型是浮点数|\n",
    "|ceil(x)|取x的上入整数，如math.ceil(4.1)返回5|\n",
    "| floor(x)|取x的下入整数，如math.floor(4.9)返回4|\n",
    "| exp(x)|返回e的x次幂，e是自然常数|\n",
    "| sqrt(x)|返回x的平方根，返回值是float类型|\n",
    "| modf(x)|返回x的整数部分和小数部分，两部分的符号与x相同，整数部分以浮点型表示。例如math.modf(4.333)，返回元组(0.3330000000000002, 4.0)|\n",
    "|log10(x)|返回以10为基数的x的对数，返回值类型是浮点数|\n",
    "| log(x,y)|返回以y为基数的x的对数，返回值类型是浮点数|"
   ]
  }
 ],
 "metadata": {
  "kernelspec": {
   "display_name": "Python 3",
   "language": "python",
   "name": "python3"
  },
  "language_info": {
   "codemirror_mode": {
    "name": "ipython",
    "version": 3
   },
   "file_extension": ".py",
   "mimetype": "text/x-python",
   "name": "python",
   "nbconvert_exporter": "python",
   "pygments_lexer": "ipython3",
   "version": "3.7.7"
  },
  "nbTranslate": {
   "displayLangs": [
    "*"
   ],
   "hotkey": "alt-t",
   "langInMainMenu": true,
   "sourceLang": "en",
   "targetLang": "fr",
   "useGoogleTranslate": true
  },
  "toc": {
   "base_numbering": "0",
   "nav_menu": {},
   "number_sections": true,
   "sideBar": true,
   "skip_h1_title": false,
   "title_cell": "Table of Contents",
   "title_sidebar": "Contents",
   "toc_cell": false,
   "toc_position": {
    "height": "calc(100% - 180px)",
    "left": "10px",
    "top": "150px",
    "width": "198.323px"
   },
   "toc_section_display": true,
   "toc_window_display": true
  },
  "varInspector": {
   "cols": {
    "lenName": 16,
    "lenType": 16,
    "lenVar": 40
   },
   "kernels_config": {
    "python": {
     "delete_cmd_postfix": "",
     "delete_cmd_prefix": "del ",
     "library": "var_list.py",
     "varRefreshCmd": "print(var_dic_list())"
    },
    "r": {
     "delete_cmd_postfix": ") ",
     "delete_cmd_prefix": "rm(",
     "library": "var_list.r",
     "varRefreshCmd": "cat(var_dic_list()) "
    }
   },
   "types_to_exclude": [
    "module",
    "function",
    "builtin_function_or_method",
    "instance",
    "_Feature"
   ],
   "window_display": false
  }
 },
 "nbformat": 4,
 "nbformat_minor": 4
}
