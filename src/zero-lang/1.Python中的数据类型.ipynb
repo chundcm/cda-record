{
 "cells": [
  {
   "cell_type": "markdown",
   "metadata": {},
   "source": [
    "# Python中的数据类型详细分析"
   ]
  },
  {
   "cell_type": "markdown",
   "metadata": {},
   "source": [
    "## 1. Scalars（标量数据）"
   ]
  },
  {
   "attachments": {
    "c4e159dc-4b4a-48b2-9091-ba7c235195de.png": {
     "image/png": "[encoded data removed]"
    }
   },
   "cell_type": "markdown",
   "metadata": {},
   "source": [
    "![image.png](attachment:c4e159dc-4b4a-48b2-9091-ba7c235195de.png)"
   ]
  },
  {
   "cell_type": "markdown",
   "metadata": {},
   "source": [
    "Array中的标量类型，相关Python类型的表格：\n",
    "\n",
    "| Array | Related |\n",
    "| :--- | :--- |\n",
    "| int_ | IntType ( Python 2.0 ) |\n",
    "| float_ | FloatType |\n",
    "| complex_ | ComplexType |\n",
    "| bytes_ | BytesType |\n",
    "| unicode_ | UnicodeType |"
   ]
  },
  {
   "cell_type": "markdown",
   "metadata": {},
   "source": [
    "Numpy中默认的数据类型是：float_，platform?表示类型有可能不是全平台通用的，compatibility表示C或Python可通用可支持。"
   ]
  },
  {
   "cell_type": "markdown",
   "metadata": {},
   "source": [
    "| 大类型 | 数据类型 | 备注 | 符号 |\n",
    "| :--- | :--- | :--- | :--- |\n",
    "| Boolean | bool_ | 适用: Python bool | '?' |\n",
    "|| bool8 | 8位 | |\n",
    "| Integers | byte | 适用：C char | 'b' |\n",
    "|| short | 适用：C short | 'h' |\n",
    "|| intc | 适用：C int | 'i' |\n",
    "|| int_ | 适用：Python int | 'l' |\n",
    "|| longlong | 适用：C long long | 'q' |\n",
    "|| intp | 足够大的指针整数 | 'p' |\n",
    "|| int8 | 8位 ||\n",
    "|| int16 | 16位 ||\n",
    "|| int32 | 32位 ||\n",
    "|| int64 | 64位 ||\n",
    "| Unsigned Integers：无符号整数 | ubyte | 适用：C unsigned char | 'B' |\n",
    "|| ushort | 适用：C unsigned short | 'H' |\n",
    "|| uintc | 适用：C unsigned int | 'I' |\n",
    "|| uint | 适用：Python int | 'L' |\n",
    "|| ulonglong | 适用：C long long | 'Q' |\n",
    "|| uintp | 足够大的指针整数 | 'P' |\n",
    "|| uint8 | 8位 ||\n",
    "|| uint16 | 16位 ||\n",
    "|| uint32 | 32位 ||\n",
    "|| uint64 | 64位 ||\n",
    "| Floating-point numbers：浮点数 | half | IEEE 754中16位浮点数，深度学习常用 | 'e' |\n",
    "|| single | 适用：C float | 'f' |\n",
    "|| double | 适用：C double ||\n",
    "|| float_ | 适用：Python float ||\n",
    "|| longfloat | 适用：C long float ||\n",
    "|| float16 | 16位 ||\n",
    "|| float32 | 32位 ||\n",
    "|| float64 | 64位 ||\n",
    "|| float96 | 96位，platform? ||\n",
    "|| float128 | 128位，platform? ||\n",
    "| Complex floating-point numbers：复数 | csingle || 'F' |\n",
    "|| complex_ | 适用：Python complex | 'D' |\n",
    "|| clongfloat |||\n",
    "|| complex64 | 双32位浮点数 ||\n",
    "|| complex128 | 双64位浮点数 ||\n",
    "|| complex192 | 双96位浮点数，platform? ||\n",
    "|| complex256 | 双128位浮点数，platform? ||\n",
    "| 任意Python object | object_ | 任意Python对象 | 'O' |\n",
    "| flexible类型 | bytes_ | 适用：Python bytes | 'S#' |\n",
    "|| unicode_ | 适用：Python unicode/str | 'U#' |\n",
    "|| void || 'V#' |"
   ]
  },
  {
   "cell_type": "markdown",
   "metadata": {},
   "source": [
    "## 2. numpy中的数据类型 dtype"
   ]
  },
  {
   "cell_type": "markdown",
   "metadata": {},
   "source": [
    "一个数据类型对象是 numpy.dtype 的一个实例，它描述了这个数据的几个方面：\n",
    "\n",
    "* 数据类型\n",
    "* 数据尺寸（字节）\n",
    "* 字节顺序（小大端，Little-Endian / Big-Endian）\n",
    "* 如果是结构体或聚集结果\n",
    "    * 结构的字段集（fields），哪些可被访问\n",
    "    * 每个字段的数据类型\n",
    "    * 每个字段存储的内存块信息\n",
    "* 如果是子数组（Sub-Array），则描述它的数据类型和shape信息（包括它的维度）\n"
   ]
  },
  {
   "cell_type": "markdown",
   "metadata": {},
   "source": [
    "## 3. pandas中的Series"
   ]
  },
  {
   "cell_type": "markdown",
   "metadata": {},
   "source": [
    "Series是Pandas中最基本的对象，又称为**序列**，类似一种一位数组，它的结果解读分为三部分\n",
    "\n",
    "1. 最左边一列是索引信息，注意索引可以被 index 进行重命名。\n",
    "2. 右边一列则是数组中存储的数据。\n",
    "3. 最下边是该一位数组中的元素的类型，如果有名称则还会显示 Name。\n",
    "\n",
    "整体格式如下：\n",
    "\n",
    "```shell\n",
    "black    400\n",
    "green    300\n",
    "pink     900\n",
    "red      100\n",
    "Name: 名称, dtype：类型\n",
    "```\n",
    "\n",
    "该对象可以直接通过 values 和 index 获取内容和索引，值的类型是一个 array，而索引类型往往是一个 RangeIndex，当索引被重写的时候，该索引又可以称为元素对应的标签，类似于 numpy 中元素带标签的数组。注意 array, list, Series 三者的区别：\n",
    "\n",
    "* List是Python原生支持的集合，该集合中的元素可以是不同类型。\n",
    "* array和Series中的元素必须是同一种类型——这也是元素中包含了 dtype 的原因。\n",
    "\n",
    "Series支持的部分基本功能：索引访问、切片、选择、过滤，其中过滤和切片之后的数据类型还是 Series。"
   ]
  },
  {
   "cell_type": "markdown",
   "metadata": {},
   "source": [
    "### 4. DataFrame常用的查询方法"
   ]
  },
  {
   "cell_type": "markdown",
   "metadata": {},
   "source": [
    "DataFrame是pandas中的二维数组，在构造时，index为行索引，columns为列索引，这里主要介绍 DataFrame中常用的查询方法：loc, iloc, ix, at, iat等。\n",
    "\n",
    "* loc可以传入单个标签参数，返回的值为一个Series对象，此处标签为行索引。\n",
    "* loc也可以传入两个标签参数，同时使用 index 和 columns 定位。\n",
    "* loc的参数可以是一个数组，index, columns 都可以使用数组和数组切片语法，返回值为 DataFrame。\n",
    "* 带 i 前缀的直接使用索引而不是标签，行索引和列索引的值。\n",
    "* 不仅如此，loc 的参数还可以接受选择结果，同时支持行选择和列选择。\n",
    "* at, iat 则等价于 loc, iloc 的双参数版本（同时提供行索引和列索引的读取）。\n",
    "* ix 方法在 0.20.0 之后弃用，可忽略。"
   ]
  },
  {
   "cell_type": "code",
   "execution_count": 5,
   "metadata": {},
   "outputs": [
    {
     "data": {
      "text/html": [
       "<div>\n",
       "<style scoped>\n",
       "    .dataframe tbody tr th:only-of-type {\n",
       "        vertical-align: middle;\n",
       "    }\n",
       "\n",
       "    .dataframe tbody tr th {\n",
       "        vertical-align: top;\n",
       "    }\n",
       "\n",
       "    .dataframe thead th {\n",
       "        text-align: right;\n",
       "    }\n",
       "</style>\n",
       "<table border=\"1\" class=\"dataframe\">\n",
       "  <thead>\n",
       "    <tr style=\"text-align: right;\">\n",
       "      <th></th>\n",
       "      <th>姓名</th>\n",
       "      <th>字</th>\n",
       "      <th>武力</th>\n",
       "      <th>智力</th>\n",
       "      <th>统率</th>\n",
       "    </tr>\n",
       "  </thead>\n",
       "  <tbody>\n",
       "    <tr>\n",
       "      <th>0</th>\n",
       "      <td>吕布</td>\n",
       "      <td>奉先</td>\n",
       "      <td>100</td>\n",
       "      <td>17</td>\n",
       "      <td>92</td>\n",
       "    </tr>\n",
       "    <tr>\n",
       "      <th>1</th>\n",
       "      <td>赵云</td>\n",
       "      <td>子龙</td>\n",
       "      <td>97</td>\n",
       "      <td>93</td>\n",
       "      <td>86</td>\n",
       "    </tr>\n",
       "    <tr>\n",
       "      <th>2</th>\n",
       "      <td>周瑜</td>\n",
       "      <td>公瑾</td>\n",
       "      <td>89</td>\n",
       "      <td>98</td>\n",
       "      <td>97</td>\n",
       "    </tr>\n",
       "    <tr>\n",
       "      <th>3</th>\n",
       "      <td>关羽</td>\n",
       "      <td>云长</td>\n",
       "      <td>98</td>\n",
       "      <td>86</td>\n",
       "      <td>100</td>\n",
       "    </tr>\n",
       "    <tr>\n",
       "      <th>4</th>\n",
       "      <td>张飞</td>\n",
       "      <td>翼德</td>\n",
       "      <td>99</td>\n",
       "      <td>51</td>\n",
       "      <td>89</td>\n",
       "    </tr>\n",
       "    <tr>\n",
       "      <th>5</th>\n",
       "      <td>张辽</td>\n",
       "      <td>文远</td>\n",
       "      <td>95</td>\n",
       "      <td>91</td>\n",
       "      <td>91</td>\n",
       "    </tr>\n",
       "    <tr>\n",
       "      <th>6</th>\n",
       "      <td>诸葛亮</td>\n",
       "      <td>孔明</td>\n",
       "      <td>72</td>\n",
       "      <td>100</td>\n",
       "      <td>96</td>\n",
       "    </tr>\n",
       "  </tbody>\n",
       "</table>\n",
       "</div>"
      ],
      "text/plain": [
       "    姓名   字   武力   智力   统率\n",
       "0   吕布  奉先  100   17   92\n",
       "1   赵云  子龙   97   93   86\n",
       "2   周瑜  公瑾   89   98   97\n",
       "3   关羽  云长   98   86  100\n",
       "4   张飞  翼德   99   51   89\n",
       "5   张辽  文远   95   91   91\n",
       "6  诸葛亮  孔明   72  100   96"
      ]
     },
     "execution_count": 5,
     "metadata": {},
     "output_type": "execute_result"
    }
   ],
   "source": [
    "import numpy as np \n",
    "import pandas as pd\n",
    "rowdata = {'姓名':[\"吕布\",\"赵云\",\"周瑜\",\"关羽\",\"张飞\",\"张辽\",\"诸葛亮\"],\n",
    "          '字':['奉先','子龙','公瑾','云长','翼德','文远','孔明'],\n",
    "          '武力':[100, 97, 89, 98, 99, 95, 72],\n",
    "          '智力':[17, 93, 98, 86, 51, 91, 100],\n",
    "          '统率':[92, 86, 97, 100, 89, 91, 96]\n",
    "          }\n",
    "user_data = pd.DataFrame(rowdata)\n",
    "\n",
    "user_data"
   ]
  },
  {
   "cell_type": "code",
   "execution_count": 17,
   "metadata": {},
   "outputs": [
    {
     "name": "stdout",
     "output_type": "stream",
     "text": [
      "姓名     吕布\n",
      "字      奉先\n",
      "武力    100\n",
      "智力     17\n",
      "统率     92\n",
      "Name: 0, dtype: object\n"
     ]
    },
    {
     "data": {
      "text/plain": [
       "pandas.core.series.Series"
      ]
     },
     "execution_count": 17,
     "metadata": {},
     "output_type": "execute_result"
    }
   ],
   "source": [
    "# 读取吕布的数据，一行，返回一位数组 Series\n",
    "user1 = user_data.loc[0]\n",
    "print(user1)\n",
    "type(user1)"
   ]
  },
  {
   "cell_type": "code",
   "execution_count": 20,
   "metadata": {},
   "outputs": [
    {
     "data": {
      "text/html": [
       "<div>\n",
       "<style scoped>\n",
       "    .dataframe tbody tr th:only-of-type {\n",
       "        vertical-align: middle;\n",
       "    }\n",
       "\n",
       "    .dataframe tbody tr th {\n",
       "        vertical-align: top;\n",
       "    }\n",
       "\n",
       "    .dataframe thead th {\n",
       "        text-align: right;\n",
       "    }\n",
       "</style>\n",
       "<table border=\"1\" class=\"dataframe\">\n",
       "  <thead>\n",
       "    <tr style=\"text-align: right;\">\n",
       "      <th></th>\n",
       "      <th>姓名</th>\n",
       "      <th>字</th>\n",
       "      <th>武力</th>\n",
       "      <th>智力</th>\n",
       "      <th>统率</th>\n",
       "    </tr>\n",
       "  </thead>\n",
       "  <tbody>\n",
       "    <tr>\n",
       "      <th>0</th>\n",
       "      <td>吕布</td>\n",
       "      <td>奉先</td>\n",
       "      <td>100</td>\n",
       "      <td>17</td>\n",
       "      <td>92</td>\n",
       "    </tr>\n",
       "    <tr>\n",
       "      <th>1</th>\n",
       "      <td>赵云</td>\n",
       "      <td>子龙</td>\n",
       "      <td>97</td>\n",
       "      <td>93</td>\n",
       "      <td>86</td>\n",
       "    </tr>\n",
       "    <tr>\n",
       "      <th>3</th>\n",
       "      <td>关羽</td>\n",
       "      <td>云长</td>\n",
       "      <td>98</td>\n",
       "      <td>86</td>\n",
       "      <td>100</td>\n",
       "    </tr>\n",
       "    <tr>\n",
       "      <th>4</th>\n",
       "      <td>张飞</td>\n",
       "      <td>翼德</td>\n",
       "      <td>99</td>\n",
       "      <td>51</td>\n",
       "      <td>89</td>\n",
       "    </tr>\n",
       "    <tr>\n",
       "      <th>5</th>\n",
       "      <td>张辽</td>\n",
       "      <td>文远</td>\n",
       "      <td>95</td>\n",
       "      <td>91</td>\n",
       "      <td>91</td>\n",
       "    </tr>\n",
       "  </tbody>\n",
       "</table>\n",
       "</div>"
      ],
      "text/plain": [
       "   姓名   字   武力  智力   统率\n",
       "0  吕布  奉先  100  17   92\n",
       "1  赵云  子龙   97  93   86\n",
       "3  关羽  云长   98  86  100\n",
       "4  张飞  翼德   99  51   89\n",
       "5  张辽  文远   95  91   91"
      ]
     },
     "execution_count": 20,
     "metadata": {},
     "output_type": "execute_result"
    }
   ],
   "source": [
    "# 筛选武力大于 90 的人\n",
    "user_data.loc[user_data['武力']>90]"
   ]
  },
  {
   "cell_type": "code",
   "execution_count": 25,
   "metadata": {},
   "outputs": [
    {
     "data": {
      "text/html": [
       "<div>\n",
       "<style scoped>\n",
       "    .dataframe tbody tr th:only-of-type {\n",
       "        vertical-align: middle;\n",
       "    }\n",
       "\n",
       "    .dataframe tbody tr th {\n",
       "        vertical-align: top;\n",
       "    }\n",
       "\n",
       "    .dataframe thead th {\n",
       "        text-align: right;\n",
       "    }\n",
       "</style>\n",
       "<table border=\"1\" class=\"dataframe\">\n",
       "  <thead>\n",
       "    <tr style=\"text-align: right;\">\n",
       "      <th></th>\n",
       "      <th>0</th>\n",
       "      <th>1</th>\n",
       "      <th>2</th>\n",
       "      <th>3</th>\n",
       "      <th>4</th>\n",
       "    </tr>\n",
       "  </thead>\n",
       "  <tbody>\n",
       "    <tr>\n",
       "      <th>L</th>\n",
       "      <td>吕布</td>\n",
       "      <td>奉先</td>\n",
       "      <td>100</td>\n",
       "      <td>17</td>\n",
       "      <td>92</td>\n",
       "    </tr>\n",
       "    <tr>\n",
       "      <th>Z</th>\n",
       "      <td>赵云</td>\n",
       "      <td>子龙</td>\n",
       "      <td>97</td>\n",
       "      <td>93</td>\n",
       "      <td>86</td>\n",
       "    </tr>\n",
       "    <tr>\n",
       "      <th>ZY</th>\n",
       "      <td>周瑜</td>\n",
       "      <td>公瑾</td>\n",
       "      <td>89</td>\n",
       "      <td>98</td>\n",
       "      <td>97</td>\n",
       "    </tr>\n",
       "    <tr>\n",
       "      <th>GY</th>\n",
       "      <td>关羽</td>\n",
       "      <td>云长</td>\n",
       "      <td>98</td>\n",
       "      <td>86</td>\n",
       "      <td>100</td>\n",
       "    </tr>\n",
       "    <tr>\n",
       "      <th>ZF</th>\n",
       "      <td>张飞</td>\n",
       "      <td>翼德</td>\n",
       "      <td>99</td>\n",
       "      <td>51</td>\n",
       "      <td>89</td>\n",
       "    </tr>\n",
       "    <tr>\n",
       "      <th>ZL</th>\n",
       "      <td>张辽</td>\n",
       "      <td>文远</td>\n",
       "      <td>95</td>\n",
       "      <td>91</td>\n",
       "      <td>91</td>\n",
       "    </tr>\n",
       "    <tr>\n",
       "      <th>ZGL</th>\n",
       "      <td>诸葛亮</td>\n",
       "      <td>孔明</td>\n",
       "      <td>72</td>\n",
       "      <td>100</td>\n",
       "      <td>96</td>\n",
       "    </tr>\n",
       "  </tbody>\n",
       "</table>\n",
       "</div>"
      ],
      "text/plain": [
       "       0   1    2    3    4\n",
       "L     吕布  奉先  100   17   92\n",
       "Z     赵云  子龙   97   93   86\n",
       "ZY    周瑜  公瑾   89   98   97\n",
       "GY    关羽  云长   98   86  100\n",
       "ZF    张飞  翼德   99   51   89\n",
       "ZL    张辽  文远   95   91   91\n",
       "ZGL  诸葛亮  孔明   72  100   96"
      ]
     },
     "execution_count": 25,
     "metadata": {},
     "output_type": "execute_result"
    }
   ],
   "source": [
    "# 修改标签\n",
    "d2 = pd.DataFrame(user_data.values, index=['L','Z','ZY','GY','ZF','ZL','ZGL'])\n",
    "d2"
   ]
  },
  {
   "cell_type": "code",
   "execution_count": null,
   "metadata": {},
   "outputs": [],
   "source": []
  }
 ],
 "metadata": {
  "kernelspec": {
   "display_name": "Python 3",
   "language": "python",
   "name": "python3"
  },
  "language_info": {
   "codemirror_mode": {
    "name": "ipython",
    "version": 3
   },
   "file_extension": ".py",
   "mimetype": "text/x-python",
   "name": "python",
   "nbconvert_exporter": "python",
   "pygments_lexer": "ipython3",
   "version": "3.7.7"
  }
 },
 "nbformat": 4,
 "nbformat_minor": 4
}
