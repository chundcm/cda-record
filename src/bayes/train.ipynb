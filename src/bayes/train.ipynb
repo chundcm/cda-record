{
 "cells": [
  {
   "cell_type": "code",
   "execution_count": 3,
   "metadata": {},
   "outputs": [
    {
     "ename": "ModuleNotFoundError",
     "evalue": "No module named 'dice'",
     "output_type": "error",
     "traceback": [
      "\u001b[1;31m---------------------------------------------------------------------------\u001b[0m",
      "\u001b[1;31mModuleNotFoundError\u001b[0m                       Traceback (most recent call last)",
      "\u001b[1;32m<ipython-input-3-f87db9ea4132>\u001b[0m in \u001b[0;36m<module>\u001b[1;34m\u001b[0m\n\u001b[0;32m      7\u001b[0m \u001b[1;32mfrom\u001b[0m \u001b[0m__future__\u001b[0m \u001b[1;32mimport\u001b[0m \u001b[0mprint_function\u001b[0m\u001b[1;33m\u001b[0m\u001b[1;33m\u001b[0m\u001b[0m\n\u001b[0;32m      8\u001b[0m \u001b[1;33m\u001b[0m\u001b[0m\n\u001b[1;32m----> 9\u001b[1;33m \u001b[1;32mfrom\u001b[0m \u001b[0mdice\u001b[0m \u001b[1;32mimport\u001b[0m \u001b[0mDice\u001b[0m\u001b[1;33m\u001b[0m\u001b[1;33m\u001b[0m\u001b[0m\n\u001b[0m\u001b[0;32m     10\u001b[0m \u001b[1;32mimport\u001b[0m \u001b[0mthinkplot\u001b[0m\u001b[1;33m\u001b[0m\u001b[1;33m\u001b[0m\u001b[0m\n\u001b[0;32m     11\u001b[0m \u001b[1;33m\u001b[0m\u001b[0m\n",
      "\u001b[1;31mModuleNotFoundError\u001b[0m: No module named 'dice'"
     ]
    }
   ],
   "source": [
    "\"\"\"This file contains code for use with \"Think Bayes\",\n",
    "by Allen B. Downey, available from greenteapress.com\n",
    "\n",
    "Copyright 2012 Allen B. Downey\n",
    "License: GNU GPLv3 http://www.gnu.org/licenses/gpl.html\n",
    "\"\"\"\n",
    "from __future__ import print_function\n",
    "\n",
    "from dice import Dice\n",
    "import thinkplot\n",
    "\n",
    "\n",
    "class Train(Dice):\n",
    "    \"\"\"Represents hypotheses about how many trains the company has.\n",
    "\n",
    "    The likelihood function for the train problem is the same as\n",
    "    for the Dice problem.\n",
    "    \"\"\"\n",
    "\n",
    "\n",
    "def main():\n",
    "    hypos = range(1, 1001)\n",
    "    suite = Train(hypos)\n",
    "\n",
    "    suite.Update(60)\n",
    "    print(suite.Mean())\n",
    "\n",
    "    thinkplot.PrePlot(1)\n",
    "    thinkplot.Pmf(suite)\n",
    "    thinkplot.Save(root='train1',\n",
    "                   xlabel='Number of trains',\n",
    "                   ylabel='Probability',\n",
    "                   formats=['pdf', 'eps'])\n",
    "\n",
    "\n",
    "if __name__ == '__main__':\n",
    "    main()"
   ]
  }
 ],
 "metadata": {
  "kernelspec": {
   "display_name": "Python 3",
   "language": "python",
   "name": "python3"
  },
  "language_info": {
   "codemirror_mode": {
    "name": "ipython",
    "version": 3
   },
   "file_extension": ".py",
   "mimetype": "text/x-python",
   "name": "python",
   "nbconvert_exporter": "python",
   "pygments_lexer": "ipython3",
   "version": "3.7.7"
  }
 },
 "nbformat": 4,
 "nbformat_minor": 4
}
