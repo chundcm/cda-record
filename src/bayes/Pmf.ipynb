{
 "cells": [
  {
   "cell_type": "code",
   "execution_count": 1,
   "metadata": {},
   "outputs": [
    {
     "name": "stdout",
     "output_type": "stream",
     "text": [
      "0.9999999999999999\n",
      "0\n"
     ]
    }
   ],
   "source": [
    "from thinkbayes import Pmf\n",
    "\n",
    "# 创建一个 Pmf 来表示六面骰子的结果分布\n",
    "pmf = Pmf()\n",
    "for x in [1,2,3,4,5,6]:\n",
    "    pmf.Set(x, 1/6.0)\n",
    "    \n",
    "# 计算每个单词在一个次序列中出现的次数\n",
    "\"\"\"\n",
    "pmf = Pmf()\n",
    "for word in word_list:\n",
    "    pmf.Incr(word,1)\n",
    "\"\"\"\n",
    "print(pmf.Normalize())\n",
    "\n",
    "print(pmf.Prob('the'))"
   ]
  },
  {
   "cell_type": "code",
   "execution_count": null,
   "metadata": {},
   "outputs": [],
   "source": []
  },
  {
   "cell_type": "code",
   "execution_count": null,
   "metadata": {},
   "outputs": [],
   "source": []
  }
 ],
 "metadata": {
  "kernelspec": {
   "display_name": "Python 3",
   "language": "python",
   "name": "python3"
  },
  "language_info": {
   "codemirror_mode": {
    "name": "ipython",
    "version": 3
   },
   "file_extension": ".py",
   "mimetype": "text/x-python",
   "name": "python",
   "nbconvert_exporter": "python",
   "pygments_lexer": "ipython3",
   "version": "3.7.7"
  }
 },
 "nbformat": 4,
 "nbformat_minor": 4
}
