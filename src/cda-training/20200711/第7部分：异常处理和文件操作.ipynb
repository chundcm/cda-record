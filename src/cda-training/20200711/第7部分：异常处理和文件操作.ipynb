{
 "cells": [
  {
   "cell_type": "markdown",
   "metadata": {},
   "source": [
    "# <center> 第7部分：异常处理和文件操作<center>"
   ]
  },
  {
   "cell_type": "markdown",
   "metadata": {},
   "source": [
    "- **Created By：菊安酱**\n",
    "- **Date：2020.07.11**"
   ]
  },
  {
   "cell_type": "code",
   "execution_count": null,
   "metadata": {},
   "outputs": [],
   "source": [
    "#设置全部行输出\n",
    "from IPython.core.interactiveshell import InteractiveShell\n",
    "InteractiveShell.ast_node_interactivity = \"all\""
   ]
  },
  {
   "cell_type": "markdown",
   "metadata": {
    "toc-hr-collapsed": false
   },
   "source": [
    "## 1. 错误和异常\n",
    "在刚学习 Python 编程时，经常会看到一些报错信息，需要强调的一点：程序中的错误都是有\n",
    "意的创建并抛出的，所以错误和异常并不可怕，都是可控的。"
   ]
  },
  {
   "cell_type": "code",
   "execution_count": null,
   "metadata": {},
   "outputs": [],
   "source": [
    "raise NameError #这里我们主动抛出一个错误"
   ]
  },
  {
   "cell_type": "markdown",
   "metadata": {},
   "source": [
    "Python 中最常见的两种错误：<font color=##0033FF size=4 >**语法错误和异常（syntax errors 和 exceptions）**。"
   ]
  },
  {
   "cell_type": "markdown",
   "metadata": {},
   "source": [
    "<img src='https://pictes.oss-cn-beijing.aliyuncs.com/%E8%8F%8A%E5%AE%89%E9%85%B1/Python%E5%9F%BA%E7%A1%80/%E5%BC%82%E5%B8%B8%E4%B8%8E%E9%94%99%E8%AF%AF.png' width=500>"
   ]
  },
  {
   "cell_type": "markdown",
   "metadata": {},
   "source": [
    "### 1.1 语法错误(Syntax Errors)"
   ]
  },
  {
   "cell_type": "markdown",
   "metadata": {},
   "source": [
    "语法错误, 也就是解析时错误。是初学者经常碰到的，如下实例："
   ]
  },
  {
   "cell_type": "code",
   "execution_count": null,
   "metadata": {},
   "outputs": [],
   "source": [
    "while True print('Hello world')"
   ]
  },
  {
   "cell_type": "markdown",
   "metadata": {},
   "source": [
    "语法分析器指出错误行，并且在检测到错误的位置前面显示一个小「箭头」。     \n",
    "错误是由箭头前面的标记引起的（或者至少是这么检测的）：    \n",
    "这个例子中，函数 print() 被发现存在错误，因为它前面少了一个冒号「:」。     \n",
    "错误会输出文件名和行号，所以如果是从脚本输入的你就知道去哪里检查错误了。      "
   ]
  },
  {
   "cell_type": "markdown",
   "metadata": {},
   "source": [
    "``` \n",
    "\n",
    "\n",
    "\n",
    "```\n",
    "### 1.2 异常 (Exceptions)\n",
    "\n",
    "即使语句或表达式在语法上是正确的, 但在尝试运行时也可能发生错误, 运行时错误就叫做异常(Exception). 异常并不是致命问题, 因为我们可以在程序运行中对异常进行处理.\n"
   ]
  },
  {
   "cell_type": "markdown",
   "metadata": {},
   "source": [
    "<font color=#00008B size=3 >   \n",
    "*（1）除零错误ZeroDivisionError: division by zero*"
   ]
  },
  {
   "cell_type": "code",
   "execution_count": null,
   "metadata": {
    "scrolled": true
   },
   "outputs": [],
   "source": [
    "10 / 0 "
   ]
  },
  {
   "cell_type": "markdown",
   "metadata": {},
   "source": [
    "&emsp;   \n",
    "<font color=#00008B size=3 >  \n",
    "*（2）命名错误NameError: name 'ok' is not defined*"
   ]
  },
  {
   "cell_type": "code",
   "execution_count": null,
   "metadata": {},
   "outputs": [],
   "source": [
    "ok"
   ]
  },
  {
   "cell_type": "markdown",
   "metadata": {},
   "source": [
    "&emsp;  \n",
    "<font color=#00008B size=3 face=\"黑体\">   \n",
    "*（3）类型错误TypeError*"
   ]
  },
  {
   "cell_type": "code",
   "execution_count": null,
   "metadata": {
    "scrolled": true
   },
   "outputs": [],
   "source": [
    "2 + '2'"
   ]
  },
  {
   "cell_type": "markdown",
   "metadata": {},
   "source": [
    "``` \n",
    "\n",
    "```  \n",
    "### 1.3 python标准异常\n",
    "\n",
    "| 异常名称                  | 描述                                               |\n",
    "| ------------------------- | -------------------------------------------------- |\n",
    "| BaseException             | 所有异常的基类                                     |\n",
    "| SystemExit                | 解释器请求退出                                     |\n",
    "| KeyboardInterrupt         | 用户中断执行(通常是输入^C)                         |\n",
    "| Exception                 | 常规错误的基类                                     |\n",
    "| StopIteration             | 迭代器没有更多的值                                 |\n",
    "| GeneratorExit             | 生成器(generator)发生异常来通知退出                |\n",
    "| StandardError             | 所有的内建标准异常的基类                           |\n",
    "| ArithmeticError           | 所有数值计算错误的基类                             |\n",
    "| FloatingPointError        | 浮点计算错误                                       |\n",
    "| OverflowError             | 数值运算超出最大限制                               |\n",
    "| ZeroDivisionError         | 除(或取模)零 (所有数据类型)                        |\n",
    "| AssertionError            | 断言语句失败                                       |\n",
    "| AttributeError            | 对象没有这个属性                                   |\n",
    "| EOFError                  | 没有内建输入,到达EOF 标记   **好像是读取异常**     |\n",
    "| EnvironmentError          | 操作系统错误的基类                                 |\n",
    "| IOError                   | 输入/输出操作失败                                  |\n",
    "| OSError                   | 操作系统错误                                       |\n",
    "| WindowsError              | 系统调用失败                                       |\n",
    "| ImportError               | 导入模块/对象失败                                  |\n",
    "| LookupError               | 无效数据查询的基类                                 |\n",
    "| IndexError                | 序列中没有此索引(index)                            |\n",
    "| KeyError                  | 映射中没有这个键                                   |\n",
    "| MemoryError               | 内存溢出错误(对于Python 解释器不是致命的)          |\n",
    "| NameError                 | 未声明/初始化对象 (没有属性)                       |\n",
    "| UnboundLocalError         | 访问未初始化的本地变量                             |\n",
    "| ReferenceError            | 弱引用(Weak reference)试图访问已经垃圾回收了的对象 |\n",
    "| RuntimeError              | 一般的运行时错误                                   |\n",
    "| NotImplementedError       | 尚未实现的方法                                     |\n",
    "| SyntaxError               | Python 语法错误                                    |\n",
    "| IndentationError          | 缩进错误                                           |\n",
    "| TabError                  | Tab 和空格混用                                     |\n",
    "| SystemError               | 一般的解释器系统错误                               |\n",
    "| TypeError                 | 对类型无效的操作                                   |\n",
    "| ValueError                | 传入无效的参数                                     |\n",
    "| UnicodeError              | Unicode 相关的错误                                 |\n",
    "| UnicodeDecodeError        | Unicode 解码时的错误                               |\n",
    "| UnicodeEncodeError        | Unicode 编码时错误                                 |\n",
    "| UnicodeTranslateError     | Unicode 转换时错误                                 |\n",
    "| Warning                   | 警告的基类                                         |\n",
    "| DeprecationWarning        | 关于被弃用的特征的警告                             |\n",
    "| FutureWarning             | 关于构造将来语义会有改变的警告                     |\n",
    "| OverflowWarning           | 旧的关于自动提升为长整型(long)的警告               |\n",
    "| PendingDeprecationWarning | 关于特性将会被废弃的警告                           |\n",
    "| RuntimeWarning            | 可疑的运行时行为(runtime behavior)的警告           |\n",
    "| SyntaxWarning             | 可疑的语法的警告                                   |\n",
    "| UserWarning               | 用户代码生成的警告                                 |\n"
   ]
  },
  {
   "cell_type": "markdown",
   "metadata": {},
   "source": [
    "Python所有的错误都是从BaseException类派生的，常见的错误类型和继承关系看这里：\n",
    "\n",
    "https://docs.python.org/3/library/exceptions.html#exception-hierarchy"
   ]
  },
  {
   "cell_type": "markdown",
   "metadata": {},
   "source": [
    "```  \n",
    "\n",
    "\n",
    "```  \n",
    "### 1.4 异常处理\n",
    "&emsp;当你知道你的代码可能会产生某种异常, 但是你却不希望当这种异常出现的时候导致程序终止,      \n",
    "&emsp;你想要让程序即使出现了异常也能跳过去继续向下运行, 这时候你就需要添加try/except 或try/finally语句来处理它。\n",
    "```python\n",
    "try:\n",
    "    <执行语句块 0>       #可能会出错的代码块放这里\n",
    "except <异常信息 1>:\n",
    "    <执行语句块 1>       #如果在 try部份引发了异常1，则执行语句块1\n",
    "except <异常信息 2>:\n",
    "    <执行语句块 2>       #如果在 try部份引发了异常2，则执行语句块2\n",
    "else:\n",
    "    <执行语句块 3>       #如果在 try部份没有引发异常，则执行语句块3\n",
    "finally:\n",
    "    <执行语句块 4>       #无论是否发生异常都执行语句块4\n",
    "```"
   ]
  },
  {
   "cell_type": "markdown",
   "metadata": {},
   "source": [
    "try 语句按如下方式工作。\n",
    "- 首先，执行 try 子句（在 try 和 except 关键字之间的部分）。\n",
    "- 如果没有异常发生，except 子句在 try 语句执行完毕后就被忽略了。\n",
    "- 如果在 try 子句执行过程中发生了异常，那么该子句其余的部分就会被忽略。\n",
    "- 如果异常匹配于 except 关键字后面指定的异常类型，就执行对应的 except子句。然后继续执行 try 语句之后的代码。\n",
    "- 如果发生了一个异常，在 except 子句中没有与之匹配的分支，它就会传递到上一级 try 语句中。\n",
    "- 如果最终仍找不到对应的处理语句，它就成为一个未处理异常，终止程序运行，显示提示信息。"
   ]
  },
  {
   "cell_type": "markdown",
   "metadata": {},
   "source": [
    "一个 try 语句可能包含多个 except 子句，分别指定处理不同的异常。   \n",
    "一个 except 子句可以在括号中列出多个异常的名字，如果 except 后不写异常的类型信息，那么该 except 将会捕获所有的异常。   "
   ]
  },
  {
   "cell_type": "markdown",
   "metadata": {},
   "source": [
    "```  \n",
    "\n",
    "``` \n",
    "<font size=4>**(1) try...except语句**"
   ]
  },
  {
   "cell_type": "markdown",
   "metadata": {},
   "source": [
    "```python \n",
    "try:\n",
    "    <执行语句块 0>       #可能会出错的代码块放这里\n",
    "except <异常信息 1>:\n",
    "    <执行语句块 1>       #如果在 try部份引发了异常1，则执行语句块1\n",
    "```"
   ]
  },
  {
   "cell_type": "code",
   "execution_count": null,
   "metadata": {},
   "outputs": [],
   "source": [
    "a = int(input(\"请输入行驶公里数（km）：\"))\n",
    "b = int(input(\"请输入行驶时间（h）\"))\n",
    "c = int(a/b)\n",
    "c"
   ]
  },
  {
   "cell_type": "code",
   "execution_count": null,
   "metadata": {},
   "outputs": [],
   "source": [
    "try:\n",
    "    a = int(input(\"请输入行驶公里数（km）：\"))\n",
    "    b = int(input(\"请输入行驶时间（h）\"))\n",
    "    c = int(a/b)\n",
    "except :        #捕捉所有异常\n",
    "    print(\"代码有错\")"
   ]
  },
  {
   "cell_type": "markdown",
   "metadata": {},
   "source": [
    "```\n",
    "\n",
    "```\n",
    "**如果我们预先知道代码可能会有哪些错误，可以提前防止好“捕捉器”：**"
   ]
  },
  {
   "cell_type": "code",
   "execution_count": null,
   "metadata": {},
   "outputs": [],
   "source": [
    "try:\n",
    "    a=int(input(\"请输入行驶公里数（km）：\"))\n",
    "    b=int(input(\"请输入行驶时间（h）\"))\n",
    "    c=int(a/b)\n",
    "except ZeroDivisionError :     #只捕捉除数为0的异常\n",
    "    print(\"零除错误\")"
   ]
  },
  {
   "cell_type": "markdown",
   "metadata": {},
   "source": [
    "``` \n",
    "\n",
    "\n",
    "```  \n",
    "**捕捉异常并打印原因**"
   ]
  },
  {
   "cell_type": "code",
   "execution_count": null,
   "metadata": {},
   "outputs": [],
   "source": [
    "1/0"
   ]
  },
  {
   "cell_type": "code",
   "execution_count": null,
   "metadata": {
    "scrolled": true
   },
   "outputs": [],
   "source": [
    "try:\n",
    "    a=int(input(\"请输入行驶公里数（km）：\"))\n",
    "    b=int(input(\"请输入行驶时间（h）\"))\n",
    "    c=int(a/b)\n",
    "except ZeroDivisionError as e:       #只捕捉除数为0的异常，并记录异常原因在e\n",
    "    print(\"零除错误：\",e)             #打印异常原因"
   ]
  },
  {
   "cell_type": "markdown",
   "metadata": {},
   "source": [
    "``` \n",
    "\n",
    "\n",
    "``` \n",
    "<font size=4>**(2) try...except...else语句**"
   ]
  },
  {
   "cell_type": "markdown",
   "metadata": {},
   "source": [
    "```\n",
    "上面我们用try...except语句来捕捉代码块的异常，但是如果代码块没有异常呢？\n",
    "如果没有代码异常我们想继续运行代码，那么后续的代码我们可以写在else子句中。\n",
    "```"
   ]
  },
  {
   "cell_type": "code",
   "execution_count": null,
   "metadata": {},
   "outputs": [],
   "source": [
    "try:\n",
    "    a=input(\"请输入行驶公里数（km）：\")\n",
    "    b=input(\"请输入行驶时间（h）\")\n",
    "    c=int(a)/int(b)   \n",
    "except (ValueError,ZeroDivisionError) as e_01:        #和int(b)不能为0相比，a和b不能为非数字型字符串更早进入try子句，因此要把最早可能出现的错误记为\"错误原因1\"   \n",
    "    print(\"出现两大错误之一，错误原因是：\",e_01)\n",
    "except Exception as e_02:\n",
    "    print(\"出现两大错误以外的错误：\",e_02)\n",
    "else:\n",
    "    print(\"\\n\"\"代码运行没错\")\n",
    "    print(\"行驶速度为 %s km/h\"%c)"
   ]
  },
  {
   "cell_type": "markdown",
   "metadata": {},
   "source": [
    "```  \n",
    "\n",
    "``` \n",
    "<font size=4>**(3) try...except...else...finally语句**"
   ]
  },
  {
   "cell_type": "markdown",
   "metadata": {},
   "source": [
    "有些语句，无论是否有异常，都需要运行的，我们可以放在finally子句中。"
   ]
  },
  {
   "cell_type": "code",
   "execution_count": null,
   "metadata": {},
   "outputs": [],
   "source": [
    "try:\n",
    "    a=input(\"请输入行驶公里数（km）：\")\n",
    "    b=input(\"请输入行驶时间（h）\")\n",
    "    c=int(a)/int(b)   \n",
    "except (ValueError,ZeroDivisionError) as e_01:        #和int(b)不能为0相比，a和b不能为非数字型字符串更早进入try子句，因此要把最早可能出现的错误记为\"错误原因1\"   \n",
    "    print(\"出现两大错误之一，错误原因是：\",e_01)\n",
    "except Exception as e_02:\n",
    "    print(\"出现两大错误以外的错误：\",e_02)\n",
    "else:\n",
    "    print(\"\\n\"\"代码运行没错\")\n",
    "    print(\"行驶速度为 %s km/h\"%c)\n",
    "finally:\n",
    "    print(\"\\n\"\"全部代码运行完毕\")\n",
    "    print(\"无论代码有没有错，都会打印上面这句话\")"
   ]
  },
  {
   "cell_type": "markdown",
   "metadata": {},
   "source": [
    "``` \n",
    "\n",
    "``` \n",
    "## 2. 手动引发错误"
   ]
  },
  {
   "cell_type": "markdown",
   "metadata": {},
   "source": [
    "异常可以用raise语句手动引发，比如："
   ]
  },
  {
   "cell_type": "code",
   "execution_count": null,
   "metadata": {},
   "outputs": [],
   "source": [
    "raise ValueError(\"错了\")  "
   ]
  },
  {
   "cell_type": "code",
   "execution_count": null,
   "metadata": {},
   "outputs": [],
   "source": [
    "try:\n",
    "    raise ValueError         #将异常ValueError引发\n",
    "except ValueError:           #然后又将异常ValueError捕捉\n",
    "    print(\"成功引发异常\")\n",
    "else:\n",
    "    print(\"没成功引发异常\")"
   ]
  },
  {
   "cell_type": "markdown",
   "metadata": {},
   "source": [
    "**为什么要引发异常呢？皮一下就开心了吗？又有什么用呢？**\n",
    "- 其实，有时候我们确实需要把异常引发。</br>\n",
    "- 比如我们用python模拟抛色子的时候，如果色子点数大于7或者小于1就不对了, 这时我们可以设置让它报错："
   ]
  },
  {
   "cell_type": "code",
   "execution_count": null,
   "metadata": {},
   "outputs": [],
   "source": [
    "import random\n",
    "num = random.randint(-10, 10)\n",
    "print(num)\n",
    "\n",
    "if not 1<=num<=6:\n",
    "    raise ValueError('随机生成的骰子不合常理')\n",
    "else:\n",
    "    print('您摇出的骰子是', num)"
   ]
  },
  {
   "cell_type": "markdown",
   "metadata": {
    "toc-hr-collapsed": false
   },
   "source": [
    "```\n",
    "\n",
    "\n",
    "```\n",
    "##  3. I/O操作"
   ]
  },
  {
   "cell_type": "markdown",
   "metadata": {},
   "source": [
    "### 3.1 打开文件"
   ]
  },
  {
   "cell_type": "markdown",
   "metadata": {},
   "source": [
    "在python，使用open函数，可以打开一个已经存在的文件，或者创建一个新文件\n",
    "```python\n",
    "open(文件名，访问模式)\n",
    "```"
   ]
  },
  {
   "cell_type": "markdown",
   "metadata": {},
   "source": [
    "| 访问模式 | 说明                                                         |\n",
    "| -------- | ------------------------------------------------------------ |\n",
    "| r        | 以只读方式打开文件。文件的指针将会放在文件的开头。这是默认模式。 |\n",
    "| w        | 打开一个文件只用于写入。如果该文件已存在则将其覆盖。如果该文件不存在，创建新文件。 |\n",
    "| a        | 打开一个文件用于追加。如果该文件已存在，文件指针将会放在文件的结尾。也就是说，新的内容将会被写入到已有内容之后。如果该文件不存在，创建新文件进行写入。 |\n",
    "| rb       | 以二进制格式打开一个文件用于只读。文件指针将会放在文件的开头。这是默认模式。 |\n",
    "| wb       | 以二进制格式打开一个文件只用于写入。如果该文件已存在则将其覆盖。如果该文件不存在，创建新文件。 |\n",
    "| ab       | 以二进制格式打开一个文件用于追加。如果该文件已存在，文件指针将会放在文件的结尾。也就是说，新的内容将会被写入到已有内容之后。如果该文件不存在，创建新文件进行写入。 |\n",
    "| r+       | 打开一个文件用于读写。文件指针将会放在文件的开头。           |\n",
    "| w+       | 打开一个文件用于读写。如果该文件已存在则将其覆盖。如果该文件不存在，创建新文件。 |\n",
    "| a+       | 打开一个文件用于读写。如果该文件已存在，文件指针将会放在文件的结尾。文件打开时会是追加模式。如果该文件不存在，创建新文件用于读写。 |\n",
    "| rb+      | 以二进制格式打开一个文件用于读写。文件指针将会放在文件的开头。 |\n",
    "| wb+      | 以二进制格式打开一个文件用于读写。如果该文件已存在则将其覆盖。如果该文件不存在，创建新文件。 |\n",
    "| ab+      | 以二进制格式打开一个文件用于追加。如果该文件已存在，文件指针将会放在文件的结尾。如果该文件不存在，创建新文件用于读写。 |"
   ]
  },
  {
   "cell_type": "code",
   "execution_count": null,
   "metadata": {
    "collapsed": true,
    "jupyter": {
     "outputs_hidden": true
    }
   },
   "outputs": [],
   "source": [
    "f = open('test.txt', 'a')"
   ]
  },
  {
   "cell_type": "code",
   "execution_count": null,
   "metadata": {},
   "outputs": [],
   "source": [
    "f"
   ]
  },
  {
   "cell_type": "markdown",
   "metadata": {},
   "source": [
    "### 3.2 文件的读写"
   ]
  },
  {
   "cell_type": "code",
   "execution_count": null,
   "metadata": {
    "collapsed": true,
    "jupyter": {
     "outputs_hidden": true
    }
   },
   "outputs": [],
   "source": [
    "# 使用write()可以完成向文件写入数据\n",
    "f.write('Hello python, I am coming~') # 注意： 如果文件不存在那么创建，如果存在那么就先清空，然后写入数据"
   ]
  },
  {
   "cell_type": "code",
   "execution_count": null,
   "metadata": {},
   "outputs": [],
   "source": [
    "f"
   ]
  },
  {
   "cell_type": "markdown",
   "metadata": {},
   "source": [
    "### 3.3 关闭文件"
   ]
  },
  {
   "cell_type": "code",
   "execution_count": null,
   "metadata": {
    "collapsed": true,
    "jupyter": {
     "outputs_hidden": true
    }
   },
   "outputs": [],
   "source": [
    "f.close()  #在内存中释放文件, close之后文件才可以删除"
   ]
  },
  {
   "cell_type": "markdown",
   "metadata": {},
   "source": [
    "### 3.4 读取数据"
   ]
  },
  {
   "cell_type": "markdown",
   "metadata": {},
   "source": [
    "**（1）read方法**"
   ]
  },
  {
   "cell_type": "markdown",
   "metadata": {},
   "source": [
    "使用read(num)可以从文件中读取数据      \n",
    "num表示要从文件中读取的数据的长度（单位是字节）    \n",
    "如果没有传入num，那么就表示读取文件中所有的数据"
   ]
  },
  {
   "cell_type": "code",
   "execution_count": null,
   "metadata": {},
   "outputs": [],
   "source": [
    "f = open('test.txt', 'r') #如果只是打开一个文件的话，可以不用写打开的模式，因为打开模式默认为只读 \"r\"\n",
    "content = f.read(7)\n",
    "print(content)"
   ]
  },
  {
   "cell_type": "markdown",
   "metadata": {},
   "source": [
    "【注意】如果你打开一个文件读取多次，那么后面读取的数据是从上次读完后的位置开始的"
   ]
  },
  {
   "cell_type": "code",
   "execution_count": null,
   "metadata": {},
   "outputs": [],
   "source": [
    "f = open('test.txt', 'r')\n",
    "c1 = f.read(5)\n",
    "print(c1)\n",
    "c2 = f.read(3)\n",
    "print(c2)"
   ]
  },
  {
   "cell_type": "markdown",
   "metadata": {},
   "source": [
    "**（2）readlines方法**"
   ]
  },
  {
   "cell_type": "markdown",
   "metadata": {},
   "source": [
    "readlines可以按照行的方式把整个文件中的内容进行一次性读取，并且返回的是一个列表，其中每一行的数据为一个元素"
   ]
  },
  {
   "cell_type": "code",
   "execution_count": null,
   "metadata": {
    "collapsed": true,
    "jupyter": {
     "outputs_hidden": true
    }
   },
   "outputs": [],
   "source": [
    "f = open(\"test.txt\", \"r\")\n",
    "data = f.readlines()"
   ]
  },
  {
   "cell_type": "code",
   "execution_count": null,
   "metadata": {},
   "outputs": [],
   "source": [
    "data"
   ]
  },
  {
   "cell_type": "markdown",
   "metadata": {},
   "source": [
    "```\n",
    "\n",
    "\n",
    "```\n",
    "**练习**\n",
    "1. 新建一个poem.txt文件\n",
    "2. 将春江花月夜这首古诗添加到文件中\n",
    "3. 重新打开文件，追加另一首古诗将进酒到该文件中\n",
    "4. 只读方式打开文件, 逐行读取文件中的内容"
   ]
  },
  {
   "cell_type": "code",
   "execution_count": null,
   "metadata": {},
   "outputs": [],
   "source": [
    "s1 = \"\"\"\n",
    "春江花月夜\n",
    "\n",
    "作者：张若虚\n",
    "\n",
    "春江潮水连海平，海上明月共潮生。\n",
    "滟滟随波千万里，何处春江无月明！\n",
    "江流宛转绕芳甸，月照花林皆似霰；\n",
    "空里流霜不觉飞，汀上白沙看不见。\n",
    "江天一色无纤尘，皎皎空中孤月轮。\n",
    "江畔何人初见月？江月何年初照人？\n",
    "人生代代无穷已，江月年年望相似。\n",
    "不知江月待何人，但见长江送流水。\n",
    "白云一片去悠悠，青枫浦上不胜愁。\n",
    "谁家今夜扁舟子？何处相思明月楼？\n",
    "可怜楼上月徘徊，应照离人妆镜台。\n",
    "玉户帘中卷不去，捣衣砧上拂还来。\n",
    "此时相望不相闻，愿逐月华流照君。\n",
    "鸿雁长飞光不度，鱼龙潜跃水成文。\n",
    "昨夜闲潭梦落花，可怜春半不还家。\n",
    "江水流春去欲尽，江潭落月复西斜。\n",
    "斜月沉沉藏海雾，碣石潇湘无限路。\n",
    "不知乘月几人归，落月摇情满江树。\n",
    "\"\"\"\n",
    "\n",
    "s2 = \"\"\"\n",
    "将进酒·君不见\n",
    "\n",
    "作者：李白\n",
    "\n",
    "君不见，黄河之水天上来，奔流到海不复回。\n",
    "君不见，高堂明镜悲白发，朝如青丝暮成雪。\n",
    "人生得意须尽欢，莫使金樽空对月。\n",
    "天生我材必有用，千金散尽还复来。\n",
    "烹羊宰牛且为乐，会须一饮三百杯。\n",
    "岑夫子，丹丘生，将进酒，杯莫停。\n",
    "与君歌一曲，请君为我倾耳听。\n",
    "钟鼓馔玉不足贵，但愿长醉不愿醒。\n",
    "古来圣贤皆寂寞，惟有饮者留其名。\n",
    "陈王昔时宴平乐，斗酒十千恣欢谑。\n",
    "主人何为言少钱，径须沽取对君酌。\n",
    "五花马，千金裘，呼儿将出换美酒，与尔同销万古愁。\n",
    "\"\"\""
   ]
  },
  {
   "cell_type": "code",
   "execution_count": null,
   "metadata": {},
   "outputs": [],
   "source": []
  },
  {
   "cell_type": "markdown",
   "metadata": {},
   "source": [
    "### 3.5 文件的重命名、删除"
   ]
  },
  {
   "cell_type": "markdown",
   "metadata": {},
   "source": [
    "有些时候，需要对文件进行重命名、删除等一些操作，python的os模块中都有这么功能"
   ]
  },
  {
   "cell_type": "code",
   "execution_count": null,
   "metadata": {},
   "outputs": [],
   "source": [
    "import os\n",
    "print(dir(os))"
   ]
  },
  {
   "cell_type": "markdown",
   "metadata": {},
   "source": [
    "```\n",
    "\n",
    "```\n",
    "**（1）文件重命名**\n",
    "\n",
    "os模块中的rename()可以完成对文件的重命名操作\n",
    "\n",
    "rename(需要修改的文件名, 新的文件名)"
   ]
  },
  {
   "cell_type": "code",
   "execution_count": null,
   "metadata": {
    "collapsed": true,
    "jupyter": {
     "outputs_hidden": true
    }
   },
   "outputs": [],
   "source": [
    "os.rename(\"test.txt\", 'onepaper.txt')"
   ]
  },
  {
   "cell_type": "markdown",
   "metadata": {},
   "source": [
    "```\n",
    "\n",
    "```\n",
    "**（2）删除文件**"
   ]
  },
  {
   "cell_type": "markdown",
   "metadata": {},
   "source": [
    "os模块中的remove()可以完成对文件的删除操作\n",
    "\n",
    "remove(待删除的文件名)"
   ]
  },
  {
   "cell_type": "code",
   "execution_count": null,
   "metadata": {
    "collapsed": true,
    "jupyter": {
     "outputs_hidden": true
    }
   },
   "outputs": [],
   "source": [
    "os.remove('onepaper.txt')"
   ]
  },
  {
   "cell_type": "markdown",
   "metadata": {},
   "source": [
    "```\n",
    "\n",
    "```\n",
    "**（3）获取目录列表**"
   ]
  },
  {
   "cell_type": "code",
   "execution_count": null,
   "metadata": {
    "collapsed": true,
    "jupyter": {
     "outputs_hidden": true
    }
   },
   "outputs": [],
   "source": [
    "import os\n",
    "os.listdir()"
   ]
  },
  {
   "cell_type": "markdown",
   "metadata": {},
   "source": [
    "## 4. os方法大全\n",
    "```python\n",
    "import os\n",
    "\n",
    "print(os.getcwd())                               # 获得当前工作目录\n",
    "print(os.chdir(\"dirname\"))                       # 改变当前脚本的工作路径，相当于shell下的cd\n",
    "print(os.curdir)                                 # 返回当前目录‘.'\n",
    "print(os.pardir)                                 # 获取当前目录的父目录字符串名‘..'\n",
    "print(os.makedirs('dirname1/dirname2'))          # 可生成多层递归目录\n",
    "print(os.removedirs('dirname1/dirname2'))        # 若目录为空，则删除，并递归到上一级目录，如若也为空，则删除，依此类推\n",
    "print(os.mkdir('test4'))                         # 生成单级目录；相当于shell中mkdir dirname\n",
    "print(os.rmdir('test4'))                         # 删除单级空目录，若目录不为空则无法删除，报错；相当于shell中rmdir dirname\n",
    "print(os.listdir('/pythonStudy/s12/test'))       # 列出指定目录下的所有文件和子目录，包括隐藏文件，并以列表方式打印\n",
    "print(os.remove('log.log'))                      # 删除一个指定的文件\n",
    "print(os.rename(\"oldname\",\"newname\"))            # 重命名文件/目录)\n",
    "print(os.stat('/pythonStudy/s12/test'))          # 获取文件/目录信息\n",
    "print(os.pathsep)                                # 输出用于分割文件路径的字符串';'\n",
    "print(os.name)                                   # 输出字符串指示当前使用平台。win->'nt'; Linux->'posix'\n",
    "print(os.system(command='bash'))                 # 运行shell命令，直接显示\n",
    "print(os.environ)                                # 获得系统的环境变量\n",
    "print(os.path.abspath('/pythonStudy/s12/test'))  # 返回path规范化的绝对路径\n",
    "print(os.path.split('/pythonStudy/s12/test'))    # 将path分割成目录和文件名二元组返回\n",
    "print(os.path.dirname('/pythonStudy/s12/test'))  # 返回path的目录。其实就是os.path.split(path)的第一个元素\n",
    "print(os.path.basename('/pythonStudy/s12/test')) # 返回path最后的文件名。如果path以／或\\结尾，那么就会返回空值。即os.path.split(path)的第二个元素\n",
    "print(os.path.exists('test'))                    # 判断path是否存在\n",
    "print(os.path.isabs('/pythonStudy/s12/test'))    # 如果path是绝对路径，返回True\n",
    "print(os.path.isfile('test'))                    # 如果path是一个存在的文件，返回True。否则返回False\n",
    "print(os.path.isdir('/pythonStudy/s12/test'))    # 如果path是一个存在的目录，则返回True。否则返回False\n",
    "print(os.path.getatime('/pythonStudy/s12/test')) # 返回path所指向的文件或者目录的最后存取时间\n",
    "print(os.path.getmtime('/pythonStudy/s12/test')) # 返回path所指向的文件或者目录的最后修改时间\n",
    "\n",
    "```"
   ]
  },
  {
   "cell_type": "markdown",
   "metadata": {},
   "source": [
    "```\n",
    "\n",
    "\n",
    "```\n",
    "<font size=4>关于打开/关闭文件再多说一点~~~~   \n",
    "**打开/关闭文件**   \n",
    "执行文件操作时，最后一定不能忘记的操作是关闭文件，即使报错了也要 close。普通的方式是在 finnally 块中显示的调用 close 方法。"
   ]
  },
  {
   "cell_type": "code",
   "execution_count": null,
   "metadata": {},
   "outputs": [],
   "source": [
    "f = open('poem.txt')\n",
    "print(f.encoding)\n",
    "try:\n",
    "    data = f.read()\n",
    "finally:\n",
    "    f.close()"
   ]
  },
  {
   "cell_type": "markdown",
   "metadata": {},
   "source": [
    "如果不关闭文件:\n",
    "1. 会导致内存始终被占用, 得不到释放\n",
    "2. 会导致文件被占用中, 无法删除, 剪切等操作"
   ]
  },
  {
   "cell_type": "markdown",
   "metadata": {},
   "source": [
    "**更简便的写法是这样的:**"
   ]
  },
  {
   "cell_type": "code",
   "execution_count": null,
   "metadata": {
    "collapsed": true,
    "jupyter": {
     "outputs_hidden": true
    }
   },
   "outputs": [],
   "source": [
    "with open('poem.txt') as f:\n",
    "    data = f.read()\n",
    "# 这样打开的文件, 代码运行结束后会自动关闭"
   ]
  },
  {
   "cell_type": "markdown",
   "metadata": {},
   "source": [
    "with是从Python2.5引入的一个新的语法，它是一种上下文管理协议，    \n",
    "目的在于从流程图中把 try,except 和finally 关键字和资源分配释放相关代码统统去掉，    \n",
    "简化try….except….finlally的处理流程。"
   ]
  },
  {
   "cell_type": "code",
   "execution_count": null,
   "metadata": {},
   "outputs": [],
   "source": [
    "with open('poem.txt') as fp:\n",
    "    for line in fp.readlines():\n",
    "        print(line)"
   ]
  }
 ],
 "metadata": {
  "kernelspec": {
   "display_name": "Python 3",
   "language": "python",
   "name": "python3"
  },
  "language_info": {
   "codemirror_mode": {
    "name": "ipython",
    "version": 3
   },
   "file_extension": ".py",
   "mimetype": "text/x-python",
   "name": "python",
   "nbconvert_exporter": "python",
   "pygments_lexer": "ipython3",
   "version": "3.7.7"
  },
  "toc": {
   "base_numbering": 1,
   "nav_menu": {
    "height": "357px",
    "width": "315px"
   },
   "number_sections": true,
   "sideBar": true,
   "skip_h1_title": false,
   "title_cell": "Table of Contents",
   "title_sidebar": "Contents",
   "toc_cell": true,
   "toc_position": {
    "height": "calc(100% - 180px)",
    "left": "10px",
    "top": "150px",
    "width": "245px"
   },
   "toc_section_display": true,
   "toc_window_display": true
  },
  "varInspector": {
   "cols": {
    "lenName": 16,
    "lenType": 16,
    "lenVar": 40
   },
   "kernels_config": {
    "python": {
     "delete_cmd_postfix": "",
     "delete_cmd_prefix": "del ",
     "library": "var_list.py",
     "varRefreshCmd": "print(var_dic_list())"
    },
    "r": {
     "delete_cmd_postfix": ") ",
     "delete_cmd_prefix": "rm(",
     "library": "var_list.r",
     "varRefreshCmd": "cat(var_dic_list()) "
    }
   },
   "types_to_exclude": [
    "module",
    "function",
    "builtin_function_or_method",
    "instance",
    "_Feature"
   ],
   "window_display": false
  }
 },
 "nbformat": 4,
 "nbformat_minor": 4
}
