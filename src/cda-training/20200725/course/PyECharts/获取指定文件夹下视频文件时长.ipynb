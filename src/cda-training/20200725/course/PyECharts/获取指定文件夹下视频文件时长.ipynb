{
 "cells": [
  {
   "cell_type": "code",
   "execution_count": 1,
   "metadata": {
    "collapsed": true
   },
   "outputs": [],
   "source": [
    "import os, time\n",
    "import pandas as pd\n",
    "from moviepy.editor import VideoFileClip"
   ]
  },
  {
   "cell_type": "code",
   "execution_count": 2,
   "metadata": {
    "collapsed": true
   },
   "outputs": [],
   "source": [
    "dpath = r'C:\\Darren\\Downloads\\009_培训\\Python\\CDA数据分析集训班\\Python 数据可视化分析\\视频'"
   ]
  },
  {
   "cell_type": "code",
   "execution_count": 3,
   "metadata": {},
   "outputs": [
    {
     "data": {
      "text/plain": [
       "'C:\\\\Darren\\\\Downloads\\\\009_培训\\\\Python\\\\CDA数据分析集训班\\\\Python 数据可视化分析\\\\视频\\\\简介2.mp4'"
      ]
     },
     "execution_count": 3,
     "metadata": {},
     "output_type": "execute_result"
    }
   ],
   "source": [
    "fpath = os.path.join(dpath,'简介2.mp4')\n",
    "fpath"
   ]
  },
  {
   "cell_type": "code",
   "execution_count": 4,
   "metadata": {},
   "outputs": [
    {
     "data": {
      "text/plain": [
       "19.388805389404297"
      ]
     },
     "execution_count": 4,
     "metadata": {},
     "output_type": "execute_result"
    }
   ],
   "source": [
    "os.path.getsize(fpath)/1024**2"
   ]
  },
  {
   "cell_type": "code",
   "execution_count": 5,
   "metadata": {},
   "outputs": [
    {
     "data": {
      "text/plain": [
       "'2018-05-19 11:44:45'"
      ]
     },
     "execution_count": 5,
     "metadata": {},
     "output_type": "execute_result"
    }
   ],
   "source": [
    "time.strftime(\"%Y-%m-%d %X\",time.localtime(os.path.getatime(fpath)))"
   ]
  },
  {
   "cell_type": "code",
   "execution_count": 6,
   "metadata": {
    "collapsed": true
   },
   "outputs": [],
   "source": [
    "clip = VideoFileClip(fpath)\n",
    "clip.reader.close()\n",
    "clip.audio.reader.close_proc()"
   ]
  },
  {
   "cell_type": "code",
   "execution_count": 7,
   "metadata": {},
   "outputs": [
    {
     "name": "stdout",
     "output_type": "stream",
     "text": [
      "5.445333333333334\n"
     ]
    }
   ],
   "source": [
    "print(clip.duration/60) # seconds"
   ]
  },
  {
   "cell_type": "code",
   "execution_count": 11,
   "metadata": {
    "collapsed": true
   },
   "outputs": [],
   "source": [
    "def read_content(dpath, extension='.mp4'):\n",
    "    '''\n",
    "    read information about all specified files under dpath\n",
    "    '''\n",
    "    print('loading files in folder: {}'.format(dpath))\n",
    "    data = []\n",
    "    for f in os.listdir(dpath):\n",
    "        fpath = os.path.join(dpath,f)\n",
    "        if os.path.isfile(fpath) and os.path.splitext(fpath)[1]==extension:\n",
    "            clip = VideoFileClip(fpath)\n",
    "            clip.reader.close()\n",
    "            clip.audio.reader.close_proc()\n",
    "            duration = clip.duration\n",
    "            data.append([os.path.split(fpath)[1],\n",
    "                         time.strftime(\"%Y-%m-%d %X\",time.localtime(os.path.getatime(fpath))),\n",
    "                         os.path.getsize(fpath)/1024**2,\n",
    "                         duration/60\n",
    "                        ])\n",
    "    df = pd.DataFrame(data,columns=['Name','Date','Size(M)','Length(mins)'])\n",
    "    print('文件数：',df.shape[0],'\\n',\n",
    "          '文件大小(G)：',df['Size(M)'].sum()/1024,'\\n',\n",
    "          '视频长度(分钟)：',df['Length(mins)'].sum())\n",
    "    return df"
   ]
  },
  {
   "cell_type": "code",
   "execution_count": 12,
   "metadata": {},
   "outputs": [
    {
     "name": "stdout",
     "output_type": "stream",
     "text": [
      "loading files in folder: C:\\Darren\\Downloads\\009_培训\\Python\\CDA数据分析集训班\\Python 数据可视化分析\\视频\n",
      "文件大小(G)： 3.2436472214758396 \n",
      " 视频长度(分钟)： 621.993\n"
     ]
    },
    {
     "data": {
      "text/html": [
       "<div>\n",
       "<style scoped>\n",
       "    .dataframe tbody tr th:only-of-type {\n",
       "        vertical-align: middle;\n",
       "    }\n",
       "\n",
       "    .dataframe tbody tr th {\n",
       "        vertical-align: top;\n",
       "    }\n",
       "\n",
       "    .dataframe thead th {\n",
       "        text-align: right;\n",
       "    }\n",
       "</style>\n",
       "<table border=\"1\" class=\"dataframe\">\n",
       "  <thead>\n",
       "    <tr style=\"text-align: right;\">\n",
       "      <th></th>\n",
       "      <th>Name</th>\n",
       "      <th>Date</th>\n",
       "      <th>Size(M)</th>\n",
       "      <th>Length(mins)</th>\n",
       "    </tr>\n",
       "  </thead>\n",
       "  <tbody>\n",
       "    <tr>\n",
       "      <th>0</th>\n",
       "      <td>matplotlib.mp4</td>\n",
       "      <td>2018-05-19 16:23:48</td>\n",
       "      <td>630.526882</td>\n",
       "      <td>128.478167</td>\n",
       "    </tr>\n",
       "    <tr>\n",
       "      <th>1</th>\n",
       "      <td>matplotlib头.mp4</td>\n",
       "      <td>2018-05-19 16:15:16</td>\n",
       "      <td>10.626739</td>\n",
       "      <td>2.392833</td>\n",
       "    </tr>\n",
       "    <tr>\n",
       "      <th>2</th>\n",
       "      <td>pandas.mp4</td>\n",
       "      <td>2018-05-19 19:30:19</td>\n",
       "      <td>213.958977</td>\n",
       "      <td>47.882667</td>\n",
       "    </tr>\n",
       "    <tr>\n",
       "      <th>3</th>\n",
       "      <td>pyechart - 雷达图，极坐标系图，平行坐标系 24分有问题.mp4</td>\n",
       "      <td>2018-05-26 18:13:51</td>\n",
       "      <td>229.418663</td>\n",
       "      <td>36.870000</td>\n",
       "    </tr>\n",
       "    <tr>\n",
       "      <th>4</th>\n",
       "      <td>pyecharts - 基本使用.mp4</td>\n",
       "      <td>2018-05-26 15:46:27</td>\n",
       "      <td>294.931806</td>\n",
       "      <td>42.358333</td>\n",
       "    </tr>\n",
       "    <tr>\n",
       "      <th>5</th>\n",
       "      <td>pyecharts - 柱状图.mp4</td>\n",
       "      <td>2018-05-26 16:29:28</td>\n",
       "      <td>95.229332</td>\n",
       "      <td>20.459333</td>\n",
       "    </tr>\n",
       "    <tr>\n",
       "      <th>6</th>\n",
       "      <td>pyecharts - 桑基图，关系图，矩形树图，热力图，词云.mp4</td>\n",
       "      <td>2018-05-26 19:08:50</td>\n",
       "      <td>305.736254</td>\n",
       "      <td>43.987500</td>\n",
       "    </tr>\n",
       "    <tr>\n",
       "      <th>7</th>\n",
       "      <td>pyecharts - 箱线图，散点图，漏斗图，仪表盘，饼图.mp4</td>\n",
       "      <td>2018-05-26 17:18:44</td>\n",
       "      <td>301.811809</td>\n",
       "      <td>53.485500</td>\n",
       "    </tr>\n",
       "    <tr>\n",
       "      <th>8</th>\n",
       "      <td>pyecharts - 线图.mp4</td>\n",
       "      <td>2018-05-26 16:50:28</td>\n",
       "      <td>146.431830</td>\n",
       "      <td>27.472000</td>\n",
       "    </tr>\n",
       "    <tr>\n",
       "      <th>9</th>\n",
       "      <td>pyecharts - 词云，地图，地理坐标系图，自定义多图.mp4</td>\n",
       "      <td>2018-05-26 19:54:53</td>\n",
       "      <td>402.262352</td>\n",
       "      <td>57.439000</td>\n",
       "    </tr>\n",
       "    <tr>\n",
       "      <th>10</th>\n",
       "      <td>seaborn-控制图的美感.mp4</td>\n",
       "      <td>2018-05-26 13:50:24</td>\n",
       "      <td>134.944210</td>\n",
       "      <td>24.089333</td>\n",
       "    </tr>\n",
       "    <tr>\n",
       "      <th>11</th>\n",
       "      <td>seaborn-数据线性关系的可视化 14分有问题.mp4</td>\n",
       "      <td>2018-05-26 15:03:46</td>\n",
       "      <td>94.881783</td>\n",
       "      <td>23.514333</td>\n",
       "    </tr>\n",
       "    <tr>\n",
       "      <th>12</th>\n",
       "      <td>seaborn-数据集分布的可视化.mp4</td>\n",
       "      <td>2018-05-26 13:02:39</td>\n",
       "      <td>231.473274</td>\n",
       "      <td>46.013167</td>\n",
       "    </tr>\n",
       "    <tr>\n",
       "      <th>13</th>\n",
       "      <td>数据可视化技巧及提高.mp4</td>\n",
       "      <td>2018-05-26 20:54:34</td>\n",
       "      <td>109.704551</td>\n",
       "      <td>36.109500</td>\n",
       "    </tr>\n",
       "    <tr>\n",
       "      <th>14</th>\n",
       "      <td>简介1.mp4</td>\n",
       "      <td>2018-05-19 11:16:54</td>\n",
       "      <td>41.228085</td>\n",
       "      <td>10.291500</td>\n",
       "    </tr>\n",
       "    <tr>\n",
       "      <th>15</th>\n",
       "      <td>简介2.mp4</td>\n",
       "      <td>2018-05-19 11:44:45</td>\n",
       "      <td>19.388805</td>\n",
       "      <td>5.445333</td>\n",
       "    </tr>\n",
       "    <tr>\n",
       "      <th>16</th>\n",
       "      <td>简介3.mp4</td>\n",
       "      <td>2018-05-19 11:51:40</td>\n",
       "      <td>58.939404</td>\n",
       "      <td>15.704500</td>\n",
       "    </tr>\n",
       "  </tbody>\n",
       "</table>\n",
       "</div>"
      ],
      "text/plain": [
       "                                     Name                 Date     Size(M)  \\\n",
       "0                          matplotlib.mp4  2018-05-19 16:23:48  630.526882   \n",
       "1                         matplotlib头.mp4  2018-05-19 16:15:16   10.626739   \n",
       "2                              pandas.mp4  2018-05-19 19:30:19  213.958977   \n",
       "3   pyechart - 雷达图，极坐标系图，平行坐标系 24分有问题.mp4  2018-05-26 18:13:51  229.418663   \n",
       "4                    pyecharts - 基本使用.mp4  2018-05-26 15:46:27  294.931806   \n",
       "5                     pyecharts - 柱状图.mp4  2018-05-26 16:29:28   95.229332   \n",
       "6     pyecharts - 桑基图，关系图，矩形树图，热力图，词云.mp4  2018-05-26 19:08:50  305.736254   \n",
       "7      pyecharts - 箱线图，散点图，漏斗图，仪表盘，饼图.mp4  2018-05-26 17:18:44  301.811809   \n",
       "8                      pyecharts - 线图.mp4  2018-05-26 16:50:28  146.431830   \n",
       "9      pyecharts - 词云，地图，地理坐标系图，自定义多图.mp4  2018-05-26 19:54:53  402.262352   \n",
       "10                     seaborn-控制图的美感.mp4  2018-05-26 13:50:24  134.944210   \n",
       "11          seaborn-数据线性关系的可视化 14分有问题.mp4  2018-05-26 15:03:46   94.881783   \n",
       "12                  seaborn-数据集分布的可视化.mp4  2018-05-26 13:02:39  231.473274   \n",
       "13                         数据可视化技巧及提高.mp4  2018-05-26 20:54:34  109.704551   \n",
       "14                                简介1.mp4  2018-05-19 11:16:54   41.228085   \n",
       "15                                简介2.mp4  2018-05-19 11:44:45   19.388805   \n",
       "16                                简介3.mp4  2018-05-19 11:51:40   58.939404   \n",
       "\n",
       "    Length(mins)  \n",
       "0     128.478167  \n",
       "1       2.392833  \n",
       "2      47.882667  \n",
       "3      36.870000  \n",
       "4      42.358333  \n",
       "5      20.459333  \n",
       "6      43.987500  \n",
       "7      53.485500  \n",
       "8      27.472000  \n",
       "9      57.439000  \n",
       "10     24.089333  \n",
       "11     23.514333  \n",
       "12     46.013167  \n",
       "13     36.109500  \n",
       "14     10.291500  \n",
       "15      5.445333  \n",
       "16     15.704500  "
      ]
     },
     "execution_count": 12,
     "metadata": {},
     "output_type": "execute_result"
    }
   ],
   "source": [
    "dpath = r'C:\\Darren\\Downloads\\009_培训\\Python\\CDA数据分析集训班\\Python 数据可视化分析\\视频'\n",
    "info = read_content(dpath)\n",
    "info"
   ]
  },
  {
   "cell_type": "code",
   "execution_count": null,
   "metadata": {
    "collapsed": true
   },
   "outputs": [],
   "source": []
  }
 ],
 "metadata": {
  "kernelspec": {
   "display_name": "Python 3",
   "language": "python",
   "name": "python3"
  },
  "language_info": {
   "codemirror_mode": {
    "name": "ipython",
    "version": 3
   },
   "file_extension": ".py",
   "mimetype": "text/x-python",
   "name": "python",
   "nbconvert_exporter": "python",
   "pygments_lexer": "ipython3",
   "version": "3.5.1"
  }
 },
 "nbformat": 4,
 "nbformat_minor": 2
}
