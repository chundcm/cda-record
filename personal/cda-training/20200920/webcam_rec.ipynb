{
 "cells": [
  {
   "cell_type": "code",
   "execution_count": 8,
   "metadata": {},
   "outputs": [],
   "source": [
    "import cv2\n",
    "import face_recognition as fr\n",
    "import numpy as np\n",
    "from PIL import ImageDraw, Image, ImageFont\n",
    "import pickle"
   ]
  },
  {
   "cell_type": "code",
   "execution_count": 9,
   "metadata": {},
   "outputs": [
    {
     "name": "stdout",
     "output_type": "stream",
     "text": [
      "['成龍', '李連杰', '章子怡', '李御玺', '大魔頭']\n"
     ]
    }
   ],
   "source": [
    "dataset_file = 'dataset\\\\staff.dat'             # 請自行修改路徑\n",
    "\n",
    "with open(dataset_file, 'rb') as f:\n",
    "    d = pickle.load(f)\n",
    "    face_encodings = d['encode']\n",
    "    face_names = d['name']\n",
    "    \n",
    "print(face_names)"
   ]
  },
  {
   "cell_type": "code",
   "execution_count": 10,
   "metadata": {},
   "outputs": [],
   "source": [
    "font_file = \"font\\\\NotoSansCJKtc-Regular.otf\"   # 請自行修改路徑\n",
    "_font = ImageFont.truetype(font_file, 15) "
   ]
  },
  {
   "cell_type": "code",
   "execution_count": 11,
   "metadata": {},
   "outputs": [],
   "source": [
    "com_rate = 0.25"
   ]
  },
  {
   "cell_type": "code",
   "execution_count": 7,
   "metadata": {},
   "outputs": [],
   "source": [
    "cam = cv2.VideoCapture(1)\n",
    "\n",
    "while True:\n",
    "    _, frame = cam.read()\n",
    "    frame = cv2.flip(frame, 1)\n",
    "    img_arr = cv2.cvtColor(frame, cv2.COLOR_BGR2RGB)\n",
    "    \n",
    "    img_PIL = Image.fromarray(img_arr)\n",
    "    small_frame = cv2.resize(frame, (0, 0), fx=com_rate, fy=com_rate)\n",
    "\n",
    "    draw = ImageDraw.Draw(img_PIL)\n",
    "\n",
    "    face_loc = fr.face_locations(small_frame)\n",
    "\n",
    "    for top, right, bottom, left in face_loc:\n",
    "        top    /= com_rate\n",
    "        right  /= com_rate\n",
    "        bottom /= com_rate\n",
    "        left   /= com_rate\n",
    "        \n",
    "        draw.rectangle(((left,top),(right,bottom)), width=6, outline='blue')\n",
    "\n",
    "    img_CV = cv2.cvtColor(np.asarray(img_PIL), cv2.COLOR_RGB2BGR)\n",
    "    cv2.imshow('Webcam', img_CV)\n",
    "\n",
    "    if cv2.waitKey(1) & 0xFF == 27: # 按ESC鍵退出\n",
    "        break\n",
    "\n",
    "del draw\n",
    "cam.release()\n",
    "cv2.destroyAllWindows()"
   ]
  },
  {
   "cell_type": "code",
   "execution_count": 14,
   "metadata": {},
   "outputs": [],
   "source": [
    "#cam = cv2.VideoCapture(1)\n",
    "cam = cv2.VideoCapture(\"test2.mp4\")\n",
    "\n",
    "while True:\n",
    "    _, frame = cam.read()\n",
    "    \n",
    "    #frame = cv2.flip(frame, 1)\n",
    "    \n",
    "    small_frame = cv2.resize(frame, (0, 0), fx=com_rate, fy=com_rate)\n",
    "    \n",
    "    face_loc = fr.face_locations(small_frame)\n",
    "    face_enc = fr.face_encodings(small_frame, face_loc)\n",
    "    \n",
    "    img_arr = cv2.cvtColor(frame, cv2.COLOR_BGR2RGB)\n",
    "    img_PIL = Image.fromarray(img_arr)\n",
    "    \n",
    "    draw = ImageDraw.Draw(img_PIL)\n",
    "\n",
    "    for (top, right, bottom, left), encoding in zip(face_loc, face_enc):\n",
    "        top    /= com_rate\n",
    "        right  /= com_rate\n",
    "        bottom /= com_rate\n",
    "        left   /= com_rate\n",
    "        \n",
    "        draw.rectangle(((left,top),(right,bottom)), outline='blue')\n",
    "\n",
    "        matches = fr.compare_faces(face_encodings, encoding, tolerance=0.65)\n",
    "        \n",
    "        name = \"路人甲\"\n",
    "\n",
    "        if True in matches:\n",
    "            first_match_index = matches.index(True)\n",
    "            name = face_names[first_match_index]\n",
    "            \n",
    "        txt_w, txt_h = draw.textsize(name, font=_font)\n",
    "        draw.rectangle(((left, bottom + txt_h + 10), (right, bottom)), fill='blue', outline='blue')\n",
    "        draw.text((left + 8, bottom + 5), name, fill='white', font=_font) # (255, 255, 255, 255)\n",
    "\n",
    "    img_CV = cv2.cvtColor(np.asarray(img_PIL), cv2.COLOR_RGB2BGR)\n",
    "    cv2.imshow('Webcam', img_CV)\n",
    "\n",
    "    if cv2.waitKey(1) & 0xFF == 27: # 按ESC鍵退出\n",
    "        break\n",
    "        \n",
    "del draw\n",
    "cam.release()\n",
    "cv2.destroyAllWindows()"
   ]
  },
  {
   "cell_type": "code",
   "execution_count": null,
   "metadata": {},
   "outputs": [],
   "source": []
  },
  {
   "cell_type": "code",
   "execution_count": null,
   "metadata": {},
   "outputs": [],
   "source": []
  }
 ],
 "metadata": {
  "kernelspec": {
   "display_name": "Python 3",
   "language": "python",
   "name": "python3"
  },
  "language_info": {
   "codemirror_mode": {
    "name": "ipython",
    "version": 3
   },
   "file_extension": ".py",
   "mimetype": "text/x-python",
   "name": "python",
   "nbconvert_exporter": "python",
   "pygments_lexer": "ipython3",
   "version": "3.7.6"
  }
 },
 "nbformat": 4,
 "nbformat_minor": 4
}
