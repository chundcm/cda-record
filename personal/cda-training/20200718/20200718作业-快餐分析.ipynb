{
 "cells": [
  {
   "cell_type": "markdown",
   "metadata": {},
   "source": [
    "## 2020年07月18日（课后作业）\n",
    "\n",
    "### 1. 导入必要的库 "
   ]
  },
  {
   "cell_type": "code",
   "execution_count": 13,
   "metadata": {},
   "outputs": [],
   "source": [
    "# 导入 numpy 和 pandas 库\n",
    "import numpy as np\n",
    "import pandas as pd"
   ]
  },
  {
   "cell_type": "markdown",
   "metadata": {},
   "source": [
    "### 2. 导入数据集合"
   ]
  },
  {
   "cell_type": "code",
   "execution_count": 5,
   "metadata": {},
   "outputs": [],
   "source": [
    "inputData = pd.read_csv(\"snack.csv\", sep='\\t')"
   ]
  },
  {
   "cell_type": "markdown",
   "metadata": {},
   "source": [
    "### 3.查看前10行的数据内容"
   ]
  },
  {
   "cell_type": "code",
   "execution_count": 14,
   "metadata": {},
   "outputs": [
    {
     "name": "stdout",
     "output_type": "stream",
     "text": [
      "前10行: \n",
      "   order_id  quantity                              item_name  \\\n",
      "0         1         1           Chips and Fresh Tomato Salsa   \n",
      "1         1         1                                   Izze   \n",
      "2         1         1                       Nantucket Nectar   \n",
      "3         1         1  Chips and Tomatillo-Green Chili Salsa   \n",
      "4         2         2                           Chicken Bowl   \n",
      "5         3         1                           Chicken Bowl   \n",
      "6         3         1                          Side of Chips   \n",
      "7         4         1                          Steak Burrito   \n",
      "8         4         1                       Steak Soft Tacos   \n",
      "9         5         1                          Steak Burrito   \n",
      "\n",
      "                                  choice_description item_price  \n",
      "0                                                NaN     $2.39   \n",
      "1                                       [Clementine]     $3.39   \n",
      "2                                            [Apple]     $3.39   \n",
      "3                                                NaN     $2.39   \n",
      "4  [Tomatillo-Red Chili Salsa (Hot), [Black Beans...    $16.98   \n",
      "5  [Fresh Tomato Salsa (Mild), [Rice, Cheese, Sou...    $10.98   \n",
      "6                                                NaN     $1.69   \n",
      "7  [Tomatillo Red Chili Salsa, [Fajita Vegetables...    $11.75   \n",
      "8  [Tomatillo Green Chili Salsa, [Pinto Beans, Ch...     $9.25   \n",
      "9  [Fresh Tomato Salsa, [Rice, Black Beans, Pinto...     $9.25   \n"
     ]
    }
   ],
   "source": [
    "print(\"前10行: \\n%s\" % inputData.head(10))"
   ]
  },
  {
   "cell_type": "markdown",
   "metadata": {},
   "source": [
    "### 4. 数据集中有多少个列(columns)"
   ]
  },
  {
   "cell_type": "code",
   "execution_count": 31,
   "metadata": {},
   "outputs": [
    {
     "name": "stdout",
     "output_type": "stream",
     "text": [
      "数据集中有 5 列，5 列\n"
     ]
    }
   ],
   "source": [
    "print(\"数据集中有 %d 列，%d 列\" % (len(inputData.columns), inputData.shape[1]))"
   ]
  },
  {
   "cell_type": "markdown",
   "metadata": {},
   "source": [
    "### 5. 打印全部列名"
   ]
  },
  {
   "cell_type": "code",
   "execution_count": 79,
   "metadata": {},
   "outputs": [
    {
     "name": "stdout",
     "output_type": "stream",
     "text": [
      "数据集全部列名：\n",
      " Index(['order_id', 'quantity', 'item_name', 'choice_description',\n",
      "       'item_price'],\n",
      "      dtype='object')\n"
     ]
    }
   ],
   "source": [
    "print(\"数据集全部列名：\\n %s\" % inputData.columns)"
   ]
  },
  {
   "cell_type": "markdown",
   "metadata": {},
   "source": [
    "### 6. 数据集的索引是怎样的"
   ]
  },
  {
   "cell_type": "code",
   "execution_count": 80,
   "metadata": {},
   "outputs": [
    {
     "name": "stdout",
     "output_type": "stream",
     "text": [
      "数据集索引：\n",
      " RangeIndex(start=0, stop=4622, step=1)\n"
     ]
    }
   ],
   "source": [
    "print(\"数据集索引：\\n %s\" % inputData.index)"
   ]
  },
  {
   "cell_type": "markdown",
   "metadata": {},
   "source": [
    "### 7. 被下单数量最多的商品（item）是什么"
   ]
  },
  {
   "cell_type": "code",
   "execution_count": 104,
   "metadata": {},
   "outputs": [
    {
     "name": "stdout",
     "output_type": "stream",
     "text": [
      "被下单数量最多的商品是：\n",
      "               quantity\n",
      "item_name             \n",
      "Chicken Bowl       761\n"
     ]
    }
   ],
   "source": [
    "grouped = pd.DataFrame(inputData.groupby('item_name')['quantity'].sum().sort_values(ascending=False).head(1))\n",
    "print(\"被下单数量最多的商品是：\\n %s\" % grouped)"
   ]
  },
  {
   "cell_type": "markdown",
   "metadata": {},
   "source": [
    "### 8. 在 item_name 这一列中，一共有多少种商品被下单"
   ]
  },
  {
   "cell_type": "code",
   "execution_count": 101,
   "metadata": {},
   "outputs": [
    {
     "name": "stdout",
     "output_type": "stream",
     "text": [
      " item_name 这一列中有 \n",
      " 0    50\n",
      "1    50\n",
      "dtype: int64 \n",
      " 种商品被下单\n"
     ]
    }
   ],
   "source": [
    "count = pd.DataFrame(inputData.groupby('item_name')).count()\n",
    "print(\" item_name 这一列中有 \\n %s \\n 种商品被下单\" % count)"
   ]
  },
  {
   "cell_type": "markdown",
   "metadata": {},
   "source": [
    "### 9. 在 choice_description 中，下单次数最多的商品是什么"
   ]
  },
  {
   "cell_type": "code",
   "execution_count": 109,
   "metadata": {},
   "outputs": [
    {
     "name": "stdout",
     "output_type": "stream",
     "text": [
      "9 在 choice_description 中，下单次数最多的商品是 \n",
      "           unit\n",
      "item_name      \n",
      "Cheese     1887\n"
     ]
    }
   ],
   "source": [
    "selected = []\n",
    "description = inputData['choice_description'].dropna()\n",
    "for index,ele in enumerate(description):\n",
    "    itemList = ele.split(',')\n",
    "    for jdx, value in enumerate(itemList):\n",
    "        selected.append(value.strip())\n",
    "processed = pd.DataFrame({'item_name':pd.Series(selected), 'unit':pd.Series(np.ones(len(selected), dtype=int))})\n",
    "processedResult = pd.DataFrame(processed.groupby('item_name')['unit'].sum().sort_values(ascending = False)).head(1)\n",
    "print(\"9 在 choice_description 中，下单次数最多的商品是 \\n%s\" % processedResult)"
   ]
  },
  {
   "cell_type": "markdown",
   "metadata": {},
   "source": [
    "### 10. 一共有多少商品下单"
   ]
  },
  {
   "cell_type": "code",
   "execution_count": 113,
   "metadata": {},
   "outputs": [
    {
     "name": "stdout",
     "output_type": "stream",
     "text": [
      "10 一共有多少商品被下单？\n",
      " 0    153\n",
      "1    153\n",
      "dtype: int64\n"
     ]
    }
   ],
   "source": [
    "selected10 = list(selected)\n",
    "inputData['item_name'].apply(lambda item: selected10.append(item))\n",
    "processed10 = pd.DataFrame({'item_name':pd.Series(selected10), 'unit':pd.Series(np.ones(len(selected10), dtype=int))})\n",
    "print(\"10 一共有多少商品被下单？\\n %s\" % pd.DataFrame(processed10.groupby('item_name')).count())"
   ]
  },
  {
   "cell_type": "markdown",
   "metadata": {},
   "source": [
    "### 11. 将 item_price 转换为浮点数"
   ]
  },
  {
   "cell_type": "code",
   "execution_count": 114,
   "metadata": {},
   "outputs": [
    {
     "name": "stdout",
     "output_type": "stream",
     "text": [
      "11. 已经转换过后的 DataFrame 为：\n",
      "       order_id  quantity                              item_name  \\\n",
      "0            1         1           Chips and Fresh Tomato Salsa   \n",
      "1            1         1                                   Izze   \n",
      "2            1         1                       Nantucket Nectar   \n",
      "3            1         1  Chips and Tomatillo-Green Chili Salsa   \n",
      "4            2         2                           Chicken Bowl   \n",
      "...        ...       ...                                    ...   \n",
      "4617      1833         1                          Steak Burrito   \n",
      "4618      1833         1                          Steak Burrito   \n",
      "4619      1834         1                     Chicken Salad Bowl   \n",
      "4620      1834         1                     Chicken Salad Bowl   \n",
      "4621      1834         1                     Chicken Salad Bowl   \n",
      "\n",
      "                                     choice_description  item_price  \\\n",
      "0                                                   NaN        2.39   \n",
      "1                                          [Clementine]        3.39   \n",
      "2                                               [Apple]        3.39   \n",
      "3                                                   NaN        2.39   \n",
      "4     [Tomatillo-Red Chili Salsa (Hot), [Black Beans...       16.98   \n",
      "...                                                 ...         ...   \n",
      "4617  [Fresh Tomato Salsa, [Rice, Black Beans, Sour ...       11.75   \n",
      "4618  [Fresh Tomato Salsa, [Rice, Sour Cream, Cheese...       11.75   \n",
      "4619  [Fresh Tomato Salsa, [Fajita Vegetables, Pinto...       11.25   \n",
      "4620  [Fresh Tomato Salsa, [Fajita Vegetables, Lettu...        8.75   \n",
      "4621  [Fresh Tomato Salsa, [Fajita Vegetables, Pinto...        8.75   \n",
      "\n",
      "      total_price  \n",
      "0            2.39  \n",
      "1            3.39  \n",
      "2            3.39  \n",
      "3            2.39  \n",
      "4           33.96  \n",
      "...           ...  \n",
      "4617        11.75  \n",
      "4618        11.75  \n",
      "4619        11.25  \n",
      "4620         8.75  \n",
      "4621         8.75  \n",
      "\n",
      "[4622 rows x 6 columns]\n"
     ]
    }
   ],
   "source": [
    "inputData['item_price'] = inputData['item_price'].apply(lambda item:item[1:]).apply(pd.to_numeric)\n",
    "inputData['total_price'] = inputData.apply(lambda item:item['item_price']*item['quantity'], axis=1)\n",
    "print(\"11. 已经转换过后的 DataFrame 为：\\n %s\" % inputData)"
   ]
  },
  {
   "cell_type": "markdown",
   "metadata": {},
   "source": [
    "### 12. 在该数据集对应的时期内，收入（revenue）是多少"
   ]
  },
  {
   "cell_type": "code",
   "execution_count": 115,
   "metadata": {},
   "outputs": [
    {
     "name": "stdout",
     "output_type": "stream",
     "text": [
      "12 在该数据集对应的时期内，收入(revenue)是多少:\n",
      " 39237.02\n"
     ]
    }
   ],
   "source": [
    "print(\"12 在该数据集对应的时期内，收入(revenue)是多少:\\n %s\" % inputData['total_price'].sum())"
   ]
  },
  {
   "cell_type": "markdown",
   "metadata": {},
   "source": [
    "### 13. 在该数据集对应的时间内，一共有多少订单"
   ]
  },
  {
   "cell_type": "code",
   "execution_count": 117,
   "metadata": {},
   "outputs": [
    {
     "name": "stdout",
     "output_type": "stream",
     "text": [
      "13 订单总数量：0    1834\n",
      "1    1834\n",
      "dtype: int64\n"
     ]
    }
   ],
   "source": [
    "print(\"13 订单总数量：%s\" % pd.DataFrame(inputData.groupby('order_id')).count())"
   ]
  },
  {
   "cell_type": "markdown",
   "metadata": {},
   "source": [
    "### 14. 每一单（order_id）的平均总价是"
   ]
  },
  {
   "cell_type": "code",
   "execution_count": 118,
   "metadata": {},
   "outputs": [
    {
     "name": "stdout",
     "output_type": "stream",
     "text": [
      "14  每一单(order)对应的平均总价是多少:\n",
      " order_id\n",
      "1        2.890000\n",
      "2       33.960000\n",
      "3        6.335000\n",
      "4       10.500000\n",
      "5        6.850000\n",
      "          ...    \n",
      "1830    11.500000\n",
      "1831     4.300000\n",
      "1832     6.600000\n",
      "1833    11.750000\n",
      "1834     9.583333\n",
      "Name: total_price, Length: 1834, dtype: float64\n"
     ]
    }
   ],
   "source": [
    "print(\"14  每一单(order)对应的平均总价是多少:\\n %s\" % inputData.groupby('order_id')['total_price'].mean())"
   ]
  },
  {
   "cell_type": "code",
   "execution_count": null,
   "metadata": {},
   "outputs": [],
   "source": []
  }
 ],
 "metadata": {
  "kernelspec": {
   "display_name": "Python 3",
   "language": "python",
   "name": "python3"
  },
  "language_info": {
   "codemirror_mode": {
    "name": "ipython",
    "version": 3
   },
   "file_extension": ".py",
   "mimetype": "text/x-python",
   "name": "python",
   "nbconvert_exporter": "python",
   "pygments_lexer": "ipython3",
   "version": "3.7.7"
  }
 },
 "nbformat": 4,
 "nbformat_minor": 4
}
