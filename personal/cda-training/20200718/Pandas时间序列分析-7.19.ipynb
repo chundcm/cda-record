{
 "cells": [
  {
   "cell_type": "code",
   "execution_count": 2,
   "metadata": {
    "ExecuteTime": {
     "end_time": "2020-05-16T01:03:27.497525Z",
     "start_time": "2020-05-16T01:03:27.299059Z"
    }
   },
   "outputs": [],
   "source": [
    "#导入相关库\n",
    "import pandas as pd\n",
    "import numpy as np\n",
    "import time\n",
    "import datetime"
   ]
  },
  {
   "cell_type": "markdown",
   "metadata": {},
   "source": [
    "在计算机中，时间实际上是用数字表示的。  \n",
    "我们把1970年1月1日 00:00:00 UTC+00:00时区的时刻称为epoch time(纪元)，记为0（1970年以前的时间timestamp为负数），当前时间就是相对于epoch time的秒数，称为timestamp。   \n",
    "timestamp的值与时区毫无关系，因为timestamp一旦确定，其UTC时间就确定了，转换到任意时区的时间也是完全确定的，这就是为什么计算机存储的当前时间是以timestamp表示的，因为全球各地的计算机在任意时刻的timestamp都是完全相同的（假定时间已校准）。    \n"
   ]
  },
  {
   "cell_type": "code",
   "execution_count": 3,
   "metadata": {},
   "outputs": [
    {
     "data": {
      "text/plain": [
       "1595150501.115246"
      ]
     },
     "execution_count": 3,
     "metadata": {},
     "output_type": "execute_result"
    }
   ],
   "source": [
    "import time\n",
    "time.time() #1970年到现在经过的秒"
   ]
  },
  {
   "cell_type": "code",
   "execution_count": 6,
   "metadata": {},
   "outputs": [
    {
     "data": {
      "text/plain": [
       "1595150608.5774448"
      ]
     },
     "execution_count": 6,
     "metadata": {},
     "output_type": "execute_result"
    }
   ],
   "source": [
    "time.time()"
   ]
  },
  {
   "cell_type": "code",
   "execution_count": 5,
   "metadata": {},
   "outputs": [
    {
     "name": "stdout",
     "output_type": "stream",
     "text": [
      "1\n"
     ]
    }
   ],
   "source": [
    "time.sleep(5) \n",
    "print(1)"
   ]
  },
  {
   "cell_type": "markdown",
   "metadata": {},
   "source": [
    "# 时间戳Timestamp对象的生成"
   ]
  },
  {
   "cell_type": "markdown",
   "metadata": {},
   "source": [
    "## pd.Timestamp"
   ]
  },
  {
   "cell_type": "code",
   "execution_count": 8,
   "metadata": {},
   "outputs": [
    {
     "data": {
      "text/plain": [
       "Timestamp('2020-07-19 09:23:28.577444792')"
      ]
     },
     "execution_count": 8,
     "metadata": {},
     "output_type": "execute_result"
    }
   ],
   "source": [
    "pd.Timestamp(1595150608.5774448,unit='s') #时刻，时间戳"
   ]
  },
  {
   "cell_type": "code",
   "execution_count": 9,
   "metadata": {},
   "outputs": [
    {
     "data": {
      "text/plain": [
       "pandas._libs.tslibs.timestamps.Timestamp"
      ]
     },
     "execution_count": 9,
     "metadata": {},
     "output_type": "execute_result"
    }
   ],
   "source": [
    "type(pd.Timestamp(164913461,unit='s'))"
   ]
  },
  {
   "cell_type": "code",
   "execution_count": 10,
   "metadata": {},
   "outputs": [
    {
     "data": {
      "text/plain": [
       "Timestamp('2019-12-12 00:00:00')"
      ]
     },
     "execution_count": 10,
     "metadata": {},
     "output_type": "execute_result"
    }
   ],
   "source": [
    "pd.Timestamp(\"2019-12-12\")"
   ]
  },
  {
   "cell_type": "code",
   "execution_count": 11,
   "metadata": {},
   "outputs": [
    {
     "data": {
      "text/plain": [
       "Timestamp('2019-12-12 00:00:00')"
      ]
     },
     "execution_count": 11,
     "metadata": {},
     "output_type": "execute_result"
    }
   ],
   "source": [
    "pd.Timestamp(\"2019/12/12\")"
   ]
  },
  {
   "cell_type": "code",
   "execution_count": 12,
   "metadata": {},
   "outputs": [
    {
     "data": {
      "text/plain": [
       "Timestamp('2019-12-12 00:00:00')"
      ]
     },
     "execution_count": 12,
     "metadata": {},
     "output_type": "execute_result"
    }
   ],
   "source": [
    "pd.Timestamp(2019,12,12)"
   ]
  },
  {
   "cell_type": "code",
   "execution_count": 13,
   "metadata": {},
   "outputs": [
    {
     "data": {
      "text/plain": [
       "Timestamp('2019-12-12 00:00:00')"
      ]
     },
     "execution_count": 13,
     "metadata": {},
     "output_type": "execute_result"
    }
   ],
   "source": [
    " pd.Timestamp(year=2019, month=12, day=12, hour=0,minute=0,second=0)"
   ]
  },
  {
   "cell_type": "code",
   "execution_count": null,
   "metadata": {},
   "outputs": [],
   "source": []
  },
  {
   "cell_type": "code",
   "execution_count": null,
   "metadata": {},
   "outputs": [],
   "source": []
  },
  {
   "cell_type": "markdown",
   "metadata": {},
   "source": [
    "## pd.to_datetime"
   ]
  },
  {
   "cell_type": "markdown",
   "metadata": {},
   "source": [
    "处理日期序列"
   ]
  },
  {
   "cell_type": "code",
   "execution_count": 14,
   "metadata": {},
   "outputs": [
    {
     "data": {
      "text/plain": [
       "0   2019-12-10\n",
       "1   2019-12-11\n",
       "2   2019-12-12\n",
       "dtype: datetime64[ns]"
      ]
     },
     "execution_count": 14,
     "metadata": {},
     "output_type": "execute_result"
    }
   ],
   "source": [
    "mydate=pd.Series([\"2019/12/10\",\"2019/12/11\",\"2019/12/12\"])\n",
    "pd.to_datetime(mydate)"
   ]
  },
  {
   "cell_type": "code",
   "execution_count": 16,
   "metadata": {},
   "outputs": [
    {
     "data": {
      "text/plain": [
       "Timestamp('2019-12-10 00:00:00')"
      ]
     },
     "execution_count": 16,
     "metadata": {},
     "output_type": "execute_result"
    }
   ],
   "source": [
    "pd.to_datetime(mydate)[0]"
   ]
  },
  {
   "cell_type": "code",
   "execution_count": 17,
   "metadata": {},
   "outputs": [
    {
     "data": {
      "text/plain": [
       "0   2019-12-10\n",
       "1   2019-12-11\n",
       "2   2019-12-12\n",
       "dtype: datetime64[ns]"
      ]
     },
     "execution_count": 17,
     "metadata": {},
     "output_type": "execute_result"
    }
   ],
   "source": [
    "mydate=pd.Series([\"2019-12-10\",\"2019-12-11\",\"2019-12-12\"])\n",
    "pd.to_datetime(mydate)"
   ]
  },
  {
   "cell_type": "code",
   "execution_count": 21,
   "metadata": {},
   "outputs": [
    {
     "data": {
      "text/plain": [
       "Timestamp('2019-12-12 00:00:00')"
      ]
     },
     "execution_count": 21,
     "metadata": {},
     "output_type": "execute_result"
    }
   ],
   "source": [
    "pd.to_datetime(\"2019*12*12\",format=\"%Y*%m*%d\")"
   ]
  },
  {
   "cell_type": "code",
   "execution_count": 24,
   "metadata": {},
   "outputs": [
    {
     "data": {
      "text/plain": [
       "Timestamp('2020-07-09 00:00:00')"
      ]
     },
     "execution_count": 24,
     "metadata": {},
     "output_type": "execute_result"
    }
   ],
   "source": [
    "pd.to_datetime(\"20200709\")"
   ]
  },
  {
   "cell_type": "markdown",
   "metadata": {},
   "source": [
    "## pd.date_range"
   ]
  },
  {
   "cell_type": "code",
   "execution_count": 26,
   "metadata": {},
   "outputs": [
    {
     "data": {
      "text/plain": [
       "DatetimeIndex(['2011-01-20 00:00:00', '2011-01-20 01:00:00',\n",
       "               '2011-01-20 02:00:00', '2011-01-20 03:00:00',\n",
       "               '2011-01-20 04:00:00', '2011-01-20 05:00:00',\n",
       "               '2011-01-20 06:00:00', '2011-01-20 07:00:00'],\n",
       "              dtype='datetime64[ns]', freq='H')"
      ]
     },
     "execution_count": 26,
     "metadata": {},
     "output_type": "execute_result"
    }
   ],
   "source": [
    "s1=pd.date_range('2011-1-20',  freq='H',periods=8) \n",
    "s1"
   ]
  },
  {
   "cell_type": "code",
   "execution_count": 27,
   "metadata": {},
   "outputs": [
    {
     "data": {
      "text/plain": [
       "Timestamp('2011-01-20 00:00:00', freq='H')"
      ]
     },
     "execution_count": 27,
     "metadata": {},
     "output_type": "execute_result"
    }
   ],
   "source": [
    "s1[0]"
   ]
  },
  {
   "cell_type": "code",
   "execution_count": 28,
   "metadata": {
    "ExecuteTime": {
     "end_time": "2020-05-16T01:15:02.530665Z",
     "start_time": "2020-05-16T01:15:02.521689Z"
    }
   },
   "outputs": [
    {
     "data": {
      "text/plain": [
       "DatetimeIndex(['2011-01-20', '2011-01-21', '2011-01-22', '2011-01-23',\n",
       "               '2011-01-24', '2011-01-25', '2011-01-26', '2011-01-27',\n",
       "               '2011-01-28', '2011-01-29', '2011-01-30'],\n",
       "              dtype='datetime64[ns]', freq='D')"
      ]
     },
     "execution_count": 28,
     "metadata": {},
     "output_type": "execute_result"
    }
   ],
   "source": [
    "s1=pd.date_range('2011-1-20',  '2011-1-30',freq='D') \n",
    "s1"
   ]
  },
  {
   "cell_type": "markdown",
   "metadata": {},
   "source": [
    "# 日期数据转化"
   ]
  },
  {
   "cell_type": "code",
   "execution_count": 29,
   "metadata": {
    "ExecuteTime": {
     "end_time": "2020-05-16T01:15:39.155715Z",
     "start_time": "2020-05-16T01:15:38.409677Z"
    }
   },
   "outputs": [
    {
     "data": {
      "text/html": [
       "<div>\n",
       "<style scoped>\n",
       "    .dataframe tbody tr th:only-of-type {\n",
       "        vertical-align: middle;\n",
       "    }\n",
       "\n",
       "    .dataframe tbody tr th {\n",
       "        vertical-align: top;\n",
       "    }\n",
       "\n",
       "    .dataframe thead th {\n",
       "        text-align: right;\n",
       "    }\n",
       "</style>\n",
       "<table border=\"1\" class=\"dataframe\">\n",
       "  <thead>\n",
       "    <tr style=\"text-align: right;\">\n",
       "      <th></th>\n",
       "      <th>日期</th>\n",
       "      <th>收盘价</th>\n",
       "      <th>最高价</th>\n",
       "      <th>最低价</th>\n",
       "      <th>开盘价</th>\n",
       "      <th>涨跌额</th>\n",
       "      <th>涨跌幅</th>\n",
       "      <th>成交量</th>\n",
       "      <th>成交额</th>\n",
       "    </tr>\n",
       "  </thead>\n",
       "  <tbody>\n",
       "    <tr>\n",
       "      <th>0</th>\n",
       "      <td>2017-09-14</td>\n",
       "      <td>3371.4256</td>\n",
       "      <td>3391.6435</td>\n",
       "      <td>3361.3335</td>\n",
       "      <td>3383.4700</td>\n",
       "      <td>-12.7214</td>\n",
       "      <td>-0.3759</td>\n",
       "      <td>221306487</td>\n",
       "      <td>256744421274</td>\n",
       "    </tr>\n",
       "    <tr>\n",
       "      <th>1</th>\n",
       "      <td>2017-09-13</td>\n",
       "      <td>3384.1470</td>\n",
       "      <td>3387.1397</td>\n",
       "      <td>3366.5412</td>\n",
       "      <td>3374.7185</td>\n",
       "      <td>4.659</td>\n",
       "      <td>0.1379</td>\n",
       "      <td>194550715</td>\n",
       "      <td>230733408867</td>\n",
       "    </tr>\n",
       "    <tr>\n",
       "      <th>2</th>\n",
       "      <td>2017-09-12</td>\n",
       "      <td>3379.4880</td>\n",
       "      <td>3391.0694</td>\n",
       "      <td>3370.8519</td>\n",
       "      <td>3381.4870</td>\n",
       "      <td>3.0692</td>\n",
       "      <td>0.0909</td>\n",
       "      <td>272910319</td>\n",
       "      <td>325024951982</td>\n",
       "    </tr>\n",
       "    <tr>\n",
       "      <th>3</th>\n",
       "      <td>2017-09-11</td>\n",
       "      <td>3376.4188</td>\n",
       "      <td>3384.8100</td>\n",
       "      <td>3360.0462</td>\n",
       "      <td>3365.3506</td>\n",
       "      <td>11.1762</td>\n",
       "      <td>0.3321</td>\n",
       "      <td>219011019</td>\n",
       "      <td>256888810547</td>\n",
       "    </tr>\n",
       "    <tr>\n",
       "      <th>4</th>\n",
       "      <td>2017-09-08</td>\n",
       "      <td>3365.2426</td>\n",
       "      <td>3380.8898</td>\n",
       "      <td>3353.6876</td>\n",
       "      <td>3364.4275</td>\n",
       "      <td>-0.2548</td>\n",
       "      <td>-0.0076</td>\n",
       "      <td>198405184</td>\n",
       "      <td>235160227356</td>\n",
       "    </tr>\n",
       "  </tbody>\n",
       "</table>\n",
       "</div>"
      ],
      "text/plain": [
       "          日期        收盘价        最高价        最低价        开盘价      涨跌额     涨跌幅  \\\n",
       "0 2017-09-14  3371.4256  3391.6435  3361.3335  3383.4700 -12.7214 -0.3759   \n",
       "1 2017-09-13  3384.1470  3387.1397  3366.5412  3374.7185    4.659  0.1379   \n",
       "2 2017-09-12  3379.4880  3391.0694  3370.8519  3381.4870   3.0692  0.0909   \n",
       "3 2017-09-11  3376.4188  3384.8100  3360.0462  3365.3506  11.1762  0.3321   \n",
       "4 2017-09-08  3365.2426  3380.8898  3353.6876  3364.4275  -0.2548 -0.0076   \n",
       "\n",
       "         成交量           成交额  \n",
       "0  221306487  256744421274  \n",
       "1  194550715  230733408867  \n",
       "2  272910319  325024951982  \n",
       "3  219011019  256888810547  \n",
       "4  198405184  235160227356  "
      ]
     },
     "execution_count": 29,
     "metadata": {},
     "output_type": "execute_result"
    }
   ],
   "source": [
    "raw_data=pd.read_excel(\"上证指数收盘价历史数据(1990-2017.9).xlsx\",header=0)\n",
    "raw_data.head()"
   ]
  },
  {
   "cell_type": "code",
   "execution_count": 32,
   "metadata": {},
   "outputs": [
    {
     "data": {
      "text/plain": [
       "Timestamp('2017-09-14 00:00:00')"
      ]
     },
     "execution_count": 32,
     "metadata": {},
     "output_type": "execute_result"
    }
   ],
   "source": [
    "raw_data['日期'][0]"
   ]
  },
  {
   "cell_type": "code",
   "execution_count": 30,
   "metadata": {
    "ExecuteTime": {
     "end_time": "2020-05-16T01:15:47.930579Z",
     "start_time": "2020-05-16T01:15:47.904683Z"
    }
   },
   "outputs": [
    {
     "name": "stdout",
     "output_type": "stream",
     "text": [
      "<class 'pandas.core.frame.DataFrame'>\n",
      "RangeIndex: 6542 entries, 0 to 6541\n",
      "Data columns (total 9 columns):\n",
      " #   Column  Non-Null Count  Dtype         \n",
      "---  ------  --------------  -----         \n",
      " 0   日期      6542 non-null   datetime64[ns]\n",
      " 1   收盘价     6542 non-null   float64       \n",
      " 2   最高价     6542 non-null   float64       \n",
      " 3   最低价     6542 non-null   float64       \n",
      " 4   开盘价     6542 non-null   float64       \n",
      " 5   涨跌额     6542 non-null   object        \n",
      " 6   涨跌幅     6542 non-null   object        \n",
      " 7   成交量     6542 non-null   int64         \n",
      " 8   成交额     6542 non-null   object        \n",
      "dtypes: datetime64[ns](1), float64(4), int64(1), object(3)\n",
      "memory usage: 460.1+ KB\n"
     ]
    }
   ],
   "source": [
    "raw_data.info()"
   ]
  },
  {
   "cell_type": "code",
   "execution_count": null,
   "metadata": {},
   "outputs": [],
   "source": []
  },
  {
   "cell_type": "markdown",
   "metadata": {},
   "source": [
    "如果日期字段不是datetime格式的呢？比如object格式？该如何转化为datetime格式？"
   ]
  },
  {
   "cell_type": "code",
   "execution_count": 33,
   "metadata": {
    "ExecuteTime": {
     "end_time": "2020-05-16T01:17:35.615072Z",
     "start_time": "2020-05-16T01:17:35.541270Z"
    }
   },
   "outputs": [
    {
     "data": {
      "text/plain": [
       "0       2017-09-14\n",
       "1       2017-09-13\n",
       "2       2017-09-12\n",
       "3       2017-09-11\n",
       "4       2017-09-08\n",
       "           ...    \n",
       "6537    1990-12-25\n",
       "6538    1990-12-24\n",
       "6539    1990-12-21\n",
       "6540    1990-12-20\n",
       "6541    1990-12-19\n",
       "Name: 日期, Length: 6542, dtype: object"
      ]
     },
     "execution_count": 33,
     "metadata": {},
     "output_type": "execute_result"
    }
   ],
   "source": [
    "date=raw_data.日期.astype(str)\n",
    "date"
   ]
  },
  {
   "cell_type": "code",
   "execution_count": 32,
   "metadata": {
    "ExecuteTime": {
     "end_time": "2020-05-16T01:18:16.984943Z",
     "start_time": "2020-05-16T01:18:16.971011Z"
    }
   },
   "outputs": [
    {
     "data": {
      "text/plain": [
       "0   2017-09-14\n",
       "1   2017-09-13\n",
       "2   2017-09-12\n",
       "3   2017-09-11\n",
       "4   2017-09-08\n",
       "Name: 日期, dtype: datetime64[ns]"
      ]
     },
     "execution_count": 32,
     "metadata": {},
     "output_type": "execute_result"
    }
   ],
   "source": [
    "pd.to_datetime(date).head()"
   ]
  },
  {
   "cell_type": "markdown",
   "metadata": {},
   "source": [
    "##  转化为指定格式.dt.strftime()"
   ]
  },
  {
   "cell_type": "code",
   "execution_count": 34,
   "metadata": {
    "ExecuteTime": {
     "end_time": "2020-05-16T01:20:05.007876Z",
     "start_time": "2020-05-16T01:20:05.001878Z"
    }
   },
   "outputs": [
    {
     "data": {
      "text/plain": [
       "0   2017-09-14\n",
       "1   2017-09-13\n",
       "2   2017-09-12\n",
       "3   2017-09-11\n",
       "4   2017-09-08\n",
       "Name: 日期, dtype: datetime64[ns]"
      ]
     },
     "execution_count": 34,
     "metadata": {},
     "output_type": "execute_result"
    }
   ],
   "source": [
    "raw_data.日期.head()"
   ]
  },
  {
   "cell_type": "code",
   "execution_count": 35,
   "metadata": {
    "ExecuteTime": {
     "end_time": "2020-05-16T01:21:10.244008Z",
     "start_time": "2020-05-16T01:21:10.164222Z"
    }
   },
   "outputs": [
    {
     "data": {
      "text/plain": [
       "0    09/14/2017\n",
       "1    09/13/2017\n",
       "2    09/12/2017\n",
       "3    09/11/2017\n",
       "4    09/08/2017\n",
       "Name: 日期, dtype: object"
      ]
     },
     "execution_count": 35,
     "metadata": {},
     "output_type": "execute_result"
    }
   ],
   "source": [
    "raw_data.日期.dt.strftime(\"%m/%d/%Y\").head()#数据类型会发生了变化"
   ]
  },
  {
   "cell_type": "code",
   "execution_count": 13,
   "metadata": {},
   "outputs": [
    {
     "data": {
      "text/plain": [
       "0    2017\n",
       "1    2017\n",
       "2    2017\n",
       "3    2017\n",
       "4    2017\n",
       "Name: 日期, dtype: object"
      ]
     },
     "execution_count": 13,
     "metadata": {},
     "output_type": "execute_result"
    }
   ],
   "source": [
    "raw_data.日期.dt.strftime(\"%Y\").head()"
   ]
  },
  {
   "cell_type": "markdown",
   "metadata": {},
   "source": [
    "## 提取时间元素"
   ]
  },
  {
   "cell_type": "code",
   "execution_count": 36,
   "metadata": {},
   "outputs": [
    {
     "data": {
      "text/html": [
       "<div>\n",
       "<style scoped>\n",
       "    .dataframe tbody tr th:only-of-type {\n",
       "        vertical-align: middle;\n",
       "    }\n",
       "\n",
       "    .dataframe tbody tr th {\n",
       "        vertical-align: top;\n",
       "    }\n",
       "\n",
       "    .dataframe thead th {\n",
       "        text-align: right;\n",
       "    }\n",
       "</style>\n",
       "<table border=\"1\" class=\"dataframe\">\n",
       "  <thead>\n",
       "    <tr style=\"text-align: right;\">\n",
       "      <th></th>\n",
       "      <th>日期</th>\n",
       "      <th>收盘价</th>\n",
       "      <th>最高价</th>\n",
       "      <th>最低价</th>\n",
       "      <th>开盘价</th>\n",
       "      <th>涨跌额</th>\n",
       "      <th>涨跌幅</th>\n",
       "      <th>成交量</th>\n",
       "      <th>成交额</th>\n",
       "    </tr>\n",
       "  </thead>\n",
       "  <tbody>\n",
       "    <tr>\n",
       "      <th>0</th>\n",
       "      <td>2017-09-14</td>\n",
       "      <td>3371.4256</td>\n",
       "      <td>3391.6435</td>\n",
       "      <td>3361.3335</td>\n",
       "      <td>3383.4700</td>\n",
       "      <td>-12.7214</td>\n",
       "      <td>-0.3759</td>\n",
       "      <td>221306487</td>\n",
       "      <td>256744421274</td>\n",
       "    </tr>\n",
       "    <tr>\n",
       "      <th>1</th>\n",
       "      <td>2017-09-13</td>\n",
       "      <td>3384.1470</td>\n",
       "      <td>3387.1397</td>\n",
       "      <td>3366.5412</td>\n",
       "      <td>3374.7185</td>\n",
       "      <td>4.659</td>\n",
       "      <td>0.1379</td>\n",
       "      <td>194550715</td>\n",
       "      <td>230733408867</td>\n",
       "    </tr>\n",
       "    <tr>\n",
       "      <th>2</th>\n",
       "      <td>2017-09-12</td>\n",
       "      <td>3379.4880</td>\n",
       "      <td>3391.0694</td>\n",
       "      <td>3370.8519</td>\n",
       "      <td>3381.4870</td>\n",
       "      <td>3.0692</td>\n",
       "      <td>0.0909</td>\n",
       "      <td>272910319</td>\n",
       "      <td>325024951982</td>\n",
       "    </tr>\n",
       "    <tr>\n",
       "      <th>3</th>\n",
       "      <td>2017-09-11</td>\n",
       "      <td>3376.4188</td>\n",
       "      <td>3384.8100</td>\n",
       "      <td>3360.0462</td>\n",
       "      <td>3365.3506</td>\n",
       "      <td>11.1762</td>\n",
       "      <td>0.3321</td>\n",
       "      <td>219011019</td>\n",
       "      <td>256888810547</td>\n",
       "    </tr>\n",
       "    <tr>\n",
       "      <th>4</th>\n",
       "      <td>2017-09-08</td>\n",
       "      <td>3365.2426</td>\n",
       "      <td>3380.8898</td>\n",
       "      <td>3353.6876</td>\n",
       "      <td>3364.4275</td>\n",
       "      <td>-0.2548</td>\n",
       "      <td>-0.0076</td>\n",
       "      <td>198405184</td>\n",
       "      <td>235160227356</td>\n",
       "    </tr>\n",
       "  </tbody>\n",
       "</table>\n",
       "</div>"
      ],
      "text/plain": [
       "          日期        收盘价        最高价        最低价        开盘价      涨跌额     涨跌幅  \\\n",
       "0 2017-09-14  3371.4256  3391.6435  3361.3335  3383.4700 -12.7214 -0.3759   \n",
       "1 2017-09-13  3384.1470  3387.1397  3366.5412  3374.7185    4.659  0.1379   \n",
       "2 2017-09-12  3379.4880  3391.0694  3370.8519  3381.4870   3.0692  0.0909   \n",
       "3 2017-09-11  3376.4188  3384.8100  3360.0462  3365.3506  11.1762  0.3321   \n",
       "4 2017-09-08  3365.2426  3380.8898  3353.6876  3364.4275  -0.2548 -0.0076   \n",
       "\n",
       "         成交量           成交额  \n",
       "0  221306487  256744421274  \n",
       "1  194550715  230733408867  \n",
       "2  272910319  325024951982  \n",
       "3  219011019  256888810547  \n",
       "4  198405184  235160227356  "
      ]
     },
     "execution_count": 36,
     "metadata": {},
     "output_type": "execute_result"
    }
   ],
   "source": [
    "raw_data.head()"
   ]
  },
  {
   "cell_type": "code",
   "execution_count": 37,
   "metadata": {},
   "outputs": [
    {
     "data": {
      "text/plain": [
       "0       2017\n",
       "1       2017\n",
       "2       2017\n",
       "3       2017\n",
       "4       2017\n",
       "        ... \n",
       "6537    1990\n",
       "6538    1990\n",
       "6539    1990\n",
       "6540    1990\n",
       "6541    1990\n",
       "Name: 日期, Length: 6542, dtype: int64"
      ]
     },
     "execution_count": 37,
     "metadata": {},
     "output_type": "execute_result"
    }
   ],
   "source": [
    "raw_data.日期.dt.year #把年取出来，是一个int类型"
   ]
  },
  {
   "cell_type": "code",
   "execution_count": 38,
   "metadata": {},
   "outputs": [
    {
     "data": {
      "text/plain": [
       "0        9\n",
       "1        9\n",
       "2        9\n",
       "3        9\n",
       "4        9\n",
       "        ..\n",
       "6537    12\n",
       "6538    12\n",
       "6539    12\n",
       "6540    12\n",
       "6541    12\n",
       "Name: 日期, Length: 6542, dtype: int64"
      ]
     },
     "execution_count": 38,
     "metadata": {},
     "output_type": "execute_result"
    }
   ],
   "source": [
    "raw_data.日期.dt.month #把月调出来是一个int类型"
   ]
  },
  {
   "cell_type": "code",
   "execution_count": 39,
   "metadata": {},
   "outputs": [
    {
     "data": {
      "text/plain": [
       "0       14\n",
       "1       13\n",
       "2       12\n",
       "3       11\n",
       "4        8\n",
       "        ..\n",
       "6537    25\n",
       "6538    24\n",
       "6539    21\n",
       "6540    20\n",
       "6541    19\n",
       "Name: 日期, Length: 6542, dtype: int64"
      ]
     },
     "execution_count": 39,
     "metadata": {},
     "output_type": "execute_result"
    }
   ],
   "source": [
    "raw_data.日期.dt.day#把日调出来是一个int类型"
   ]
  },
  {
   "cell_type": "code",
   "execution_count": 40,
   "metadata": {},
   "outputs": [
    {
     "data": {
      "text/plain": [
       "0       2017-09-14\n",
       "1       2017-09-13\n",
       "2       2017-09-12\n",
       "3       2017-09-11\n",
       "4       2017-09-08\n",
       "           ...    \n",
       "6537    1990-12-25\n",
       "6538    1990-12-24\n",
       "6539    1990-12-21\n",
       "6540    1990-12-20\n",
       "6541    1990-12-19\n",
       "Name: 日期, Length: 6542, dtype: object"
      ]
     },
     "execution_count": 40,
     "metadata": {},
     "output_type": "execute_result"
    }
   ],
   "source": [
    "raw_data.日期.dt.date#把日期调出来,是一个object类型"
   ]
  },
  {
   "cell_type": "code",
   "execution_count": 41,
   "metadata": {},
   "outputs": [
    {
     "data": {
      "text/plain": [
       "0       00:00:00\n",
       "1       00:00:00\n",
       "2       00:00:00\n",
       "3       00:00:00\n",
       "4       00:00:00\n",
       "          ...   \n",
       "6537    00:00:00\n",
       "6538    00:00:00\n",
       "6539    00:00:00\n",
       "6540    00:00:00\n",
       "6541    00:00:00\n",
       "Name: 日期, Length: 6542, dtype: object"
      ]
     },
     "execution_count": 41,
     "metadata": {},
     "output_type": "execute_result"
    }
   ],
   "source": [
    "raw_data.日期.dt.time #把时间调出来,是一个object类型"
   ]
  },
  {
   "cell_type": "markdown",
   "metadata": {},
   "source": [
    "注意，上面提取的Series，都是object类型，要转化为datatime类型，还是需要用to_datetime方法。"
   ]
  },
  {
   "cell_type": "markdown",
   "metadata": {},
   "source": [
    "# 日期索引对象DatetimeIndex"
   ]
  },
  {
   "cell_type": "markdown",
   "metadata": {},
   "source": [
    "DatetimeIndex 的主要作用是之一是用作 Pandas 对象的索引，使用它作为索引除了拥有普通索引对象的所有基本功能外，还拥有简化频率处理的高级时间序列方法。"
   ]
  },
  {
   "cell_type": "code",
   "execution_count": 42,
   "metadata": {},
   "outputs": [
    {
     "data": {
      "text/html": [
       "<div>\n",
       "<style scoped>\n",
       "    .dataframe tbody tr th:only-of-type {\n",
       "        vertical-align: middle;\n",
       "    }\n",
       "\n",
       "    .dataframe tbody tr th {\n",
       "        vertical-align: top;\n",
       "    }\n",
       "\n",
       "    .dataframe thead th {\n",
       "        text-align: right;\n",
       "    }\n",
       "</style>\n",
       "<table border=\"1\" class=\"dataframe\">\n",
       "  <thead>\n",
       "    <tr style=\"text-align: right;\">\n",
       "      <th></th>\n",
       "      <th>日期</th>\n",
       "      <th>收盘价</th>\n",
       "      <th>最高价</th>\n",
       "      <th>最低价</th>\n",
       "      <th>开盘价</th>\n",
       "      <th>涨跌额</th>\n",
       "      <th>涨跌幅</th>\n",
       "      <th>成交量</th>\n",
       "      <th>成交额</th>\n",
       "    </tr>\n",
       "  </thead>\n",
       "  <tbody>\n",
       "    <tr>\n",
       "      <th>0</th>\n",
       "      <td>2017-09-14</td>\n",
       "      <td>3371.4256</td>\n",
       "      <td>3391.6435</td>\n",
       "      <td>3361.3335</td>\n",
       "      <td>3383.4700</td>\n",
       "      <td>-12.7214</td>\n",
       "      <td>-0.3759</td>\n",
       "      <td>221306487</td>\n",
       "      <td>256744421274</td>\n",
       "    </tr>\n",
       "    <tr>\n",
       "      <th>1</th>\n",
       "      <td>2017-09-13</td>\n",
       "      <td>3384.1470</td>\n",
       "      <td>3387.1397</td>\n",
       "      <td>3366.5412</td>\n",
       "      <td>3374.7185</td>\n",
       "      <td>4.659</td>\n",
       "      <td>0.1379</td>\n",
       "      <td>194550715</td>\n",
       "      <td>230733408867</td>\n",
       "    </tr>\n",
       "    <tr>\n",
       "      <th>2</th>\n",
       "      <td>2017-09-12</td>\n",
       "      <td>3379.4880</td>\n",
       "      <td>3391.0694</td>\n",
       "      <td>3370.8519</td>\n",
       "      <td>3381.4870</td>\n",
       "      <td>3.0692</td>\n",
       "      <td>0.0909</td>\n",
       "      <td>272910319</td>\n",
       "      <td>325024951982</td>\n",
       "    </tr>\n",
       "    <tr>\n",
       "      <th>3</th>\n",
       "      <td>2017-09-11</td>\n",
       "      <td>3376.4188</td>\n",
       "      <td>3384.8100</td>\n",
       "      <td>3360.0462</td>\n",
       "      <td>3365.3506</td>\n",
       "      <td>11.1762</td>\n",
       "      <td>0.3321</td>\n",
       "      <td>219011019</td>\n",
       "      <td>256888810547</td>\n",
       "    </tr>\n",
       "    <tr>\n",
       "      <th>4</th>\n",
       "      <td>2017-09-08</td>\n",
       "      <td>3365.2426</td>\n",
       "      <td>3380.8898</td>\n",
       "      <td>3353.6876</td>\n",
       "      <td>3364.4275</td>\n",
       "      <td>-0.2548</td>\n",
       "      <td>-0.0076</td>\n",
       "      <td>198405184</td>\n",
       "      <td>235160227356</td>\n",
       "    </tr>\n",
       "  </tbody>\n",
       "</table>\n",
       "</div>"
      ],
      "text/plain": [
       "          日期        收盘价        最高价        最低价        开盘价      涨跌额     涨跌幅  \\\n",
       "0 2017-09-14  3371.4256  3391.6435  3361.3335  3383.4700 -12.7214 -0.3759   \n",
       "1 2017-09-13  3384.1470  3387.1397  3366.5412  3374.7185    4.659  0.1379   \n",
       "2 2017-09-12  3379.4880  3391.0694  3370.8519  3381.4870   3.0692  0.0909   \n",
       "3 2017-09-11  3376.4188  3384.8100  3360.0462  3365.3506  11.1762  0.3321   \n",
       "4 2017-09-08  3365.2426  3380.8898  3353.6876  3364.4275  -0.2548 -0.0076   \n",
       "\n",
       "         成交量           成交额  \n",
       "0  221306487  256744421274  \n",
       "1  194550715  230733408867  \n",
       "2  272910319  325024951982  \n",
       "3  219011019  256888810547  \n",
       "4  198405184  235160227356  "
      ]
     },
     "execution_count": 42,
     "metadata": {},
     "output_type": "execute_result"
    }
   ],
   "source": [
    "raw_data=pd.read_excel(\"上证指数收盘价历史数据(1990-2017.9).xlsx\",header=0)\n",
    "raw_data.head()"
   ]
  },
  {
   "cell_type": "code",
   "execution_count": 43,
   "metadata": {
    "ExecuteTime": {
     "end_time": "2020-05-16T01:25:04.265234Z",
     "start_time": "2020-05-16T01:25:04.260257Z"
    }
   },
   "outputs": [],
   "source": [
    "data=raw_data.copy()   #复制，浅拷贝"
   ]
  },
  {
   "cell_type": "code",
   "execution_count": 44,
   "metadata": {
    "ExecuteTime": {
     "end_time": "2020-05-16T01:25:06.219398Z",
     "start_time": "2020-05-16T01:25:06.201446Z"
    },
    "scrolled": true
   },
   "outputs": [
    {
     "data": {
      "text/html": [
       "<div>\n",
       "<style scoped>\n",
       "    .dataframe tbody tr th:only-of-type {\n",
       "        vertical-align: middle;\n",
       "    }\n",
       "\n",
       "    .dataframe tbody tr th {\n",
       "        vertical-align: top;\n",
       "    }\n",
       "\n",
       "    .dataframe thead th {\n",
       "        text-align: right;\n",
       "    }\n",
       "</style>\n",
       "<table border=\"1\" class=\"dataframe\">\n",
       "  <thead>\n",
       "    <tr style=\"text-align: right;\">\n",
       "      <th></th>\n",
       "      <th>日期</th>\n",
       "      <th>收盘价</th>\n",
       "      <th>最高价</th>\n",
       "      <th>最低价</th>\n",
       "      <th>开盘价</th>\n",
       "      <th>涨跌额</th>\n",
       "      <th>涨跌幅</th>\n",
       "      <th>成交量</th>\n",
       "      <th>成交额</th>\n",
       "    </tr>\n",
       "  </thead>\n",
       "  <tbody>\n",
       "    <tr>\n",
       "      <th>0</th>\n",
       "      <td>2017-09-14</td>\n",
       "      <td>3371.4256</td>\n",
       "      <td>3391.6435</td>\n",
       "      <td>3361.3335</td>\n",
       "      <td>3383.4700</td>\n",
       "      <td>-12.7214</td>\n",
       "      <td>-0.3759</td>\n",
       "      <td>221306487</td>\n",
       "      <td>256744421274</td>\n",
       "    </tr>\n",
       "    <tr>\n",
       "      <th>1</th>\n",
       "      <td>2017-09-13</td>\n",
       "      <td>3384.1470</td>\n",
       "      <td>3387.1397</td>\n",
       "      <td>3366.5412</td>\n",
       "      <td>3374.7185</td>\n",
       "      <td>4.659</td>\n",
       "      <td>0.1379</td>\n",
       "      <td>194550715</td>\n",
       "      <td>230733408867</td>\n",
       "    </tr>\n",
       "    <tr>\n",
       "      <th>2</th>\n",
       "      <td>2017-09-12</td>\n",
       "      <td>3379.4880</td>\n",
       "      <td>3391.0694</td>\n",
       "      <td>3370.8519</td>\n",
       "      <td>3381.4870</td>\n",
       "      <td>3.0692</td>\n",
       "      <td>0.0909</td>\n",
       "      <td>272910319</td>\n",
       "      <td>325024951982</td>\n",
       "    </tr>\n",
       "    <tr>\n",
       "      <th>3</th>\n",
       "      <td>2017-09-11</td>\n",
       "      <td>3376.4188</td>\n",
       "      <td>3384.8100</td>\n",
       "      <td>3360.0462</td>\n",
       "      <td>3365.3506</td>\n",
       "      <td>11.1762</td>\n",
       "      <td>0.3321</td>\n",
       "      <td>219011019</td>\n",
       "      <td>256888810547</td>\n",
       "    </tr>\n",
       "    <tr>\n",
       "      <th>4</th>\n",
       "      <td>2017-09-08</td>\n",
       "      <td>3365.2426</td>\n",
       "      <td>3380.8898</td>\n",
       "      <td>3353.6876</td>\n",
       "      <td>3364.4275</td>\n",
       "      <td>-0.2548</td>\n",
       "      <td>-0.0076</td>\n",
       "      <td>198405184</td>\n",
       "      <td>235160227356</td>\n",
       "    </tr>\n",
       "  </tbody>\n",
       "</table>\n",
       "</div>"
      ],
      "text/plain": [
       "          日期        收盘价        最高价        最低价        开盘价      涨跌额     涨跌幅  \\\n",
       "0 2017-09-14  3371.4256  3391.6435  3361.3335  3383.4700 -12.7214 -0.3759   \n",
       "1 2017-09-13  3384.1470  3387.1397  3366.5412  3374.7185    4.659  0.1379   \n",
       "2 2017-09-12  3379.4880  3391.0694  3370.8519  3381.4870   3.0692  0.0909   \n",
       "3 2017-09-11  3376.4188  3384.8100  3360.0462  3365.3506  11.1762  0.3321   \n",
       "4 2017-09-08  3365.2426  3380.8898  3353.6876  3364.4275  -0.2548 -0.0076   \n",
       "\n",
       "         成交量           成交额  \n",
       "0  221306487  256744421274  \n",
       "1  194550715  230733408867  \n",
       "2  272910319  325024951982  \n",
       "3  219011019  256888810547  \n",
       "4  198405184  235160227356  "
      ]
     },
     "execution_count": 44,
     "metadata": {},
     "output_type": "execute_result"
    }
   ],
   "source": [
    "data.head()"
   ]
  },
  {
   "cell_type": "markdown",
   "metadata": {},
   "source": [
    "把上面的日期字段，转化为datetime类型，然后作为DataFrame的索引对象，会有什么效果？"
   ]
  },
  {
   "cell_type": "code",
   "execution_count": 45,
   "metadata": {},
   "outputs": [
    {
     "data": {
      "text/html": [
       "<div>\n",
       "<style scoped>\n",
       "    .dataframe tbody tr th:only-of-type {\n",
       "        vertical-align: middle;\n",
       "    }\n",
       "\n",
       "    .dataframe tbody tr th {\n",
       "        vertical-align: top;\n",
       "    }\n",
       "\n",
       "    .dataframe thead th {\n",
       "        text-align: right;\n",
       "    }\n",
       "</style>\n",
       "<table border=\"1\" class=\"dataframe\">\n",
       "  <thead>\n",
       "    <tr style=\"text-align: right;\">\n",
       "      <th></th>\n",
       "      <th>收盘价</th>\n",
       "      <th>最高价</th>\n",
       "      <th>最低价</th>\n",
       "      <th>开盘价</th>\n",
       "      <th>涨跌额</th>\n",
       "      <th>涨跌幅</th>\n",
       "      <th>成交量</th>\n",
       "      <th>成交额</th>\n",
       "    </tr>\n",
       "    <tr>\n",
       "      <th>日期</th>\n",
       "      <th></th>\n",
       "      <th></th>\n",
       "      <th></th>\n",
       "      <th></th>\n",
       "      <th></th>\n",
       "      <th></th>\n",
       "      <th></th>\n",
       "      <th></th>\n",
       "    </tr>\n",
       "  </thead>\n",
       "  <tbody>\n",
       "    <tr>\n",
       "      <th>2017-09-14</th>\n",
       "      <td>3371.4256</td>\n",
       "      <td>3391.6435</td>\n",
       "      <td>3361.3335</td>\n",
       "      <td>3383.4700</td>\n",
       "      <td>-12.7214</td>\n",
       "      <td>-0.3759</td>\n",
       "      <td>221306487</td>\n",
       "      <td>256744421274</td>\n",
       "    </tr>\n",
       "    <tr>\n",
       "      <th>2017-09-13</th>\n",
       "      <td>3384.1470</td>\n",
       "      <td>3387.1397</td>\n",
       "      <td>3366.5412</td>\n",
       "      <td>3374.7185</td>\n",
       "      <td>4.659</td>\n",
       "      <td>0.1379</td>\n",
       "      <td>194550715</td>\n",
       "      <td>230733408867</td>\n",
       "    </tr>\n",
       "    <tr>\n",
       "      <th>2017-09-12</th>\n",
       "      <td>3379.4880</td>\n",
       "      <td>3391.0694</td>\n",
       "      <td>3370.8519</td>\n",
       "      <td>3381.4870</td>\n",
       "      <td>3.0692</td>\n",
       "      <td>0.0909</td>\n",
       "      <td>272910319</td>\n",
       "      <td>325024951982</td>\n",
       "    </tr>\n",
       "    <tr>\n",
       "      <th>2017-09-11</th>\n",
       "      <td>3376.4188</td>\n",
       "      <td>3384.8100</td>\n",
       "      <td>3360.0462</td>\n",
       "      <td>3365.3506</td>\n",
       "      <td>11.1762</td>\n",
       "      <td>0.3321</td>\n",
       "      <td>219011019</td>\n",
       "      <td>256888810547</td>\n",
       "    </tr>\n",
       "    <tr>\n",
       "      <th>2017-09-08</th>\n",
       "      <td>3365.2426</td>\n",
       "      <td>3380.8898</td>\n",
       "      <td>3353.6876</td>\n",
       "      <td>3364.4275</td>\n",
       "      <td>-0.2548</td>\n",
       "      <td>-0.0076</td>\n",
       "      <td>198405184</td>\n",
       "      <td>235160227356</td>\n",
       "    </tr>\n",
       "    <tr>\n",
       "      <th>...</th>\n",
       "      <td>...</td>\n",
       "      <td>...</td>\n",
       "      <td>...</td>\n",
       "      <td>...</td>\n",
       "      <td>...</td>\n",
       "      <td>...</td>\n",
       "      <td>...</td>\n",
       "      <td>...</td>\n",
       "    </tr>\n",
       "    <tr>\n",
       "      <th>1990-12-25</th>\n",
       "      <td>120.2500</td>\n",
       "      <td>120.2500</td>\n",
       "      <td>114.5500</td>\n",
       "      <td>120.0900</td>\n",
       "      <td>5.7</td>\n",
       "      <td>4.976</td>\n",
       "      <td>15</td>\n",
       "      <td>6000</td>\n",
       "    </tr>\n",
       "    <tr>\n",
       "      <th>1990-12-24</th>\n",
       "      <td>114.5500</td>\n",
       "      <td>114.5500</td>\n",
       "      <td>109.1300</td>\n",
       "      <td>113.5700</td>\n",
       "      <td>5.42</td>\n",
       "      <td>4.9666</td>\n",
       "      <td>32</td>\n",
       "      <td>31000</td>\n",
       "    </tr>\n",
       "    <tr>\n",
       "      <th>1990-12-21</th>\n",
       "      <td>109.1300</td>\n",
       "      <td>109.1300</td>\n",
       "      <td>103.7300</td>\n",
       "      <td>109.0700</td>\n",
       "      <td>4.74</td>\n",
       "      <td>4.5407</td>\n",
       "      <td>28</td>\n",
       "      <td>16000</td>\n",
       "    </tr>\n",
       "    <tr>\n",
       "      <th>1990-12-20</th>\n",
       "      <td>104.3900</td>\n",
       "      <td>104.3900</td>\n",
       "      <td>99.9800</td>\n",
       "      <td>104.3000</td>\n",
       "      <td>4.41</td>\n",
       "      <td>4.4109</td>\n",
       "      <td>197</td>\n",
       "      <td>84000</td>\n",
       "    </tr>\n",
       "    <tr>\n",
       "      <th>1990-12-19</th>\n",
       "      <td>99.9800</td>\n",
       "      <td>99.9800</td>\n",
       "      <td>95.7900</td>\n",
       "      <td>96.0500</td>\n",
       "      <td>None</td>\n",
       "      <td>None</td>\n",
       "      <td>1260</td>\n",
       "      <td>494000</td>\n",
       "    </tr>\n",
       "  </tbody>\n",
       "</table>\n",
       "<p>6542 rows × 8 columns</p>\n",
       "</div>"
      ],
      "text/plain": [
       "                  收盘价        最高价        最低价        开盘价      涨跌额     涨跌幅  \\\n",
       "日期                                                                        \n",
       "2017-09-14  3371.4256  3391.6435  3361.3335  3383.4700 -12.7214 -0.3759   \n",
       "2017-09-13  3384.1470  3387.1397  3366.5412  3374.7185    4.659  0.1379   \n",
       "2017-09-12  3379.4880  3391.0694  3370.8519  3381.4870   3.0692  0.0909   \n",
       "2017-09-11  3376.4188  3384.8100  3360.0462  3365.3506  11.1762  0.3321   \n",
       "2017-09-08  3365.2426  3380.8898  3353.6876  3364.4275  -0.2548 -0.0076   \n",
       "...               ...        ...        ...        ...      ...     ...   \n",
       "1990-12-25   120.2500   120.2500   114.5500   120.0900      5.7   4.976   \n",
       "1990-12-24   114.5500   114.5500   109.1300   113.5700     5.42  4.9666   \n",
       "1990-12-21   109.1300   109.1300   103.7300   109.0700     4.74  4.5407   \n",
       "1990-12-20   104.3900   104.3900    99.9800   104.3000     4.41  4.4109   \n",
       "1990-12-19    99.9800    99.9800    95.7900    96.0500     None    None   \n",
       "\n",
       "                  成交量           成交额  \n",
       "日期                                   \n",
       "2017-09-14  221306487  256744421274  \n",
       "2017-09-13  194550715  230733408867  \n",
       "2017-09-12  272910319  325024951982  \n",
       "2017-09-11  219011019  256888810547  \n",
       "2017-09-08  198405184  235160227356  \n",
       "...               ...           ...  \n",
       "1990-12-25         15          6000  \n",
       "1990-12-24         32         31000  \n",
       "1990-12-21         28         16000  \n",
       "1990-12-20        197         84000  \n",
       "1990-12-19       1260        494000  \n",
       "\n",
       "[6542 rows x 8 columns]"
      ]
     },
     "execution_count": 45,
     "metadata": {},
     "output_type": "execute_result"
    }
   ],
   "source": [
    "data=data.set_index('日期')\n",
    "data"
   ]
  },
  {
   "cell_type": "markdown",
   "metadata": {},
   "source": [
    "## 索引和切片"
   ]
  },
  {
   "cell_type": "code",
   "execution_count": 46,
   "metadata": {},
   "outputs": [
    {
     "data": {
      "text/html": [
       "<div>\n",
       "<style scoped>\n",
       "    .dataframe tbody tr th:only-of-type {\n",
       "        vertical-align: middle;\n",
       "    }\n",
       "\n",
       "    .dataframe tbody tr th {\n",
       "        vertical-align: top;\n",
       "    }\n",
       "\n",
       "    .dataframe thead th {\n",
       "        text-align: right;\n",
       "    }\n",
       "</style>\n",
       "<table border=\"1\" class=\"dataframe\">\n",
       "  <thead>\n",
       "    <tr style=\"text-align: right;\">\n",
       "      <th></th>\n",
       "      <th>收盘价</th>\n",
       "      <th>最高价</th>\n",
       "      <th>最低价</th>\n",
       "      <th>开盘价</th>\n",
       "      <th>涨跌额</th>\n",
       "      <th>涨跌幅</th>\n",
       "      <th>成交量</th>\n",
       "      <th>成交额</th>\n",
       "    </tr>\n",
       "    <tr>\n",
       "      <th>日期</th>\n",
       "      <th></th>\n",
       "      <th></th>\n",
       "      <th></th>\n",
       "      <th></th>\n",
       "      <th></th>\n",
       "      <th></th>\n",
       "      <th></th>\n",
       "      <th></th>\n",
       "    </tr>\n",
       "  </thead>\n",
       "  <tbody>\n",
       "    <tr>\n",
       "      <th>2017-09-14</th>\n",
       "      <td>3371.4256</td>\n",
       "      <td>3391.6435</td>\n",
       "      <td>3361.3335</td>\n",
       "      <td>3383.4700</td>\n",
       "      <td>-12.7214</td>\n",
       "      <td>-0.3759</td>\n",
       "      <td>221306487</td>\n",
       "      <td>256744421274</td>\n",
       "    </tr>\n",
       "    <tr>\n",
       "      <th>2017-09-13</th>\n",
       "      <td>3384.1470</td>\n",
       "      <td>3387.1397</td>\n",
       "      <td>3366.5412</td>\n",
       "      <td>3374.7185</td>\n",
       "      <td>4.659</td>\n",
       "      <td>0.1379</td>\n",
       "      <td>194550715</td>\n",
       "      <td>230733408867</td>\n",
       "    </tr>\n",
       "    <tr>\n",
       "      <th>2017-09-12</th>\n",
       "      <td>3379.4880</td>\n",
       "      <td>3391.0694</td>\n",
       "      <td>3370.8519</td>\n",
       "      <td>3381.4870</td>\n",
       "      <td>3.0692</td>\n",
       "      <td>0.0909</td>\n",
       "      <td>272910319</td>\n",
       "      <td>325024951982</td>\n",
       "    </tr>\n",
       "    <tr>\n",
       "      <th>2017-09-11</th>\n",
       "      <td>3376.4188</td>\n",
       "      <td>3384.8100</td>\n",
       "      <td>3360.0462</td>\n",
       "      <td>3365.3506</td>\n",
       "      <td>11.1762</td>\n",
       "      <td>0.3321</td>\n",
       "      <td>219011019</td>\n",
       "      <td>256888810547</td>\n",
       "    </tr>\n",
       "    <tr>\n",
       "      <th>2017-09-08</th>\n",
       "      <td>3365.2426</td>\n",
       "      <td>3380.8898</td>\n",
       "      <td>3353.6876</td>\n",
       "      <td>3364.4275</td>\n",
       "      <td>-0.2548</td>\n",
       "      <td>-0.0076</td>\n",
       "      <td>198405184</td>\n",
       "      <td>235160227356</td>\n",
       "    </tr>\n",
       "  </tbody>\n",
       "</table>\n",
       "</div>"
      ],
      "text/plain": [
       "                  收盘价        最高价        最低价        开盘价      涨跌额     涨跌幅  \\\n",
       "日期                                                                        \n",
       "2017-09-14  3371.4256  3391.6435  3361.3335  3383.4700 -12.7214 -0.3759   \n",
       "2017-09-13  3384.1470  3387.1397  3366.5412  3374.7185    4.659  0.1379   \n",
       "2017-09-12  3379.4880  3391.0694  3370.8519  3381.4870   3.0692  0.0909   \n",
       "2017-09-11  3376.4188  3384.8100  3360.0462  3365.3506  11.1762  0.3321   \n",
       "2017-09-08  3365.2426  3380.8898  3353.6876  3364.4275  -0.2548 -0.0076   \n",
       "\n",
       "                  成交量           成交额  \n",
       "日期                                   \n",
       "2017-09-14  221306487  256744421274  \n",
       "2017-09-13  194550715  230733408867  \n",
       "2017-09-12  272910319  325024951982  \n",
       "2017-09-11  219011019  256888810547  \n",
       "2017-09-08  198405184  235160227356  "
      ]
     },
     "execution_count": 46,
     "metadata": {},
     "output_type": "execute_result"
    }
   ],
   "source": [
    "data.head()"
   ]
  },
  {
   "cell_type": "code",
   "execution_count": 85,
   "metadata": {},
   "outputs": [
    {
     "data": {
      "text/html": [
       "<div>\n",
       "<style scoped>\n",
       "    .dataframe tbody tr th:only-of-type {\n",
       "        vertical-align: middle;\n",
       "    }\n",
       "\n",
       "    .dataframe tbody tr th {\n",
       "        vertical-align: top;\n",
       "    }\n",
       "\n",
       "    .dataframe thead th {\n",
       "        text-align: right;\n",
       "    }\n",
       "</style>\n",
       "<table border=\"1\" class=\"dataframe\">\n",
       "  <thead>\n",
       "    <tr style=\"text-align: right;\">\n",
       "      <th></th>\n",
       "      <th>收盘价</th>\n",
       "      <th>最高价</th>\n",
       "      <th>最低价</th>\n",
       "      <th>开盘价</th>\n",
       "      <th>涨跌额</th>\n",
       "      <th>涨跌幅</th>\n",
       "      <th>成交量</th>\n",
       "      <th>成交额</th>\n",
       "    </tr>\n",
       "    <tr>\n",
       "      <th>日期</th>\n",
       "      <th></th>\n",
       "      <th></th>\n",
       "      <th></th>\n",
       "      <th></th>\n",
       "      <th></th>\n",
       "      <th></th>\n",
       "      <th></th>\n",
       "      <th></th>\n",
       "    </tr>\n",
       "  </thead>\n",
       "  <tbody>\n",
       "    <tr>\n",
       "      <th>2017-09-14</th>\n",
       "      <td>3371.4256</td>\n",
       "      <td>3391.6435</td>\n",
       "      <td>3361.3335</td>\n",
       "      <td>3383.47</td>\n",
       "      <td>-12.7214</td>\n",
       "      <td>-0.3759</td>\n",
       "      <td>221306487</td>\n",
       "      <td>256744421274</td>\n",
       "    </tr>\n",
       "  </tbody>\n",
       "</table>\n",
       "</div>"
      ],
      "text/plain": [
       "                  收盘价        最高价        最低价      开盘价      涨跌额     涨跌幅  \\\n",
       "日期                                                                      \n",
       "2017-09-14  3371.4256  3391.6435  3361.3335  3383.47 -12.7214 -0.3759   \n",
       "\n",
       "                  成交量           成交额  \n",
       "日期                                   \n",
       "2017-09-14  221306487  256744421274  "
      ]
     },
     "execution_count": 85,
     "metadata": {},
     "output_type": "execute_result"
    }
   ],
   "source": [
    "data[\"2017-09-14\"]"
   ]
  },
  {
   "cell_type": "code",
   "execution_count": 86,
   "metadata": {
    "ExecuteTime": {
     "end_time": "2020-05-16T01:31:31.977701Z",
     "start_time": "2020-05-16T01:31:31.956746Z"
    }
   },
   "outputs": [
    {
     "data": {
      "text/html": [
       "<div>\n",
       "<style scoped>\n",
       "    .dataframe tbody tr th:only-of-type {\n",
       "        vertical-align: middle;\n",
       "    }\n",
       "\n",
       "    .dataframe tbody tr th {\n",
       "        vertical-align: top;\n",
       "    }\n",
       "\n",
       "    .dataframe thead th {\n",
       "        text-align: right;\n",
       "    }\n",
       "</style>\n",
       "<table border=\"1\" class=\"dataframe\">\n",
       "  <thead>\n",
       "    <tr style=\"text-align: right;\">\n",
       "      <th></th>\n",
       "      <th>收盘价</th>\n",
       "      <th>最高价</th>\n",
       "      <th>最低价</th>\n",
       "      <th>开盘价</th>\n",
       "      <th>涨跌额</th>\n",
       "      <th>涨跌幅</th>\n",
       "      <th>成交量</th>\n",
       "      <th>成交额</th>\n",
       "    </tr>\n",
       "    <tr>\n",
       "      <th>日期</th>\n",
       "      <th></th>\n",
       "      <th></th>\n",
       "      <th></th>\n",
       "      <th></th>\n",
       "      <th></th>\n",
       "      <th></th>\n",
       "      <th></th>\n",
       "      <th></th>\n",
       "    </tr>\n",
       "  </thead>\n",
       "  <tbody>\n",
       "    <tr>\n",
       "      <th>2017-09-14</th>\n",
       "      <td>3371.4256</td>\n",
       "      <td>3391.6435</td>\n",
       "      <td>3361.3335</td>\n",
       "      <td>3383.4700</td>\n",
       "      <td>-12.7214</td>\n",
       "      <td>-0.3759</td>\n",
       "      <td>221306487</td>\n",
       "      <td>256744421274</td>\n",
       "    </tr>\n",
       "    <tr>\n",
       "      <th>2017-09-13</th>\n",
       "      <td>3384.1470</td>\n",
       "      <td>3387.1397</td>\n",
       "      <td>3366.5412</td>\n",
       "      <td>3374.7185</td>\n",
       "      <td>4.659</td>\n",
       "      <td>0.1379</td>\n",
       "      <td>194550715</td>\n",
       "      <td>230733408867</td>\n",
       "    </tr>\n",
       "    <tr>\n",
       "      <th>2017-09-12</th>\n",
       "      <td>3379.4880</td>\n",
       "      <td>3391.0694</td>\n",
       "      <td>3370.8519</td>\n",
       "      <td>3381.4870</td>\n",
       "      <td>3.0692</td>\n",
       "      <td>0.0909</td>\n",
       "      <td>272910319</td>\n",
       "      <td>325024951982</td>\n",
       "    </tr>\n",
       "    <tr>\n",
       "      <th>2017-09-11</th>\n",
       "      <td>3376.4188</td>\n",
       "      <td>3384.8100</td>\n",
       "      <td>3360.0462</td>\n",
       "      <td>3365.3506</td>\n",
       "      <td>11.1762</td>\n",
       "      <td>0.3321</td>\n",
       "      <td>219011019</td>\n",
       "      <td>256888810547</td>\n",
       "    </tr>\n",
       "  </tbody>\n",
       "</table>\n",
       "</div>"
      ],
      "text/plain": [
       "                  收盘价        最高价        最低价        开盘价      涨跌额     涨跌幅  \\\n",
       "日期                                                                        \n",
       "2017-09-14  3371.4256  3391.6435  3361.3335  3383.4700 -12.7214 -0.3759   \n",
       "2017-09-13  3384.1470  3387.1397  3366.5412  3374.7185    4.659  0.1379   \n",
       "2017-09-12  3379.4880  3391.0694  3370.8519  3381.4870   3.0692  0.0909   \n",
       "2017-09-11  3376.4188  3384.8100  3360.0462  3365.3506  11.1762  0.3321   \n",
       "\n",
       "                  成交量           成交额  \n",
       "日期                                   \n",
       "2017-09-14  221306487  256744421274  \n",
       "2017-09-13  194550715  230733408867  \n",
       "2017-09-12  272910319  325024951982  \n",
       "2017-09-11  219011019  256888810547  "
      ]
     },
     "execution_count": 86,
     "metadata": {},
     "output_type": "execute_result"
    }
   ],
   "source": [
    "data[\"2017-09-14\":\"2017-09-11\"]"
   ]
  },
  {
   "cell_type": "code",
   "execution_count": 47,
   "metadata": {
    "ExecuteTime": {
     "end_time": "2020-05-16T01:32:45.409943Z",
     "start_time": "2020-05-16T01:32:45.388001Z"
    }
   },
   "outputs": [
    {
     "data": {
      "text/html": [
       "<div>\n",
       "<style scoped>\n",
       "    .dataframe tbody tr th:only-of-type {\n",
       "        vertical-align: middle;\n",
       "    }\n",
       "\n",
       "    .dataframe tbody tr th {\n",
       "        vertical-align: top;\n",
       "    }\n",
       "\n",
       "    .dataframe thead th {\n",
       "        text-align: right;\n",
       "    }\n",
       "</style>\n",
       "<table border=\"1\" class=\"dataframe\">\n",
       "  <thead>\n",
       "    <tr style=\"text-align: right;\">\n",
       "      <th></th>\n",
       "      <th>收盘价</th>\n",
       "      <th>最高价</th>\n",
       "      <th>最低价</th>\n",
       "      <th>开盘价</th>\n",
       "      <th>涨跌额</th>\n",
       "      <th>涨跌幅</th>\n",
       "      <th>成交量</th>\n",
       "      <th>成交额</th>\n",
       "    </tr>\n",
       "    <tr>\n",
       "      <th>日期</th>\n",
       "      <th></th>\n",
       "      <th></th>\n",
       "      <th></th>\n",
       "      <th></th>\n",
       "      <th></th>\n",
       "      <th></th>\n",
       "      <th></th>\n",
       "      <th></th>\n",
       "    </tr>\n",
       "  </thead>\n",
       "  <tbody>\n",
       "    <tr>\n",
       "      <th>1990-12-19</th>\n",
       "      <td>99.98</td>\n",
       "      <td>99.98</td>\n",
       "      <td>95.79</td>\n",
       "      <td>96.05</td>\n",
       "      <td>None</td>\n",
       "      <td>None</td>\n",
       "      <td>1260</td>\n",
       "      <td>494000</td>\n",
       "    </tr>\n",
       "    <tr>\n",
       "      <th>1990-12-20</th>\n",
       "      <td>104.39</td>\n",
       "      <td>104.39</td>\n",
       "      <td>99.98</td>\n",
       "      <td>104.30</td>\n",
       "      <td>4.41</td>\n",
       "      <td>4.4109</td>\n",
       "      <td>197</td>\n",
       "      <td>84000</td>\n",
       "    </tr>\n",
       "    <tr>\n",
       "      <th>1990-12-21</th>\n",
       "      <td>109.13</td>\n",
       "      <td>109.13</td>\n",
       "      <td>103.73</td>\n",
       "      <td>109.07</td>\n",
       "      <td>4.74</td>\n",
       "      <td>4.5407</td>\n",
       "      <td>28</td>\n",
       "      <td>16000</td>\n",
       "    </tr>\n",
       "    <tr>\n",
       "      <th>1990-12-24</th>\n",
       "      <td>114.55</td>\n",
       "      <td>114.55</td>\n",
       "      <td>109.13</td>\n",
       "      <td>113.57</td>\n",
       "      <td>5.42</td>\n",
       "      <td>4.9666</td>\n",
       "      <td>32</td>\n",
       "      <td>31000</td>\n",
       "    </tr>\n",
       "    <tr>\n",
       "      <th>1990-12-25</th>\n",
       "      <td>120.25</td>\n",
       "      <td>120.25</td>\n",
       "      <td>114.55</td>\n",
       "      <td>120.09</td>\n",
       "      <td>5.7</td>\n",
       "      <td>4.976</td>\n",
       "      <td>15</td>\n",
       "      <td>6000</td>\n",
       "    </tr>\n",
       "  </tbody>\n",
       "</table>\n",
       "</div>"
      ],
      "text/plain": [
       "               收盘价     最高价     最低价     开盘价   涨跌额     涨跌幅   成交量     成交额\n",
       "日期                                                                    \n",
       "1990-12-19   99.98   99.98   95.79   96.05  None    None  1260  494000\n",
       "1990-12-20  104.39  104.39   99.98  104.30  4.41  4.4109   197   84000\n",
       "1990-12-21  109.13  109.13  103.73  109.07  4.74  4.5407    28   16000\n",
       "1990-12-24  114.55  114.55  109.13  113.57  5.42  4.9666    32   31000\n",
       "1990-12-25  120.25  120.25  114.55  120.09   5.7   4.976    15    6000"
      ]
     },
     "execution_count": 47,
     "metadata": {},
     "output_type": "execute_result"
    }
   ],
   "source": [
    "data.sort_index().head()"
   ]
  },
  {
   "cell_type": "markdown",
   "metadata": {},
   "source": [
    "## 其他方法"
   ]
  },
  {
   "cell_type": "code",
   "execution_count": 48,
   "metadata": {
    "ExecuteTime": {
     "end_time": "2020-05-16T01:40:48.615025Z",
     "start_time": "2020-05-16T01:40:48.598070Z"
    }
   },
   "outputs": [
    {
     "data": {
      "text/html": [
       "<div>\n",
       "<style scoped>\n",
       "    .dataframe tbody tr th:only-of-type {\n",
       "        vertical-align: middle;\n",
       "    }\n",
       "\n",
       "    .dataframe tbody tr th {\n",
       "        vertical-align: top;\n",
       "    }\n",
       "\n",
       "    .dataframe thead th {\n",
       "        text-align: right;\n",
       "    }\n",
       "</style>\n",
       "<table border=\"1\" class=\"dataframe\">\n",
       "  <thead>\n",
       "    <tr style=\"text-align: right;\">\n",
       "      <th></th>\n",
       "      <th>收盘价</th>\n",
       "      <th>最高价</th>\n",
       "      <th>最低价</th>\n",
       "      <th>开盘价</th>\n",
       "      <th>涨跌额</th>\n",
       "      <th>涨跌幅</th>\n",
       "      <th>成交量</th>\n",
       "      <th>成交额</th>\n",
       "    </tr>\n",
       "    <tr>\n",
       "      <th>日期</th>\n",
       "      <th></th>\n",
       "      <th></th>\n",
       "      <th></th>\n",
       "      <th></th>\n",
       "      <th></th>\n",
       "      <th></th>\n",
       "      <th></th>\n",
       "      <th></th>\n",
       "    </tr>\n",
       "  </thead>\n",
       "  <tbody>\n",
       "    <tr>\n",
       "      <th>2017-09-14</th>\n",
       "      <td>3371.4256</td>\n",
       "      <td>3391.6435</td>\n",
       "      <td>3361.3335</td>\n",
       "      <td>3383.4700</td>\n",
       "      <td>-12.7214</td>\n",
       "      <td>-0.3759</td>\n",
       "      <td>221306487</td>\n",
       "      <td>256744421274</td>\n",
       "    </tr>\n",
       "    <tr>\n",
       "      <th>2017-09-13</th>\n",
       "      <td>3384.1470</td>\n",
       "      <td>3387.1397</td>\n",
       "      <td>3366.5412</td>\n",
       "      <td>3374.7185</td>\n",
       "      <td>4.659</td>\n",
       "      <td>0.1379</td>\n",
       "      <td>194550715</td>\n",
       "      <td>230733408867</td>\n",
       "    </tr>\n",
       "    <tr>\n",
       "      <th>2017-09-12</th>\n",
       "      <td>3379.4880</td>\n",
       "      <td>3391.0694</td>\n",
       "      <td>3370.8519</td>\n",
       "      <td>3381.4870</td>\n",
       "      <td>3.0692</td>\n",
       "      <td>0.0909</td>\n",
       "      <td>272910319</td>\n",
       "      <td>325024951982</td>\n",
       "    </tr>\n",
       "    <tr>\n",
       "      <th>2017-09-11</th>\n",
       "      <td>3376.4188</td>\n",
       "      <td>3384.8100</td>\n",
       "      <td>3360.0462</td>\n",
       "      <td>3365.3506</td>\n",
       "      <td>11.1762</td>\n",
       "      <td>0.3321</td>\n",
       "      <td>219011019</td>\n",
       "      <td>256888810547</td>\n",
       "    </tr>\n",
       "    <tr>\n",
       "      <th>2017-09-08</th>\n",
       "      <td>3365.2426</td>\n",
       "      <td>3380.8898</td>\n",
       "      <td>3353.6876</td>\n",
       "      <td>3364.4275</td>\n",
       "      <td>-0.2548</td>\n",
       "      <td>-0.0076</td>\n",
       "      <td>198405184</td>\n",
       "      <td>235160227356</td>\n",
       "    </tr>\n",
       "  </tbody>\n",
       "</table>\n",
       "</div>"
      ],
      "text/plain": [
       "                  收盘价        最高价        最低价        开盘价      涨跌额     涨跌幅  \\\n",
       "日期                                                                        \n",
       "2017-09-14  3371.4256  3391.6435  3361.3335  3383.4700 -12.7214 -0.3759   \n",
       "2017-09-13  3384.1470  3387.1397  3366.5412  3374.7185    4.659  0.1379   \n",
       "2017-09-12  3379.4880  3391.0694  3370.8519  3381.4870   3.0692  0.0909   \n",
       "2017-09-11  3376.4188  3384.8100  3360.0462  3365.3506  11.1762  0.3321   \n",
       "2017-09-08  3365.2426  3380.8898  3353.6876  3364.4275  -0.2548 -0.0076   \n",
       "\n",
       "                  成交量           成交额  \n",
       "日期                                   \n",
       "2017-09-14  221306487  256744421274  \n",
       "2017-09-13  194550715  230733408867  \n",
       "2017-09-12  272910319  325024951982  \n",
       "2017-09-11  219011019  256888810547  \n",
       "2017-09-08  198405184  235160227356  "
      ]
     },
     "execution_count": 48,
     "metadata": {},
     "output_type": "execute_result"
    }
   ],
   "source": [
    "data.head()"
   ]
  },
  {
   "cell_type": "code",
   "execution_count": 49,
   "metadata": {},
   "outputs": [
    {
     "data": {
      "text/plain": [
       "Int64Index([3, 2, 1, 0, 4, 3, 2, 1, 0, 4,\n",
       "            ...\n",
       "            2, 0, 4, 3, 2, 1, 0, 4, 3, 2],\n",
       "           dtype='int64', name='日期', length=6542)"
      ]
     },
     "execution_count": 49,
     "metadata": {},
     "output_type": "execute_result"
    }
   ],
   "source": [
    "data.index.dayofweek #星期1是第0天"
   ]
  },
  {
   "cell_type": "code",
   "execution_count": 61,
   "metadata": {},
   "outputs": [
    {
     "data": {
      "text/plain": [
       "Int64Index([257, 256, 255, 254, 251, 250, 249, 248, 247, 244,\n",
       "            ...\n",
       "              2, 365, 362, 361, 360, 359, 358, 355, 354, 353],\n",
       "           dtype='int64', name='日期', length=6542)"
      ]
     },
     "execution_count": 61,
     "metadata": {},
     "output_type": "execute_result"
    }
   ],
   "source": [
    "data.index.dayofyear"
   ]
  },
  {
   "cell_type": "code",
   "execution_count": 54,
   "metadata": {},
   "outputs": [
    {
     "data": {
      "text/plain": [
       "Int64Index([37, 37, 37, 37, 36, 36, 36, 36, 36, 35,\n",
       "            ...\n",
       "             1,  1, 52, 52, 52, 52, 52, 51, 51, 51],\n",
       "           dtype='int64', name='日期', length=6542)"
      ]
     },
     "execution_count": 54,
     "metadata": {},
     "output_type": "execute_result"
    }
   ],
   "source": [
    "data.index.weekofyear"
   ]
  },
  {
   "cell_type": "code",
   "execution_count": 55,
   "metadata": {},
   "outputs": [
    {
     "data": {
      "text/plain": [
       "array([False, False, False, ..., False, False, False])"
      ]
     },
     "execution_count": 55,
     "metadata": {},
     "output_type": "execute_result"
    }
   ],
   "source": [
    "data.index.is_month_start"
   ]
  },
  {
   "cell_type": "markdown",
   "metadata": {},
   "source": [
    "我们可以通过 Timestamp 或 DateTimeIndex 访问一些时间/日期的属性。\n",
    "\n",
    "这里列举一些常见的，想要查看所有的属性见官方链接：\n",
    "\n",
    "Time/Date Components (http://pandas.pydata.org/pandas-docs/stable/timeseries.html#time-date-components)"
   ]
  },
  {
   "cell_type": "code",
   "execution_count": 56,
   "metadata": {},
   "outputs": [
    {
     "data": {
      "text/plain": [
       "array([False, False, False, ..., False, False, False])"
      ]
     },
     "execution_count": 56,
     "metadata": {},
     "output_type": "execute_result"
    }
   ],
   "source": [
    "data.index.is_month_end"
   ]
  },
  {
   "cell_type": "markdown",
   "metadata": {},
   "source": [
    "DateOffset 从名称中就可以看出来是要做日期偏移的，它的参数与 dateutil.relativedelta 基本相同，工作方式如下"
   ]
  },
  {
   "cell_type": "code",
   "execution_count": 50,
   "metadata": {},
   "outputs": [
    {
     "data": {
      "text/plain": [
       "DatetimeIndex(['2018-09-14', '2018-09-13', '2018-09-12', '2018-09-11',\n",
       "               '2018-09-08', '2018-09-07', '2018-09-06', '2018-09-05',\n",
       "               '2018-09-04', '2018-09-01',\n",
       "               ...\n",
       "               '1992-01-02', '1991-12-31', '1991-12-28', '1991-12-27',\n",
       "               '1991-12-26', '1991-12-25', '1991-12-24', '1991-12-21',\n",
       "               '1991-12-20', '1991-12-19'],\n",
       "              dtype='datetime64[ns]', name='日期', length=6542, freq=None)"
      ]
     },
     "execution_count": 50,
     "metadata": {},
     "output_type": "execute_result"
    }
   ],
   "source": [
    "data.index+pd.DateOffset(years=1,months=0, days=0)"
   ]
  },
  {
   "cell_type": "code",
   "execution_count": null,
   "metadata": {},
   "outputs": [],
   "source": []
  },
  {
   "cell_type": "markdown",
   "metadata": {},
   "source": [
    "# 与时间序列相关的方法"
   ]
  },
  {
   "cell_type": "markdown",
   "metadata": {},
   "source": [
    "在做时间序列相关的工作时，经常要对时间做一些移动/滞后、频率转换、采样等相关操作，我们来看下这些操作如何使用吧。"
   ]
  },
  {
   "cell_type": "markdown",
   "metadata": {},
   "source": [
    "## 移动df.shift()"
   ]
  },
  {
   "cell_type": "markdown",
   "metadata": {},
   "source": [
    "如果你想移动或滞后时间序列，你可以使用 shift 方法。"
   ]
  },
  {
   "cell_type": "code",
   "execution_count": 51,
   "metadata": {
    "ExecuteTime": {
     "end_time": "2020-05-16T01:41:38.077918Z",
     "start_time": "2020-05-16T01:41:38.065947Z"
    }
   },
   "outputs": [
    {
     "data": {
      "text/plain": [
       "2018-06-24     吃饭\n",
       "2018-07-01     睡觉\n",
       "2018-07-08    上厕所\n",
       "2018-07-15    打豆豆\n",
       "Freq: W-SUN, dtype: object"
      ]
     },
     "execution_count": 51,
     "metadata": {},
     "output_type": "execute_result"
    }
   ],
   "source": [
    "index = pd.date_range(\"2018-6-24\", periods=4, freq=\"W\")\n",
    "ts = pd.Series(['吃饭', '睡觉', '上厕所', '打豆豆'], index=index)\n",
    "ts"
   ]
  },
  {
   "cell_type": "code",
   "execution_count": 60,
   "metadata": {
    "ExecuteTime": {
     "end_time": "2020-05-16T01:42:11.174142Z",
     "start_time": "2020-05-16T01:42:11.166201Z"
    }
   },
   "outputs": [
    {
     "data": {
      "text/plain": [
       "2018-06-24    NaN\n",
       "2018-07-01    NaN\n",
       "2018-07-08     吃饭\n",
       "2018-07-15     睡觉\n",
       "Freq: W-SUN, dtype: object"
      ]
     },
     "execution_count": 60,
     "metadata": {},
     "output_type": "execute_result"
    }
   ],
   "source": [
    "ts.shift(2)       #将数据往下移两位"
   ]
  },
  {
   "cell_type": "code",
   "execution_count": 63,
   "metadata": {},
   "outputs": [
    {
     "data": {
      "text/plain": [
       "2018-06-24    上厕所\n",
       "2018-07-01    打豆豆\n",
       "2018-07-08    NaN\n",
       "2018-07-15    NaN\n",
       "Freq: W-SUN, dtype: object"
      ]
     },
     "execution_count": 63,
     "metadata": {},
     "output_type": "execute_result"
    }
   ],
   "source": [
    "ts.shift(-2)     #将数据往上移两位"
   ]
  },
  {
   "cell_type": "markdown",
   "metadata": {},
   "source": [
    "可以看到，Series 所有的值都移动了 2 个距离。\n",
    "\n",
    "如果不想移动值，而是移动日期索引，可以使用 freq 参数，它可以接受一个 DateOffset 类或其他timedelta 类对象或一个 offset 别名。\n",
    "\n",
    "所有别名详细介绍见：Offset Aliases (http://pandas.pydata.org/pandas-docs/stable/timeseries.html#offset-aliases)"
   ]
  },
  {
   "cell_type": "code",
   "execution_count": 52,
   "metadata": {},
   "outputs": [
    {
     "data": {
      "text/plain": [
       "2018-06-24     吃饭\n",
       "2018-07-01     睡觉\n",
       "2018-07-08    上厕所\n",
       "2018-07-15    打豆豆\n",
       "Freq: W-SUN, dtype: object"
      ]
     },
     "execution_count": 52,
     "metadata": {},
     "output_type": "execute_result"
    }
   ],
   "source": [
    "ts"
   ]
  },
  {
   "cell_type": "code",
   "execution_count": 53,
   "metadata": {},
   "outputs": [
    {
     "data": {
      "text/plain": [
       "2018-06-26     吃饭\n",
       "2018-07-03     睡觉\n",
       "2018-07-10    上厕所\n",
       "2018-07-17    打豆豆\n",
       "Freq: W-TUE, dtype: object"
      ]
     },
     "execution_count": 53,
     "metadata": {},
     "output_type": "execute_result"
    }
   ],
   "source": [
    "ts.shift(2, freq='D')  "
   ]
  },
  {
   "cell_type": "markdown",
   "metadata": {},
   "source": [
    "## 频率转换df.asfreq()"
   ]
  },
  {
   "cell_type": "markdown",
   "metadata": {},
   "source": [
    "频率转换可以使用 asfreq 函数来实现。下面演示了将频率由周转为了天"
   ]
  },
  {
   "cell_type": "code",
   "execution_count": 54,
   "metadata": {},
   "outputs": [
    {
     "data": {
      "text/html": [
       "<div>\n",
       "<style scoped>\n",
       "    .dataframe tbody tr th:only-of-type {\n",
       "        vertical-align: middle;\n",
       "    }\n",
       "\n",
       "    .dataframe tbody tr th {\n",
       "        vertical-align: top;\n",
       "    }\n",
       "\n",
       "    .dataframe thead th {\n",
       "        text-align: right;\n",
       "    }\n",
       "</style>\n",
       "<table border=\"1\" class=\"dataframe\">\n",
       "  <thead>\n",
       "    <tr style=\"text-align: right;\">\n",
       "      <th></th>\n",
       "      <th>收盘价</th>\n",
       "      <th>最高价</th>\n",
       "      <th>最低价</th>\n",
       "      <th>开盘价</th>\n",
       "      <th>涨跌额</th>\n",
       "      <th>涨跌幅</th>\n",
       "      <th>成交量</th>\n",
       "      <th>成交额</th>\n",
       "    </tr>\n",
       "    <tr>\n",
       "      <th>日期</th>\n",
       "      <th></th>\n",
       "      <th></th>\n",
       "      <th></th>\n",
       "      <th></th>\n",
       "      <th></th>\n",
       "      <th></th>\n",
       "      <th></th>\n",
       "      <th></th>\n",
       "    </tr>\n",
       "  </thead>\n",
       "  <tbody>\n",
       "    <tr>\n",
       "      <th>2017-09-14</th>\n",
       "      <td>3371.4256</td>\n",
       "      <td>3391.6435</td>\n",
       "      <td>3361.3335</td>\n",
       "      <td>3383.4700</td>\n",
       "      <td>-12.7214</td>\n",
       "      <td>-0.3759</td>\n",
       "      <td>221306487</td>\n",
       "      <td>256744421274</td>\n",
       "    </tr>\n",
       "    <tr>\n",
       "      <th>2017-09-13</th>\n",
       "      <td>3384.1470</td>\n",
       "      <td>3387.1397</td>\n",
       "      <td>3366.5412</td>\n",
       "      <td>3374.7185</td>\n",
       "      <td>4.659</td>\n",
       "      <td>0.1379</td>\n",
       "      <td>194550715</td>\n",
       "      <td>230733408867</td>\n",
       "    </tr>\n",
       "    <tr>\n",
       "      <th>2017-09-12</th>\n",
       "      <td>3379.4880</td>\n",
       "      <td>3391.0694</td>\n",
       "      <td>3370.8519</td>\n",
       "      <td>3381.4870</td>\n",
       "      <td>3.0692</td>\n",
       "      <td>0.0909</td>\n",
       "      <td>272910319</td>\n",
       "      <td>325024951982</td>\n",
       "    </tr>\n",
       "    <tr>\n",
       "      <th>2017-09-11</th>\n",
       "      <td>3376.4188</td>\n",
       "      <td>3384.8100</td>\n",
       "      <td>3360.0462</td>\n",
       "      <td>3365.3506</td>\n",
       "      <td>11.1762</td>\n",
       "      <td>0.3321</td>\n",
       "      <td>219011019</td>\n",
       "      <td>256888810547</td>\n",
       "    </tr>\n",
       "    <tr>\n",
       "      <th>2017-09-08</th>\n",
       "      <td>3365.2426</td>\n",
       "      <td>3380.8898</td>\n",
       "      <td>3353.6876</td>\n",
       "      <td>3364.4275</td>\n",
       "      <td>-0.2548</td>\n",
       "      <td>-0.0076</td>\n",
       "      <td>198405184</td>\n",
       "      <td>235160227356</td>\n",
       "    </tr>\n",
       "  </tbody>\n",
       "</table>\n",
       "</div>"
      ],
      "text/plain": [
       "                  收盘价        最高价        最低价        开盘价      涨跌额     涨跌幅  \\\n",
       "日期                                                                        \n",
       "2017-09-14  3371.4256  3391.6435  3361.3335  3383.4700 -12.7214 -0.3759   \n",
       "2017-09-13  3384.1470  3387.1397  3366.5412  3374.7185    4.659  0.1379   \n",
       "2017-09-12  3379.4880  3391.0694  3370.8519  3381.4870   3.0692  0.0909   \n",
       "2017-09-11  3376.4188  3384.8100  3360.0462  3365.3506  11.1762  0.3321   \n",
       "2017-09-08  3365.2426  3380.8898  3353.6876  3364.4275  -0.2548 -0.0076   \n",
       "\n",
       "                  成交量           成交额  \n",
       "日期                                   \n",
       "2017-09-14  221306487  256744421274  \n",
       "2017-09-13  194550715  230733408867  \n",
       "2017-09-12  272910319  325024951982  \n",
       "2017-09-11  219011019  256888810547  \n",
       "2017-09-08  198405184  235160227356  "
      ]
     },
     "execution_count": 54,
     "metadata": {},
     "output_type": "execute_result"
    }
   ],
   "source": [
    "data.head()"
   ]
  },
  {
   "cell_type": "code",
   "execution_count": 55,
   "metadata": {
    "ExecuteTime": {
     "end_time": "2020-05-16T01:43:21.318898Z",
     "start_time": "2020-05-16T01:43:21.300946Z"
    },
    "scrolled": true
   },
   "outputs": [
    {
     "data": {
      "text/html": [
       "<div>\n",
       "<style scoped>\n",
       "    .dataframe tbody tr th:only-of-type {\n",
       "        vertical-align: middle;\n",
       "    }\n",
       "\n",
       "    .dataframe tbody tr th {\n",
       "        vertical-align: top;\n",
       "    }\n",
       "\n",
       "    .dataframe thead th {\n",
       "        text-align: right;\n",
       "    }\n",
       "</style>\n",
       "<table border=\"1\" class=\"dataframe\">\n",
       "  <thead>\n",
       "    <tr style=\"text-align: right;\">\n",
       "      <th></th>\n",
       "      <th>收盘价</th>\n",
       "      <th>最高价</th>\n",
       "      <th>最低价</th>\n",
       "      <th>开盘价</th>\n",
       "      <th>涨跌额</th>\n",
       "      <th>涨跌幅</th>\n",
       "      <th>成交量</th>\n",
       "      <th>成交额</th>\n",
       "    </tr>\n",
       "    <tr>\n",
       "      <th>日期</th>\n",
       "      <th></th>\n",
       "      <th></th>\n",
       "      <th></th>\n",
       "      <th></th>\n",
       "      <th></th>\n",
       "      <th></th>\n",
       "      <th></th>\n",
       "      <th></th>\n",
       "    </tr>\n",
       "  </thead>\n",
       "  <tbody>\n",
       "    <tr>\n",
       "      <th>1990-12-19</th>\n",
       "      <td>99.98</td>\n",
       "      <td>99.98</td>\n",
       "      <td>95.79</td>\n",
       "      <td>96.05</td>\n",
       "      <td>None</td>\n",
       "      <td>None</td>\n",
       "      <td>1260</td>\n",
       "      <td>494000</td>\n",
       "    </tr>\n",
       "    <tr>\n",
       "      <th>1990-12-20</th>\n",
       "      <td>104.39</td>\n",
       "      <td>104.39</td>\n",
       "      <td>99.98</td>\n",
       "      <td>104.30</td>\n",
       "      <td>4.41</td>\n",
       "      <td>4.4109</td>\n",
       "      <td>197</td>\n",
       "      <td>84000</td>\n",
       "    </tr>\n",
       "    <tr>\n",
       "      <th>1990-12-21</th>\n",
       "      <td>109.13</td>\n",
       "      <td>109.13</td>\n",
       "      <td>103.73</td>\n",
       "      <td>109.07</td>\n",
       "      <td>4.74</td>\n",
       "      <td>4.5407</td>\n",
       "      <td>28</td>\n",
       "      <td>16000</td>\n",
       "    </tr>\n",
       "    <tr>\n",
       "      <th>1990-12-24</th>\n",
       "      <td>114.55</td>\n",
       "      <td>114.55</td>\n",
       "      <td>109.13</td>\n",
       "      <td>113.57</td>\n",
       "      <td>5.42</td>\n",
       "      <td>4.9666</td>\n",
       "      <td>32</td>\n",
       "      <td>31000</td>\n",
       "    </tr>\n",
       "    <tr>\n",
       "      <th>1990-12-25</th>\n",
       "      <td>120.25</td>\n",
       "      <td>120.25</td>\n",
       "      <td>114.55</td>\n",
       "      <td>120.09</td>\n",
       "      <td>5.7</td>\n",
       "      <td>4.976</td>\n",
       "      <td>15</td>\n",
       "      <td>6000</td>\n",
       "    </tr>\n",
       "  </tbody>\n",
       "</table>\n",
       "</div>"
      ],
      "text/plain": [
       "               收盘价     最高价     最低价     开盘价   涨跌额     涨跌幅   成交量     成交额\n",
       "日期                                                                    \n",
       "1990-12-19   99.98   99.98   95.79   96.05  None    None  1260  494000\n",
       "1990-12-20  104.39  104.39   99.98  104.30  4.41  4.4109   197   84000\n",
       "1990-12-21  109.13  109.13  103.73  109.07  4.74  4.5407    28   16000\n",
       "1990-12-24  114.55  114.55  109.13  113.57  5.42  4.9666    32   31000\n",
       "1990-12-25  120.25  120.25  114.55  120.09   5.7   4.976    15    6000"
      ]
     },
     "execution_count": 55,
     "metadata": {},
     "output_type": "execute_result"
    }
   ],
   "source": [
    "data=data.sort_index()\n",
    "data.head()"
   ]
  },
  {
   "cell_type": "code",
   "execution_count": 56,
   "metadata": {
    "ExecuteTime": {
     "end_time": "2020-05-16T01:45:59.471071Z",
     "start_time": "2020-05-16T01:45:59.445134Z"
    }
   },
   "outputs": [
    {
     "data": {
      "text/html": [
       "<div>\n",
       "<style scoped>\n",
       "    .dataframe tbody tr th:only-of-type {\n",
       "        vertical-align: middle;\n",
       "    }\n",
       "\n",
       "    .dataframe tbody tr th {\n",
       "        vertical-align: top;\n",
       "    }\n",
       "\n",
       "    .dataframe thead th {\n",
       "        text-align: right;\n",
       "    }\n",
       "</style>\n",
       "<table border=\"1\" class=\"dataframe\">\n",
       "  <thead>\n",
       "    <tr style=\"text-align: right;\">\n",
       "      <th></th>\n",
       "      <th>收盘价</th>\n",
       "      <th>最高价</th>\n",
       "      <th>最低价</th>\n",
       "      <th>开盘价</th>\n",
       "      <th>涨跌额</th>\n",
       "      <th>涨跌幅</th>\n",
       "      <th>成交量</th>\n",
       "      <th>成交额</th>\n",
       "    </tr>\n",
       "    <tr>\n",
       "      <th>日期</th>\n",
       "      <th></th>\n",
       "      <th></th>\n",
       "      <th></th>\n",
       "      <th></th>\n",
       "      <th></th>\n",
       "      <th></th>\n",
       "      <th></th>\n",
       "      <th></th>\n",
       "    </tr>\n",
       "  </thead>\n",
       "  <tbody>\n",
       "    <tr>\n",
       "      <th>1990-12-19</th>\n",
       "      <td>99.9800</td>\n",
       "      <td>99.9800</td>\n",
       "      <td>95.7900</td>\n",
       "      <td>96.0500</td>\n",
       "      <td>None</td>\n",
       "      <td>None</td>\n",
       "      <td>1260.0</td>\n",
       "      <td>494000</td>\n",
       "    </tr>\n",
       "    <tr>\n",
       "      <th>1990-12-21</th>\n",
       "      <td>109.1300</td>\n",
       "      <td>109.1300</td>\n",
       "      <td>103.7300</td>\n",
       "      <td>109.0700</td>\n",
       "      <td>4.74</td>\n",
       "      <td>4.5407</td>\n",
       "      <td>28.0</td>\n",
       "      <td>16000</td>\n",
       "    </tr>\n",
       "    <tr>\n",
       "      <th>1990-12-23</th>\n",
       "      <td>NaN</td>\n",
       "      <td>NaN</td>\n",
       "      <td>NaN</td>\n",
       "      <td>NaN</td>\n",
       "      <td>NaN</td>\n",
       "      <td>NaN</td>\n",
       "      <td>NaN</td>\n",
       "      <td>NaN</td>\n",
       "    </tr>\n",
       "    <tr>\n",
       "      <th>1990-12-25</th>\n",
       "      <td>120.2500</td>\n",
       "      <td>120.2500</td>\n",
       "      <td>114.5500</td>\n",
       "      <td>120.0900</td>\n",
       "      <td>5.7</td>\n",
       "      <td>4.976</td>\n",
       "      <td>15.0</td>\n",
       "      <td>6000</td>\n",
       "    </tr>\n",
       "    <tr>\n",
       "      <th>1990-12-27</th>\n",
       "      <td>125.2800</td>\n",
       "      <td>125.2800</td>\n",
       "      <td>125.2700</td>\n",
       "      <td>125.2700</td>\n",
       "      <td>0.01</td>\n",
       "      <td>0.008</td>\n",
       "      <td>66.0</td>\n",
       "      <td>104000</td>\n",
       "    </tr>\n",
       "    <tr>\n",
       "      <th>...</th>\n",
       "      <td>...</td>\n",
       "      <td>...</td>\n",
       "      <td>...</td>\n",
       "      <td>...</td>\n",
       "      <td>...</td>\n",
       "      <td>...</td>\n",
       "      <td>...</td>\n",
       "      <td>...</td>\n",
       "    </tr>\n",
       "    <tr>\n",
       "      <th>2017-09-06</th>\n",
       "      <td>3385.3888</td>\n",
       "      <td>3391.0105</td>\n",
       "      <td>3364.7645</td>\n",
       "      <td>3372.4277</td>\n",
       "      <td>1.0718</td>\n",
       "      <td>0.0317</td>\n",
       "      <td>229090785.0</td>\n",
       "      <td>262034653491</td>\n",
       "    </tr>\n",
       "    <tr>\n",
       "      <th>2017-09-08</th>\n",
       "      <td>3365.2426</td>\n",
       "      <td>3380.8898</td>\n",
       "      <td>3353.6876</td>\n",
       "      <td>3364.4275</td>\n",
       "      <td>-0.2548</td>\n",
       "      <td>-0.0076</td>\n",
       "      <td>198405184.0</td>\n",
       "      <td>235160227356</td>\n",
       "    </tr>\n",
       "    <tr>\n",
       "      <th>2017-09-10</th>\n",
       "      <td>NaN</td>\n",
       "      <td>NaN</td>\n",
       "      <td>NaN</td>\n",
       "      <td>NaN</td>\n",
       "      <td>NaN</td>\n",
       "      <td>NaN</td>\n",
       "      <td>NaN</td>\n",
       "      <td>NaN</td>\n",
       "    </tr>\n",
       "    <tr>\n",
       "      <th>2017-09-12</th>\n",
       "      <td>3379.4880</td>\n",
       "      <td>3391.0694</td>\n",
       "      <td>3370.8519</td>\n",
       "      <td>3381.4870</td>\n",
       "      <td>3.0692</td>\n",
       "      <td>0.0909</td>\n",
       "      <td>272910319.0</td>\n",
       "      <td>325024951982</td>\n",
       "    </tr>\n",
       "    <tr>\n",
       "      <th>2017-09-14</th>\n",
       "      <td>3371.4256</td>\n",
       "      <td>3391.6435</td>\n",
       "      <td>3361.3335</td>\n",
       "      <td>3383.4700</td>\n",
       "      <td>-12.7214</td>\n",
       "      <td>-0.3759</td>\n",
       "      <td>221306487.0</td>\n",
       "      <td>256744421274</td>\n",
       "    </tr>\n",
       "  </tbody>\n",
       "</table>\n",
       "<p>4884 rows × 8 columns</p>\n",
       "</div>"
      ],
      "text/plain": [
       "                  收盘价        最高价        最低价        开盘价      涨跌额     涨跌幅  \\\n",
       "日期                                                                        \n",
       "1990-12-19    99.9800    99.9800    95.7900    96.0500     None    None   \n",
       "1990-12-21   109.1300   109.1300   103.7300   109.0700     4.74  4.5407   \n",
       "1990-12-23        NaN        NaN        NaN        NaN      NaN     NaN   \n",
       "1990-12-25   120.2500   120.2500   114.5500   120.0900      5.7   4.976   \n",
       "1990-12-27   125.2800   125.2800   125.2700   125.2700     0.01   0.008   \n",
       "...               ...        ...        ...        ...      ...     ...   \n",
       "2017-09-06  3385.3888  3391.0105  3364.7645  3372.4277   1.0718  0.0317   \n",
       "2017-09-08  3365.2426  3380.8898  3353.6876  3364.4275  -0.2548 -0.0076   \n",
       "2017-09-10        NaN        NaN        NaN        NaN      NaN     NaN   \n",
       "2017-09-12  3379.4880  3391.0694  3370.8519  3381.4870   3.0692  0.0909   \n",
       "2017-09-14  3371.4256  3391.6435  3361.3335  3383.4700 -12.7214 -0.3759   \n",
       "\n",
       "                    成交量           成交额  \n",
       "日期                                     \n",
       "1990-12-19       1260.0        494000  \n",
       "1990-12-21         28.0         16000  \n",
       "1990-12-23          NaN           NaN  \n",
       "1990-12-25         15.0          6000  \n",
       "1990-12-27         66.0        104000  \n",
       "...                 ...           ...  \n",
       "2017-09-06  229090785.0  262034653491  \n",
       "2017-09-08  198405184.0  235160227356  \n",
       "2017-09-10          NaN           NaN  \n",
       "2017-09-12  272910319.0  325024951982  \n",
       "2017-09-14  221306487.0  256744421274  \n",
       "\n",
       "[4884 rows x 8 columns]"
      ]
     },
     "execution_count": 56,
     "metadata": {},
     "output_type": "execute_result"
    }
   ],
   "source": [
    "data.asfreq(freq='2D')"
   ]
  },
  {
   "cell_type": "code",
   "execution_count": null,
   "metadata": {},
   "outputs": [],
   "source": []
  }
 ],
 "metadata": {
  "kernelspec": {
   "display_name": "Python 3",
   "language": "python",
   "name": "python3"
  },
  "language_info": {
   "codemirror_mode": {
    "name": "ipython",
    "version": 3
   },
   "file_extension": ".py",
   "mimetype": "text/x-python",
   "name": "python",
   "nbconvert_exporter": "python",
   "pygments_lexer": "ipython3",
   "version": "3.7.3"
  },
  "toc": {
   "base_numbering": 1,
   "nav_menu": {},
   "number_sections": true,
   "sideBar": true,
   "skip_h1_title": false,
   "title_cell": "Table of Contents",
   "title_sidebar": "Contents",
   "toc_cell": false,
   "toc_position": {
    "height": "calc(100% - 180px)",
    "left": "10px",
    "top": "150px",
    "width": "229.574px"
   },
   "toc_section_display": true,
   "toc_window_display": true
  }
 },
 "nbformat": 4,
 "nbformat_minor": 2
}
