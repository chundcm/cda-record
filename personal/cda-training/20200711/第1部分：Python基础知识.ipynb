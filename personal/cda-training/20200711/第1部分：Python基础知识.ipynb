{
 "cells": [
  {
   "cell_type": "markdown",
   "metadata": {},
   "source": [
    " # <center>第1部分：Python基础知识"
   ]
  },
  {
   "cell_type": "markdown",
   "metadata": {},
   "source": [
    "- **Created By:菊安酱**\n",
    "- **Date：2020.07.10**"
   ]
  },
  {
   "cell_type": "markdown",
   "metadata": {},
   "source": [
    "<div STYLE=\"page-break-after: always;\"></div>"
   ]
  },
  {
   "cell_type": "markdown",
   "metadata": {},
   "source": [
    "# 前言"
   ]
  },
  {
   "cell_type": "markdown",
   "metadata": {},
   "source": [
    "## Jupyter Lab 说明"
   ]
  },
  {
   "cell_type": "markdown",
   "metadata": {},
   "source": [
    "关于 Jupyter 课件的一些说明：\n",
    "1. 为了达到更好的教学效果教学代码部分使用 Jupyter Lab 进行教学，其中的代码均通过测试。\n",
    "2. 课件中的代码请运行后查看结果进行对比。\n",
    "3. 在运行代码时请各位学员尽量保证能够理解运行的代码的含义，不要只看结果。\n",
    "4. Jupyter Lab 中代码单元格的内容均可以在其他地方的 Python 中运行。\n",
    "5. 本课件在 Python 3.7 环境中测试。"
   ]
  },
  {
   "cell_type": "markdown",
   "metadata": {},
   "source": [
    "Jupyter Lab 单元格分为三种模式，分别为：\n",
    "1. 代码模式：Code\n",
    "2. MarkDown 文本模式：MarkDown\n",
    "3. 纯文本模式：Raw"
   ]
  },
  {
   "cell_type": "markdown",
   "metadata": {},
   "source": [
    "Jupyter Lab 控制分为两种模式，分别为：\n",
    "- 编辑模式\n",
    "- 命令模式   \n",
    "\n",
    "在命令模式下有一些快捷键可以提高我们的效率，课上使用到会具体讲解。"
   ]
  },
  {
   "cell_type": "markdown",
   "metadata": {},
   "source": [
    "## 如何学习"
   ]
  },
  {
   "cell_type": "markdown",
   "metadata": {},
   "source": [
    "    学习一个新知识之前，先全局的了解知识体系。    \n",
    "    对整体框架有一定的把握之后，咱们接下来需要：\n",
    "        - 认真听课\n",
    "        - 多敲代码\n",
    "        - 多思考多问\n",
    "        - 及时复习"
   ]
  },
  {
   "cell_type": "markdown",
   "metadata": {},
   "source": [
    "# Python基础知识"
   ]
  },
  {
   "cell_type": "markdown",
   "metadata": {},
   "source": [
    "<img width = '500' src ='https://pictes.oss-cn-beijing.aliyuncs.com/%E8%8F%8A%E5%AE%89%E9%85%B1/Python%E5%9F%BA%E7%A1%80/Python%E5%9F%BA%E7%A1%80%E7%9F%A5%E8%AF%86.png'>"
   ]
  },
  {
   "cell_type": "markdown",
   "metadata": {},
   "source": [
    "## 从hello world开始    \n",
    "\n",
    "**尝试敲下面的代码，并观察输出结果：**\n",
    "\n",
    "**注意：**   \n",
    "\n",
    "- 所有的符号都需要是英文符号，中文符号会报错    \n",
    "- 在单元格内输入完代码之后，用快捷键——ctrl+enter，就可以运行本单元格内的代码，且运行结束后停留在本单元格   \n",
    "- 如果是按shift+enter，运行完当前单元格代码之后，会自动进入下一个单元格   "
   ]
  },
  {
   "cell_type": "markdown",
   "metadata": {},
   "source": [
    " **代码一：**        print(\"hello world\")"
   ]
  },
  {
   "cell_type": "code",
   "execution_count": 9,
   "metadata": {},
   "outputs": [
    {
     "name": "stdout",
     "output_type": "stream",
     "text": [
      "hello world\n"
     ]
    }
   ],
   "source": [
    "print(\"hello world\")"
   ]
  },
  {
   "cell_type": "markdown",
   "metadata": {},
   "source": [
    "  **代码二：**    \n",
    "    a = 5   \n",
    "    print(a)"
   ]
  },
  {
   "cell_type": "code",
   "execution_count": 8,
   "metadata": {},
   "outputs": [
    {
     "name": "stdout",
     "output_type": "stream",
     "text": [
      "5\n"
     ]
    }
   ],
   "source": [
    "a = 5\n",
    "print(a)"
   ]
  },
  {
   "cell_type": "markdown",
   "metadata": {},
   "source": [
    "**代码三：**    print('a=5')"
   ]
  },
  {
   "cell_type": "code",
   "execution_count": 10,
   "metadata": {},
   "outputs": [
    {
     "name": "stdout",
     "output_type": "stream",
     "text": [
      "a=5\n"
     ]
    }
   ],
   "source": [
    "print('a=5')"
   ]
  },
  {
   "cell_type": "markdown",
   "metadata": {},
   "source": [
    "**代码四：**\n",
    "\n",
    "    print(\"cda\")   \n",
    "    print('python')  "
   ]
  },
  {
   "cell_type": "code",
   "execution_count": 5,
   "metadata": {},
   "outputs": [
    {
     "name": "stdout",
     "output_type": "stream",
     "text": [
      "python\n"
     ]
    }
   ],
   "source": [
    "print(\"python\")"
   ]
  },
  {
   "cell_type": "markdown",
   "metadata": {},
   "source": [
    "到这一步，我们其实已经在使用python语言与外部进行交互了。"
   ]
  },
  {
   "cell_type": "markdown",
   "metadata": {},
   "source": [
    "## 标识符    \n",
    "\n",
    "&emsp;标识符（identifier）是指用来标识某个实体的一个符号，在不同的应用环境下有不同的含义。 在计算机编程语言中，标识符是用户编程时使用的名字，用于给变量、常量、函数、语句块等命名，以建立起名称与使用之间的关系。通俗点讲，<font color=\"bule\">**标识符就是名字**</font>。   \n",
    "- 第一个字符必须是字母表中字母或下划线 _ 。   \n",
    "- 标识符的其他的部分有字母、数字和下划线组成。\n",
    "- 标识符对大小写敏感。    \n",
    "\n",
    "注意：Python 解释器里面的符号都需要为英文状态的符号，中文的符号会被解释为字符串。"
   ]
  },
  {
   "cell_type": "markdown",
   "metadata": {},
   "source": [
    "## Python中的保留字"
   ]
  },
  {
   "cell_type": "markdown",
   "metadata": {},
   "source": [
    "&emsp; 保留字即关键字，我们不能把它们用作任何标识符名称。Python 的标准库提供了一个 keyword module，可以输出当前版本的所有关键字："
   ]
  },
  {
   "cell_type": "code",
   "execution_count": null,
   "metadata": {},
   "outputs": [],
   "source": [
    "import keyword\n",
    "print(keyword.kwlist) "
   ]
  },
  {
   "cell_type": "markdown",
   "metadata": {},
   "source": [
    "## 注释"
   ]
  },
  {
   "cell_type": "markdown",
   "metadata": {},
   "source": [
    "- 机器不执行注释内容。\n",
    "- 注释一般用自然语言书写。\n",
    "- 注释的写法。\n",
    "\n",
    "**<font color=#DC143C size=3 >单行注释和多行注释的方法：**    \n",
    "&emsp; Python 中单行注释以 # 开头，可以单独一行进行注释，也可以在一行代码后进行注释，单行注释仅能注释当前行。   \n",
    "&emsp; 多行注释用三个单引号 ''' 注释掉的内容’'' 或者三个双引号 \"\"\" 注释掉的内容\"\"\" 将注释括起来，引号直接的内容可以包含换行等字符。通过将中间的内容转换为文档字符串达到注释的效果，在注释大段的代码块时较多使用。    "
   ]
  },
  {
   "cell_type": "code",
   "execution_count": null,
   "metadata": {},
   "outputs": [],
   "source": [
    "# 这是独立一行的单行注释"
   ]
  },
  {
   "cell_type": "code",
   "execution_count": null,
   "metadata": {},
   "outputs": [],
   "source": [
    "num = 1 # 这是跟在一行代码后的单行注释\n",
    "print(num)"
   ]
  },
  {
   "cell_type": "code",
   "execution_count": null,
   "metadata": {},
   "outputs": [],
   "source": [
    "# 我是多行注释，\n",
    "# 中间可以随意换行，\n",
    "# 里面的代码也不会执行，\n",
    "# 因为当作字符串解释了。\n",
    "# print(\"Hello World!\")"
   ]
  },
  {
   "cell_type": "code",
   "execution_count": null,
   "metadata": {},
   "outputs": [],
   "source": [
    "\"\"\"\n",
    "我是多行注释，\n",
    "中间可以随意换行，\n",
    "里面的代码也不会执行，\n",
    "因为当作字符串解释了。\n",
    "print(\"Hello World!\")\n",
    "\"\"\""
   ]
  },
  {
   "cell_type": "markdown",
   "metadata": {},
   "source": [
    "&emsp;\n",
    "\n",
    " **注释练习** ：   \n",
    "&emsp;尝试用单行注释和多行注释的方法操作下面的内容：   "
   ]
  },
  {
   "cell_type": "code",
   "execution_count": null,
   "metadata": {},
   "outputs": [],
   "source": [
    "代码作用\n",
    "1. 给人看\n",
    "2. 给机器看\n",
    "注释就是给人看的，机器会忽略"
   ]
  },
  {
   "cell_type": "code",
   "execution_count": null,
   "metadata": {},
   "outputs": [],
   "source": [
    "这里的任何内容机器都不会读，\n",
    "我可以写好多好多，\n",
    "想写多少写多少，\n",
    "开心就好，\n",
    "你能拿我怎么样。"
   ]
  },
  {
   "cell_type": "markdown",
   "metadata": {},
   "source": [
    "## 行与缩进"
   ]
  },
  {
   "cell_type": "markdown",
   "metadata": {},
   "source": [
    "&emsp; Python 默认每行为一条语句，但是当一行需要输入多条语句的时候，可以使用分号（英文状态下）; 来表示，; 同时可以有抑制交互模式返回的效果。    \n",
    "&emsp; Python 最具特色的就是使用缩进来表示代码块。缩进的空格数是可变的（默认为 4 个），但是\n",
    "同一个代码块的语句必须包含相同的缩进空格数。"
   ]
  },
  {
   "cell_type": "code",
   "execution_count": null,
   "metadata": {},
   "outputs": [],
   "source": [
    "a = 1; b = 2; c = 3;"
   ]
  },
  {
   "cell_type": "code",
   "execution_count": null,
   "metadata": {},
   "outputs": [],
   "source": [
    "a"
   ]
  },
  {
   "cell_type": "code",
   "execution_count": null,
   "metadata": {},
   "outputs": [],
   "source": [
    "a;  #后面加上;之后，则不会返回交互结果"
   ]
  },
  {
   "cell_type": "code",
   "execution_count": null,
   "metadata": {},
   "outputs": [],
   "source": [
    "# 但是鼓励这么写\n",
    "a = 1 \n",
    "b = 2\n",
    "c = 3"
   ]
  },
  {
   "cell_type": "code",
   "execution_count": null,
   "metadata": {},
   "outputs": [],
   "source": [
    "# 我们提前体会一下缩进，这是用来表达代码的逻辑层次的。\n",
    "if a == 1:\n",
    "    print(\"我就知道 a 是 1！\")"
   ]
  },
  {
   "cell_type": "markdown",
   "metadata": {},
   "source": [
    "## 变量\n",
    "\n",
    "- 变量就是一个可以重复使用的量，或者叫一个代号\n",
    "- 在Python中，不需要先声明变量名及其类型，直接赋值就可以创建各种类型的变量。\n",
    "- 变量的命名要遵循以下几条规则：\n",
    "    - 只能包含：数字、字母、下划线\n",
    "        - 下划线开头有特殊含义，不建议使用\n",
    "        - python大小写敏感\n",
    "    - 不能：以数字开头、包含空格；\n",
    "    - 不能使用python保留字、关键字、函数名\n",
    "    - 建议：简短却有描述性、使用小写字母"
   ]
  },
  {
   "cell_type": "markdown",
   "metadata": {},
   "source": [
    "### 变量的命名要点"
   ]
  },
  {
   "cell_type": "code",
   "execution_count": null,
   "metadata": {},
   "outputs": [],
   "source": [
    "# 注意大小写\n",
    "a=1\n",
    "A=2\n",
    "\n",
    "print(a)\n",
    "print(A)"
   ]
  },
  {
   "cell_type": "markdown",
   "metadata": {},
   "source": [
    "**<font color=#00008B size=3.5 face=\"黑体\">驼峰命名法**   \n",
    "- 大驼峰，名称以单词自动链接，每个单词的首字母大写\n",
    "   - 在python当中给类命名使用此办法\n",
    "   - eg： MyFristPet\n",
    "- 小驼峰，类似大驼峰，但是第一个字母小写\n",
    "   - 在python当中给函数或者普通变量用这个办法：\n",
    "   - eg： myPet\n",
    "- posix写法：\n",
    "   - 多个单词用下划线连接，单词都小写（<font color=#DC143C size=2 face=\"黑体\">**推荐**）\n",
    "   - eg： my_pet"
   ]
  },
  {
   "cell_type": "code",
   "execution_count": null,
   "metadata": {},
   "outputs": [],
   "source": [
    "my_first_pet='十九'"
   ]
  },
  {
   "cell_type": "markdown",
   "metadata": {},
   "source": [
    "### 变量的赋值   \n",
    "- 一般情况：=   （运算符左边是一个变量名，运算符右边是变量指向的值。）\n",
    "- 增量赋值：+=\n",
    "- 多重赋值：x=y=z=1\n",
    "- 多元赋值：x,y,z=1,2,'a'，*var 收集多余的值\n",
    "- 加上括号增加可读性：（x,y,z）=（1,2,'a'）\n",
    "- 变量交换：x,y=y,x\n",
    "\n",
    "\n",
    "【注意】：   \n",
    "   - 在 Python 中，变量就是变量，它没有固定的类型，我们所说的「类型」是变量当前所指向的内存中对象的类型。\n",
    "   - 一个变量可以重复赋值，后面的赋值会覆盖前面的赋值。"
   ]
  },
  {
   "cell_type": "code",
   "execution_count": null,
   "metadata": {},
   "outputs": [],
   "source": [
    "#对单个变量的赋值\n",
    "counter = 100\n",
    "pi = 3.14\n",
    "name = \"Python\""
   ]
  },
  {
   "cell_type": "code",
   "execution_count": null,
   "metadata": {},
   "outputs": [],
   "source": [
    "print (counter)\n",
    "print (pi)\n",
    "print (name)"
   ]
  },
  {
   "cell_type": "code",
   "execution_count": null,
   "metadata": {},
   "outputs": [],
   "source": [
    "# 对同一个变量多次赋值\n",
    "a = 123\n",
    "print(a)\n",
    "a = 'ABC'\n",
    "print(a)"
   ]
  },
  {
   "cell_type": "code",
   "execution_count": null,
   "metadata": {},
   "outputs": [],
   "source": [
    "# 为多个变量赋值\n",
    "a = b = c = \"可以\"\n",
    "print(a)\n",
    "print(b)\n",
    "print(c)"
   ]
  },
  {
   "cell_type": "code",
   "execution_count": null,
   "metadata": {},
   "outputs": [],
   "source": [
    "e , f, g =\"你\", \"我\", \"他\""
   ]
  },
  {
   "cell_type": "code",
   "execution_count": null,
   "metadata": {},
   "outputs": [],
   "source": [
    "# Python中两个变量的交换\n",
    "a = 1\n",
    "b = 2\n",
    "\n",
    "a, b = b, a\n",
    "print(a, b)"
   ]
  },
  {
   "cell_type": "markdown",
   "metadata": {},
   "source": [
    "### 变量的删除   \n",
    "- 如果你不小心用保留字或者Python函数名做了变量名，导致代码报错，可以使用del方法直接删除    \n",
    "- 如果你不想要这个变量了，删不删其实都可以，你可以选择重新赋值，当然也可以删除"
   ]
  },
  {
   "cell_type": "code",
   "execution_count": null,
   "metadata": {},
   "outputs": [],
   "source": [
    "list('hello')"
   ]
  },
  {
   "cell_type": "code",
   "execution_count": null,
   "metadata": {},
   "outputs": [],
   "source": [
    "list = 1"
   ]
  },
  {
   "cell_type": "code",
   "execution_count": null,
   "metadata": {},
   "outputs": [],
   "source": [
    "del list"
   ]
  },
  {
   "cell_type": "code",
   "execution_count": null,
   "metadata": {},
   "outputs": [],
   "source": [
    "list('hello')"
   ]
  },
  {
   "cell_type": "markdown",
   "metadata": {},
   "source": [
    "## 内置函数 BIF　\n",
    "- BIF就是Built-in Function,内置函数的意思。\n",
    "- 内置函数是为了方便程序员快速编写程序，\n",
    "- Python提供了很丰富的内置函数，只需要直接调用即可\n"
   ]
  },
  {
   "cell_type": "markdown",
   "metadata": {},
   "source": [
    "### 查看BIF帮助文档   \n",
    "查看print()这个BIF的帮助文档，即看看python是怎么给我们解释print()这个内建函数的用法的！有四种方法：\n",
    "-  $print(BIF函数名.__doc__)$ &ensp; &ensp;&ensp;  注意，doc前后各为两条下划线\n",
    "- ?BIF函数名  <font color=#DC143C size=3 face=\"黑体\">  &ensp; &ensp;&ensp; &ensp; &ensp;  &ensp;  &ensp;直接在内置函数前面加问号 （推荐）<font color=#000000 size=2 face=\"黑体\">   \n",
    "-  help(BIF函数名)    &ensp; &ensp; &ensp; &ensp; &ensp; &ensp; 使用内置函数help()查看函数或模块用途的详细说明。     \n",
    "- shift+tab        &ensp; &ensp; &ensp; &ensp; &ensp; &ensp; &ensp; &ensp; &ensp;&ensp;临时查看用    "
   ]
  },
  {
   "cell_type": "markdown",
   "metadata": {},
   "source": [
    "**比如，如果我们想查看内置函数print()的用法，有以下方法：**"
   ]
  },
  {
   "cell_type": "code",
   "execution_count": null,
   "metadata": {},
   "outputs": [],
   "source": [
    "print(print.__doc__)"
   ]
  },
  {
   "cell_type": "code",
   "execution_count": null,
   "metadata": {},
   "outputs": [],
   "source": [
    "?print"
   ]
  },
  {
   "cell_type": "code",
   "execution_count": null,
   "metadata": {
    "scrolled": true
   },
   "outputs": [],
   "source": [
    "help(print)"
   ]
  },
  {
   "cell_type": "code",
   "execution_count": null,
   "metadata": {},
   "outputs": [],
   "source": [
    "print()"
   ]
  },
  {
   "cell_type": "markdown",
   "metadata": {},
   "source": [
    "## 输入和输出    \n",
    "&emsp; Python 提供了一个 input() 函数，可以让用户输入内容，并存放到一个变量里。   \n",
    "&emsp; print() 函数用来输出代码内部的结果。"
   ]
  },
  {
   "cell_type": "markdown",
   "metadata": {},
   "source": [
    "### 获取输入input   \n",
    "input()语句可以获取一个用户输入的字符串。也就是说输入的所有对象都会被转成字符串"
   ]
  },
  {
   "cell_type": "code",
   "execution_count": null,
   "metadata": {},
   "outputs": [],
   "source": [
    "a = input(\"输入你的名字吧 : \")  #注意：这里一定要输入内容，否则会陷入死循环"
   ]
  },
  {
   "cell_type": "code",
   "execution_count": null,
   "metadata": {},
   "outputs": [],
   "source": [
    "a"
   ]
  },
  {
   "cell_type": "code",
   "execution_count": null,
   "metadata": {},
   "outputs": [],
   "source": [
    "b = input()"
   ]
  },
  {
   "cell_type": "code",
   "execution_count": null,
   "metadata": {},
   "outputs": [],
   "source": [
    "b"
   ]
  },
  {
   "cell_type": "code",
   "execution_count": null,
   "metadata": {},
   "outputs": [],
   "source": [
    "type(b)"
   ]
  },
  {
   "cell_type": "markdown",
   "metadata": {},
   "source": [
    "### print输出   \n",
    "print 默认输出是换行的.  \n",
    "<font color=#DC143C size=2.5 face=\"黑体\">\n",
    "__注意！正常状态下，一个pint()语句输出一行，将括号内双引号里的字符以打印的形式呈现。__"
   ]
  },
  {
   "cell_type": "code",
   "execution_count": null,
   "metadata": {},
   "outputs": [],
   "source": [
    "print(\"something\")\n",
    "print(\"something\")\n",
    "print(\"something\")"
   ]
  },
  {
   "cell_type": "code",
   "execution_count": null,
   "metadata": {},
   "outputs": [],
   "source": [
    "print(\"-\"*50)"
   ]
  },
  {
   "cell_type": "markdown",
   "metadata": {},
   "source": [
    "#### 中间分隔符：sep=\" \"  \n",
    "打印多个值,用sep设置中间分隔符, 默认为空格"
   ]
  },
  {
   "cell_type": "code",
   "execution_count": null,
   "metadata": {},
   "outputs": [],
   "source": [
    "print(\"欢迎你\",\"来到\",\"Python\",\"的\",\"世界\" )"
   ]
  },
  {
   "cell_type": "code",
   "execution_count": null,
   "metadata": {},
   "outputs": [],
   "source": [
    "print(\"欢迎你\",\"来到\",\"Python\",\"的\",\"世界\",sep=\"--->\" )"
   ]
  },
  {
   "cell_type": "markdown",
   "metadata": {},
   "source": [
    "#### 结尾换行符：end=\" \""
   ]
  },
  {
   "cell_type": "markdown",
   "metadata": {},
   "source": [
    "如果你打印多次，不想一行行打印出来，想都打印在一行，可以在print()后面添加end=\"\"。\n",
    "比如："
   ]
  },
  {
   "cell_type": "code",
   "execution_count": null,
   "metadata": {},
   "outputs": [],
   "source": [
    "print('我爱北京天安门')\n",
    "print('天安门上太阳升')"
   ]
  },
  {
   "cell_type": "code",
   "execution_count": null,
   "metadata": {},
   "outputs": [],
   "source": [
    "print('我爱北京天安门', end=\"\")\n",
    "print('天安门上太阳升')"
   ]
  },
  {
   "cell_type": "markdown",
   "metadata": {},
   "source": [
    "**<font color=\"blue\" size=3.5 >\n",
    "初学的时候，end=\"\"的作用容易和字符串中间的换行符混淆，在这里提前给大家做一个对比：**"
   ]
  },
  {
   "cell_type": "code",
   "execution_count": null,
   "metadata": {},
   "outputs": [],
   "source": [
    "print('我爱北京天安门')\n",
    "print('天安门上太阳升')"
   ]
  },
  {
   "cell_type": "code",
   "execution_count": null,
   "metadata": {},
   "outputs": [],
   "source": [
    "print('我爱北京天安门\\n天安门上太阳升')"
   ]
  },
  {
   "cell_type": "markdown",
   "metadata": {},
   "source": [
    "<font color=#0000F size=3.5 >\n",
    "    \n",
    "- end=\"\"讨论的是两个print()以怎样的方式来打印在同一行。\n",
    "- 换行符“\\n”讨论的一个print()内的字符如何打印在多行。"
   ]
  },
  {
   "cell_type": "markdown",
   "metadata": {},
   "source": [
    "#### print练习"
   ]
  },
  {
   "cell_type": "markdown",
   "metadata": {},
   "source": [
    "***小题1：**  \n",
    "将以下字符串打印在同一行，用“-->”符号来分隔：  \n",
    "\"你是\"、\"人间的\"、\"四月天\""
   ]
  },
  {
   "cell_type": "code",
   "execution_count": null,
   "metadata": {},
   "outputs": [],
   "source": []
  },
  {
   "cell_type": "markdown",
   "metadata": {},
   "source": [
    "***小题2：**  \n",
    "用一个print()语句，分别将下面字符打印在不同的行：  \n",
    "\"你是人间的四月天\""
   ]
  },
  {
   "cell_type": "code",
   "execution_count": null,
   "metadata": {},
   "outputs": [],
   "source": []
  },
  {
   "cell_type": "markdown",
   "metadata": {},
   "source": [
    "***小题3：**  \n",
    "在不减少print()语句的前提下，通过增加下面的print()语句的参数，使得打印结果在同一行输出。    \n",
    "\n",
    "        print(\"你是\")  \n",
    "        print(\"人间的\")  \n",
    "        print(\"四月天\")  \n",
    " 输出结果显示：你是,人间的,四月天!  "
   ]
  },
  {
   "cell_type": "code",
   "execution_count": null,
   "metadata": {},
   "outputs": [],
   "source": []
  },
  {
   "cell_type": "code",
   "execution_count": null,
   "metadata": {},
   "outputs": [],
   "source": []
  }
 ],
 "metadata": {
  "kernelspec": {
   "display_name": "Python 3",
   "language": "python",
   "name": "python3"
  },
  "language_info": {
   "codemirror_mode": {
    "name": "ipython",
    "version": 3
   },
   "file_extension": ".py",
   "mimetype": "text/x-python",
   "name": "python",
   "nbconvert_exporter": "python",
   "pygments_lexer": "ipython3",
   "version": "3.7.7"
  },
  "toc": {
   "base_numbering": "0",
   "nav_menu": {},
   "number_sections": true,
   "sideBar": true,
   "skip_h1_title": false,
   "title_cell": "Table of Contents",
   "title_sidebar": "Contents",
   "toc_cell": false,
   "toc_position": {
    "height": "calc(100% - 180px)",
    "left": "10px",
    "top": "150px",
    "width": "256px"
   },
   "toc_section_display": true,
   "toc_window_display": true
  }
 },
 "nbformat": 4,
 "nbformat_minor": 4
}
