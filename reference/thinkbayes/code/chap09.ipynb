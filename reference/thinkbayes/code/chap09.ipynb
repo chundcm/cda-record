{
 "cells": [
  {
   "cell_type": "markdown",
   "metadata": {},
   "source": [
    "# Think Bayes\n",
    "\n",
    "Second Edition\n",
    "\n",
    "Copyright 2020 Allen B. Downey\n",
    "\n",
    "License: [Attribution-NonCommercial-ShareAlike 4.0 International (CC BY-NC-SA 4.0)](https://creativecommons.org/licenses/by-nc-sa/4.0/)"
   ]
  },
  {
   "cell_type": "code",
   "execution_count": 2,
   "metadata": {},
   "outputs": [],
   "source": [
    "# If we're running on Colab, install empiricaldist\n",
    "# https://pypi.org/project/empiricaldist/\n",
    "\n",
    "import sys\n",
    "IN_COLAB = 'google.colab' in sys.modules\n",
    "\n",
    "if IN_COLAB:\n",
    "    !pip install empiricaldist"
   ]
  },
  {
   "cell_type": "code",
   "execution_count": 3,
   "metadata": {},
   "outputs": [],
   "source": [
    "# Get utils.py and create directories\n",
    "\n",
    "import os\n",
    "\n",
    "if not os.path.exists('utils.py'):\n",
    "    !wget https://github.com/AllenDowney/ThinkBayes2/raw/master/code/soln/utils.py\n",
    "        \n",
    "if not os.path.exists('figs'):\n",
    "    !mkdir figs\n",
    "        \n",
    "if not os.path.exists('tables'):\n",
    "    !mkdir tables"
   ]
  },
  {
   "cell_type": "code",
   "execution_count": 4,
   "metadata": {},
   "outputs": [],
   "source": [
    "import numpy as np\n",
    "import pandas as pd\n",
    "import matplotlib.pyplot as plt\n",
    "\n",
    "from empiricaldist import Pmf\n",
    "from utils import decorate, savefig, write_table"
   ]
  },
  {
   "cell_type": "markdown",
   "metadata": {},
   "source": [
    "## Outer operations\n",
    "\n",
    "Many useful operations can be expressed in the form of an \"outer operation\" of two sequences.\n",
    "Suppose you have sequences like `t1` and `t2`:"
   ]
  },
  {
   "cell_type": "code",
   "execution_count": 5,
   "metadata": {},
   "outputs": [],
   "source": [
    "t1 = [1,3,5]"
   ]
  },
  {
   "cell_type": "code",
   "execution_count": 6,
   "metadata": {},
   "outputs": [],
   "source": [
    "t2 = [2,4]"
   ]
  },
  {
   "cell_type": "markdown",
   "metadata": {},
   "source": [
    "The most common outer operation is the outer product, which computes the product of every pair of values, one from each sequence.\n",
    "\n",
    "For example, here is the outer product of `t1` and `t2`:"
   ]
  },
  {
   "cell_type": "code",
   "execution_count": 7,
   "metadata": {},
   "outputs": [],
   "source": [
    "a = np.multiply.outer(t1, t2)\n",
    "a"
   ]
  },
  {
   "cell_type": "markdown",
   "metadata": {},
   "source": [
    "We can understand this result more easily if we put it in a DataFrame:"
   ]
  },
  {
   "cell_type": "code",
   "execution_count": 8,
   "metadata": {},
   "outputs": [],
   "source": [
    "df = pd.DataFrame(a, index=t1, columns=t2)\n",
    "write_table(df, 'table09-01', bold_rows=True)\n",
    "df"
   ]
  },
  {
   "cell_type": "markdown",
   "metadata": {},
   "source": [
    "The values from `t1` appear along the rows of the result; the values from `t2` appear along the columns.  \n",
    "\n",
    "Each element of the result is the product of an element from `t1` and an element from `t2`."
   ]
  },
  {
   "cell_type": "markdown",
   "metadata": {},
   "source": [
    "The outer sum is similar, except that each element is the *sum* of an element from `t1` and an element from `t2`."
   ]
  },
  {
   "cell_type": "code",
   "execution_count": 9,
   "metadata": {
    "scrolled": true
   },
   "outputs": [],
   "source": [
    "a = np.add.outer(t1, t2)\n",
    "a"
   ]
  },
  {
   "cell_type": "code",
   "execution_count": 10,
   "metadata": {},
   "outputs": [],
   "source": [
    "df = pd.DataFrame(a, index=t1, columns=t2)\n",
    "write_table(df, 'table09-02', bold_rows=True)\n",
    "df"
   ]
  },
  {
   "cell_type": "markdown",
   "metadata": {},
   "source": [
    "These outer operations work with Python lists and tuples, and NumPy arrays, but not Pandas Series.\n",
    "\n",
    "However, the following function works with Pandas Series and puts the result into a DataFrame."
   ]
  },
  {
   "cell_type": "code",
   "execution_count": 11,
   "metadata": {},
   "outputs": [],
   "source": [
    "def outer_product(s1, s2):\n",
    "    \"\"\"Compute the outer product of two Series.\n",
    "    \n",
    "    First Series goes down the rows;\n",
    "    second goes across the columns.\n",
    "    \n",
    "    s1: Series\n",
    "    s2: Series\n",
    "    \n",
    "    return: DataFrame\n",
    "    \"\"\"\n",
    "    a = np.multiply.outer(s1.to_numpy(), s2.to_numpy())\n",
    "    return pd.DataFrame(a, index=s1.index, columns=s2.index)"
   ]
  },
  {
   "cell_type": "markdown",
   "metadata": {},
   "source": [
    "It might not be obvious yet why these operations are useful, but we'll see some examples soon.\n",
    "\n",
    "With that, we are ready to take on a new Bayesian problem."
   ]
  },
  {
   "cell_type": "markdown",
   "metadata": {},
   "source": [
    "## How tall is A?\n",
    "\n",
    "Suppose I choose two people from the population of adult males in the U.S.; I'll call them A and B.  If we see that A taller than B, how tall is A?\n",
    "\n",
    "To answer this question:\n",
    "\n",
    "1. I'll use background information about the height of men in the U.S. to form a prior distribution of height,\n",
    "\n",
    "2. I'll construct a joint distribution of height for A and B (and I'll explain what that is);\n",
    "\n",
    "3. Then I'll update the prior with the information that A is taller, and \n",
    "\n",
    "4. From the posterior joint distribution I'll extract the posterior distribution of height for A."
   ]
  },
  {
   "cell_type": "markdown",
   "metadata": {},
   "source": [
    "In the U.S. the average height of male adults in 178 cm and the standard deviation is 7.7 cm.  The distribution is not exactly normal, because nothing in the real world is, but the normal distribution is a pretty good model of the actual distribution, so we can use it as a prior distribution for A and B.\n",
    "\n",
    "Here's an array of equally-spaced values from roughly 3 standard deviations below the mean to 3 standard deviations above."
   ]
  },
  {
   "cell_type": "code",
   "execution_count": 12,
   "metadata": {},
   "outputs": [],
   "source": [
    "mean = 178\n",
    "std = 7.7\n",
    "\n",
    "qs = np.arange(mean-24, mean+24, 0.5)"
   ]
  },
  {
   "cell_type": "markdown",
   "metadata": {},
   "source": [
    "SciPy provides a function called `norm` that represents a normal distribution with a given mean and standard deviation, and provides `pdf`, which evaluates the probability distribution function (PDF), which we will use as the prior probabilities."
   ]
  },
  {
   "cell_type": "code",
   "execution_count": 13,
   "metadata": {},
   "outputs": [],
   "source": [
    "from scipy.stats import norm\n",
    "\n",
    "ps = norm(mean, std).pdf(qs)"
   ]
  },
  {
   "cell_type": "markdown",
   "metadata": {},
   "source": [
    "I'll store the `ps` and `qs` in a `Pmf` that represents the prior distribution."
   ]
  },
  {
   "cell_type": "code",
   "execution_count": 14,
   "metadata": {},
   "outputs": [],
   "source": [
    "prior = Pmf(ps, qs)\n",
    "prior.normalize()"
   ]
  },
  {
   "cell_type": "markdown",
   "metadata": {},
   "source": [
    "And here's what it looks like."
   ]
  },
  {
   "cell_type": "code",
   "execution_count": 15,
   "metadata": {},
   "outputs": [],
   "source": [
    "prior.plot(color='gray')\n",
    "\n",
    "decorate(xlabel='Height in cm',\n",
    "         ylabel='Probability',\n",
    "         title='Approximate distribution of height for men in U.S.')"
   ]
  },
  {
   "cell_type": "markdown",
   "metadata": {},
   "source": [
    "This distribution represents what we believe about the heights of `A` and `B` before we take into account the data that `A` is taller."
   ]
  },
  {
   "cell_type": "markdown",
   "metadata": {},
   "source": [
    "## Joint distribution\n",
    "\n",
    "The next step is to construct a distribution that represents the probability of every pair of heights, which is called a joint distribution.  \n",
    "The elements of the joint distribution are\n",
    "\n",
    "$P(A_y~\\mathrm{and}~B_x)$\n",
    "\n",
    "which is the probability that `A` is $y$ cm tall and `B` is $x$ cm tall, for all values of $y$ and $x$.\n",
    "\n",
    "At this point all we know about `A` and `B` is that they are male residents of the U.S., so their heights are independent; that is, knowing the height of `A` provides no additional information about the height of `B`.\n",
    "In that case, we can compute the joint probabilities like this:\n",
    "\n",
    "$P(A_y~\\mathrm{and}~B_x) = P(A_y)~P(B_x)$\n",
    "\n",
    "Each joint probability is the product of one element from the distribution for `A` and one element from the distribution for `B`.\n",
    "So we can compute the joint distribution using `outer_product`:"
   ]
  },
  {
   "cell_type": "code",
   "execution_count": 16,
   "metadata": {},
   "outputs": [],
   "source": [
    "joint = outer_product(prior, prior)\n",
    "joint.shape"
   ]
  },
  {
   "cell_type": "markdown",
   "metadata": {},
   "source": [
    "The result is a `DataFrame` with possible heights of `A` along the rows, heights of `B` along the columns, and the joint probabilities as elements.\n",
    "\n",
    "If the prior is normalized, the joint prior should also be normalized."
   ]
  },
  {
   "cell_type": "code",
   "execution_count": 17,
   "metadata": {},
   "outputs": [],
   "source": [
    "joint.to_numpy().sum()"
   ]
  },
  {
   "cell_type": "markdown",
   "metadata": {},
   "source": [
    "Notice that we have to convert the `DataFrame` to a `NumPy` array before calling `sum`.  Otherwise, `DataFrame.sum` would compute the sums of the columns and return a `Series`."
   ]
  },
  {
   "cell_type": "code",
   "execution_count": 18,
   "metadata": {},
   "outputs": [],
   "source": [
    "joint.sum()"
   ]
  },
  {
   "cell_type": "markdown",
   "metadata": {},
   "source": [
    "## Visualizing the joint distribution\n",
    "\n",
    "The following function uses `pcolormesh` to plot the joint distribution.\n",
    "\n",
    "Recall that `outer_product` puts the values of `A` along the rows and the values of `B` across the columns."
   ]
  },
  {
   "cell_type": "code",
   "execution_count": 19,
   "metadata": {},
   "outputs": [],
   "source": [
    "def plot_joint(joint):\n",
    "    \"\"\"Plot a joint distribution.\n",
    "    \n",
    "    joint: DataFrame representing a joint PMF\n",
    "    \"\"\"\n",
    "    plt.pcolormesh(joint.columns, joint.index, joint, cmap='Blues')\n",
    "    plt.colorbar()\n",
    "    decorate(ylabel='A height in cm',\n",
    "             xlabel='B height in cm')"
   ]
  },
  {
   "cell_type": "markdown",
   "metadata": {},
   "source": [
    "And here's what the result looks like."
   ]
  },
  {
   "cell_type": "code",
   "execution_count": 20,
   "metadata": {},
   "outputs": [],
   "source": [
    "plot_joint(joint)\n",
    "decorate(title='Joint prior distribution of height for A and B')\n",
    "savefig('fig09-01')"
   ]
  },
  {
   "cell_type": "markdown",
   "metadata": {},
   "source": [
    "As you might expect, the probability is highest near the mean and drops off away from the mean.\n",
    "\n",
    "Another way to visualize the joint distribution is a contour plot."
   ]
  },
  {
   "cell_type": "code",
   "execution_count": 21,
   "metadata": {},
   "outputs": [],
   "source": [
    "def plot_contour(joint):\n",
    "    \"\"\"Plot a joint distribution.\n",
    "    \n",
    "    joint: DataFrame representing a joint PMF\n",
    "    \"\"\"\n",
    "    plt.contour(joint.columns, joint.index, joint)\n",
    "    plt.ylabel('A height in cm')\n",
    "    plt.xlabel('B height in cm')"
   ]
  },
  {
   "cell_type": "code",
   "execution_count": 22,
   "metadata": {},
   "outputs": [],
   "source": [
    "plot_contour(joint)\n",
    "decorate(title='Joint prior distribution of height for A and B')"
   ]
  },
  {
   "cell_type": "markdown",
   "metadata": {},
   "source": [
    "Each circle represents a level of equal probability.  "
   ]
  },
  {
   "cell_type": "markdown",
   "metadata": {},
   "source": [
    "## Likelihood\n",
    "\n",
    "Now that we have a joint prior distribution, we can update it with the data, which is that `A` is taller than `B`.\n",
    "\n",
    "Each element in the joint distribution represents a hypothesis about the heights of `A` and `B`; for example:\n",
    "\n",
    "* The element `(180, 170)` represents the hypothesis that `A` is 180 cm tall and `B` is 170 cm tall.  Under this hypothesis, the probability that `A` is taller than `B` is 1.\n",
    "\n",
    "* The element `(170, 180)` represents the hypothesis that `A` is 170 cm tall and `B` is 180 cm tall.  Under this hypothesis, the probability that `A` is taller than `B` is 0.\n",
    "\n",
    "To compute the likelihood of every pair of values, we can extract the values from the prior, like this:"
   ]
  },
  {
   "cell_type": "code",
   "execution_count": 23,
   "metadata": {},
   "outputs": [],
   "source": [
    "Y = joint.index.to_numpy()\n",
    "X = joint.columns.to_numpy()"
   ]
  },
  {
   "cell_type": "markdown",
   "metadata": {},
   "source": [
    "And then apply the `outer` version of `np.subtract`, which computes the difference between every element of `Y` (height of `A`) and every element of `X` (height of `B`)."
   ]
  },
  {
   "cell_type": "code",
   "execution_count": 24,
   "metadata": {},
   "outputs": [],
   "source": [
    "diff = np.subtract.outer(Y, X)"
   ]
  },
  {
   "cell_type": "markdown",
   "metadata": {},
   "source": [
    "The result is an array of differences.  To compute likelihoods, we use `np.where` which puts `1` where the `diff` is greater than 0 and 0 elsewhere."
   ]
  },
  {
   "cell_type": "code",
   "execution_count": 25,
   "metadata": {},
   "outputs": [],
   "source": [
    "a = np.where(diff>0, 1, 0)"
   ]
  },
  {
   "cell_type": "markdown",
   "metadata": {},
   "source": [
    "The result is an array of likelihoods, which I will put in a `DataFrame` with the values of `Y` in the index and the values of `X` in the columns."
   ]
  },
  {
   "cell_type": "code",
   "execution_count": 26,
   "metadata": {},
   "outputs": [],
   "source": [
    "likelihood = pd.DataFrame(a, index=Y, columns=X)"
   ]
  },
  {
   "cell_type": "markdown",
   "metadata": {},
   "source": [
    "Here's what it looks like:"
   ]
  },
  {
   "cell_type": "code",
   "execution_count": 27,
   "metadata": {},
   "outputs": [],
   "source": [
    "plot_joint(likelihood)\n",
    "decorate(title='Likelihood of A>B')\n",
    "savefig('fig09-02')"
   ]
  },
  {
   "cell_type": "markdown",
   "metadata": {},
   "source": [
    "The likelihood of the data is 1 where `Y>X` and 0 elsewhere."
   ]
  },
  {
   "cell_type": "markdown",
   "metadata": {},
   "source": [
    "## The update\n",
    "\n",
    "We have a prior, we have a likelihood, and we are ready for the update.  As usual, the unnormalized posterior is the product of the prior and the likelihood."
   ]
  },
  {
   "cell_type": "code",
   "execution_count": 28,
   "metadata": {},
   "outputs": [],
   "source": [
    "posterior = joint * likelihood"
   ]
  },
  {
   "cell_type": "markdown",
   "metadata": {},
   "source": [
    "I'll use the following function to normalize the posterior:"
   ]
  },
  {
   "cell_type": "code",
   "execution_count": 29,
   "metadata": {},
   "outputs": [],
   "source": [
    "def normalize(joint):\n",
    "    \"\"\"Normalize a joint distribution.\n",
    "    \n",
    "    joint: DataFrame\n",
    "    \"\"\"\n",
    "    prob_data = joint.to_numpy().sum()\n",
    "    joint /= prob_data"
   ]
  },
  {
   "cell_type": "code",
   "execution_count": 30,
   "metadata": {},
   "outputs": [],
   "source": [
    "normalize(posterior)"
   ]
  },
  {
   "cell_type": "markdown",
   "metadata": {},
   "source": [
    "Here's what it looks like."
   ]
  },
  {
   "cell_type": "code",
   "execution_count": 31,
   "metadata": {},
   "outputs": [],
   "source": [
    "plot_joint(posterior)\n",
    "decorate(title='Joint posterior distribution of height for A and B')\n",
    "savefig('fig09-03')"
   ]
  },
  {
   "cell_type": "markdown",
   "metadata": {},
   "source": [
    "## The marginals"
   ]
  },
  {
   "cell_type": "markdown",
   "metadata": {},
   "source": [
    "The joint posterior distribution represents what we believe about the heights of `A` and `B`, given the prior distributions and the information that `A` is taller.\n",
    "\n",
    "From this joint distribution, we can compute the posterior distributions for `A` and `B`.  To see how, let's start with a simpler problem.\n",
    "\n",
    "Suppose we want to know the probability that `B` is 180 cm tall.  We can select the column from the joint distribution where `X=180`."
   ]
  },
  {
   "cell_type": "code",
   "execution_count": 32,
   "metadata": {},
   "outputs": [],
   "source": [
    "column = posterior[180]"
   ]
  },
  {
   "cell_type": "markdown",
   "metadata": {},
   "source": [
    "This column contains posterior probabilities for all cases where `X=180`; if we add them up, we get the total probability that `B` is 180 cm tall."
   ]
  },
  {
   "cell_type": "code",
   "execution_count": 33,
   "metadata": {},
   "outputs": [],
   "source": [
    "column.sum()"
   ]
  },
  {
   "cell_type": "markdown",
   "metadata": {},
   "source": [
    "Now, to get the posterior distribution of height for `B`, we can add up all of the columns, like this:"
   ]
  },
  {
   "cell_type": "code",
   "execution_count": 34,
   "metadata": {},
   "outputs": [],
   "source": [
    "column_sums = posterior.sum(axis=0)\n",
    "column_sums"
   ]
  },
  {
   "cell_type": "markdown",
   "metadata": {},
   "source": [
    "The argument `axis=0` means we want to sum the elements along the rows; that is, we want to add up the columns.\n",
    "\n",
    "The result is a `Series` that contains every possible height for `B` and its probability.  In other words, it is the distribution of heights for `B`.\n",
    "\n",
    "We can put it in a `Pmf` like this:"
   ]
  },
  {
   "cell_type": "code",
   "execution_count": 35,
   "metadata": {},
   "outputs": [],
   "source": [
    "marginal_B = Pmf(column_sums)"
   ]
  },
  {
   "cell_type": "markdown",
   "metadata": {},
   "source": [
    "When we extract the distribution of a single variable from a joint distribution, the result is called a marginal distribution.\n",
    "The name comes from a common visualization that shows the joint distribution in the middle and the marginal distributions in the margins.\n",
    "\n",
    "Here's what the marginal distribution for `B` looks like:"
   ]
  },
  {
   "cell_type": "code",
   "execution_count": 36,
   "metadata": {},
   "outputs": [],
   "source": [
    "marginal_B.plot(label='Posterior for B', color='C1')\n",
    "\n",
    "decorate(xlabel='Height in cm',\n",
    "         ylabel='Probability',\n",
    "         title='Posterior distribution for B')"
   ]
  },
  {
   "cell_type": "markdown",
   "metadata": {},
   "source": [
    "Similarly, we can get the posterior distribution of height for `A` by adding up the rows and putting the result in a `Pmf`."
   ]
  },
  {
   "cell_type": "code",
   "execution_count": 37,
   "metadata": {},
   "outputs": [],
   "source": [
    "row_sums = posterior.sum(axis=1)\n",
    "marginal_A = Pmf(row_sums)"
   ]
  },
  {
   "cell_type": "markdown",
   "metadata": {},
   "source": [
    "Here's what it looks like."
   ]
  },
  {
   "cell_type": "code",
   "execution_count": 38,
   "metadata": {},
   "outputs": [],
   "source": [
    "marginal_A.plot(label='Posterior for A')\n",
    "\n",
    "decorate(xlabel='Height in cm',\n",
    "         ylabel='Probability',\n",
    "         title='Posterior distribution for A')"
   ]
  },
  {
   "cell_type": "markdown",
   "metadata": {},
   "source": [
    "The following function takes a joint distribution and an axis number, and returns a marginal distribution."
   ]
  },
  {
   "cell_type": "code",
   "execution_count": 39,
   "metadata": {},
   "outputs": [],
   "source": [
    "def marginal(joint, axis):\n",
    "    \"\"\"Compute a marginal distribution.\n",
    "    \n",
    "    axis=1 returns the marginal distribution of the first variable\n",
    "    axis=0 returns the marginal distribution of the second variable\n",
    "    \n",
    "    joint: DataFrame representing a joint distribution\n",
    "    axis: int axis to sum along\n",
    "    \n",
    "    returns: Pmf\n",
    "    \"\"\"\n",
    "    return Pmf(joint.sum(axis=axis))"
   ]
  },
  {
   "cell_type": "code",
   "execution_count": 40,
   "metadata": {},
   "outputs": [],
   "source": [
    "marginal_B = marginal(posterior, axis=0)\n",
    "marginal_A = marginal(posterior, axis=1)"
   ]
  },
  {
   "cell_type": "markdown",
   "metadata": {},
   "source": [
    "Here's what they look like."
   ]
  },
  {
   "cell_type": "code",
   "execution_count": 41,
   "metadata": {},
   "outputs": [],
   "source": [
    "prior.plot(label='Prior', color='gray')\n",
    "marginal_A.plot(label='Posterior for A')\n",
    "marginal_B.plot(label='Posterior for B')\n",
    "\n",
    "decorate(xlabel='Height in cm',\n",
    "         ylabel='Probability',\n",
    "         title='Prior and posterior distributions for A and B')\n",
    "savefig('fig09-04')"
   ]
  },
  {
   "cell_type": "markdown",
   "metadata": {},
   "source": [
    "As you might expect, the posterior distribution for `A` is shifted to the right and the posterior distribution for `B` is shifted to the left.\n",
    "\n",
    "We can summarize the results by computing the posterior means:"
   ]
  },
  {
   "cell_type": "code",
   "execution_count": 42,
   "metadata": {},
   "outputs": [],
   "source": [
    "prior.mean()"
   ]
  },
  {
   "cell_type": "code",
   "execution_count": 43,
   "metadata": {},
   "outputs": [],
   "source": [
    "marginal_A.mean(), marginal_B.mean()"
   ]
  },
  {
   "cell_type": "markdown",
   "metadata": {},
   "source": [
    "Based on the observation that `A` is taller than `B`, we are inclined to believe that `A` is a little taller than average, and `B` is a little shorter."
   ]
  },
  {
   "cell_type": "markdown",
   "metadata": {},
   "source": [
    "Notice that the posterior distributions are a little narrower than the prior.  We can quantify that by computing their standard deviations."
   ]
  },
  {
   "cell_type": "code",
   "execution_count": 44,
   "metadata": {},
   "outputs": [],
   "source": [
    "prior.std()"
   ]
  },
  {
   "cell_type": "code",
   "execution_count": 45,
   "metadata": {},
   "outputs": [],
   "source": [
    "marginal_A.std(), marginal_B.std()"
   ]
  },
  {
   "cell_type": "markdown",
   "metadata": {},
   "source": [
    "The standard deviations of the posterior distributions are a little smaller, which means we are a little more certain about the heights of `A` and `B` after we compare them."
   ]
  },
  {
   "cell_type": "markdown",
   "metadata": {},
   "source": [
    "## Conditional posteriors\n",
    "\n",
    "Now suppose we measure `B` and find that he is 180 cm tall.  What does that tell us about `A`?\n",
    "\n",
    "In the joint distribution, each column corresponds a possible height for `B`.  We can select the column that corresponds to height 180 cm like this:"
   ]
  },
  {
   "cell_type": "code",
   "execution_count": 46,
   "metadata": {},
   "outputs": [],
   "source": [
    "column_180 = posterior[180]"
   ]
  },
  {
   "cell_type": "markdown",
   "metadata": {},
   "source": [
    "The result is a `Series` that represents possible heights for `A` and their relative likelihoods.\n",
    "These likelihoods are not normalized, but we can normalize them like this:"
   ]
  },
  {
   "cell_type": "code",
   "execution_count": 47,
   "metadata": {},
   "outputs": [],
   "source": [
    "cond_A = Pmf(column_180)\n",
    "cond_A.normalize()"
   ]
  },
  {
   "cell_type": "markdown",
   "metadata": {},
   "source": [
    "Note that when we make a `Pmf` it copies the data by default, so we can modify `cond_A` without affecting `column_180` or `posterior`.\n",
    "\n",
    "The result is the conditional distribution of height for `A` given that `B` is 180 cm tall.\n",
    "\n",
    "Here's what it looks like:"
   ]
  },
  {
   "cell_type": "code",
   "execution_count": 48,
   "metadata": {},
   "outputs": [],
   "source": [
    "prior.plot(label='Prior', color='gray')\n",
    "marginal_A.plot(label='Posterior for A')\n",
    "cond_A.plot(label='Posterior for A given B=180', color='C3')\n",
    "\n",
    "decorate(xlabel='Height in cm',\n",
    "         ylabel='Probability',\n",
    "         title='Prior, posterior and conditional distribution for A')\n",
    "savefig('fig09-05')"
   ]
  },
  {
   "cell_type": "markdown",
   "metadata": {},
   "source": [
    "The posterior conditional distribution is cut off at 180 cm, because we have established that `A` is taller than `B` and `B` is 180 cm.\n",
    "And the mean of the conditional distribution is a few centimeters higher:"
   ]
  },
  {
   "cell_type": "code",
   "execution_count": 49,
   "metadata": {},
   "outputs": [],
   "source": [
    "marginal_A.mean(), cond_A.mean()"
   ]
  },
  {
   "cell_type": "markdown",
   "metadata": {},
   "source": [
    "## Dependence and independence\n",
    "\n",
    "When we constructed the joint prior distribution, I said that the heights of `A` and `B` were independent, which means that knowing one of them provides no information about the other.\n",
    "In other words, the conditional probability $P(A_y | B_x)$ is the same as the unconditioned probability $P(A_y)$.\n",
    "\n",
    "That's why we can compute an element of the joint prior, $P(A_y~\\mathrm{and}~B_x)$, by rewriting it in terms of conditional probability, $P(B_x)~P(A_y~|~B_x)$, and using the independence of $A$ and $B$ to replace the conditional probability.\n",
    "\n",
    "Putting it all together, we have\n",
    "\n",
    "$P(A_y~\\mathrm{and}~B_x) = P(B_x)~P(A_y)$"
   ]
  },
  {
   "cell_type": "markdown",
   "metadata": {},
   "source": [
    "But remember, that's only true if $A$ and $B$ are independent.  \n",
    "In the posterior distribution, they are not.  \n",
    "We know that `A` is taller than `B`, so if we know how tall `B` is, that gives us information about `A`.\n",
    "\n",
    "The conditional distribution we just computed demonstrates this dependence."
   ]
  },
  {
   "cell_type": "markdown",
   "metadata": {},
   "source": [
    "## Exercises"
   ]
  },
  {
   "cell_type": "markdown",
   "metadata": {},
   "source": [
    "**Exercise:** Based on the results of the previous example, compute the posterior conditional distribution for `B` given that `A` is 190 cm.\n",
    "\n",
    "Hint: Use `loc` to select a row from a `DataFrame`."
   ]
  },
  {
   "cell_type": "code",
   "execution_count": 50,
   "metadata": {},
   "outputs": [],
   "source": [
    "row_190 = posterior.loc[190]\n",
    "cond_B = Pmf(row_190)\n",
    "cond_B.normalize()"
   ]
  },
  {
   "cell_type": "code",
   "execution_count": 73,
   "metadata": {},
   "outputs": [],
   "source": [
    "cond_B.plot(label='Posterior for B given A=190', color='C1')\n",
    "decorate(xlabel='Height in cm',\n",
    "         ylabel='Probability',\n",
    "         title='Conditional distribution for B')"
   ]
  },
  {
   "cell_type": "markdown",
   "metadata": {},
   "source": [
    "**Exercise:** Suppose we have established that `A` is taller than `B`, but we don't know how tall `B` is.\n",
    "Now we choose a random woman, `C`, and find that she is shorter than `A` by at least 15 cm.  Compute posterior distributions for the heights of `A` and `C`.\n",
    "\n",
    "The average height for women in the U.S. is 163 cm; the standard deviation is 7.3 cm. "
   ]
  },
  {
   "cell_type": "code",
   "execution_count": 52,
   "metadata": {},
   "outputs": [],
   "source": [
    "# Solution goes here"
   ]
  },
  {
   "cell_type": "code",
   "execution_count": 53,
   "metadata": {},
   "outputs": [],
   "source": [
    "# Solution goes here"
   ]
  },
  {
   "cell_type": "code",
   "execution_count": 54,
   "metadata": {},
   "outputs": [],
   "source": [
    "# Solution goes here"
   ]
  },
  {
   "cell_type": "code",
   "execution_count": 55,
   "metadata": {},
   "outputs": [],
   "source": [
    "# Solution goes here"
   ]
  },
  {
   "cell_type": "code",
   "execution_count": 56,
   "metadata": {},
   "outputs": [],
   "source": [
    "# Solution goes here"
   ]
  },
  {
   "cell_type": "code",
   "execution_count": 57,
   "metadata": {},
   "outputs": [],
   "source": [
    "# Solution goes here"
   ]
  },
  {
   "cell_type": "code",
   "execution_count": 58,
   "metadata": {},
   "outputs": [],
   "source": [
    "# Solution goes here"
   ]
  },
  {
   "cell_type": "code",
   "execution_count": 59,
   "metadata": {},
   "outputs": [],
   "source": [
    "# Solution goes here"
   ]
  },
  {
   "cell_type": "markdown",
   "metadata": {},
   "source": [
    "**Exercise:** [The Elo rating system](https://en.wikipedia.org/wiki/Elo_rating_system) is a way to quantify the skill level of players for games like chess.\n",
    "\n",
    "It is based on a model of the relationship between the ratings of players and the outcome of a game.  Specifically, if $R_A$ is the rating of player `A` and $R_B$ is the rating of player `B`, the probability that `A` beats `B` is given by the [logistic function](https://en.wikipedia.org/wiki/Logistic_function):\n",
    "\n",
    "$P(\\mathrm{A~beats~B}) = 1 / (1 + 10^{(R_B-R_A)/400})$\n",
    "\n",
    "The parameters $10$ and $400$ are arbitrary choices that determine the range of the ratings.  In chess, the range is from 100 to 2800.\n",
    "\n",
    "Notice that the probability of winning depends only on the difference in rankings.  As an example, if $R_A$ exceeds $R_B$ by 100 points, the probability that `A` wins is"
   ]
  },
  {
   "cell_type": "code",
   "execution_count": 60,
   "metadata": {},
   "outputs": [],
   "source": [
    "1 / (1 + 10**(-100/400))"
   ]
  },
  {
   "cell_type": "markdown",
   "metadata": {},
   "source": [
    "Suppose `A` has a current rating of 1600, but we are not sure it is accurate.  We could describe their true rating with a normal distribution with mean 1600 and standard deviation 100, to indicate our uncertainty.\n",
    "\n",
    "And suppose `B` has a current rating of 1800, with the same level of uncertainty.\n",
    "\n",
    "Then `A` and `B` play and `A` wins.  How should we update their ratings?\n",
    "\n",
    "To answer this question:\n",
    "\n",
    "1. Construct prior distributions for `A` and `B`.\n",
    "\n",
    "2. Use them to construct a joint distribution, assuming that the prior distributions are independent.\n",
    "\n",
    "3. Use the logistic function above to compute the likelihood of the outcome under each joint hypothesis.  \n",
    "\n",
    "4. Use the joint prior and likelihood to compute the joint posterior. \n",
    "\n",
    "5. Extract and plot the marginal posteriors for `A` and `B`.\n",
    "\n",
    "6. Compute the posterior means for `A` and `B`.  How much should their ratings change based on this outcome?"
   ]
  },
  {
   "cell_type": "code",
   "execution_count": 61,
   "metadata": {},
   "outputs": [],
   "source": [
    "# Solution goes here"
   ]
  },
  {
   "cell_type": "code",
   "execution_count": 62,
   "metadata": {},
   "outputs": [],
   "source": [
    "# Solution goes here"
   ]
  },
  {
   "cell_type": "code",
   "execution_count": 63,
   "metadata": {},
   "outputs": [],
   "source": [
    "# Solution goes here"
   ]
  },
  {
   "cell_type": "code",
   "execution_count": 64,
   "metadata": {},
   "outputs": [],
   "source": [
    "# Solution goes here"
   ]
  },
  {
   "cell_type": "code",
   "execution_count": 65,
   "metadata": {},
   "outputs": [],
   "source": [
    "# Solution goes here"
   ]
  },
  {
   "cell_type": "code",
   "execution_count": 66,
   "metadata": {},
   "outputs": [],
   "source": [
    "# Solution goes here"
   ]
  },
  {
   "cell_type": "code",
   "execution_count": 67,
   "metadata": {},
   "outputs": [],
   "source": [
    "# Solution goes here"
   ]
  },
  {
   "cell_type": "code",
   "execution_count": 68,
   "metadata": {},
   "outputs": [],
   "source": [
    "# Solution goes here"
   ]
  },
  {
   "cell_type": "code",
   "execution_count": 69,
   "metadata": {},
   "outputs": [],
   "source": [
    "# Solution goes here"
   ]
  },
  {
   "cell_type": "code",
   "execution_count": 70,
   "metadata": {},
   "outputs": [],
   "source": [
    "# Solution goes here"
   ]
  },
  {
   "cell_type": "code",
   "execution_count": 71,
   "metadata": {
    "scrolled": true
   },
   "outputs": [],
   "source": [
    "# Solution goes here"
   ]
  },
  {
   "cell_type": "code",
   "execution_count": 72,
   "metadata": {},
   "outputs": [],
   "source": [
    "# Solution goes here"
   ]
  },
  {
   "cell_type": "markdown",
   "metadata": {},
   "source": [
    "## Summary\n",
    "\n",
    "In this notebook I started with the \"outer\" operations, like outer product, which we used to construct a joint distribution.\n",
    "\n",
    "In general, you cannot construct a joint distribution from two marginal distributions, but in the special case where the distributions are independent, you can.\n",
    "\n",
    "We extended the Bayesian update process we've seen in previous notebooks and applied it to a joint distribution.  Then from the posterior joint distribution we extracted posterior marginal distributions and posterior conditional distributions.\n",
    "\n",
    "As an exercise, you had a chance to apply the same process to a slightly more difficult problem, updating Elo ratings based on the outcome of a chess game."
   ]
  },
  {
   "cell_type": "code",
   "execution_count": null,
   "metadata": {},
   "outputs": [],
   "source": []
  }
 ],
 "metadata": {
  "kernelspec": {
   "display_name": "Python 3",
   "language": "python",
   "name": "python3"
  },
  "language_info": {
   "codemirror_mode": {
    "name": "ipython",
    "version": 3
   },
   "file_extension": ".py",
   "mimetype": "text/x-python",
   "name": "python",
   "nbconvert_exporter": "python",
   "pygments_lexer": "ipython3",
   "version": "3.8.2"
  }
 },
 "nbformat": 4,
 "nbformat_minor": 4
}
