{
 "cells": [
  {
   "cell_type": "markdown",
   "metadata": {},
   "source": [
    "# Think Bayes\n",
    "\n",
    "Second Edition\n",
    "\n",
    "Copyright 2020 Allen B. Downey\n",
    "\n",
    "License: [Attribution-NonCommercial-ShareAlike 4.0 International (CC BY-NC-SA 4.0)](https://creativecommons.org/licenses/by-nc-sa/4.0/)"
   ]
  },
  {
   "cell_type": "code",
   "execution_count": 3,
   "metadata": {},
   "outputs": [],
   "source": [
    "# If we're running on Colab, install empiricaldist\n",
    "# https://pypi.org/project/empiricaldist/\n",
    "\n",
    "import sys\n",
    "IN_COLAB = 'google.colab' in sys.modules\n",
    "\n",
    "if IN_COLAB:\n",
    "    !pip install empiricaldist"
   ]
  },
  {
   "cell_type": "code",
   "execution_count": 4,
   "metadata": {},
   "outputs": [],
   "source": [
    "import numpy as np\n",
    "import pandas as pd\n",
    "import matplotlib.pyplot as plt\n",
    "\n",
    "from empiricaldist import Pmf\n",
    "from utils import decorate, savefig"
   ]
  },
  {
   "cell_type": "markdown",
   "metadata": {},
   "source": [
    "## Odds\n",
    "\n",
    "The following function converts from probabilities to odds."
   ]
  },
  {
   "cell_type": "code",
   "execution_count": 5,
   "metadata": {},
   "outputs": [],
   "source": [
    "def odds(p):\n",
    "    return p / (1-p)"
   ]
  },
  {
   "cell_type": "markdown",
   "metadata": {},
   "source": [
    "And this function converts from odds to probabilities."
   ]
  },
  {
   "cell_type": "code",
   "execution_count": 6,
   "metadata": {},
   "outputs": [],
   "source": [
    "def prob(o):\n",
    "    return o / (o+1)"
   ]
  },
  {
   "cell_type": "markdown",
   "metadata": {},
   "source": [
    "If 20% of bettors think my horse will win, that corresponds to odds of 1:4, or 0.25."
   ]
  },
  {
   "cell_type": "code",
   "execution_count": 7,
   "metadata": {},
   "outputs": [],
   "source": [
    "p = 0.2\n",
    "odds(p)"
   ]
  },
  {
   "cell_type": "markdown",
   "metadata": {},
   "source": [
    "If the odds against my horse are 1:5, that corresponds to a probability of 1/6."
   ]
  },
  {
   "cell_type": "code",
   "execution_count": 8,
   "metadata": {},
   "outputs": [],
   "source": [
    "o = 1/5\n",
    "prob(o)"
   ]
  },
  {
   "cell_type": "markdown",
   "metadata": {},
   "source": [
    "We can use the odds form of Bayes's theorem to solve the cookie problem:"
   ]
  },
  {
   "cell_type": "code",
   "execution_count": 9,
   "metadata": {},
   "outputs": [],
   "source": [
    "prior_odds = 1\n",
    "likelihood_ratio = 0.75 / 0.5\n",
    "post_odds = prior_odds * likelihood_ratio\n",
    "post_odds"
   ]
  },
  {
   "cell_type": "markdown",
   "metadata": {},
   "source": [
    "And then we can compute the posterior probability, if desired."
   ]
  },
  {
   "cell_type": "code",
   "execution_count": 10,
   "metadata": {},
   "outputs": [],
   "source": [
    "post_prob = prob(post_odds)\n",
    "post_prob"
   ]
  },
  {
   "cell_type": "markdown",
   "metadata": {},
   "source": [
    "If we draw another cookie and it's chocolate, we can do another update:"
   ]
  },
  {
   "cell_type": "code",
   "execution_count": 11,
   "metadata": {},
   "outputs": [],
   "source": [
    "likelihood_ratio = 0.25 / 0.5\n",
    "post_odds *= likelihood_ratio\n",
    "post_odds"
   ]
  },
  {
   "cell_type": "markdown",
   "metadata": {},
   "source": [
    "And convert back to probability."
   ]
  },
  {
   "cell_type": "code",
   "execution_count": 12,
   "metadata": {},
   "outputs": [],
   "source": [
    "post_prob = prob(post_odds)\n",
    "post_prob"
   ]
  },
  {
   "cell_type": "markdown",
   "metadata": {},
   "source": [
    "## Oliver's blood\n",
    "\n",
    "The likelihood ratio is also useful for talking about the strength of evidence without getting bogged down talking about priors.\n",
    "\n",
    "As an example, we'll solve this problem from MacKay's *Information Theory, Inference, and Learning Algorithms*:\n",
    "\n",
    "> Two people have left traces of their own blood at the scene of a crime.  A suspect, Oliver, is tested and found to have type 'O' blood.  The blood groups of the two traces are found to be of type 'O' (a common type in the local population, having frequency 60) and of type 'AB' (a rare type, with frequency 1). Do these data [the traces found at the scene] give evidence in favor of the proposition that Oliver was one of the people [who left blood at the scene]?\n",
    "\n",
    "If Oliver is\n",
    "one of the people who left blood at the crime scene, then he\n",
    "accounts for the 'O' sample, so the probability of the data\n",
    "is just the probability that a random member of the population\n",
    "has type 'AB' blood, which is 1%.\n",
    "\n",
    "If Oliver did not leave blood at the scene, then we have two\n",
    "samples to account for.  If we choose two random people from\n",
    "the population, what is the chance of finding one with type 'O'\n",
    "and one with type 'AB'?  Well, there are two ways it might happen:\n",
    "the first person we choose might have type 'O' and the second\n",
    "'AB', or the other way around.  So the total probability is\n",
    "$2 (0.6) (0.01) = 1.2$%.\n",
    "\n",
    "So the likelihood ratio is:"
   ]
  },
  {
   "cell_type": "code",
   "execution_count": 13,
   "metadata": {},
   "outputs": [],
   "source": [
    "like1 = 0.01\n",
    "like2 = 2 * 0.6 * 0.01\n",
    "\n",
    "likelihood_ratio = like1 / like2\n",
    "likelihood_ratio"
   ]
  },
  {
   "cell_type": "markdown",
   "metadata": {},
   "source": [
    "Since the ratio is less than 1, it is evidence *against* the hypothesis that Oliver left blood at the scence.\n",
    "\n",
    "But it is weak evidence.  For example, if the prior odds were 1 (that is, 50% probability), the posterior odds would be 0.83, which corresponds to a probability of:"
   ]
  },
  {
   "cell_type": "code",
   "execution_count": 14,
   "metadata": {},
   "outputs": [],
   "source": [
    "post_odds = 1 * like1 / like2\n",
    "prob(post_odds)"
   ]
  },
  {
   "cell_type": "markdown",
   "metadata": {},
   "source": [
    "So this evidence doesn't \"move the needle\" very much."
   ]
  },
  {
   "cell_type": "markdown",
   "metadata": {},
   "source": [
    "**Exercise:** Suppose other evidence had made you 90% confident of Oliver's guilt.  How much would this exculpatory evidence change your beliefs?  What if you initially thought there was only a 10% chance of his guilt?\n",
    "\n",
    "Notice that evidence with the same strength has a different effect on probability, depending on where you started."
   ]
  },
  {
   "cell_type": "code",
   "execution_count": 15,
   "metadata": {},
   "outputs": [],
   "source": [
    "# Solution goes here"
   ]
  },
  {
   "cell_type": "code",
   "execution_count": 16,
   "metadata": {},
   "outputs": [],
   "source": [
    "# Solution goes here"
   ]
  },
  {
   "cell_type": "markdown",
   "metadata": {},
   "source": [
    "## Addends"
   ]
  },
  {
   "cell_type": "code",
   "execution_count": 215,
   "metadata": {},
   "outputs": [],
   "source": [
    "def make_die(sides):\n",
    "    \"\"\"Pmf that represents a die with the given number of sides.\n",
    "    \n",
    "    sides: int\n",
    "    \n",
    "    returns: Pmf\n",
    "    \"\"\"\n",
    "    outcomes = np.arange(1, sides+1)\n",
    "    die = Pmf(1/sides, outcomes)\n",
    "    return die"
   ]
  },
  {
   "cell_type": "code",
   "execution_count": 216,
   "metadata": {},
   "outputs": [],
   "source": [
    "die = make_die(6)\n",
    "die"
   ]
  },
  {
   "cell_type": "code",
   "execution_count": 115,
   "metadata": {},
   "outputs": [],
   "source": [
    "d6.bar(alpha=0.6)\n",
    "decorate(xlabel='Outcome',\n",
    "         ylabel='PMF')"
   ]
  },
  {
   "cell_type": "code",
   "execution_count": 116,
   "metadata": {},
   "outputs": [],
   "source": [
    "for q, p in die.items():\n",
    "    print(q, p)"
   ]
  },
  {
   "cell_type": "code",
   "execution_count": null,
   "metadata": {},
   "outputs": [],
   "source": []
  },
  {
   "cell_type": "code",
   "execution_count": null,
   "metadata": {},
   "outputs": [],
   "source": []
  },
  {
   "cell_type": "code",
   "execution_count": null,
   "metadata": {},
   "outputs": [],
   "source": []
  },
  {
   "cell_type": "code",
   "execution_count": 19,
   "metadata": {},
   "outputs": [],
   "source": [
    "def add_dist(pmf1, pmf2):\n",
    "    \"\"\"Compute the distribution of a sum.\n",
    "    \n",
    "    pmf1: Pmf\n",
    "    pmf2: Pmf\n",
    "    \n",
    "    returns: Pmf of sums from pmf1 and pmf2\n",
    "    \"\"\"\n",
    "    res = Pmf()\n",
    "    for q1, p1 in pmf1.items():\n",
    "        for q2, p2 in pmf2.items():\n",
    "            q = q1 + q2\n",
    "            p = p1 * p2\n",
    "            res[q] = res(q) + p\n",
    "    return res"
   ]
  },
  {
   "cell_type": "code",
   "execution_count": 133,
   "metadata": {},
   "outputs": [],
   "source": [
    "def decorate_dice(title=''):\n",
    "    decorate(xlabel='Outcome',\n",
    "             ylabel='PMF',\n",
    "             title=title)"
   ]
  },
  {
   "cell_type": "code",
   "execution_count": 134,
   "metadata": {},
   "outputs": [],
   "source": [
    "twice = add_dist(die, die)\n",
    "twice.bar(color='C1', alpha=0.6)\n",
    "decorate_dice()"
   ]
  },
  {
   "cell_type": "code",
   "execution_count": 135,
   "metadata": {},
   "outputs": [],
   "source": [
    "twice = die.add_dist(die)\n",
    "twice.bar(color='C1', alpha=0.6)\n",
    "decorate_dice()"
   ]
  },
  {
   "cell_type": "code",
   "execution_count": 136,
   "metadata": {},
   "outputs": [],
   "source": [
    "twice = Pmf.add_dist(die, die)\n",
    "twice.bar(color='C1', alpha=0.6)\n",
    "decorate_dice()"
   ]
  },
  {
   "cell_type": "code",
   "execution_count": 137,
   "metadata": {},
   "outputs": [],
   "source": [
    "def add_dist_seq(seq):\n",
    "    \"\"\"Distribution of sum of values from PMFs.\n",
    "    \n",
    "    seq: sequence of Pmf objects\n",
    "    \n",
    "    returns: Pmf\n",
    "    \"\"\"\n",
    "    total = seq[0]\n",
    "    for other in seq[1:]:\n",
    "        total = total.add_dist(other)\n",
    "    return total"
   ]
  },
  {
   "cell_type": "code",
   "execution_count": 138,
   "metadata": {},
   "outputs": [],
   "source": [
    "dice = [die] * 3"
   ]
  },
  {
   "cell_type": "code",
   "execution_count": 139,
   "metadata": {},
   "outputs": [],
   "source": [
    "thrice = add_dist_seq(dice)\n",
    "d6.plot(label='once')\n",
    "twice.plot(label='twice')\n",
    "thrice.plot(label='thrice')\n",
    "\n",
    "decorate_dice(title='Distributions of sums')\n",
    "plt.xticks([0,3,6,9,12,15,18])\n",
    "savefig('fig05-01')"
   ]
  },
  {
   "cell_type": "markdown",
   "metadata": {},
   "source": [
    "## Gluten sensitivity"
   ]
  },
  {
   "cell_type": "code",
   "execution_count": 109,
   "metadata": {},
   "outputs": [],
   "source": [
    "from scipy.stats import binom\n",
    "\n",
    "def make_binomial(n, p):\n",
    "    \"\"\"Make a binomial distribution.\n",
    "    \n",
    "    n: number of trials\n",
    "    p: probability of success\n",
    "    \n",
    "    returns: Pmf representing the distribution of k\n",
    "    \"\"\"\n",
    "    ks = np.arange(n+1)\n",
    "    ps = binom.pmf(ks, n, p)\n",
    "    return Pmf(ps, ks)"
   ]
  },
  {
   "cell_type": "code",
   "execution_count": 110,
   "metadata": {},
   "outputs": [],
   "source": [
    "n = 35\n",
    "n_sensitive = 10\n",
    "n_insensitive = n - n_sensitive\n",
    "\n",
    "dist_sensitive = make_binomial(n_sensitive, 0.95)\n",
    "dist_insensitive = make_binomial(n_insensitive, 0.4)"
   ]
  },
  {
   "cell_type": "code",
   "execution_count": 112,
   "metadata": {},
   "outputs": [],
   "source": [
    "dist_total = Pmf.add_dist(dist_sensitive, dist_insensitive)"
   ]
  },
  {
   "cell_type": "code",
   "execution_count": 140,
   "metadata": {},
   "outputs": [],
   "source": [
    "dist_sensitive.plot(label='sensitive')\n",
    "dist_insensitive.plot(label='insensitive')\n",
    "dist_total.plot(label='total')\n",
    "\n",
    "decorate(xlabel='Number of correct identifications',\n",
    "         ylabel='PMF',\n",
    "         title='Gluten sensitivity')\n",
    "\n",
    "savefig('fig05-02')"
   ]
  },
  {
   "cell_type": "code",
   "execution_count": 69,
   "metadata": {},
   "outputs": [],
   "source": [
    "table = pd.DataFrame()\n",
    "table[0] = make_binomial(n, 0.4)\n",
    "\n",
    "for n_sensitive in range(1, n):\n",
    "    n_insensitive = n - n_sensitive\n",
    "\n",
    "    dist_sensitive = make_binomial(n_sensitive, 0.95)\n",
    "    dist_insensitive = make_binomial(n_insensitive, 0.4)\n",
    "    dist_total = Pmf.add_dist(dist_sensitive, dist_insensitive)    \n",
    "    table[n_sensitive] = dist_total\n",
    "    \n",
    "table[n] = make_binomial(n, 0.95)"
   ]
  },
  {
   "cell_type": "code",
   "execution_count": 71,
   "metadata": {},
   "outputs": [],
   "source": [
    "table.head()"
   ]
  },
  {
   "cell_type": "code",
   "execution_count": 72,
   "metadata": {},
   "outputs": [],
   "source": [
    "table.tail()"
   ]
  },
  {
   "cell_type": "code",
   "execution_count": 142,
   "metadata": {},
   "outputs": [],
   "source": [
    "for n_sensitive in [0, 10, 20, 30]:\n",
    "    table[n_sensitive].plot(label=f'n_sensitive = {n_sensitive}')\n",
    "    \n",
    "decorate(xlabel='Number of correct identifications',\n",
    "         ylabel='PMF',\n",
    "         title='Gluten sensitivity')\n",
    "\n",
    "savefig('fig05-03')"
   ]
  },
  {
   "cell_type": "code",
   "execution_count": 143,
   "metadata": {},
   "outputs": [],
   "source": [
    "likelihood1 = table.loc[12]\n",
    "likelihood2 = table.loc[20]"
   ]
  },
  {
   "cell_type": "code",
   "execution_count": 144,
   "metadata": {},
   "outputs": [],
   "source": [
    "hypos = np.arange(n+1)\n",
    "prior = Pmf(1, hypos)"
   ]
  },
  {
   "cell_type": "code",
   "execution_count": 145,
   "metadata": {},
   "outputs": [],
   "source": [
    "posterior1 = prior * likelihood1\n",
    "posterior1.normalize()\n",
    "\n",
    "posterior2 = prior * likelihood2\n",
    "posterior2.normalize()"
   ]
  },
  {
   "cell_type": "code",
   "execution_count": 147,
   "metadata": {},
   "outputs": [],
   "source": [
    "posterior1.plot(label='posterior with 12 correct')\n",
    "posterior2.plot(label='posterior with 20 correct')\n",
    "\n",
    "decorate(xlabel='Number of sensitive subjects',\n",
    "         ylabel='PMF',\n",
    "         title='Posterior distributions')\n",
    "\n",
    "savefig('fig05-04')"
   ]
  },
  {
   "cell_type": "code",
   "execution_count": 104,
   "metadata": {},
   "outputs": [],
   "source": [
    "posterior1.max_prob()"
   ]
  },
  {
   "cell_type": "code",
   "execution_count": 105,
   "metadata": {},
   "outputs": [],
   "source": [
    "posterior2.max_prob()"
   ]
  },
  {
   "cell_type": "markdown",
   "metadata": {},
   "source": [
    "## Exercises"
   ]
  },
  {
   "cell_type": "markdown",
   "metadata": {},
   "source": [
    "**Exercise:** Let's use Bayes's Rule to solve the Elvis problem from Chapter 2:\n",
    "\n",
    "> Elvis Presley had a twin brother who died at birth. What is the probability that Elvis was an identical twin?\n",
    "\n",
    "In 1935, about 2/3 of twins were fraternal and 1/3 were identical.\n",
    "\n",
    "The question contains two pieces of information we can use to update this prior.\n",
    "\n",
    "* First, Elvis's twin was also male, which is more likely if they were identical twins, with a likelihood ratio of 2.\n",
    "\n",
    "* Also, Elvis's twin died at birth, which is more likely if they were identical twins, with a likelihood ratio of 1.25.\n",
    "\n",
    "If you are curious about where those number come from, I wrote [a blog post about it](https://www.allendowney.com/blog/2020/01/28/the-elvis-problem-revisited)."
   ]
  },
  {
   "cell_type": "code",
   "execution_count": 149,
   "metadata": {},
   "outputs": [],
   "source": [
    "# Solution goes here"
   ]
  },
  {
   "cell_type": "code",
   "execution_count": 150,
   "metadata": {},
   "outputs": [],
   "source": [
    "# Solution goes here"
   ]
  },
  {
   "cell_type": "code",
   "execution_count": 152,
   "metadata": {},
   "outputs": [],
   "source": [
    "# Solution goes here"
   ]
  },
  {
   "cell_type": "markdown",
   "metadata": {},
   "source": [
    "**Exercise:** The following is an [interview question that appeared on glassdoor.com](https://www.glassdoor.com/Interview/You-re-about-to-get-on-a-plane-to-Seattle-You-want-to-know-if-you-should-bring-an-umbrella-You-call-3-random-friends-of-y-QTN_519262.htm), attributed to Facebook:\n",
    "\n",
    "> You're about to get on a plane to Seattle. You want to know if you should bring an umbrella. You call 3 random friends of yours who live there and ask each independently if it's raining. Each of your friends has a 2/3 chance of telling you the truth and a 1/3 chance of messing with you by lying. All 3 friends tell you that \"Yes\" it is raining. What is the probability that it's actually raining in Seattle?\n",
    "\n",
    "Use Bayes's Rule to solve this problem.  As a prior you can assume that it rains in Seattle about 10% of the time."
   ]
  },
  {
   "cell_type": "code",
   "execution_count": 153,
   "metadata": {},
   "outputs": [],
   "source": [
    "# Solution goes here"
   ]
  },
  {
   "cell_type": "code",
   "execution_count": 154,
   "metadata": {},
   "outputs": [],
   "source": [
    "# Solution goes here"
   ]
  },
  {
   "cell_type": "code",
   "execution_count": 155,
   "metadata": {},
   "outputs": [],
   "source": [
    "# Solution goes here"
   ]
  },
  {
   "cell_type": "markdown",
   "metadata": {},
   "source": [
    "**Exercise:** [According to the CDC](https://www.cdc.gov/tobacco/data_statistics/fact_sheets/health_effects/effects_cig_smoking), people who smoke are about 25 times more likely to develop lung cancer than nonsmokers.\n",
    "\n",
    "[Also according to the CDC](https://www.cdc.gov/tobacco/data_statistics/fact_sheets/adult_data/cig_smoking/index.htm), about 14\\% of adults in the U.S. are smokers. \n",
    "\n",
    "If you learn that someone has lung cancer, what is the probability they are a smoker?"
   ]
  },
  {
   "cell_type": "code",
   "execution_count": 156,
   "metadata": {},
   "outputs": [],
   "source": [
    "# Solution goes here"
   ]
  },
  {
   "cell_type": "code",
   "execution_count": 157,
   "metadata": {},
   "outputs": [],
   "source": [
    "# Solution goes here"
   ]
  },
  {
   "cell_type": "code",
   "execution_count": 158,
   "metadata": {},
   "outputs": [],
   "source": [
    "# Solution goes here"
   ]
  },
  {
   "cell_type": "markdown",
   "metadata": {},
   "source": [
    "**Exercise:** Suppose I have a box with a 6-sided die, an 8-sided die, and a 12-sided die.\n",
    "I choose one of the dice at random, roll it twice, multiply the outcomes, and report that the product is 12.\n",
    "What is the probability that I chose the 8-sided die?\n",
    "\n",
    "Hint: `Pmf` provides a function called `mul_dist` that takes two `Pmf` objects and returns a `Pmf` that represents the distribution of the product.\n",
    "\n",
    "You might find the following function helpful:"
   ]
  },
  {
   "cell_type": "code",
   "execution_count": 171,
   "metadata": {},
   "outputs": [],
   "source": [
    "def make_die(sides):\n",
    "    \"\"\"Pmf that represents a die with the given number of sides.\n",
    "    \n",
    "    sides: int\n",
    "    \n",
    "    returns: Pmf\n",
    "    \"\"\"\n",
    "    outcomes = np.arange(1, sides+1)\n",
    "    die = Pmf(1/sides, outcomes)\n",
    "    return die"
   ]
  },
  {
   "cell_type": "code",
   "execution_count": 172,
   "metadata": {},
   "outputs": [],
   "source": [
    "# Solution goes here"
   ]
  },
  {
   "cell_type": "code",
   "execution_count": 173,
   "metadata": {},
   "outputs": [],
   "source": [
    "# Solution goes here"
   ]
  },
  {
   "cell_type": "code",
   "execution_count": 187,
   "metadata": {},
   "outputs": [],
   "source": [
    "# Solution goes here"
   ]
  },
  {
   "cell_type": "code",
   "execution_count": 188,
   "metadata": {},
   "outputs": [],
   "source": [
    "# Solution goes here"
   ]
  },
  {
   "cell_type": "code",
   "execution_count": 189,
   "metadata": {},
   "outputs": [],
   "source": [
    "# Solution goes here"
   ]
  },
  {
   "cell_type": "markdown",
   "metadata": {},
   "source": [
    "**Exercise:** There are 538 members of the United States Congress.  \n",
    "Suppose we audit their investment portfolios and find that 312 of them out-perform the market.\n",
    "Let's assume that an honest member of Congress has only a 50% chance of out-performing the market, but a dishonest member who trades on inside information has a 90% chance.  How many members of Congress are honest?"
   ]
  },
  {
   "cell_type": "code",
   "execution_count": 207,
   "metadata": {},
   "outputs": [],
   "source": [
    "n = 538\n",
    "\n",
    "table = pd.DataFrame()\n",
    "table[0] = make_binomial(n, 0.9)\n",
    "\n",
    "for n_honest in range(1, n):\n",
    "    n_dishonest = n - n_honest\n",
    "\n",
    "    dist_honest = make_binomial(n_honest, 0.5)\n",
    "    dist_dishonest = make_binomial(n_dishonest, 0.9)\n",
    "    dist_total = Pmf.add_dist(dist_honest, dist_dishonest)    \n",
    "    table[n_honest] = dist_total\n",
    "    \n",
    "table[n] = make_binomial(n, 0.5)\n",
    "table.shape"
   ]
  },
  {
   "cell_type": "code",
   "execution_count": 208,
   "metadata": {},
   "outputs": [],
   "source": [
    "data = 312\n",
    "likelihood = table.loc[312]\n",
    "len(likelihood)"
   ]
  },
  {
   "cell_type": "code",
   "execution_count": 209,
   "metadata": {},
   "outputs": [],
   "source": [
    "hypos = np.arange(n+1)\n",
    "prior = Pmf(1, hypos)\n",
    "len(prior)"
   ]
  },
  {
   "cell_type": "code",
   "execution_count": 212,
   "metadata": {},
   "outputs": [],
   "source": [
    "posterior = prior * likelihood\n",
    "posterior.normalize()\n",
    "posterior.mean()"
   ]
  },
  {
   "cell_type": "code",
   "execution_count": 213,
   "metadata": {},
   "outputs": [],
   "source": [
    "posterior.plot(label='posterior')\n",
    "decorate(xlabel='Number of honest members of Congress',\n",
    "         ylabel='PMF')"
   ]
  },
  {
   "cell_type": "code",
   "execution_count": 214,
   "metadata": {},
   "outputs": [],
   "source": [
    "posterior.credible_interval(0.9)"
   ]
  },
  {
   "cell_type": "code",
   "execution_count": null,
   "metadata": {},
   "outputs": [],
   "source": []
  }
 ],
 "metadata": {
  "kernelspec": {
   "display_name": "Python 3",
   "language": "python",
   "name": "python3"
  },
  "language_info": {
   "codemirror_mode": {
    "name": "ipython",
    "version": 3
   },
   "file_extension": ".py",
   "mimetype": "text/x-python",
   "name": "python",
   "nbconvert_exporter": "python",
   "pygments_lexer": "ipython3",
   "version": "3.8.2"
  }
 },
 "nbformat": 4,
 "nbformat_minor": 2
}
