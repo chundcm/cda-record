{
 "cells": [
  {
   "cell_type": "code",
   "execution_count": 5,
   "metadata": {},
   "outputs": [
    {
     "name": "stderr",
     "output_type": "stream",
     "text": [
      "No handles with labels found to put in legend.\n"
     ]
    },
    {
     "name": "stdout",
     "output_type": "stream",
     "text": [
      "Writing train4.pdf\n",
      "Writing train4.png\n"
     ]
    },
    {
     "name": "stderr",
     "output_type": "stream",
     "text": [
      "No handles with labels found to put in legend.\n"
     ]
    },
    {
     "name": "stdout",
     "output_type": "stream",
     "text": [
      "500 130.70846986256004\n",
      "1000 133.2752313750312\n",
      "2000 133.99746308073065\n",
      "Writing train3.pdf\n",
      "Writing train3.png\n",
      "(91, 243)\n",
      "(91, 243)\n"
     ]
    },
    {
     "data": {
      "text/plain": [
       "<Figure size 576x432 with 0 Axes>"
      ]
     },
     "metadata": {},
     "output_type": "display_data"
    }
   ],
   "source": [
    "\"\"\"This file contains code for use with \"Think Bayes\",\n",
    "by Allen B. Downey, available from greenteapress.com\n",
    "\n",
    "Copyright 2012 Allen B. Downey\n",
    "License: GNU GPLv3 http://www.gnu.org/licenses/gpl.html\n",
    "\"\"\"\n",
    "\n",
    "from __future__ import print_function\n",
    "\n",
    "import thinkbayes2\n",
    "import thinkplot\n",
    "\n",
    "from dice import Dice\n",
    "\n",
    "\n",
    "class Train(Dice):\n",
    "    \"\"\"Represents hypotheses about how many trains the company has.\"\"\"\n",
    "\n",
    "\n",
    "class Train2(Dice):\n",
    "    \"\"\"Represents hypotheses about how many trains the company has.\"\"\"\n",
    "\n",
    "    def __init__(self, hypos, alpha=1.0):\n",
    "        \"\"\"Initializes the hypotheses with a power law distribution.\n",
    "\n",
    "        hypos: sequence of hypotheses\n",
    "        alpha: parameter of the power law prior\n",
    "        \"\"\"\n",
    "        thinkbayes2.Pmf.__init__(self)\n",
    "        for hypo in hypos:\n",
    "            self.Set(hypo, hypo**(-alpha))\n",
    "        self.Normalize()\n",
    "\n",
    "\n",
    "def MakePosterior(high, dataset, constructor):\n",
    "    \"\"\"Makes and updates a Suite.\n",
    "\n",
    "    high: upper bound on the range of hypotheses\n",
    "    dataset: observed data to use for the update\n",
    "    constructor: function that makes a new suite\n",
    "\n",
    "    Returns: posterior Suite\n",
    "    \"\"\"\n",
    "    hypos = range(1, high+1)\n",
    "    suite = constructor(hypos)\n",
    "    suite.name = str(high)\n",
    "\n",
    "    for data in dataset:\n",
    "        suite.Update(data)\n",
    "\n",
    "    return suite\n",
    "\n",
    "\n",
    "def ComparePriors():\n",
    "    \"\"\"Runs the analysis with two different priors and compares them.\"\"\"\n",
    "    dataset = [60]\n",
    "    high = 1000\n",
    "\n",
    "    thinkplot.Clf()\n",
    "    thinkplot.PrePlot(num=2)\n",
    "\n",
    "    constructors = [Train, Train2]\n",
    "    labels = ['uniform', 'power law']\n",
    "\n",
    "    for constructor, label in zip(constructors, labels):\n",
    "        suite = MakePosterior(high, dataset, constructor)\n",
    "        suite.name = label\n",
    "        thinkplot.Pmf(suite)\n",
    "\n",
    "    thinkplot.Save(root='train4',\n",
    "                xlabel='Number of trains',\n",
    "                ylabel='Probability')\n",
    "\n",
    "def main():\n",
    "    ComparePriors()\n",
    "\n",
    "    dataset = [30, 60, 90]\n",
    "\n",
    "    thinkplot.Clf()\n",
    "    thinkplot.PrePlot(num=3)\n",
    "\n",
    "    for high in [500, 1000, 2000]:\n",
    "        suite = MakePosterior(high, dataset, Train2)\n",
    "        print(high, suite.Mean())\n",
    "\n",
    "    thinkplot.Save(root='train3',\n",
    "                   xlabel='Number of trains',\n",
    "                   ylabel='Probability')\n",
    "\n",
    "    interval = suite.Percentile(5), suite.Percentile(95)\n",
    "    print(interval)\n",
    "\n",
    "    cdf = thinkbayes2.Cdf(suite)\n",
    "    interval = cdf.Percentile(5), cdf.Percentile(95)\n",
    "    print(interval)\n",
    "\n",
    "\n",
    "if __name__ == '__main__':\n",
    "    main()\n"
   ]
  },
  {
   "cell_type": "code",
   "execution_count": null,
   "metadata": {},
   "outputs": [],
   "source": []
  }
 ],
 "metadata": {
  "kernelspec": {
   "display_name": "Python 3",
   "language": "python",
   "name": "python3"
  },
  "language_info": {
   "codemirror_mode": {
    "name": "ipython",
    "version": 3
   },
   "file_extension": ".py",
   "mimetype": "text/x-python",
   "name": "python",
   "nbconvert_exporter": "python",
   "pygments_lexer": "ipython3",
   "version": "3.7.7"
  }
 },
 "nbformat": 4,
 "nbformat_minor": 4
}
